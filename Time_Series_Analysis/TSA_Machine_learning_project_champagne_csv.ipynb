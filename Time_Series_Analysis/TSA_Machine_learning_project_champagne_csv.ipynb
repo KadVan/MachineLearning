{
  "nbformat": 4,
  "nbformat_minor": 0,
  "metadata": {
    "colab": {
      "provenance": []
    },
    "kernelspec": {
      "name": "python3",
      "display_name": "Python 3"
    },
    "language_info": {
      "name": "python"
    }
  },
  "cells": [
    {
      "cell_type": "markdown",
      "source": [
        "# Import important libraries"
      ],
      "metadata": {
        "id": "EC8NU_OnyvoL"
      }
    },
    {
      "cell_type": "code",
      "execution_count": 10,
      "metadata": {
        "id": "e1TTvSNhyQyh"
      },
      "outputs": [],
      "source": [
        "#import libraries\n",
        "import pandas as pd\n",
        "import numpy as np\n",
        "from sklearn.linear_model import LinearRegression\n",
        "from sklearn import metrics # metrics SSE MSE RMSE"
      ]
    },
    {
      "cell_type": "code",
      "source": [
        "#Make dataframe\n",
        "champ=pd.read_csv(\"/content/perrin-freres-monthly-champagne.csv\")"
      ],
      "metadata": {
        "id": "IBZguLi9zAw0"
      },
      "execution_count": 11,
      "outputs": []
    },
    {
      "cell_type": "markdown",
      "source": [
        "## Basic EDA"
      ],
      "metadata": {
        "id": "ciDVfz2VzuKV"
      }
    },
    {
      "cell_type": "code",
      "source": [
        "#take lookof data\n",
        "champ.head()"
      ],
      "metadata": {
        "colab": {
          "base_uri": "https://localhost:8080/",
          "height": 206
        },
        "id": "oc4lKukjzA5H",
        "outputId": "286148c1-0c54-4063-fae9-b804b5ff497b"
      },
      "execution_count": 12,
      "outputs": [
        {
          "output_type": "execute_result",
          "data": {
            "text/plain": [
              "     Month  Perrin Freres monthly champagne sales millions ?64-?72\n",
              "0  1964-01                                             2815.0     \n",
              "1  1964-02                                             2672.0     \n",
              "2  1964-03                                             2755.0     \n",
              "3  1964-04                                             2721.0     \n",
              "4  1964-05                                             2946.0     "
            ],
            "text/html": [
              "\n",
              "\n",
              "  <div id=\"df-23041c35-3c97-4716-8a3c-f3b0bab1c009\">\n",
              "    <div class=\"colab-df-container\">\n",
              "      <div>\n",
              "<style scoped>\n",
              "    .dataframe tbody tr th:only-of-type {\n",
              "        vertical-align: middle;\n",
              "    }\n",
              "\n",
              "    .dataframe tbody tr th {\n",
              "        vertical-align: top;\n",
              "    }\n",
              "\n",
              "    .dataframe thead th {\n",
              "        text-align: right;\n",
              "    }\n",
              "</style>\n",
              "<table border=\"1\" class=\"dataframe\">\n",
              "  <thead>\n",
              "    <tr style=\"text-align: right;\">\n",
              "      <th></th>\n",
              "      <th>Month</th>\n",
              "      <th>Perrin Freres monthly champagne sales millions ?64-?72</th>\n",
              "    </tr>\n",
              "  </thead>\n",
              "  <tbody>\n",
              "    <tr>\n",
              "      <th>0</th>\n",
              "      <td>1964-01</td>\n",
              "      <td>2815.0</td>\n",
              "    </tr>\n",
              "    <tr>\n",
              "      <th>1</th>\n",
              "      <td>1964-02</td>\n",
              "      <td>2672.0</td>\n",
              "    </tr>\n",
              "    <tr>\n",
              "      <th>2</th>\n",
              "      <td>1964-03</td>\n",
              "      <td>2755.0</td>\n",
              "    </tr>\n",
              "    <tr>\n",
              "      <th>3</th>\n",
              "      <td>1964-04</td>\n",
              "      <td>2721.0</td>\n",
              "    </tr>\n",
              "    <tr>\n",
              "      <th>4</th>\n",
              "      <td>1964-05</td>\n",
              "      <td>2946.0</td>\n",
              "    </tr>\n",
              "  </tbody>\n",
              "</table>\n",
              "</div>\n",
              "      <button class=\"colab-df-convert\" onclick=\"convertToInteractive('df-23041c35-3c97-4716-8a3c-f3b0bab1c009')\"\n",
              "              title=\"Convert this dataframe to an interactive table.\"\n",
              "              style=\"display:none;\">\n",
              "\n",
              "  <svg xmlns=\"http://www.w3.org/2000/svg\" height=\"24px\"viewBox=\"0 0 24 24\"\n",
              "       width=\"24px\">\n",
              "    <path d=\"M0 0h24v24H0V0z\" fill=\"none\"/>\n",
              "    <path d=\"M18.56 5.44l.94 2.06.94-2.06 2.06-.94-2.06-.94-.94-2.06-.94 2.06-2.06.94zm-11 1L8.5 8.5l.94-2.06 2.06-.94-2.06-.94L8.5 2.5l-.94 2.06-2.06.94zm10 10l.94 2.06.94-2.06 2.06-.94-2.06-.94-.94-2.06-.94 2.06-2.06.94z\"/><path d=\"M17.41 7.96l-1.37-1.37c-.4-.4-.92-.59-1.43-.59-.52 0-1.04.2-1.43.59L10.3 9.45l-7.72 7.72c-.78.78-.78 2.05 0 2.83L4 21.41c.39.39.9.59 1.41.59.51 0 1.02-.2 1.41-.59l7.78-7.78 2.81-2.81c.8-.78.8-2.07 0-2.86zM5.41 20L4 18.59l7.72-7.72 1.47 1.35L5.41 20z\"/>\n",
              "  </svg>\n",
              "      </button>\n",
              "\n",
              "\n",
              "\n",
              "    <div id=\"df-545528b8-24f1-412a-988b-42cee4ac65ea\">\n",
              "      <button class=\"colab-df-quickchart\" onclick=\"quickchart('df-545528b8-24f1-412a-988b-42cee4ac65ea')\"\n",
              "              title=\"Suggest charts.\"\n",
              "              style=\"display:none;\">\n",
              "\n",
              "<svg xmlns=\"http://www.w3.org/2000/svg\" height=\"24px\"viewBox=\"0 0 24 24\"\n",
              "     width=\"24px\">\n",
              "    <g>\n",
              "        <path d=\"M19 3H5c-1.1 0-2 .9-2 2v14c0 1.1.9 2 2 2h14c1.1 0 2-.9 2-2V5c0-1.1-.9-2-2-2zM9 17H7v-7h2v7zm4 0h-2V7h2v10zm4 0h-2v-4h2v4z\"/>\n",
              "    </g>\n",
              "</svg>\n",
              "      </button>\n",
              "    </div>\n",
              "\n",
              "<style>\n",
              "  .colab-df-quickchart {\n",
              "    background-color: #E8F0FE;\n",
              "    border: none;\n",
              "    border-radius: 50%;\n",
              "    cursor: pointer;\n",
              "    display: none;\n",
              "    fill: #1967D2;\n",
              "    height: 32px;\n",
              "    padding: 0 0 0 0;\n",
              "    width: 32px;\n",
              "  }\n",
              "\n",
              "  .colab-df-quickchart:hover {\n",
              "    background-color: #E2EBFA;\n",
              "    box-shadow: 0px 1px 2px rgba(60, 64, 67, 0.3), 0px 1px 3px 1px rgba(60, 64, 67, 0.15);\n",
              "    fill: #174EA6;\n",
              "  }\n",
              "\n",
              "  [theme=dark] .colab-df-quickchart {\n",
              "    background-color: #3B4455;\n",
              "    fill: #D2E3FC;\n",
              "  }\n",
              "\n",
              "  [theme=dark] .colab-df-quickchart:hover {\n",
              "    background-color: #434B5C;\n",
              "    box-shadow: 0px 1px 3px 1px rgba(0, 0, 0, 0.15);\n",
              "    filter: drop-shadow(0px 1px 2px rgba(0, 0, 0, 0.3));\n",
              "    fill: #FFFFFF;\n",
              "  }\n",
              "</style>\n",
              "\n",
              "    <script>\n",
              "      async function quickchart(key) {\n",
              "        const containerElement = document.querySelector('#' + key);\n",
              "        const charts = await google.colab.kernel.invokeFunction(\n",
              "            'suggestCharts', [key], {});\n",
              "      }\n",
              "    </script>\n",
              "\n",
              "      <script>\n",
              "\n",
              "function displayQuickchartButton(domScope) {\n",
              "  let quickchartButtonEl =\n",
              "    domScope.querySelector('#df-545528b8-24f1-412a-988b-42cee4ac65ea button.colab-df-quickchart');\n",
              "  quickchartButtonEl.style.display =\n",
              "    google.colab.kernel.accessAllowed ? 'block' : 'none';\n",
              "}\n",
              "\n",
              "        displayQuickchartButton(document);\n",
              "      </script>\n",
              "      <style>\n",
              "    .colab-df-container {\n",
              "      display:flex;\n",
              "      flex-wrap:wrap;\n",
              "      gap: 12px;\n",
              "    }\n",
              "\n",
              "    .colab-df-convert {\n",
              "      background-color: #E8F0FE;\n",
              "      border: none;\n",
              "      border-radius: 50%;\n",
              "      cursor: pointer;\n",
              "      display: none;\n",
              "      fill: #1967D2;\n",
              "      height: 32px;\n",
              "      padding: 0 0 0 0;\n",
              "      width: 32px;\n",
              "    }\n",
              "\n",
              "    .colab-df-convert:hover {\n",
              "      background-color: #E2EBFA;\n",
              "      box-shadow: 0px 1px 2px rgba(60, 64, 67, 0.3), 0px 1px 3px 1px rgba(60, 64, 67, 0.15);\n",
              "      fill: #174EA6;\n",
              "    }\n",
              "\n",
              "    [theme=dark] .colab-df-convert {\n",
              "      background-color: #3B4455;\n",
              "      fill: #D2E3FC;\n",
              "    }\n",
              "\n",
              "    [theme=dark] .colab-df-convert:hover {\n",
              "      background-color: #434B5C;\n",
              "      box-shadow: 0px 1px 3px 1px rgba(0, 0, 0, 0.15);\n",
              "      filter: drop-shadow(0px 1px 2px rgba(0, 0, 0, 0.3));\n",
              "      fill: #FFFFFF;\n",
              "    }\n",
              "  </style>\n",
              "\n",
              "      <script>\n",
              "        const buttonEl =\n",
              "          document.querySelector('#df-23041c35-3c97-4716-8a3c-f3b0bab1c009 button.colab-df-convert');\n",
              "        buttonEl.style.display =\n",
              "          google.colab.kernel.accessAllowed ? 'block' : 'none';\n",
              "\n",
              "        async function convertToInteractive(key) {\n",
              "          const element = document.querySelector('#df-23041c35-3c97-4716-8a3c-f3b0bab1c009');\n",
              "          const dataTable =\n",
              "            await google.colab.kernel.invokeFunction('convertToInteractive',\n",
              "                                                     [key], {});\n",
              "          if (!dataTable) return;\n",
              "\n",
              "          const docLinkHtml = 'Like what you see? Visit the ' +\n",
              "            '<a target=\"_blank\" href=https://colab.research.google.com/notebooks/data_table.ipynb>data table notebook</a>'\n",
              "            + ' to learn more about interactive tables.';\n",
              "          element.innerHTML = '';\n",
              "          dataTable['output_type'] = 'display_data';\n",
              "          await google.colab.output.renderOutput(dataTable, element);\n",
              "          const docLink = document.createElement('div');\n",
              "          docLink.innerHTML = docLinkHtml;\n",
              "          element.appendChild(docLink);\n",
              "        }\n",
              "      </script>\n",
              "    </div>\n",
              "  </div>\n"
            ]
          },
          "metadata": {},
          "execution_count": 12
        }
      ]
    },
    {
      "cell_type": "code",
      "source": [
        "#how many rows and columns\n",
        "champ.shape"
      ],
      "metadata": {
        "colab": {
          "base_uri": "https://localhost:8080/"
        },
        "id": "uBYOPOhAzA8e",
        "outputId": "05c479ea-7d0c-4aef-da0e-4ea92c5b65fe"
      },
      "execution_count": 13,
      "outputs": [
        {
          "output_type": "execute_result",
          "data": {
            "text/plain": [
              "(107, 2)"
            ]
          },
          "metadata": {},
          "execution_count": 13
        }
      ]
    },
    {
      "cell_type": "code",
      "source": [
        "#basic information about data\n",
        "champ.info()"
      ],
      "metadata": {
        "colab": {
          "base_uri": "https://localhost:8080/"
        },
        "id": "_sTwBIwn0JJF",
        "outputId": "9f8a48a9-2553-4d74-e7ba-2000f580b8f1"
      },
      "execution_count": 14,
      "outputs": [
        {
          "output_type": "stream",
          "name": "stdout",
          "text": [
            "<class 'pandas.core.frame.DataFrame'>\n",
            "RangeIndex: 107 entries, 0 to 106\n",
            "Data columns (total 2 columns):\n",
            " #   Column                                                  Non-Null Count  Dtype  \n",
            "---  ------                                                  --------------  -----  \n",
            " 0   Month                                                   106 non-null    object \n",
            " 1   Perrin Freres monthly champagne sales millions ?64-?72  105 non-null    float64\n",
            "dtypes: float64(1), object(1)\n",
            "memory usage: 1.8+ KB\n"
          ]
        }
      ]
    },
    {
      "cell_type": "code",
      "source": [
        "#stastistical info about data\n",
        "champ.describe().T"
      ],
      "metadata": {
        "colab": {
          "base_uri": "https://localhost:8080/",
          "height": 125
        },
        "id": "YMR5Y1Ak0JBh",
        "outputId": "18b2455d-dbfa-4586-c0de-d5ce6e07e69c"
      },
      "execution_count": 15,
      "outputs": [
        {
          "output_type": "execute_result",
          "data": {
            "text/plain": [
              "                                                    count         mean  \\\n",
              "Perrin Freres monthly champagne sales millions ...  105.0  4761.152381   \n",
              "\n",
              "                                                            std     min  \\\n",
              "Perrin Freres monthly champagne sales millions ...  2553.502601  1413.0   \n",
              "\n",
              "                                                       25%     50%     75%  \\\n",
              "Perrin Freres monthly champagne sales millions ...  3113.0  4217.0  5221.0   \n",
              "\n",
              "                                                        max  \n",
              "Perrin Freres monthly champagne sales millions ...  13916.0  "
            ],
            "text/html": [
              "\n",
              "\n",
              "  <div id=\"df-a195698f-7dd6-41a4-85ac-67c4ece63bc2\">\n",
              "    <div class=\"colab-df-container\">\n",
              "      <div>\n",
              "<style scoped>\n",
              "    .dataframe tbody tr th:only-of-type {\n",
              "        vertical-align: middle;\n",
              "    }\n",
              "\n",
              "    .dataframe tbody tr th {\n",
              "        vertical-align: top;\n",
              "    }\n",
              "\n",
              "    .dataframe thead th {\n",
              "        text-align: right;\n",
              "    }\n",
              "</style>\n",
              "<table border=\"1\" class=\"dataframe\">\n",
              "  <thead>\n",
              "    <tr style=\"text-align: right;\">\n",
              "      <th></th>\n",
              "      <th>count</th>\n",
              "      <th>mean</th>\n",
              "      <th>std</th>\n",
              "      <th>min</th>\n",
              "      <th>25%</th>\n",
              "      <th>50%</th>\n",
              "      <th>75%</th>\n",
              "      <th>max</th>\n",
              "    </tr>\n",
              "  </thead>\n",
              "  <tbody>\n",
              "    <tr>\n",
              "      <th>Perrin Freres monthly champagne sales millions ?64-?72</th>\n",
              "      <td>105.0</td>\n",
              "      <td>4761.152381</td>\n",
              "      <td>2553.502601</td>\n",
              "      <td>1413.0</td>\n",
              "      <td>3113.0</td>\n",
              "      <td>4217.0</td>\n",
              "      <td>5221.0</td>\n",
              "      <td>13916.0</td>\n",
              "    </tr>\n",
              "  </tbody>\n",
              "</table>\n",
              "</div>\n",
              "      <button class=\"colab-df-convert\" onclick=\"convertToInteractive('df-a195698f-7dd6-41a4-85ac-67c4ece63bc2')\"\n",
              "              title=\"Convert this dataframe to an interactive table.\"\n",
              "              style=\"display:none;\">\n",
              "\n",
              "  <svg xmlns=\"http://www.w3.org/2000/svg\" height=\"24px\"viewBox=\"0 0 24 24\"\n",
              "       width=\"24px\">\n",
              "    <path d=\"M0 0h24v24H0V0z\" fill=\"none\"/>\n",
              "    <path d=\"M18.56 5.44l.94 2.06.94-2.06 2.06-.94-2.06-.94-.94-2.06-.94 2.06-2.06.94zm-11 1L8.5 8.5l.94-2.06 2.06-.94-2.06-.94L8.5 2.5l-.94 2.06-2.06.94zm10 10l.94 2.06.94-2.06 2.06-.94-2.06-.94-.94-2.06-.94 2.06-2.06.94z\"/><path d=\"M17.41 7.96l-1.37-1.37c-.4-.4-.92-.59-1.43-.59-.52 0-1.04.2-1.43.59L10.3 9.45l-7.72 7.72c-.78.78-.78 2.05 0 2.83L4 21.41c.39.39.9.59 1.41.59.51 0 1.02-.2 1.41-.59l7.78-7.78 2.81-2.81c.8-.78.8-2.07 0-2.86zM5.41 20L4 18.59l7.72-7.72 1.47 1.35L5.41 20z\"/>\n",
              "  </svg>\n",
              "      </button>\n",
              "\n",
              "\n",
              "\n",
              "    <div id=\"df-4344dd5e-3d5d-41e7-af8d-814795700bc7\">\n",
              "      <button class=\"colab-df-quickchart\" onclick=\"quickchart('df-4344dd5e-3d5d-41e7-af8d-814795700bc7')\"\n",
              "              title=\"Suggest charts.\"\n",
              "              style=\"display:none;\">\n",
              "\n",
              "<svg xmlns=\"http://www.w3.org/2000/svg\" height=\"24px\"viewBox=\"0 0 24 24\"\n",
              "     width=\"24px\">\n",
              "    <g>\n",
              "        <path d=\"M19 3H5c-1.1 0-2 .9-2 2v14c0 1.1.9 2 2 2h14c1.1 0 2-.9 2-2V5c0-1.1-.9-2-2-2zM9 17H7v-7h2v7zm4 0h-2V7h2v10zm4 0h-2v-4h2v4z\"/>\n",
              "    </g>\n",
              "</svg>\n",
              "      </button>\n",
              "    </div>\n",
              "\n",
              "<style>\n",
              "  .colab-df-quickchart {\n",
              "    background-color: #E8F0FE;\n",
              "    border: none;\n",
              "    border-radius: 50%;\n",
              "    cursor: pointer;\n",
              "    display: none;\n",
              "    fill: #1967D2;\n",
              "    height: 32px;\n",
              "    padding: 0 0 0 0;\n",
              "    width: 32px;\n",
              "  }\n",
              "\n",
              "  .colab-df-quickchart:hover {\n",
              "    background-color: #E2EBFA;\n",
              "    box-shadow: 0px 1px 2px rgba(60, 64, 67, 0.3), 0px 1px 3px 1px rgba(60, 64, 67, 0.15);\n",
              "    fill: #174EA6;\n",
              "  }\n",
              "\n",
              "  [theme=dark] .colab-df-quickchart {\n",
              "    background-color: #3B4455;\n",
              "    fill: #D2E3FC;\n",
              "  }\n",
              "\n",
              "  [theme=dark] .colab-df-quickchart:hover {\n",
              "    background-color: #434B5C;\n",
              "    box-shadow: 0px 1px 3px 1px rgba(0, 0, 0, 0.15);\n",
              "    filter: drop-shadow(0px 1px 2px rgba(0, 0, 0, 0.3));\n",
              "    fill: #FFFFFF;\n",
              "  }\n",
              "</style>\n",
              "\n",
              "    <script>\n",
              "      async function quickchart(key) {\n",
              "        const containerElement = document.querySelector('#' + key);\n",
              "        const charts = await google.colab.kernel.invokeFunction(\n",
              "            'suggestCharts', [key], {});\n",
              "      }\n",
              "    </script>\n",
              "\n",
              "      <script>\n",
              "\n",
              "function displayQuickchartButton(domScope) {\n",
              "  let quickchartButtonEl =\n",
              "    domScope.querySelector('#df-4344dd5e-3d5d-41e7-af8d-814795700bc7 button.colab-df-quickchart');\n",
              "  quickchartButtonEl.style.display =\n",
              "    google.colab.kernel.accessAllowed ? 'block' : 'none';\n",
              "}\n",
              "\n",
              "        displayQuickchartButton(document);\n",
              "      </script>\n",
              "      <style>\n",
              "    .colab-df-container {\n",
              "      display:flex;\n",
              "      flex-wrap:wrap;\n",
              "      gap: 12px;\n",
              "    }\n",
              "\n",
              "    .colab-df-convert {\n",
              "      background-color: #E8F0FE;\n",
              "      border: none;\n",
              "      border-radius: 50%;\n",
              "      cursor: pointer;\n",
              "      display: none;\n",
              "      fill: #1967D2;\n",
              "      height: 32px;\n",
              "      padding: 0 0 0 0;\n",
              "      width: 32px;\n",
              "    }\n",
              "\n",
              "    .colab-df-convert:hover {\n",
              "      background-color: #E2EBFA;\n",
              "      box-shadow: 0px 1px 2px rgba(60, 64, 67, 0.3), 0px 1px 3px 1px rgba(60, 64, 67, 0.15);\n",
              "      fill: #174EA6;\n",
              "    }\n",
              "\n",
              "    [theme=dark] .colab-df-convert {\n",
              "      background-color: #3B4455;\n",
              "      fill: #D2E3FC;\n",
              "    }\n",
              "\n",
              "    [theme=dark] .colab-df-convert:hover {\n",
              "      background-color: #434B5C;\n",
              "      box-shadow: 0px 1px 3px 1px rgba(0, 0, 0, 0.15);\n",
              "      filter: drop-shadow(0px 1px 2px rgba(0, 0, 0, 0.3));\n",
              "      fill: #FFFFFF;\n",
              "    }\n",
              "  </style>\n",
              "\n",
              "      <script>\n",
              "        const buttonEl =\n",
              "          document.querySelector('#df-a195698f-7dd6-41a4-85ac-67c4ece63bc2 button.colab-df-convert');\n",
              "        buttonEl.style.display =\n",
              "          google.colab.kernel.accessAllowed ? 'block' : 'none';\n",
              "\n",
              "        async function convertToInteractive(key) {\n",
              "          const element = document.querySelector('#df-a195698f-7dd6-41a4-85ac-67c4ece63bc2');\n",
              "          const dataTable =\n",
              "            await google.colab.kernel.invokeFunction('convertToInteractive',\n",
              "                                                     [key], {});\n",
              "          if (!dataTable) return;\n",
              "\n",
              "          const docLinkHtml = 'Like what you see? Visit the ' +\n",
              "            '<a target=\"_blank\" href=https://colab.research.google.com/notebooks/data_table.ipynb>data table notebook</a>'\n",
              "            + ' to learn more about interactive tables.';\n",
              "          element.innerHTML = '';\n",
              "          dataTable['output_type'] = 'display_data';\n",
              "          await google.colab.output.renderOutput(dataTable, element);\n",
              "          const docLink = document.createElement('div');\n",
              "          docLink.innerHTML = docLinkHtml;\n",
              "          element.appendChild(docLink);\n",
              "        }\n",
              "      </script>\n",
              "    </div>\n",
              "  </div>\n"
            ]
          },
          "metadata": {},
          "execution_count": 15
        }
      ]
    },
    {
      "cell_type": "code",
      "source": [
        "#missing values of our dataset in bool\n",
        "champ.isnull()"
      ],
      "metadata": {
        "colab": {
          "base_uri": "https://localhost:8080/",
          "height": 424
        },
        "id": "ODurm66S0I7i",
        "outputId": "01fa70a2-53a1-4174-f06b-fb0035edcb09"
      },
      "execution_count": 16,
      "outputs": [
        {
          "output_type": "execute_result",
          "data": {
            "text/plain": [
              "     Month  Perrin Freres monthly champagne sales millions ?64-?72\n",
              "0    False                                              False     \n",
              "1    False                                              False     \n",
              "2    False                                              False     \n",
              "3    False                                              False     \n",
              "4    False                                              False     \n",
              "..     ...                                                ...     \n",
              "102  False                                              False     \n",
              "103  False                                              False     \n",
              "104  False                                              False     \n",
              "105   True                                               True     \n",
              "106  False                                               True     \n",
              "\n",
              "[107 rows x 2 columns]"
            ],
            "text/html": [
              "\n",
              "\n",
              "  <div id=\"df-2a5a17ae-301c-4524-8759-6e21af5698ac\">\n",
              "    <div class=\"colab-df-container\">\n",
              "      <div>\n",
              "<style scoped>\n",
              "    .dataframe tbody tr th:only-of-type {\n",
              "        vertical-align: middle;\n",
              "    }\n",
              "\n",
              "    .dataframe tbody tr th {\n",
              "        vertical-align: top;\n",
              "    }\n",
              "\n",
              "    .dataframe thead th {\n",
              "        text-align: right;\n",
              "    }\n",
              "</style>\n",
              "<table border=\"1\" class=\"dataframe\">\n",
              "  <thead>\n",
              "    <tr style=\"text-align: right;\">\n",
              "      <th></th>\n",
              "      <th>Month</th>\n",
              "      <th>Perrin Freres monthly champagne sales millions ?64-?72</th>\n",
              "    </tr>\n",
              "  </thead>\n",
              "  <tbody>\n",
              "    <tr>\n",
              "      <th>0</th>\n",
              "      <td>False</td>\n",
              "      <td>False</td>\n",
              "    </tr>\n",
              "    <tr>\n",
              "      <th>1</th>\n",
              "      <td>False</td>\n",
              "      <td>False</td>\n",
              "    </tr>\n",
              "    <tr>\n",
              "      <th>2</th>\n",
              "      <td>False</td>\n",
              "      <td>False</td>\n",
              "    </tr>\n",
              "    <tr>\n",
              "      <th>3</th>\n",
              "      <td>False</td>\n",
              "      <td>False</td>\n",
              "    </tr>\n",
              "    <tr>\n",
              "      <th>4</th>\n",
              "      <td>False</td>\n",
              "      <td>False</td>\n",
              "    </tr>\n",
              "    <tr>\n",
              "      <th>...</th>\n",
              "      <td>...</td>\n",
              "      <td>...</td>\n",
              "    </tr>\n",
              "    <tr>\n",
              "      <th>102</th>\n",
              "      <td>False</td>\n",
              "      <td>False</td>\n",
              "    </tr>\n",
              "    <tr>\n",
              "      <th>103</th>\n",
              "      <td>False</td>\n",
              "      <td>False</td>\n",
              "    </tr>\n",
              "    <tr>\n",
              "      <th>104</th>\n",
              "      <td>False</td>\n",
              "      <td>False</td>\n",
              "    </tr>\n",
              "    <tr>\n",
              "      <th>105</th>\n",
              "      <td>True</td>\n",
              "      <td>True</td>\n",
              "    </tr>\n",
              "    <tr>\n",
              "      <th>106</th>\n",
              "      <td>False</td>\n",
              "      <td>True</td>\n",
              "    </tr>\n",
              "  </tbody>\n",
              "</table>\n",
              "<p>107 rows × 2 columns</p>\n",
              "</div>\n",
              "      <button class=\"colab-df-convert\" onclick=\"convertToInteractive('df-2a5a17ae-301c-4524-8759-6e21af5698ac')\"\n",
              "              title=\"Convert this dataframe to an interactive table.\"\n",
              "              style=\"display:none;\">\n",
              "\n",
              "  <svg xmlns=\"http://www.w3.org/2000/svg\" height=\"24px\"viewBox=\"0 0 24 24\"\n",
              "       width=\"24px\">\n",
              "    <path d=\"M0 0h24v24H0V0z\" fill=\"none\"/>\n",
              "    <path d=\"M18.56 5.44l.94 2.06.94-2.06 2.06-.94-2.06-.94-.94-2.06-.94 2.06-2.06.94zm-11 1L8.5 8.5l.94-2.06 2.06-.94-2.06-.94L8.5 2.5l-.94 2.06-2.06.94zm10 10l.94 2.06.94-2.06 2.06-.94-2.06-.94-.94-2.06-.94 2.06-2.06.94z\"/><path d=\"M17.41 7.96l-1.37-1.37c-.4-.4-.92-.59-1.43-.59-.52 0-1.04.2-1.43.59L10.3 9.45l-7.72 7.72c-.78.78-.78 2.05 0 2.83L4 21.41c.39.39.9.59 1.41.59.51 0 1.02-.2 1.41-.59l7.78-7.78 2.81-2.81c.8-.78.8-2.07 0-2.86zM5.41 20L4 18.59l7.72-7.72 1.47 1.35L5.41 20z\"/>\n",
              "  </svg>\n",
              "      </button>\n",
              "\n",
              "\n",
              "\n",
              "    <div id=\"df-6e66bc40-13e2-4b20-9255-e28c3e28e7ee\">\n",
              "      <button class=\"colab-df-quickchart\" onclick=\"quickchart('df-6e66bc40-13e2-4b20-9255-e28c3e28e7ee')\"\n",
              "              title=\"Suggest charts.\"\n",
              "              style=\"display:none;\">\n",
              "\n",
              "<svg xmlns=\"http://www.w3.org/2000/svg\" height=\"24px\"viewBox=\"0 0 24 24\"\n",
              "     width=\"24px\">\n",
              "    <g>\n",
              "        <path d=\"M19 3H5c-1.1 0-2 .9-2 2v14c0 1.1.9 2 2 2h14c1.1 0 2-.9 2-2V5c0-1.1-.9-2-2-2zM9 17H7v-7h2v7zm4 0h-2V7h2v10zm4 0h-2v-4h2v4z\"/>\n",
              "    </g>\n",
              "</svg>\n",
              "      </button>\n",
              "    </div>\n",
              "\n",
              "<style>\n",
              "  .colab-df-quickchart {\n",
              "    background-color: #E8F0FE;\n",
              "    border: none;\n",
              "    border-radius: 50%;\n",
              "    cursor: pointer;\n",
              "    display: none;\n",
              "    fill: #1967D2;\n",
              "    height: 32px;\n",
              "    padding: 0 0 0 0;\n",
              "    width: 32px;\n",
              "  }\n",
              "\n",
              "  .colab-df-quickchart:hover {\n",
              "    background-color: #E2EBFA;\n",
              "    box-shadow: 0px 1px 2px rgba(60, 64, 67, 0.3), 0px 1px 3px 1px rgba(60, 64, 67, 0.15);\n",
              "    fill: #174EA6;\n",
              "  }\n",
              "\n",
              "  [theme=dark] .colab-df-quickchart {\n",
              "    background-color: #3B4455;\n",
              "    fill: #D2E3FC;\n",
              "  }\n",
              "\n",
              "  [theme=dark] .colab-df-quickchart:hover {\n",
              "    background-color: #434B5C;\n",
              "    box-shadow: 0px 1px 3px 1px rgba(0, 0, 0, 0.15);\n",
              "    filter: drop-shadow(0px 1px 2px rgba(0, 0, 0, 0.3));\n",
              "    fill: #FFFFFF;\n",
              "  }\n",
              "</style>\n",
              "\n",
              "    <script>\n",
              "      async function quickchart(key) {\n",
              "        const containerElement = document.querySelector('#' + key);\n",
              "        const charts = await google.colab.kernel.invokeFunction(\n",
              "            'suggestCharts', [key], {});\n",
              "      }\n",
              "    </script>\n",
              "\n",
              "      <script>\n",
              "\n",
              "function displayQuickchartButton(domScope) {\n",
              "  let quickchartButtonEl =\n",
              "    domScope.querySelector('#df-6e66bc40-13e2-4b20-9255-e28c3e28e7ee button.colab-df-quickchart');\n",
              "  quickchartButtonEl.style.display =\n",
              "    google.colab.kernel.accessAllowed ? 'block' : 'none';\n",
              "}\n",
              "\n",
              "        displayQuickchartButton(document);\n",
              "      </script>\n",
              "      <style>\n",
              "    .colab-df-container {\n",
              "      display:flex;\n",
              "      flex-wrap:wrap;\n",
              "      gap: 12px;\n",
              "    }\n",
              "\n",
              "    .colab-df-convert {\n",
              "      background-color: #E8F0FE;\n",
              "      border: none;\n",
              "      border-radius: 50%;\n",
              "      cursor: pointer;\n",
              "      display: none;\n",
              "      fill: #1967D2;\n",
              "      height: 32px;\n",
              "      padding: 0 0 0 0;\n",
              "      width: 32px;\n",
              "    }\n",
              "\n",
              "    .colab-df-convert:hover {\n",
              "      background-color: #E2EBFA;\n",
              "      box-shadow: 0px 1px 2px rgba(60, 64, 67, 0.3), 0px 1px 3px 1px rgba(60, 64, 67, 0.15);\n",
              "      fill: #174EA6;\n",
              "    }\n",
              "\n",
              "    [theme=dark] .colab-df-convert {\n",
              "      background-color: #3B4455;\n",
              "      fill: #D2E3FC;\n",
              "    }\n",
              "\n",
              "    [theme=dark] .colab-df-convert:hover {\n",
              "      background-color: #434B5C;\n",
              "      box-shadow: 0px 1px 3px 1px rgba(0, 0, 0, 0.15);\n",
              "      filter: drop-shadow(0px 1px 2px rgba(0, 0, 0, 0.3));\n",
              "      fill: #FFFFFF;\n",
              "    }\n",
              "  </style>\n",
              "\n",
              "      <script>\n",
              "        const buttonEl =\n",
              "          document.querySelector('#df-2a5a17ae-301c-4524-8759-6e21af5698ac button.colab-df-convert');\n",
              "        buttonEl.style.display =\n",
              "          google.colab.kernel.accessAllowed ? 'block' : 'none';\n",
              "\n",
              "        async function convertToInteractive(key) {\n",
              "          const element = document.querySelector('#df-2a5a17ae-301c-4524-8759-6e21af5698ac');\n",
              "          const dataTable =\n",
              "            await google.colab.kernel.invokeFunction('convertToInteractive',\n",
              "                                                     [key], {});\n",
              "          if (!dataTable) return;\n",
              "\n",
              "          const docLinkHtml = 'Like what you see? Visit the ' +\n",
              "            '<a target=\"_blank\" href=https://colab.research.google.com/notebooks/data_table.ipynb>data table notebook</a>'\n",
              "            + ' to learn more about interactive tables.';\n",
              "          element.innerHTML = '';\n",
              "          dataTable['output_type'] = 'display_data';\n",
              "          await google.colab.output.renderOutput(dataTable, element);\n",
              "          const docLink = document.createElement('div');\n",
              "          docLink.innerHTML = docLinkHtml;\n",
              "          element.appendChild(docLink);\n",
              "        }\n",
              "      </script>\n",
              "    </div>\n",
              "  </div>\n"
            ]
          },
          "metadata": {},
          "execution_count": 16
        }
      ]
    },
    {
      "cell_type": "code",
      "source": [
        "#how many nan or null values  in data\n",
        "champ.isnull().sum()"
      ],
      "metadata": {
        "colab": {
          "base_uri": "https://localhost:8080/"
        },
        "id": "_mDLi-pP0I4v",
        "outputId": "884562a2-2bc5-4852-e1a6-859179edcc5b"
      },
      "execution_count": 17,
      "outputs": [
        {
          "output_type": "execute_result",
          "data": {
            "text/plain": [
              "Month                                                     1\n",
              "Perrin Freres monthly champagne sales millions ?64-?72    2\n",
              "dtype: int64"
            ]
          },
          "metadata": {},
          "execution_count": 17
        }
      ]
    },
    {
      "cell_type": "code",
      "source": [
        "# which dtypes we have in datset\n",
        "champ.dtypes"
      ],
      "metadata": {
        "colab": {
          "base_uri": "https://localhost:8080/"
        },
        "id": "UnSI8-5D0I11",
        "outputId": "da35a438-19ea-4a30-d94b-d300ceac2135"
      },
      "execution_count": 18,
      "outputs": [
        {
          "output_type": "execute_result",
          "data": {
            "text/plain": [
              "Month                                                      object\n",
              "Perrin Freres monthly champagne sales millions ?64-?72    float64\n",
              "dtype: object"
            ]
          },
          "metadata": {},
          "execution_count": 18
        }
      ]
    },
    {
      "cell_type": "code",
      "source": [
        "#visualization of null values\n",
        "import missingno as msno\n",
        "msno.matrix(champ)"
      ],
      "metadata": {
        "colab": {
          "base_uri": "https://localhost:8080/",
          "height": 624
        },
        "id": "-O9aytjC0Iyq",
        "outputId": "e83e2a29-c989-491f-ce1a-9958e2fe2812"
      },
      "execution_count": 19,
      "outputs": [
        {
          "output_type": "execute_result",
          "data": {
            "text/plain": [
              "<Axes: >"
            ]
          },
          "metadata": {},
          "execution_count": 19
        },
        {
          "output_type": "display_data",
          "data": {
            "text/plain": [
              "<Figure size 2500x1000 with 2 Axes>"
            ],
            "image/png": "[encoded data removed]"
          },
          "metadata": {}
        }
      ]
    },
    {
      "cell_type": "code",
      "source": [
        "import seaborn as sns\n",
        "sns.heatmap(champ.isnull(),yticklabels=False)"
      ],
      "metadata": {
        "colab": {
          "base_uri": "https://localhost:8080/",
          "height": 829
        },
        "id": "s0YDmh7xOGaJ",
        "outputId": "5114ef6c-3779-4607-983f-fe44d61dc60a"
      },
      "execution_count": 20,
      "outputs": [
        {
          "output_type": "execute_result",
          "data": {
            "text/plain": [
              "<Axes: >"
            ]
          },
          "metadata": {},
          "execution_count": 20
        },
        {
          "output_type": "display_data",
          "data": {
            "text/plain": [
              "<Figure size 640x480 with 2 Axes>"
            ],
            "image/png": "[encoded data removed]"
          },
          "metadata": {}
        }
      ]
    },
    {
      "cell_type": "markdown",
      "source": [
        "#  EDA-exploratory data analysis"
      ],
      "metadata": {
        "id": "4DvigWed6L3j"
      }
    },
    {
      "cell_type": "code",
      "source": [
        "#replace name\n",
        "champ.rename({\"Perrin Freres monthly champagne sales millions ?64-?72\":\"sales\"},axis=1,inplace=True)\n",
        "champ.columns"
      ],
      "metadata": {
        "id": "caURwQe32OCm",
        "colab": {
          "base_uri": "https://localhost:8080/"
        },
        "outputId": "8a3e7b47-d555-4e0f-806f-b776615379e3"
      },
      "execution_count": 21,
      "outputs": [
        {
          "output_type": "execute_result",
          "data": {
            "text/plain": [
              "Index(['Month', 'sales'], dtype='object')"
            ]
          },
          "metadata": {},
          "execution_count": 21
        }
      ]
    },
    {
      "cell_type": "code",
      "source": [
        "#pair plot\n",
        "import seaborn as sns\n",
        "sns.pairplot(champ)\n"
      ],
      "metadata": {
        "colab": {
          "base_uri": "https://localhost:8080/",
          "height": 285
        },
        "id": "EHYP2NfF6JXr",
        "outputId": "40921c96-e85f-4b2d-e83d-d8b39203a9aa"
      },
      "execution_count": 22,
      "outputs": [
        {
          "output_type": "execute_result",
          "data": {
            "text/plain": [
              "<seaborn.axisgrid.PairGrid at 0x7eae6f3c6950>"
            ]
          },
          "metadata": {},
          "execution_count": 22
        },
        {
          "output_type": "display_data",
          "data": {
            "text/plain": [
              "<Figure size 250x250 with 2 Axes>"
            ],
            "image/png": "[encoded data removed]"
          },
          "metadata": {}
        }
      ]
    },
    {
      "cell_type": "code",
      "source": [
        "# the missing values which are so little ,so we drop it\n",
        "champ.dropna(inplace=True)\n",
        "champ.isnull().sum()"
      ],
      "metadata": {
        "colab": {
          "base_uri": "https://localhost:8080/"
        },
        "id": "GsjM5Qmg6JUX",
        "outputId": "d8ac1deb-a0b3-4cb6-bd61-9a3462fc8fd7"
      },
      "execution_count": 23,
      "outputs": [
        {
          "output_type": "execute_result",
          "data": {
            "text/plain": [
              "Month    0\n",
              "sales    0\n",
              "dtype: int64"
            ]
          },
          "metadata": {},
          "execution_count": 23
        }
      ]
    },
    {
      "cell_type": "code",
      "source": [
        "# Plot month vs. sales\n",
        "import matplotlib.pyplot as plt\n",
        "plt.scatter(champ[\"Month\"],champ[\"sales\"],s=1)\n",
        "plt.xlabel('Month')\n",
        "plt.ylabel('sales')"
      ],
      "metadata": {
        "colab": {
          "base_uri": "https://localhost:8080/",
          "height": 466
        },
        "id": "zbcU7EbTHT3z",
        "outputId": "47ef99a4-b6b3-4d28-ccf0-bdbed0a893e5"
      },
      "execution_count": 24,
      "outputs": [
        {
          "output_type": "execute_result",
          "data": {
            "text/plain": [
              "Text(0, 0.5, 'sales')"
            ]
          },
          "metadata": {},
          "execution_count": 24
        },
        {
          "output_type": "display_data",
          "data": {
            "text/plain": [
              "<Figure size 640x480 with 1 Axes>"
            ],
            "image/png": "[encoded data removed]"
          },
          "metadata": {}
        }
      ]
    },
    {
      "cell_type": "code",
      "source": [
        "#line plot of our  target attribute\n",
        "sns.lineplot(champ['sales'],color='green')"
      ],
      "metadata": {
        "colab": {
          "base_uri": "https://localhost:8080/",
          "height": 447
        },
        "id": "-hhv8hUtASQd",
        "outputId": "4f48f8a0-ead4-4a4e-98c9-1934ea21cf58"
      },
      "execution_count": 25,
      "outputs": [
        {
          "output_type": "execute_result",
          "data": {
            "text/plain": [
              "<Axes: ylabel='sales'>"
            ]
          },
          "metadata": {},
          "execution_count": 25
        },
        {
          "output_type": "display_data",
          "data": {
            "text/plain": [
              "<Figure size 640x480 with 1 Axes>"
            ],
            "image/png": "[encoded data removed]"
          },
          "metadata": {}
        }
      ]
    },
    {
      "cell_type": "code",
      "source": [
        "#change obj in int 64 datetime ns\n",
        "champ['Month']=pd.to_datetime(champ['Month'])"
      ],
      "metadata": {
        "id": "LyjKGkoWEYHX"
      },
      "execution_count": 26,
      "outputs": []
    },
    {
      "cell_type": "code",
      "source": [
        "#Extract year\n",
        "champ['Month_year'] = champ['Month'].dt.year\n",
        "\n",
        "champ.sample(5)"
      ],
      "metadata": {
        "colab": {
          "base_uri": "https://localhost:8080/",
          "height": 206
        },
        "id": "l9A474eq4wVj",
        "outputId": "71a86cc6-daea-4005-fb3f-a08ae9036ddb"
      },
      "execution_count": 27,
      "outputs": [
        {
          "output_type": "execute_result",
          "data": {
            "text/plain": [
              "         Month   sales  Month_year\n",
              "27  1966-04-01  3523.0        1966\n",
              "22  1965-11-01  6838.0        1965\n",
              "11  1964-12-01  7312.0        1964\n",
              "104 1972-09-01  5877.0        1972\n",
              "84  1971-01-01  3934.0        1971"
            ],
            "text/html": [
              "\n",
              "\n",
              "  <div id=\"df-5e57d1ae-d517-40f9-9d4d-61cae64d9d0c\">\n",
              "    <div class=\"colab-df-container\">\n",
              "      <div>\n",
              "<style scoped>\n",
              "    .dataframe tbody tr th:only-of-type {\n",
              "        vertical-align: middle;\n",
              "    }\n",
              "\n",
              "    .dataframe tbody tr th {\n",
              "        vertical-align: top;\n",
              "    }\n",
              "\n",
              "    .dataframe thead th {\n",
              "        text-align: right;\n",
              "    }\n",
              "</style>\n",
              "<table border=\"1\" class=\"dataframe\">\n",
              "  <thead>\n",
              "    <tr style=\"text-align: right;\">\n",
              "      <th></th>\n",
              "      <th>Month</th>\n",
              "      <th>sales</th>\n",
              "      <th>Month_year</th>\n",
              "    </tr>\n",
              "  </thead>\n",
              "  <tbody>\n",
              "    <tr>\n",
              "      <th>27</th>\n",
              "      <td>1966-04-01</td>\n",
              "      <td>3523.0</td>\n",
              "      <td>1966</td>\n",
              "    </tr>\n",
              "    <tr>\n",
              "      <th>22</th>\n",
              "      <td>1965-11-01</td>\n",
              "      <td>6838.0</td>\n",
              "      <td>1965</td>\n",
              "    </tr>\n",
              "    <tr>\n",
              "      <th>11</th>\n",
              "      <td>1964-12-01</td>\n",
              "      <td>7312.0</td>\n",
              "      <td>1964</td>\n",
              "    </tr>\n",
              "    <tr>\n",
              "      <th>104</th>\n",
              "      <td>1972-09-01</td>\n",
              "      <td>5877.0</td>\n",
              "      <td>1972</td>\n",
              "    </tr>\n",
              "    <tr>\n",
              "      <th>84</th>\n",
              "      <td>1971-01-01</td>\n",
              "      <td>3934.0</td>\n",
              "      <td>1971</td>\n",
              "    </tr>\n",
              "  </tbody>\n",
              "</table>\n",
              "</div>\n",
              "      <button class=\"colab-df-convert\" onclick=\"convertToInteractive('df-5e57d1ae-d517-40f9-9d4d-61cae64d9d0c')\"\n",
              "              title=\"Convert this dataframe to an interactive table.\"\n",
              "              style=\"display:none;\">\n",
              "\n",
              "  <svg xmlns=\"http://www.w3.org/2000/svg\" height=\"24px\"viewBox=\"0 0 24 24\"\n",
              "       width=\"24px\">\n",
              "    <path d=\"M0 0h24v24H0V0z\" fill=\"none\"/>\n",
              "    <path d=\"M18.56 5.44l.94 2.06.94-2.06 2.06-.94-2.06-.94-.94-2.06-.94 2.06-2.06.94zm-11 1L8.5 8.5l.94-2.06 2.06-.94-2.06-.94L8.5 2.5l-.94 2.06-2.06.94zm10 10l.94 2.06.94-2.06 2.06-.94-2.06-.94-.94-2.06-.94 2.06-2.06.94z\"/><path d=\"M17.41 7.96l-1.37-1.37c-.4-.4-.92-.59-1.43-.59-.52 0-1.04.2-1.43.59L10.3 9.45l-7.72 7.72c-.78.78-.78 2.05 0 2.83L4 21.41c.39.39.9.59 1.41.59.51 0 1.02-.2 1.41-.59l7.78-7.78 2.81-2.81c.8-.78.8-2.07 0-2.86zM5.41 20L4 18.59l7.72-7.72 1.47 1.35L5.41 20z\"/>\n",
              "  </svg>\n",
              "      </button>\n",
              "\n",
              "\n",
              "\n",
              "    <div id=\"df-e06816ee-087e-4f2b-ac2e-7645033cc1fa\">\n",
              "      <button class=\"colab-df-quickchart\" onclick=\"quickchart('df-e06816ee-087e-4f2b-ac2e-7645033cc1fa')\"\n",
              "              title=\"Suggest charts.\"\n",
              "              style=\"display:none;\">\n",
              "\n",
              "<svg xmlns=\"http://www.w3.org/2000/svg\" height=\"24px\"viewBox=\"0 0 24 24\"\n",
              "     width=\"24px\">\n",
              "    <g>\n",
              "        <path d=\"M19 3H5c-1.1 0-2 .9-2 2v14c0 1.1.9 2 2 2h14c1.1 0 2-.9 2-2V5c0-1.1-.9-2-2-2zM9 17H7v-7h2v7zm4 0h-2V7h2v10zm4 0h-2v-4h2v4z\"/>\n",
              "    </g>\n",
              "</svg>\n",
              "      </button>\n",
              "    </div>\n",
              "\n",
              "<style>\n",
              "  .colab-df-quickchart {\n",
              "    background-color: #E8F0FE;\n",
              "    border: none;\n",
              "    border-radius: 50%;\n",
              "    cursor: pointer;\n",
              "    display: none;\n",
              "    fill: #1967D2;\n",
              "    height: 32px;\n",
              "    padding: 0 0 0 0;\n",
              "    width: 32px;\n",
              "  }\n",
              "\n",
              "  .colab-df-quickchart:hover {\n",
              "    background-color: #E2EBFA;\n",
              "    box-shadow: 0px 1px 2px rgba(60, 64, 67, 0.3), 0px 1px 3px 1px rgba(60, 64, 67, 0.15);\n",
              "    fill: #174EA6;\n",
              "  }\n",
              "\n",
              "  [theme=dark] .colab-df-quickchart {\n",
              "    background-color: #3B4455;\n",
              "    fill: #D2E3FC;\n",
              "  }\n",
              "\n",
              "  [theme=dark] .colab-df-quickchart:hover {\n",
              "    background-color: #434B5C;\n",
              "    box-shadow: 0px 1px 3px 1px rgba(0, 0, 0, 0.15);\n",
              "    filter: drop-shadow(0px 1px 2px rgba(0, 0, 0, 0.3));\n",
              "    fill: #FFFFFF;\n",
              "  }\n",
              "</style>\n",
              "\n",
              "    <script>\n",
              "      async function quickchart(key) {\n",
              "        const containerElement = document.querySelector('#' + key);\n",
              "        const charts = await google.colab.kernel.invokeFunction(\n",
              "            'suggestCharts', [key], {});\n",
              "      }\n",
              "    </script>\n",
              "\n",
              "      <script>\n",
              "\n",
              "function displayQuickchartButton(domScope) {\n",
              "  let quickchartButtonEl =\n",
              "    domScope.querySelector('#df-e06816ee-087e-4f2b-ac2e-7645033cc1fa button.colab-df-quickchart');\n",
              "  quickchartButtonEl.style.display =\n",
              "    google.colab.kernel.accessAllowed ? 'block' : 'none';\n",
              "}\n",
              "\n",
              "        displayQuickchartButton(document);\n",
              "      </script>\n",
              "      <style>\n",
              "    .colab-df-container {\n",
              "      display:flex;\n",
              "      flex-wrap:wrap;\n",
              "      gap: 12px;\n",
              "    }\n",
              "\n",
              "    .colab-df-convert {\n",
              "      background-color: #E8F0FE;\n",
              "      border: none;\n",
              "      border-radius: 50%;\n",
              "      cursor: pointer;\n",
              "      display: none;\n",
              "      fill: #1967D2;\n",
              "      height: 32px;\n",
              "      padding: 0 0 0 0;\n",
              "      width: 32px;\n",
              "    }\n",
              "\n",
              "    .colab-df-convert:hover {\n",
              "      background-color: #E2EBFA;\n",
              "      box-shadow: 0px 1px 2px rgba(60, 64, 67, 0.3), 0px 1px 3px 1px rgba(60, 64, 67, 0.15);\n",
              "      fill: #174EA6;\n",
              "    }\n",
              "\n",
              "    [theme=dark] .colab-df-convert {\n",
              "      background-color: #3B4455;\n",
              "      fill: #D2E3FC;\n",
              "    }\n",
              "\n",
              "    [theme=dark] .colab-df-convert:hover {\n",
              "      background-color: #434B5C;\n",
              "      box-shadow: 0px 1px 3px 1px rgba(0, 0, 0, 0.15);\n",
              "      filter: drop-shadow(0px 1px 2px rgba(0, 0, 0, 0.3));\n",
              "      fill: #FFFFFF;\n",
              "    }\n",
              "  </style>\n",
              "\n",
              "      <script>\n",
              "        const buttonEl =\n",
              "          document.querySelector('#df-5e57d1ae-d517-40f9-9d4d-61cae64d9d0c button.colab-df-convert');\n",
              "        buttonEl.style.display =\n",
              "          google.colab.kernel.accessAllowed ? 'block' : 'none';\n",
              "\n",
              "        async function convertToInteractive(key) {\n",
              "          const element = document.querySelector('#df-5e57d1ae-d517-40f9-9d4d-61cae64d9d0c');\n",
              "          const dataTable =\n",
              "            await google.colab.kernel.invokeFunction('convertToInteractive',\n",
              "                                                     [key], {});\n",
              "          if (!dataTable) return;\n",
              "\n",
              "          const docLinkHtml = 'Like what you see? Visit the ' +\n",
              "            '<a target=\"_blank\" href=https://colab.research.google.com/notebooks/data_table.ipynb>data table notebook</a>'\n",
              "            + ' to learn more about interactive tables.';\n",
              "          element.innerHTML = '';\n",
              "          dataTable['output_type'] = 'display_data';\n",
              "          await google.colab.output.renderOutput(dataTable, element);\n",
              "          const docLink = document.createElement('div');\n",
              "          docLink.innerHTML = docLinkHtml;\n",
              "          element.appendChild(docLink);\n",
              "        }\n",
              "      </script>\n",
              "    </div>\n",
              "  </div>\n"
            ]
          },
          "metadata": {},
          "execution_count": 27
        }
      ]
    },
    {
      "cell_type": "markdown",
      "source": [
        "# Extract Month"
      ],
      "metadata": {
        "id": "E3o8TQj-FTI0"
      }
    },
    {
      "cell_type": "code",
      "source": [
        "# Extract Month\n",
        "champ['Month_no'] = champ['Month'].dt.month\n",
        "\n",
        "champ.head()"
      ],
      "metadata": {
        "id": "asX5iWo94wY5",
        "colab": {
          "base_uri": "https://localhost:8080/",
          "height": 206
        },
        "outputId": "f8e35c73-0e28-4ea3-d8d5-9f924e6b7c8d"
      },
      "execution_count": 28,
      "outputs": [
        {
          "output_type": "execute_result",
          "data": {
            "text/plain": [
              "       Month   sales  Month_year  Month_no\n",
              "0 1964-01-01  2815.0        1964         1\n",
              "1 1964-02-01  2672.0        1964         2\n",
              "2 1964-03-01  2755.0        1964         3\n",
              "3 1964-04-01  2721.0        1964         4\n",
              "4 1964-05-01  2946.0        1964         5"
            ],
            "text/html": [
              "\n",
              "\n",
              "  <div id=\"df-a8dd9c38-5308-4cb4-baa6-4f9c562ec860\">\n",
              "    <div class=\"colab-df-container\">\n",
              "      <div>\n",
              "<style scoped>\n",
              "    .dataframe tbody tr th:only-of-type {\n",
              "        vertical-align: middle;\n",
              "    }\n",
              "\n",
              "    .dataframe tbody tr th {\n",
              "        vertical-align: top;\n",
              "    }\n",
              "\n",
              "    .dataframe thead th {\n",
              "        text-align: right;\n",
              "    }\n",
              "</style>\n",
              "<table border=\"1\" class=\"dataframe\">\n",
              "  <thead>\n",
              "    <tr style=\"text-align: right;\">\n",
              "      <th></th>\n",
              "      <th>Month</th>\n",
              "      <th>sales</th>\n",
              "      <th>Month_year</th>\n",
              "      <th>Month_no</th>\n",
              "    </tr>\n",
              "  </thead>\n",
              "  <tbody>\n",
              "    <tr>\n",
              "      <th>0</th>\n",
              "      <td>1964-01-01</td>\n",
              "      <td>2815.0</td>\n",
              "      <td>1964</td>\n",
              "      <td>1</td>\n",
              "    </tr>\n",
              "    <tr>\n",
              "      <th>1</th>\n",
              "      <td>1964-02-01</td>\n",
              "      <td>2672.0</td>\n",
              "      <td>1964</td>\n",
              "      <td>2</td>\n",
              "    </tr>\n",
              "    <tr>\n",
              "      <th>2</th>\n",
              "      <td>1964-03-01</td>\n",
              "      <td>2755.0</td>\n",
              "      <td>1964</td>\n",
              "      <td>3</td>\n",
              "    </tr>\n",
              "    <tr>\n",
              "      <th>3</th>\n",
              "      <td>1964-04-01</td>\n",
              "      <td>2721.0</td>\n",
              "      <td>1964</td>\n",
              "      <td>4</td>\n",
              "    </tr>\n",
              "    <tr>\n",
              "      <th>4</th>\n",
              "      <td>1964-05-01</td>\n",
              "      <td>2946.0</td>\n",
              "      <td>1964</td>\n",
              "      <td>5</td>\n",
              "    </tr>\n",
              "  </tbody>\n",
              "</table>\n",
              "</div>\n",
              "      <button class=\"colab-df-convert\" onclick=\"convertToInteractive('df-a8dd9c38-5308-4cb4-baa6-4f9c562ec860')\"\n",
              "              title=\"Convert this dataframe to an interactive table.\"\n",
              "              style=\"display:none;\">\n",
              "\n",
              "  <svg xmlns=\"http://www.w3.org/2000/svg\" height=\"24px\"viewBox=\"0 0 24 24\"\n",
              "       width=\"24px\">\n",
              "    <path d=\"M0 0h24v24H0V0z\" fill=\"none\"/>\n",
              "    <path d=\"M18.56 5.44l.94 2.06.94-2.06 2.06-.94-2.06-.94-.94-2.06-.94 2.06-2.06.94zm-11 1L8.5 8.5l.94-2.06 2.06-.94-2.06-.94L8.5 2.5l-.94 2.06-2.06.94zm10 10l.94 2.06.94-2.06 2.06-.94-2.06-.94-.94-2.06-.94 2.06-2.06.94z\"/><path d=\"M17.41 7.96l-1.37-1.37c-.4-.4-.92-.59-1.43-.59-.52 0-1.04.2-1.43.59L10.3 9.45l-7.72 7.72c-.78.78-.78 2.05 0 2.83L4 21.41c.39.39.9.59 1.41.59.51 0 1.02-.2 1.41-.59l7.78-7.78 2.81-2.81c.8-.78.8-2.07 0-2.86zM5.41 20L4 18.59l7.72-7.72 1.47 1.35L5.41 20z\"/>\n",
              "  </svg>\n",
              "      </button>\n",
              "\n",
              "\n",
              "\n",
              "    <div id=\"df-439d83af-86d7-4ae2-b2c7-a056fcf93921\">\n",
              "      <button class=\"colab-df-quickchart\" onclick=\"quickchart('df-439d83af-86d7-4ae2-b2c7-a056fcf93921')\"\n",
              "              title=\"Suggest charts.\"\n",
              "              style=\"display:none;\">\n",
              "\n",
              "<svg xmlns=\"http://www.w3.org/2000/svg\" height=\"24px\"viewBox=\"0 0 24 24\"\n",
              "     width=\"24px\">\n",
              "    <g>\n",
              "        <path d=\"M19 3H5c-1.1 0-2 .9-2 2v14c0 1.1.9 2 2 2h14c1.1 0 2-.9 2-2V5c0-1.1-.9-2-2-2zM9 17H7v-7h2v7zm4 0h-2V7h2v10zm4 0h-2v-4h2v4z\"/>\n",
              "    </g>\n",
              "</svg>\n",
              "      </button>\n",
              "    </div>\n",
              "\n",
              "<style>\n",
              "  .colab-df-quickchart {\n",
              "    background-color: #E8F0FE;\n",
              "    border: none;\n",
              "    border-radius: 50%;\n",
              "    cursor: pointer;\n",
              "    display: none;\n",
              "    fill: #1967D2;\n",
              "    height: 32px;\n",
              "    padding: 0 0 0 0;\n",
              "    width: 32px;\n",
              "  }\n",
              "\n",
              "  .colab-df-quickchart:hover {\n",
              "    background-color: #E2EBFA;\n",
              "    box-shadow: 0px 1px 2px rgba(60, 64, 67, 0.3), 0px 1px 3px 1px rgba(60, 64, 67, 0.15);\n",
              "    fill: #174EA6;\n",
              "  }\n",
              "\n",
              "  [theme=dark] .colab-df-quickchart {\n",
              "    background-color: #3B4455;\n",
              "    fill: #D2E3FC;\n",
              "  }\n",
              "\n",
              "  [theme=dark] .colab-df-quickchart:hover {\n",
              "    background-color: #434B5C;\n",
              "    box-shadow: 0px 1px 3px 1px rgba(0, 0, 0, 0.15);\n",
              "    filter: drop-shadow(0px 1px 2px rgba(0, 0, 0, 0.3));\n",
              "    fill: #FFFFFF;\n",
              "  }\n",
              "</style>\n",
              "\n",
              "    <script>\n",
              "      async function quickchart(key) {\n",
              "        const containerElement = document.querySelector('#' + key);\n",
              "        const charts = await google.colab.kernel.invokeFunction(\n",
              "            'suggestCharts', [key], {});\n",
              "      }\n",
              "    </script>\n",
              "\n",
              "      <script>\n",
              "\n",
              "function displayQuickchartButton(domScope) {\n",
              "  let quickchartButtonEl =\n",
              "    domScope.querySelector('#df-439d83af-86d7-4ae2-b2c7-a056fcf93921 button.colab-df-quickchart');\n",
              "  quickchartButtonEl.style.display =\n",
              "    google.colab.kernel.accessAllowed ? 'block' : 'none';\n",
              "}\n",
              "\n",
              "        displayQuickchartButton(document);\n",
              "      </script>\n",
              "      <style>\n",
              "    .colab-df-container {\n",
              "      display:flex;\n",
              "      flex-wrap:wrap;\n",
              "      gap: 12px;\n",
              "    }\n",
              "\n",
              "    .colab-df-convert {\n",
              "      background-color: #E8F0FE;\n",
              "      border: none;\n",
              "      border-radius: 50%;\n",
              "      cursor: pointer;\n",
              "      display: none;\n",
              "      fill: #1967D2;\n",
              "      height: 32px;\n",
              "      padding: 0 0 0 0;\n",
              "      width: 32px;\n",
              "    }\n",
              "\n",
              "    .colab-df-convert:hover {\n",
              "      background-color: #E2EBFA;\n",
              "      box-shadow: 0px 1px 2px rgba(60, 64, 67, 0.3), 0px 1px 3px 1px rgba(60, 64, 67, 0.15);\n",
              "      fill: #174EA6;\n",
              "    }\n",
              "\n",
              "    [theme=dark] .colab-df-convert {\n",
              "      background-color: #3B4455;\n",
              "      fill: #D2E3FC;\n",
              "    }\n",
              "\n",
              "    [theme=dark] .colab-df-convert:hover {\n",
              "      background-color: #434B5C;\n",
              "      box-shadow: 0px 1px 3px 1px rgba(0, 0, 0, 0.15);\n",
              "      filter: drop-shadow(0px 1px 2px rgba(0, 0, 0, 0.3));\n",
              "      fill: #FFFFFF;\n",
              "    }\n",
              "  </style>\n",
              "\n",
              "      <script>\n",
              "        const buttonEl =\n",
              "          document.querySelector('#df-a8dd9c38-5308-4cb4-baa6-4f9c562ec860 button.colab-df-convert');\n",
              "        buttonEl.style.display =\n",
              "          google.colab.kernel.accessAllowed ? 'block' : 'none';\n",
              "\n",
              "        async function convertToInteractive(key) {\n",
              "          const element = document.querySelector('#df-a8dd9c38-5308-4cb4-baa6-4f9c562ec860');\n",
              "          const dataTable =\n",
              "            await google.colab.kernel.invokeFunction('convertToInteractive',\n",
              "                                                     [key], {});\n",
              "          if (!dataTable) return;\n",
              "\n",
              "          const docLinkHtml = 'Like what you see? Visit the ' +\n",
              "            '<a target=\"_blank\" href=https://colab.research.google.com/notebooks/data_table.ipynb>data table notebook</a>'\n",
              "            + ' to learn more about interactive tables.';\n",
              "          element.innerHTML = '';\n",
              "          dataTable['output_type'] = 'display_data';\n",
              "          await google.colab.output.renderOutput(dataTable, element);\n",
              "          const docLink = document.createElement('div');\n",
              "          docLink.innerHTML = docLinkHtml;\n",
              "          element.appendChild(docLink);\n",
              "        }\n",
              "      </script>\n",
              "    </div>\n",
              "  </div>\n"
            ]
          },
          "metadata": {},
          "execution_count": 28
        }
      ]
    },
    {
      "cell_type": "code",
      "source": [
        "plt.scatter(champ['Month_year'],champ['sales'])\n",
        "plt.xlabel(['Month_year'])\n",
        "plt.ylabel(['sales'])"
      ],
      "metadata": {
        "colab": {
          "base_uri": "https://localhost:8080/",
          "height": 467
        },
        "id": "dkg--FQYD4CO",
        "outputId": "48b98fb0-cf22-4ae5-9e81-11bdb991ba5c"
      },
      "execution_count": 29,
      "outputs": [
        {
          "output_type": "execute_result",
          "data": {
            "text/plain": [
              "Text(0, 0.5, \"['sales']\")"
            ]
          },
          "metadata": {},
          "execution_count": 29
        },
        {
          "output_type": "display_data",
          "data": {
            "text/plain": [
              "<Figure size 640x480 with 1 Axes>"
            ],
            "image/png": "[encoded data removed]"
          },
          "metadata": {}
        }
      ]
    },
    {
      "cell_type": "code",
      "source": [
        "plt.scatter(champ['Month_no'],champ['sales'])\n",
        "plt.xlabel(['Month_no'])\n",
        "plt.ylabel(['sales'])"
      ],
      "metadata": {
        "colab": {
          "base_uri": "https://localhost:8080/",
          "height": 467
        },
        "id": "xV5QD-n6En45",
        "outputId": "854c1382-5b0d-49bd-e274-6fb4fd807d60"
      },
      "execution_count": 30,
      "outputs": [
        {
          "output_type": "execute_result",
          "data": {
            "text/plain": [
              "Text(0, 0.5, \"['sales']\")"
            ]
          },
          "metadata": {},
          "execution_count": 30
        },
        {
          "output_type": "display_data",
          "data": {
            "text/plain": [
              "<Figure size 640x480 with 1 Axes>"
            ],
            "image/png": "[encoded data removed]"
          },
          "metadata": {}
        }
      ]
    },
    {
      "cell_type": "code",
      "source": [
        "champ['Month_name'] = champ['Month'].dt.month_name()\n",
        "\n",
        "champ.head()"
      ],
      "metadata": {
        "colab": {
          "base_uri": "https://localhost:8080/",
          "height": 206
        },
        "id": "aykzOtgUE5xf",
        "outputId": "23b9171e-864e-46d0-d244-778267ebff24"
      },
      "execution_count": 31,
      "outputs": [
        {
          "output_type": "execute_result",
          "data": {
            "text/plain": [
              "       Month   sales  Month_year  Month_no Month_name\n",
              "0 1964-01-01  2815.0        1964         1    January\n",
              "1 1964-02-01  2672.0        1964         2   February\n",
              "2 1964-03-01  2755.0        1964         3      March\n",
              "3 1964-04-01  2721.0        1964         4      April\n",
              "4 1964-05-01  2946.0        1964         5        May"
            ],
            "text/html": [
              "\n",
              "\n",
              "  <div id=\"df-2fdd14db-a8fb-42b1-bef0-309f3b9c3a56\">\n",
              "    <div class=\"colab-df-container\">\n",
              "      <div>\n",
              "<style scoped>\n",
              "    .dataframe tbody tr th:only-of-type {\n",
              "        vertical-align: middle;\n",
              "    }\n",
              "\n",
              "    .dataframe tbody tr th {\n",
              "        vertical-align: top;\n",
              "    }\n",
              "\n",
              "    .dataframe thead th {\n",
              "        text-align: right;\n",
              "    }\n",
              "</style>\n",
              "<table border=\"1\" class=\"dataframe\">\n",
              "  <thead>\n",
              "    <tr style=\"text-align: right;\">\n",
              "      <th></th>\n",
              "      <th>Month</th>\n",
              "      <th>sales</th>\n",
              "      <th>Month_year</th>\n",
              "      <th>Month_no</th>\n",
              "      <th>Month_name</th>\n",
              "    </tr>\n",
              "  </thead>\n",
              "  <tbody>\n",
              "    <tr>\n",
              "      <th>0</th>\n",
              "      <td>1964-01-01</td>\n",
              "      <td>2815.0</td>\n",
              "      <td>1964</td>\n",
              "      <td>1</td>\n",
              "      <td>January</td>\n",
              "    </tr>\n",
              "    <tr>\n",
              "      <th>1</th>\n",
              "      <td>1964-02-01</td>\n",
              "      <td>2672.0</td>\n",
              "      <td>1964</td>\n",
              "      <td>2</td>\n",
              "      <td>February</td>\n",
              "    </tr>\n",
              "    <tr>\n",
              "      <th>2</th>\n",
              "      <td>1964-03-01</td>\n",
              "      <td>2755.0</td>\n",
              "      <td>1964</td>\n",
              "      <td>3</td>\n",
              "      <td>March</td>\n",
              "    </tr>\n",
              "    <tr>\n",
              "      <th>3</th>\n",
              "      <td>1964-04-01</td>\n",
              "      <td>2721.0</td>\n",
              "      <td>1964</td>\n",
              "      <td>4</td>\n",
              "      <td>April</td>\n",
              "    </tr>\n",
              "    <tr>\n",
              "      <th>4</th>\n",
              "      <td>1964-05-01</td>\n",
              "      <td>2946.0</td>\n",
              "      <td>1964</td>\n",
              "      <td>5</td>\n",
              "      <td>May</td>\n",
              "    </tr>\n",
              "  </tbody>\n",
              "</table>\n",
              "</div>\n",
              "      <button class=\"colab-df-convert\" onclick=\"convertToInteractive('df-2fdd14db-a8fb-42b1-bef0-309f3b9c3a56')\"\n",
              "              title=\"Convert this dataframe to an interactive table.\"\n",
              "              style=\"display:none;\">\n",
              "\n",
              "  <svg xmlns=\"http://www.w3.org/2000/svg\" height=\"24px\"viewBox=\"0 0 24 24\"\n",
              "       width=\"24px\">\n",
              "    <path d=\"M0 0h24v24H0V0z\" fill=\"none\"/>\n",
              "    <path d=\"M18.56 5.44l.94 2.06.94-2.06 2.06-.94-2.06-.94-.94-2.06-.94 2.06-2.06.94zm-11 1L8.5 8.5l.94-2.06 2.06-.94-2.06-.94L8.5 2.5l-.94 2.06-2.06.94zm10 10l.94 2.06.94-2.06 2.06-.94-2.06-.94-.94-2.06-.94 2.06-2.06.94z\"/><path d=\"M17.41 7.96l-1.37-1.37c-.4-.4-.92-.59-1.43-.59-.52 0-1.04.2-1.43.59L10.3 9.45l-7.72 7.72c-.78.78-.78 2.05 0 2.83L4 21.41c.39.39.9.59 1.41.59.51 0 1.02-.2 1.41-.59l7.78-7.78 2.81-2.81c.8-.78.8-2.07 0-2.86zM5.41 20L4 18.59l7.72-7.72 1.47 1.35L5.41 20z\"/>\n",
              "  </svg>\n",
              "      </button>\n",
              "\n",
              "\n",
              "\n",
              "    <div id=\"df-35aa9e36-0390-4c09-be8e-1d17cee98306\">\n",
              "      <button class=\"colab-df-quickchart\" onclick=\"quickchart('df-35aa9e36-0390-4c09-be8e-1d17cee98306')\"\n",
              "              title=\"Suggest charts.\"\n",
              "              style=\"display:none;\">\n",
              "\n",
              "<svg xmlns=\"http://www.w3.org/2000/svg\" height=\"24px\"viewBox=\"0 0 24 24\"\n",
              "     width=\"24px\">\n",
              "    <g>\n",
              "        <path d=\"M19 3H5c-1.1 0-2 .9-2 2v14c0 1.1.9 2 2 2h14c1.1 0 2-.9 2-2V5c0-1.1-.9-2-2-2zM9 17H7v-7h2v7zm4 0h-2V7h2v10zm4 0h-2v-4h2v4z\"/>\n",
              "    </g>\n",
              "</svg>\n",
              "      </button>\n",
              "    </div>\n",
              "\n",
              "<style>\n",
              "  .colab-df-quickchart {\n",
              "    background-color: #E8F0FE;\n",
              "    border: none;\n",
              "    border-radius: 50%;\n",
              "    cursor: pointer;\n",
              "    display: none;\n",
              "    fill: #1967D2;\n",
              "    height: 32px;\n",
              "    padding: 0 0 0 0;\n",
              "    width: 32px;\n",
              "  }\n",
              "\n",
              "  .colab-df-quickchart:hover {\n",
              "    background-color: #E2EBFA;\n",
              "    box-shadow: 0px 1px 2px rgba(60, 64, 67, 0.3), 0px 1px 3px 1px rgba(60, 64, 67, 0.15);\n",
              "    fill: #174EA6;\n",
              "  }\n",
              "\n",
              "  [theme=dark] .colab-df-quickchart {\n",
              "    background-color: #3B4455;\n",
              "    fill: #D2E3FC;\n",
              "  }\n",
              "\n",
              "  [theme=dark] .colab-df-quickchart:hover {\n",
              "    background-color: #434B5C;\n",
              "    box-shadow: 0px 1px 3px 1px rgba(0, 0, 0, 0.15);\n",
              "    filter: drop-shadow(0px 1px 2px rgba(0, 0, 0, 0.3));\n",
              "    fill: #FFFFFF;\n",
              "  }\n",
              "</style>\n",
              "\n",
              "    <script>\n",
              "      async function quickchart(key) {\n",
              "        const containerElement = document.querySelector('#' + key);\n",
              "        const charts = await google.colab.kernel.invokeFunction(\n",
              "            'suggestCharts', [key], {});\n",
              "      }\n",
              "    </script>\n",
              "\n",
              "      <script>\n",
              "\n",
              "function displayQuickchartButton(domScope) {\n",
              "  let quickchartButtonEl =\n",
              "    domScope.querySelector('#df-35aa9e36-0390-4c09-be8e-1d17cee98306 button.colab-df-quickchart');\n",
              "  quickchartButtonEl.style.display =\n",
              "    google.colab.kernel.accessAllowed ? 'block' : 'none';\n",
              "}\n",
              "\n",
              "        displayQuickchartButton(document);\n",
              "      </script>\n",
              "      <style>\n",
              "    .colab-df-container {\n",
              "      display:flex;\n",
              "      flex-wrap:wrap;\n",
              "      gap: 12px;\n",
              "    }\n",
              "\n",
              "    .colab-df-convert {\n",
              "      background-color: #E8F0FE;\n",
              "      border: none;\n",
              "      border-radius: 50%;\n",
              "      cursor: pointer;\n",
              "      display: none;\n",
              "      fill: #1967D2;\n",
              "      height: 32px;\n",
              "      padding: 0 0 0 0;\n",
              "      width: 32px;\n",
              "    }\n",
              "\n",
              "    .colab-df-convert:hover {\n",
              "      background-color: #E2EBFA;\n",
              "      box-shadow: 0px 1px 2px rgba(60, 64, 67, 0.3), 0px 1px 3px 1px rgba(60, 64, 67, 0.15);\n",
              "      fill: #174EA6;\n",
              "    }\n",
              "\n",
              "    [theme=dark] .colab-df-convert {\n",
              "      background-color: #3B4455;\n",
              "      fill: #D2E3FC;\n",
              "    }\n",
              "\n",
              "    [theme=dark] .colab-df-convert:hover {\n",
              "      background-color: #434B5C;\n",
              "      box-shadow: 0px 1px 3px 1px rgba(0, 0, 0, 0.15);\n",
              "      filter: drop-shadow(0px 1px 2px rgba(0, 0, 0, 0.3));\n",
              "      fill: #FFFFFF;\n",
              "    }\n",
              "  </style>\n",
              "\n",
              "      <script>\n",
              "        const buttonEl =\n",
              "          document.querySelector('#df-2fdd14db-a8fb-42b1-bef0-309f3b9c3a56 button.colab-df-convert');\n",
              "        buttonEl.style.display =\n",
              "          google.colab.kernel.accessAllowed ? 'block' : 'none';\n",
              "\n",
              "        async function convertToInteractive(key) {\n",
              "          const element = document.querySelector('#df-2fdd14db-a8fb-42b1-bef0-309f3b9c3a56');\n",
              "          const dataTable =\n",
              "            await google.colab.kernel.invokeFunction('convertToInteractive',\n",
              "                                                     [key], {});\n",
              "          if (!dataTable) return;\n",
              "\n",
              "          const docLinkHtml = 'Like what you see? Visit the ' +\n",
              "            '<a target=\"_blank\" href=https://colab.research.google.com/notebooks/data_table.ipynb>data table notebook</a>'\n",
              "            + ' to learn more about interactive tables.';\n",
              "          element.innerHTML = '';\n",
              "          dataTable['output_type'] = 'display_data';\n",
              "          await google.colab.output.renderOutput(dataTable, element);\n",
              "          const docLink = document.createElement('div');\n",
              "          docLink.innerHTML = docLinkHtml;\n",
              "          element.appendChild(docLink);\n",
              "        }\n",
              "      </script>\n",
              "    </div>\n",
              "  </div>\n"
            ]
          },
          "metadata": {},
          "execution_count": 31
        }
      ]
    },
    {
      "cell_type": "markdown",
      "source": [
        "#Extract Days"
      ],
      "metadata": {
        "id": "VFGQPwtnFiSP"
      }
    },
    {
      "cell_type": "code",
      "source": [
        "#Extract Days\n",
        "champ['Month_day'] = champ['Month'].dt.day\n",
        "\n",
        "champ.head()"
      ],
      "metadata": {
        "colab": {
          "base_uri": "https://localhost:8080/",
          "height": 206
        },
        "id": "bJ7j5tgtFa7m",
        "outputId": "f1cb8ecb-a28a-468d-a863-d1c5dc259ea2"
      },
      "execution_count": 32,
      "outputs": [
        {
          "output_type": "execute_result",
          "data": {
            "text/plain": [
              "       Month   sales  Month_year  Month_no Month_name  Month_day\n",
              "0 1964-01-01  2815.0        1964         1    January          1\n",
              "1 1964-02-01  2672.0        1964         2   February          1\n",
              "2 1964-03-01  2755.0        1964         3      March          1\n",
              "3 1964-04-01  2721.0        1964         4      April          1\n",
              "4 1964-05-01  2946.0        1964         5        May          1"
            ],
            "text/html": [
              "\n",
              "\n",
              "  <div id=\"df-9ad04aa2-602b-4298-b41c-d82a2ad3b4e3\">\n",
              "    <div class=\"colab-df-container\">\n",
              "      <div>\n",
              "<style scoped>\n",
              "    .dataframe tbody tr th:only-of-type {\n",
              "        vertical-align: middle;\n",
              "    }\n",
              "\n",
              "    .dataframe tbody tr th {\n",
              "        vertical-align: top;\n",
              "    }\n",
              "\n",
              "    .dataframe thead th {\n",
              "        text-align: right;\n",
              "    }\n",
              "</style>\n",
              "<table border=\"1\" class=\"dataframe\">\n",
              "  <thead>\n",
              "    <tr style=\"text-align: right;\">\n",
              "      <th></th>\n",
              "      <th>Month</th>\n",
              "      <th>sales</th>\n",
              "      <th>Month_year</th>\n",
              "      <th>Month_no</th>\n",
              "      <th>Month_name</th>\n",
              "      <th>Month_day</th>\n",
              "    </tr>\n",
              "  </thead>\n",
              "  <tbody>\n",
              "    <tr>\n",
              "      <th>0</th>\n",
              "      <td>1964-01-01</td>\n",
              "      <td>2815.0</td>\n",
              "      <td>1964</td>\n",
              "      <td>1</td>\n",
              "      <td>January</td>\n",
              "      <td>1</td>\n",
              "    </tr>\n",
              "    <tr>\n",
              "      <th>1</th>\n",
              "      <td>1964-02-01</td>\n",
              "      <td>2672.0</td>\n",
              "      <td>1964</td>\n",
              "      <td>2</td>\n",
              "      <td>February</td>\n",
              "      <td>1</td>\n",
              "    </tr>\n",
              "    <tr>\n",
              "      <th>2</th>\n",
              "      <td>1964-03-01</td>\n",
              "      <td>2755.0</td>\n",
              "      <td>1964</td>\n",
              "      <td>3</td>\n",
              "      <td>March</td>\n",
              "      <td>1</td>\n",
              "    </tr>\n",
              "    <tr>\n",
              "      <th>3</th>\n",
              "      <td>1964-04-01</td>\n",
              "      <td>2721.0</td>\n",
              "      <td>1964</td>\n",
              "      <td>4</td>\n",
              "      <td>April</td>\n",
              "      <td>1</td>\n",
              "    </tr>\n",
              "    <tr>\n",
              "      <th>4</th>\n",
              "      <td>1964-05-01</td>\n",
              "      <td>2946.0</td>\n",
              "      <td>1964</td>\n",
              "      <td>5</td>\n",
              "      <td>May</td>\n",
              "      <td>1</td>\n",
              "    </tr>\n",
              "  </tbody>\n",
              "</table>\n",
              "</div>\n",
              "      <button class=\"colab-df-convert\" onclick=\"convertToInteractive('df-9ad04aa2-602b-4298-b41c-d82a2ad3b4e3')\"\n",
              "              title=\"Convert this dataframe to an interactive table.\"\n",
              "              style=\"display:none;\">\n",
              "\n",
              "  <svg xmlns=\"http://www.w3.org/2000/svg\" height=\"24px\"viewBox=\"0 0 24 24\"\n",
              "       width=\"24px\">\n",
              "    <path d=\"M0 0h24v24H0V0z\" fill=\"none\"/>\n",
              "    <path d=\"M18.56 5.44l.94 2.06.94-2.06 2.06-.94-2.06-.94-.94-2.06-.94 2.06-2.06.94zm-11 1L8.5 8.5l.94-2.06 2.06-.94-2.06-.94L8.5 2.5l-.94 2.06-2.06.94zm10 10l.94 2.06.94-2.06 2.06-.94-2.06-.94-.94-2.06-.94 2.06-2.06.94z\"/><path d=\"M17.41 7.96l-1.37-1.37c-.4-.4-.92-.59-1.43-.59-.52 0-1.04.2-1.43.59L10.3 9.45l-7.72 7.72c-.78.78-.78 2.05 0 2.83L4 21.41c.39.39.9.59 1.41.59.51 0 1.02-.2 1.41-.59l7.78-7.78 2.81-2.81c.8-.78.8-2.07 0-2.86zM5.41 20L4 18.59l7.72-7.72 1.47 1.35L5.41 20z\"/>\n",
              "  </svg>\n",
              "      </button>\n",
              "\n",
              "\n",
              "\n",
              "    <div id=\"df-b3668b09-52a5-4b77-9e47-8aba0e28e6d7\">\n",
              "      <button class=\"colab-df-quickchart\" onclick=\"quickchart('df-b3668b09-52a5-4b77-9e47-8aba0e28e6d7')\"\n",
              "              title=\"Suggest charts.\"\n",
              "              style=\"display:none;\">\n",
              "\n",
              "<svg xmlns=\"http://www.w3.org/2000/svg\" height=\"24px\"viewBox=\"0 0 24 24\"\n",
              "     width=\"24px\">\n",
              "    <g>\n",
              "        <path d=\"M19 3H5c-1.1 0-2 .9-2 2v14c0 1.1.9 2 2 2h14c1.1 0 2-.9 2-2V5c0-1.1-.9-2-2-2zM9 17H7v-7h2v7zm4 0h-2V7h2v10zm4 0h-2v-4h2v4z\"/>\n",
              "    </g>\n",
              "</svg>\n",
              "      </button>\n",
              "    </div>\n",
              "\n",
              "<style>\n",
              "  .colab-df-quickchart {\n",
              "    background-color: #E8F0FE;\n",
              "    border: none;\n",
              "    border-radius: 50%;\n",
              "    cursor: pointer;\n",
              "    display: none;\n",
              "    fill: #1967D2;\n",
              "    height: 32px;\n",
              "    padding: 0 0 0 0;\n",
              "    width: 32px;\n",
              "  }\n",
              "\n",
              "  .colab-df-quickchart:hover {\n",
              "    background-color: #E2EBFA;\n",
              "    box-shadow: 0px 1px 2px rgba(60, 64, 67, 0.3), 0px 1px 3px 1px rgba(60, 64, 67, 0.15);\n",
              "    fill: #174EA6;\n",
              "  }\n",
              "\n",
              "  [theme=dark] .colab-df-quickchart {\n",
              "    background-color: #3B4455;\n",
              "    fill: #D2E3FC;\n",
              "  }\n",
              "\n",
              "  [theme=dark] .colab-df-quickchart:hover {\n",
              "    background-color: #434B5C;\n",
              "    box-shadow: 0px 1px 3px 1px rgba(0, 0, 0, 0.15);\n",
              "    filter: drop-shadow(0px 1px 2px rgba(0, 0, 0, 0.3));\n",
              "    fill: #FFFFFF;\n",
              "  }\n",
              "</style>\n",
              "\n",
              "    <script>\n",
              "      async function quickchart(key) {\n",
              "        const containerElement = document.querySelector('#' + key);\n",
              "        const charts = await google.colab.kernel.invokeFunction(\n",
              "            'suggestCharts', [key], {});\n",
              "      }\n",
              "    </script>\n",
              "\n",
              "      <script>\n",
              "\n",
              "function displayQuickchartButton(domScope) {\n",
              "  let quickchartButtonEl =\n",
              "    domScope.querySelector('#df-b3668b09-52a5-4b77-9e47-8aba0e28e6d7 button.colab-df-quickchart');\n",
              "  quickchartButtonEl.style.display =\n",
              "    google.colab.kernel.accessAllowed ? 'block' : 'none';\n",
              "}\n",
              "\n",
              "        displayQuickchartButton(document);\n",
              "      </script>\n",
              "      <style>\n",
              "    .colab-df-container {\n",
              "      display:flex;\n",
              "      flex-wrap:wrap;\n",
              "      gap: 12px;\n",
              "    }\n",
              "\n",
              "    .colab-df-convert {\n",
              "      background-color: #E8F0FE;\n",
              "      border: none;\n",
              "      border-radius: 50%;\n",
              "      cursor: pointer;\n",
              "      display: none;\n",
              "      fill: #1967D2;\n",
              "      height: 32px;\n",
              "      padding: 0 0 0 0;\n",
              "      width: 32px;\n",
              "    }\n",
              "\n",
              "    .colab-df-convert:hover {\n",
              "      background-color: #E2EBFA;\n",
              "      box-shadow: 0px 1px 2px rgba(60, 64, 67, 0.3), 0px 1px 3px 1px rgba(60, 64, 67, 0.15);\n",
              "      fill: #174EA6;\n",
              "    }\n",
              "\n",
              "    [theme=dark] .colab-df-convert {\n",
              "      background-color: #3B4455;\n",
              "      fill: #D2E3FC;\n",
              "    }\n",
              "\n",
              "    [theme=dark] .colab-df-convert:hover {\n",
              "      background-color: #434B5C;\n",
              "      box-shadow: 0px 1px 3px 1px rgba(0, 0, 0, 0.15);\n",
              "      filter: drop-shadow(0px 1px 2px rgba(0, 0, 0, 0.3));\n",
              "      fill: #FFFFFF;\n",
              "    }\n",
              "  </style>\n",
              "\n",
              "      <script>\n",
              "        const buttonEl =\n",
              "          document.querySelector('#df-9ad04aa2-602b-4298-b41c-d82a2ad3b4e3 button.colab-df-convert');\n",
              "        buttonEl.style.display =\n",
              "          google.colab.kernel.accessAllowed ? 'block' : 'none';\n",
              "\n",
              "        async function convertToInteractive(key) {\n",
              "          const element = document.querySelector('#df-9ad04aa2-602b-4298-b41c-d82a2ad3b4e3');\n",
              "          const dataTable =\n",
              "            await google.colab.kernel.invokeFunction('convertToInteractive',\n",
              "                                                     [key], {});\n",
              "          if (!dataTable) return;\n",
              "\n",
              "          const docLinkHtml = 'Like what you see? Visit the ' +\n",
              "            '<a target=\"_blank\" href=https://colab.research.google.com/notebooks/data_table.ipynb>data table notebook</a>'\n",
              "            + ' to learn more about interactive tables.';\n",
              "          element.innerHTML = '';\n",
              "          dataTable['output_type'] = 'display_data';\n",
              "          await google.colab.output.renderOutput(dataTable, element);\n",
              "          const docLink = document.createElement('div');\n",
              "          docLink.innerHTML = docLinkHtml;\n",
              "          element.appendChild(docLink);\n",
              "        }\n",
              "      </script>\n",
              "    </div>\n",
              "  </div>\n"
            ]
          },
          "metadata": {},
          "execution_count": 32
        }
      ]
    },
    {
      "cell_type": "code",
      "source": [
        "# day of week - name\n",
        "\n",
        "champ['Month_dow_name'] = champ['Month'].dt.day_name()\n",
        "\n",
        "champ.head()"
      ],
      "metadata": {
        "colab": {
          "base_uri": "https://localhost:8080/",
          "height": 206
        },
        "id": "qdvNHhRqGCVX",
        "outputId": "6b8956f2-88f5-4c6f-f209-3e1b1bf34f5b"
      },
      "execution_count": 33,
      "outputs": [
        {
          "output_type": "execute_result",
          "data": {
            "text/plain": [
              "       Month   sales  Month_year  Month_no Month_name  Month_day  \\\n",
              "0 1964-01-01  2815.0        1964         1    January          1   \n",
              "1 1964-02-01  2672.0        1964         2   February          1   \n",
              "2 1964-03-01  2755.0        1964         3      March          1   \n",
              "3 1964-04-01  2721.0        1964         4      April          1   \n",
              "4 1964-05-01  2946.0        1964         5        May          1   \n",
              "\n",
              "  Month_dow_name  \n",
              "0      Wednesday  \n",
              "1       Saturday  \n",
              "2         Sunday  \n",
              "3      Wednesday  \n",
              "4         Friday  "
            ],
            "text/html": [
              "\n",
              "\n",
              "  <div id=\"df-f9182a27-77b7-441f-807f-96f631fd1f8e\">\n",
              "    <div class=\"colab-df-container\">\n",
              "      <div>\n",
              "<style scoped>\n",
              "    .dataframe tbody tr th:only-of-type {\n",
              "        vertical-align: middle;\n",
              "    }\n",
              "\n",
              "    .dataframe tbody tr th {\n",
              "        vertical-align: top;\n",
              "    }\n",
              "\n",
              "    .dataframe thead th {\n",
              "        text-align: right;\n",
              "    }\n",
              "</style>\n",
              "<table border=\"1\" class=\"dataframe\">\n",
              "  <thead>\n",
              "    <tr style=\"text-align: right;\">\n",
              "      <th></th>\n",
              "      <th>Month</th>\n",
              "      <th>sales</th>\n",
              "      <th>Month_year</th>\n",
              "      <th>Month_no</th>\n",
              "      <th>Month_name</th>\n",
              "      <th>Month_day</th>\n",
              "      <th>Month_dow_name</th>\n",
              "    </tr>\n",
              "  </thead>\n",
              "  <tbody>\n",
              "    <tr>\n",
              "      <th>0</th>\n",
              "      <td>1964-01-01</td>\n",
              "      <td>2815.0</td>\n",
              "      <td>1964</td>\n",
              "      <td>1</td>\n",
              "      <td>January</td>\n",
              "      <td>1</td>\n",
              "      <td>Wednesday</td>\n",
              "    </tr>\n",
              "    <tr>\n",
              "      <th>1</th>\n",
              "      <td>1964-02-01</td>\n",
              "      <td>2672.0</td>\n",
              "      <td>1964</td>\n",
              "      <td>2</td>\n",
              "      <td>February</td>\n",
              "      <td>1</td>\n",
              "      <td>Saturday</td>\n",
              "    </tr>\n",
              "    <tr>\n",
              "      <th>2</th>\n",
              "      <td>1964-03-01</td>\n",
              "      <td>2755.0</td>\n",
              "      <td>1964</td>\n",
              "      <td>3</td>\n",
              "      <td>March</td>\n",
              "      <td>1</td>\n",
              "      <td>Sunday</td>\n",
              "    </tr>\n",
              "    <tr>\n",
              "      <th>3</th>\n",
              "      <td>1964-04-01</td>\n",
              "      <td>2721.0</td>\n",
              "      <td>1964</td>\n",
              "      <td>4</td>\n",
              "      <td>April</td>\n",
              "      <td>1</td>\n",
              "      <td>Wednesday</td>\n",
              "    </tr>\n",
              "    <tr>\n",
              "      <th>4</th>\n",
              "      <td>1964-05-01</td>\n",
              "      <td>2946.0</td>\n",
              "      <td>1964</td>\n",
              "      <td>5</td>\n",
              "      <td>May</td>\n",
              "      <td>1</td>\n",
              "      <td>Friday</td>\n",
              "    </tr>\n",
              "  </tbody>\n",
              "</table>\n",
              "</div>\n",
              "      <button class=\"colab-df-convert\" onclick=\"convertToInteractive('df-f9182a27-77b7-441f-807f-96f631fd1f8e')\"\n",
              "              title=\"Convert this dataframe to an interactive table.\"\n",
              "              style=\"display:none;\">\n",
              "\n",
              "  <svg xmlns=\"http://www.w3.org/2000/svg\" height=\"24px\"viewBox=\"0 0 24 24\"\n",
              "       width=\"24px\">\n",
              "    <path d=\"M0 0h24v24H0V0z\" fill=\"none\"/>\n",
              "    <path d=\"M18.56 5.44l.94 2.06.94-2.06 2.06-.94-2.06-.94-.94-2.06-.94 2.06-2.06.94zm-11 1L8.5 8.5l.94-2.06 2.06-.94-2.06-.94L8.5 2.5l-.94 2.06-2.06.94zm10 10l.94 2.06.94-2.06 2.06-.94-2.06-.94-.94-2.06-.94 2.06-2.06.94z\"/><path d=\"M17.41 7.96l-1.37-1.37c-.4-.4-.92-.59-1.43-.59-.52 0-1.04.2-1.43.59L10.3 9.45l-7.72 7.72c-.78.78-.78 2.05 0 2.83L4 21.41c.39.39.9.59 1.41.59.51 0 1.02-.2 1.41-.59l7.78-7.78 2.81-2.81c.8-.78.8-2.07 0-2.86zM5.41 20L4 18.59l7.72-7.72 1.47 1.35L5.41 20z\"/>\n",
              "  </svg>\n",
              "      </button>\n",
              "\n",
              "\n",
              "\n",
              "    <div id=\"df-fe344df0-9e68-4e9d-b2d1-ca9585800b1a\">\n",
              "      <button class=\"colab-df-quickchart\" onclick=\"quickchart('df-fe344df0-9e68-4e9d-b2d1-ca9585800b1a')\"\n",
              "              title=\"Suggest charts.\"\n",
              "              style=\"display:none;\">\n",
              "\n",
              "<svg xmlns=\"http://www.w3.org/2000/svg\" height=\"24px\"viewBox=\"0 0 24 24\"\n",
              "     width=\"24px\">\n",
              "    <g>\n",
              "        <path d=\"M19 3H5c-1.1 0-2 .9-2 2v14c0 1.1.9 2 2 2h14c1.1 0 2-.9 2-2V5c0-1.1-.9-2-2-2zM9 17H7v-7h2v7zm4 0h-2V7h2v10zm4 0h-2v-4h2v4z\"/>\n",
              "    </g>\n",
              "</svg>\n",
              "      </button>\n",
              "    </div>\n",
              "\n",
              "<style>\n",
              "  .colab-df-quickchart {\n",
              "    background-color: #E8F0FE;\n",
              "    border: none;\n",
              "    border-radius: 50%;\n",
              "    cursor: pointer;\n",
              "    display: none;\n",
              "    fill: #1967D2;\n",
              "    height: 32px;\n",
              "    padding: 0 0 0 0;\n",
              "    width: 32px;\n",
              "  }\n",
              "\n",
              "  .colab-df-quickchart:hover {\n",
              "    background-color: #E2EBFA;\n",
              "    box-shadow: 0px 1px 2px rgba(60, 64, 67, 0.3), 0px 1px 3px 1px rgba(60, 64, 67, 0.15);\n",
              "    fill: #174EA6;\n",
              "  }\n",
              "\n",
              "  [theme=dark] .colab-df-quickchart {\n",
              "    background-color: #3B4455;\n",
              "    fill: #D2E3FC;\n",
              "  }\n",
              "\n",
              "  [theme=dark] .colab-df-quickchart:hover {\n",
              "    background-color: #434B5C;\n",
              "    box-shadow: 0px 1px 3px 1px rgba(0, 0, 0, 0.15);\n",
              "    filter: drop-shadow(0px 1px 2px rgba(0, 0, 0, 0.3));\n",
              "    fill: #FFFFFF;\n",
              "  }\n",
              "</style>\n",
              "\n",
              "    <script>\n",
              "      async function quickchart(key) {\n",
              "        const containerElement = document.querySelector('#' + key);\n",
              "        const charts = await google.colab.kernel.invokeFunction(\n",
              "            'suggestCharts', [key], {});\n",
              "      }\n",
              "    </script>\n",
              "\n",
              "      <script>\n",
              "\n",
              "function displayQuickchartButton(domScope) {\n",
              "  let quickchartButtonEl =\n",
              "    domScope.querySelector('#df-fe344df0-9e68-4e9d-b2d1-ca9585800b1a button.colab-df-quickchart');\n",
              "  quickchartButtonEl.style.display =\n",
              "    google.colab.kernel.accessAllowed ? 'block' : 'none';\n",
              "}\n",
              "\n",
              "        displayQuickchartButton(document);\n",
              "      </script>\n",
              "      <style>\n",
              "    .colab-df-container {\n",
              "      display:flex;\n",
              "      flex-wrap:wrap;\n",
              "      gap: 12px;\n",
              "    }\n",
              "\n",
              "    .colab-df-convert {\n",
              "      background-color: #E8F0FE;\n",
              "      border: none;\n",
              "      border-radius: 50%;\n",
              "      cursor: pointer;\n",
              "      display: none;\n",
              "      fill: #1967D2;\n",
              "      height: 32px;\n",
              "      padding: 0 0 0 0;\n",
              "      width: 32px;\n",
              "    }\n",
              "\n",
              "    .colab-df-convert:hover {\n",
              "      background-color: #E2EBFA;\n",
              "      box-shadow: 0px 1px 2px rgba(60, 64, 67, 0.3), 0px 1px 3px 1px rgba(60, 64, 67, 0.15);\n",
              "      fill: #174EA6;\n",
              "    }\n",
              "\n",
              "    [theme=dark] .colab-df-convert {\n",
              "      background-color: #3B4455;\n",
              "      fill: #D2E3FC;\n",
              "    }\n",
              "\n",
              "    [theme=dark] .colab-df-convert:hover {\n",
              "      background-color: #434B5C;\n",
              "      box-shadow: 0px 1px 3px 1px rgba(0, 0, 0, 0.15);\n",
              "      filter: drop-shadow(0px 1px 2px rgba(0, 0, 0, 0.3));\n",
              "      fill: #FFFFFF;\n",
              "    }\n",
              "  </style>\n",
              "\n",
              "      <script>\n",
              "        const buttonEl =\n",
              "          document.querySelector('#df-f9182a27-77b7-441f-807f-96f631fd1f8e button.colab-df-convert');\n",
              "        buttonEl.style.display =\n",
              "          google.colab.kernel.accessAllowed ? 'block' : 'none';\n",
              "\n",
              "        async function convertToInteractive(key) {\n",
              "          const element = document.querySelector('#df-f9182a27-77b7-441f-807f-96f631fd1f8e');\n",
              "          const dataTable =\n",
              "            await google.colab.kernel.invokeFunction('convertToInteractive',\n",
              "                                                     [key], {});\n",
              "          if (!dataTable) return;\n",
              "\n",
              "          const docLinkHtml = 'Like what you see? Visit the ' +\n",
              "            '<a target=\"_blank\" href=https://colab.research.google.com/notebooks/data_table.ipynb>data table notebook</a>'\n",
              "            + ' to learn more about interactive tables.';\n",
              "          element.innerHTML = '';\n",
              "          dataTable['output_type'] = 'display_data';\n",
              "          await google.colab.output.renderOutput(dataTable, element);\n",
              "          const docLink = document.createElement('div');\n",
              "          docLink.innerHTML = docLinkHtml;\n",
              "          element.appendChild(docLink);\n",
              "        }\n",
              "      </script>\n",
              "    </div>\n",
              "  </div>\n"
            ]
          },
          "metadata": {},
          "execution_count": 33
        }
      ]
    },
    {
      "cell_type": "code",
      "source": [
        "# is weekend?\n",
        "\n",
        "champ['date_is_weekend'] = np.where(champ['Month_dow_name'].isin(['Sunday', 'Saturday']), 1,0)\n",
        "\n",
        "champ.head()"
      ],
      "metadata": {
        "colab": {
          "base_uri": "https://localhost:8080/",
          "height": 206
        },
        "id": "Xgc3ohXFHyDn",
        "outputId": "be8b5bfd-1a19-4f0f-ce87-913940dafc96"
      },
      "execution_count": 34,
      "outputs": [
        {
          "output_type": "execute_result",
          "data": {
            "text/plain": [
              "       Month   sales  Month_year  Month_no Month_name  Month_day  \\\n",
              "0 1964-01-01  2815.0        1964         1    January          1   \n",
              "1 1964-02-01  2672.0        1964         2   February          1   \n",
              "2 1964-03-01  2755.0        1964         3      March          1   \n",
              "3 1964-04-01  2721.0        1964         4      April          1   \n",
              "4 1964-05-01  2946.0        1964         5        May          1   \n",
              "\n",
              "  Month_dow_name  date_is_weekend  \n",
              "0      Wednesday                0  \n",
              "1       Saturday                1  \n",
              "2         Sunday                1  \n",
              "3      Wednesday                0  \n",
              "4         Friday                0  "
            ],
            "text/html": [
              "\n",
              "\n",
              "  <div id=\"df-bc41856f-801e-424a-8f36-9a4993f4fcb9\">\n",
              "    <div class=\"colab-df-container\">\n",
              "      <div>\n",
              "<style scoped>\n",
              "    .dataframe tbody tr th:only-of-type {\n",
              "        vertical-align: middle;\n",
              "    }\n",
              "\n",
              "    .dataframe tbody tr th {\n",
              "        vertical-align: top;\n",
              "    }\n",
              "\n",
              "    .dataframe thead th {\n",
              "        text-align: right;\n",
              "    }\n",
              "</style>\n",
              "<table border=\"1\" class=\"dataframe\">\n",
              "  <thead>\n",
              "    <tr style=\"text-align: right;\">\n",
              "      <th></th>\n",
              "      <th>Month</th>\n",
              "      <th>sales</th>\n",
              "      <th>Month_year</th>\n",
              "      <th>Month_no</th>\n",
              "      <th>Month_name</th>\n",
              "      <th>Month_day</th>\n",
              "      <th>Month_dow_name</th>\n",
              "      <th>date_is_weekend</th>\n",
              "    </tr>\n",
              "  </thead>\n",
              "  <tbody>\n",
              "    <tr>\n",
              "      <th>0</th>\n",
              "      <td>1964-01-01</td>\n",
              "      <td>2815.0</td>\n",
              "      <td>1964</td>\n",
              "      <td>1</td>\n",
              "      <td>January</td>\n",
              "      <td>1</td>\n",
              "      <td>Wednesday</td>\n",
              "      <td>0</td>\n",
              "    </tr>\n",
              "    <tr>\n",
              "      <th>1</th>\n",
              "      <td>1964-02-01</td>\n",
              "      <td>2672.0</td>\n",
              "      <td>1964</td>\n",
              "      <td>2</td>\n",
              "      <td>February</td>\n",
              "      <td>1</td>\n",
              "      <td>Saturday</td>\n",
              "      <td>1</td>\n",
              "    </tr>\n",
              "    <tr>\n",
              "      <th>2</th>\n",
              "      <td>1964-03-01</td>\n",
              "      <td>2755.0</td>\n",
              "      <td>1964</td>\n",
              "      <td>3</td>\n",
              "      <td>March</td>\n",
              "      <td>1</td>\n",
              "      <td>Sunday</td>\n",
              "      <td>1</td>\n",
              "    </tr>\n",
              "    <tr>\n",
              "      <th>3</th>\n",
              "      <td>1964-04-01</td>\n",
              "      <td>2721.0</td>\n",
              "      <td>1964</td>\n",
              "      <td>4</td>\n",
              "      <td>April</td>\n",
              "      <td>1</td>\n",
              "      <td>Wednesday</td>\n",
              "      <td>0</td>\n",
              "    </tr>\n",
              "    <tr>\n",
              "      <th>4</th>\n",
              "      <td>1964-05-01</td>\n",
              "      <td>2946.0</td>\n",
              "      <td>1964</td>\n",
              "      <td>5</td>\n",
              "      <td>May</td>\n",
              "      <td>1</td>\n",
              "      <td>Friday</td>\n",
              "      <td>0</td>\n",
              "    </tr>\n",
              "  </tbody>\n",
              "</table>\n",
              "</div>\n",
              "      <button class=\"colab-df-convert\" onclick=\"convertToInteractive('df-bc41856f-801e-424a-8f36-9a4993f4fcb9')\"\n",
              "              title=\"Convert this dataframe to an interactive table.\"\n",
              "              style=\"display:none;\">\n",
              "\n",
              "  <svg xmlns=\"http://www.w3.org/2000/svg\" height=\"24px\"viewBox=\"0 0 24 24\"\n",
              "       width=\"24px\">\n",
              "    <path d=\"M0 0h24v24H0V0z\" fill=\"none\"/>\n",
              "    <path d=\"M18.56 5.44l.94 2.06.94-2.06 2.06-.94-2.06-.94-.94-2.06-.94 2.06-2.06.94zm-11 1L8.5 8.5l.94-2.06 2.06-.94-2.06-.94L8.5 2.5l-.94 2.06-2.06.94zm10 10l.94 2.06.94-2.06 2.06-.94-2.06-.94-.94-2.06-.94 2.06-2.06.94z\"/><path d=\"M17.41 7.96l-1.37-1.37c-.4-.4-.92-.59-1.43-.59-.52 0-1.04.2-1.43.59L10.3 9.45l-7.72 7.72c-.78.78-.78 2.05 0 2.83L4 21.41c.39.39.9.59 1.41.59.51 0 1.02-.2 1.41-.59l7.78-7.78 2.81-2.81c.8-.78.8-2.07 0-2.86zM5.41 20L4 18.59l7.72-7.72 1.47 1.35L5.41 20z\"/>\n",
              "  </svg>\n",
              "      </button>\n",
              "\n",
              "\n",
              "\n",
              "    <div id=\"df-ce09345a-2238-4c6d-aa78-40df9a836b6e\">\n",
              "      <button class=\"colab-df-quickchart\" onclick=\"quickchart('df-ce09345a-2238-4c6d-aa78-40df9a836b6e')\"\n",
              "              title=\"Suggest charts.\"\n",
              "              style=\"display:none;\">\n",
              "\n",
              "<svg xmlns=\"http://www.w3.org/2000/svg\" height=\"24px\"viewBox=\"0 0 24 24\"\n",
              "     width=\"24px\">\n",
              "    <g>\n",
              "        <path d=\"M19 3H5c-1.1 0-2 .9-2 2v14c0 1.1.9 2 2 2h14c1.1 0 2-.9 2-2V5c0-1.1-.9-2-2-2zM9 17H7v-7h2v7zm4 0h-2V7h2v10zm4 0h-2v-4h2v4z\"/>\n",
              "    </g>\n",
              "</svg>\n",
              "      </button>\n",
              "    </div>\n",
              "\n",
              "<style>\n",
              "  .colab-df-quickchart {\n",
              "    background-color: #E8F0FE;\n",
              "    border: none;\n",
              "    border-radius: 50%;\n",
              "    cursor: pointer;\n",
              "    display: none;\n",
              "    fill: #1967D2;\n",
              "    height: 32px;\n",
              "    padding: 0 0 0 0;\n",
              "    width: 32px;\n",
              "  }\n",
              "\n",
              "  .colab-df-quickchart:hover {\n",
              "    background-color: #E2EBFA;\n",
              "    box-shadow: 0px 1px 2px rgba(60, 64, 67, 0.3), 0px 1px 3px 1px rgba(60, 64, 67, 0.15);\n",
              "    fill: #174EA6;\n",
              "  }\n",
              "\n",
              "  [theme=dark] .colab-df-quickchart {\n",
              "    background-color: #3B4455;\n",
              "    fill: #D2E3FC;\n",
              "  }\n",
              "\n",
              "  [theme=dark] .colab-df-quickchart:hover {\n",
              "    background-color: #434B5C;\n",
              "    box-shadow: 0px 1px 3px 1px rgba(0, 0, 0, 0.15);\n",
              "    filter: drop-shadow(0px 1px 2px rgba(0, 0, 0, 0.3));\n",
              "    fill: #FFFFFF;\n",
              "  }\n",
              "</style>\n",
              "\n",
              "    <script>\n",
              "      async function quickchart(key) {\n",
              "        const containerElement = document.querySelector('#' + key);\n",
              "        const charts = await google.colab.kernel.invokeFunction(\n",
              "            'suggestCharts', [key], {});\n",
              "      }\n",
              "    </script>\n",
              "\n",
              "      <script>\n",
              "\n",
              "function displayQuickchartButton(domScope) {\n",
              "  let quickchartButtonEl =\n",
              "    domScope.querySelector('#df-ce09345a-2238-4c6d-aa78-40df9a836b6e button.colab-df-quickchart');\n",
              "  quickchartButtonEl.style.display =\n",
              "    google.colab.kernel.accessAllowed ? 'block' : 'none';\n",
              "}\n",
              "\n",
              "        displayQuickchartButton(document);\n",
              "      </script>\n",
              "      <style>\n",
              "    .colab-df-container {\n",
              "      display:flex;\n",
              "      flex-wrap:wrap;\n",
              "      gap: 12px;\n",
              "    }\n",
              "\n",
              "    .colab-df-convert {\n",
              "      background-color: #E8F0FE;\n",
              "      border: none;\n",
              "      border-radius: 50%;\n",
              "      cursor: pointer;\n",
              "      display: none;\n",
              "      fill: #1967D2;\n",
              "      height: 32px;\n",
              "      padding: 0 0 0 0;\n",
              "      width: 32px;\n",
              "    }\n",
              "\n",
              "    .colab-df-convert:hover {\n",
              "      background-color: #E2EBFA;\n",
              "      box-shadow: 0px 1px 2px rgba(60, 64, 67, 0.3), 0px 1px 3px 1px rgba(60, 64, 67, 0.15);\n",
              "      fill: #174EA6;\n",
              "    }\n",
              "\n",
              "    [theme=dark] .colab-df-convert {\n",
              "      background-color: #3B4455;\n",
              "      fill: #D2E3FC;\n",
              "    }\n",
              "\n",
              "    [theme=dark] .colab-df-convert:hover {\n",
              "      background-color: #434B5C;\n",
              "      box-shadow: 0px 1px 3px 1px rgba(0, 0, 0, 0.15);\n",
              "      filter: drop-shadow(0px 1px 2px rgba(0, 0, 0, 0.3));\n",
              "      fill: #FFFFFF;\n",
              "    }\n",
              "  </style>\n",
              "\n",
              "      <script>\n",
              "        const buttonEl =\n",
              "          document.querySelector('#df-bc41856f-801e-424a-8f36-9a4993f4fcb9 button.colab-df-convert');\n",
              "        buttonEl.style.display =\n",
              "          google.colab.kernel.accessAllowed ? 'block' : 'none';\n",
              "\n",
              "        async function convertToInteractive(key) {\n",
              "          const element = document.querySelector('#df-bc41856f-801e-424a-8f36-9a4993f4fcb9');\n",
              "          const dataTable =\n",
              "            await google.colab.kernel.invokeFunction('convertToInteractive',\n",
              "                                                     [key], {});\n",
              "          if (!dataTable) return;\n",
              "\n",
              "          const docLinkHtml = 'Like what you see? Visit the ' +\n",
              "            '<a target=\"_blank\" href=https://colab.research.google.com/notebooks/data_table.ipynb>data table notebook</a>'\n",
              "            + ' to learn more about interactive tables.';\n",
              "          element.innerHTML = '';\n",
              "          dataTable['output_type'] = 'display_data';\n",
              "          await google.colab.output.renderOutput(dataTable, element);\n",
              "          const docLink = document.createElement('div');\n",
              "          docLink.innerHTML = docLinkHtml;\n",
              "          element.appendChild(docLink);\n",
              "        }\n",
              "      </script>\n",
              "    </div>\n",
              "  </div>\n"
            ]
          },
          "metadata": {},
          "execution_count": 34
        }
      ]
    },
    {
      "cell_type": "code",
      "source": [
        "# convert a single string to datetime format (outputs a timestamp object)\n",
        "ts = pd.to_datetime('1/1/1975')\n",
        "ts"
      ],
      "metadata": {
        "colab": {
          "base_uri": "https://localhost:8080/"
        },
        "id": "GDo2la8NeDfS",
        "outputId": "3a003089-304a-4c3a-ecf4-9ceb37784d23"
      },
      "execution_count": 35,
      "outputs": [
        {
          "output_type": "execute_result",
          "data": {
            "text/plain": [
              "Timestamp('1975-01-01 00:00:00')"
            ]
          },
          "metadata": {},
          "execution_count": 35
        }
      ]
    },
    {
      "cell_type": "code",
      "source": [
        "# compare a datetime Series with a timestamp\n",
        "champ.loc[champ.Month >= ts, :].head()"
      ],
      "metadata": {
        "colab": {
          "base_uri": "https://localhost:8080/",
          "height": 49
        },
        "id": "q7xO9AtPedy5",
        "outputId": "188732b2-0138-47d9-ff7f-3f453121654b"
      },
      "execution_count": 36,
      "outputs": [
        {
          "output_type": "execute_result",
          "data": {
            "text/plain": [
              "Empty DataFrame\n",
              "Columns: [Month, sales, Month_year, Month_no, Month_name, Month_day, Month_dow_name, date_is_weekend]\n",
              "Index: []"
            ],
            "text/html": [
              "\n",
              "\n",
              "  <div id=\"df-9d3e9ea2-ae2d-4ba8-9d0e-3ae5bdfee1ea\">\n",
              "    <div class=\"colab-df-container\">\n",
              "      <div>\n",
              "<style scoped>\n",
              "    .dataframe tbody tr th:only-of-type {\n",
              "        vertical-align: middle;\n",
              "    }\n",
              "\n",
              "    .dataframe tbody tr th {\n",
              "        vertical-align: top;\n",
              "    }\n",
              "\n",
              "    .dataframe thead th {\n",
              "        text-align: right;\n",
              "    }\n",
              "</style>\n",
              "<table border=\"1\" class=\"dataframe\">\n",
              "  <thead>\n",
              "    <tr style=\"text-align: right;\">\n",
              "      <th></th>\n",
              "      <th>Month</th>\n",
              "      <th>sales</th>\n",
              "      <th>Month_year</th>\n",
              "      <th>Month_no</th>\n",
              "      <th>Month_name</th>\n",
              "      <th>Month_day</th>\n",
              "      <th>Month_dow_name</th>\n",
              "      <th>date_is_weekend</th>\n",
              "    </tr>\n",
              "  </thead>\n",
              "  <tbody>\n",
              "  </tbody>\n",
              "</table>\n",
              "</div>\n",
              "      <button class=\"colab-df-convert\" onclick=\"convertToInteractive('df-9d3e9ea2-ae2d-4ba8-9d0e-3ae5bdfee1ea')\"\n",
              "              title=\"Convert this dataframe to an interactive table.\"\n",
              "              style=\"display:none;\">\n",
              "\n",
              "  <svg xmlns=\"http://www.w3.org/2000/svg\" height=\"24px\"viewBox=\"0 0 24 24\"\n",
              "       width=\"24px\">\n",
              "    <path d=\"M0 0h24v24H0V0z\" fill=\"none\"/>\n",
              "    <path d=\"M18.56 5.44l.94 2.06.94-2.06 2.06-.94-2.06-.94-.94-2.06-.94 2.06-2.06.94zm-11 1L8.5 8.5l.94-2.06 2.06-.94-2.06-.94L8.5 2.5l-.94 2.06-2.06.94zm10 10l.94 2.06.94-2.06 2.06-.94-2.06-.94-.94-2.06-.94 2.06-2.06.94z\"/><path d=\"M17.41 7.96l-1.37-1.37c-.4-.4-.92-.59-1.43-.59-.52 0-1.04.2-1.43.59L10.3 9.45l-7.72 7.72c-.78.78-.78 2.05 0 2.83L4 21.41c.39.39.9.59 1.41.59.51 0 1.02-.2 1.41-.59l7.78-7.78 2.81-2.81c.8-.78.8-2.07 0-2.86zM5.41 20L4 18.59l7.72-7.72 1.47 1.35L5.41 20z\"/>\n",
              "  </svg>\n",
              "      </button>\n",
              "\n",
              "\n",
              "\n",
              "    <div id=\"df-31ead26d-c465-4a5f-bae7-7d6bffc774e2\">\n",
              "      <button class=\"colab-df-quickchart\" onclick=\"quickchart('df-31ead26d-c465-4a5f-bae7-7d6bffc774e2')\"\n",
              "              title=\"Suggest charts.\"\n",
              "              style=\"display:none;\">\n",
              "\n",
              "<svg xmlns=\"http://www.w3.org/2000/svg\" height=\"24px\"viewBox=\"0 0 24 24\"\n",
              "     width=\"24px\">\n",
              "    <g>\n",
              "        <path d=\"M19 3H5c-1.1 0-2 .9-2 2v14c0 1.1.9 2 2 2h14c1.1 0 2-.9 2-2V5c0-1.1-.9-2-2-2zM9 17H7v-7h2v7zm4 0h-2V7h2v10zm4 0h-2v-4h2v4z\"/>\n",
              "    </g>\n",
              "</svg>\n",
              "      </button>\n",
              "    </div>\n",
              "\n",
              "<style>\n",
              "  .colab-df-quickchart {\n",
              "    background-color: #E8F0FE;\n",
              "    border: none;\n",
              "    border-radius: 50%;\n",
              "    cursor: pointer;\n",
              "    display: none;\n",
              "    fill: #1967D2;\n",
              "    height: 32px;\n",
              "    padding: 0 0 0 0;\n",
              "    width: 32px;\n",
              "  }\n",
              "\n",
              "  .colab-df-quickchart:hover {\n",
              "    background-color: #E2EBFA;\n",
              "    box-shadow: 0px 1px 2px rgba(60, 64, 67, 0.3), 0px 1px 3px 1px rgba(60, 64, 67, 0.15);\n",
              "    fill: #174EA6;\n",
              "  }\n",
              "\n",
              "  [theme=dark] .colab-df-quickchart {\n",
              "    background-color: #3B4455;\n",
              "    fill: #D2E3FC;\n",
              "  }\n",
              "\n",
              "  [theme=dark] .colab-df-quickchart:hover {\n",
              "    background-color: #434B5C;\n",
              "    box-shadow: 0px 1px 3px 1px rgba(0, 0, 0, 0.15);\n",
              "    filter: drop-shadow(0px 1px 2px rgba(0, 0, 0, 0.3));\n",
              "    fill: #FFFFFF;\n",
              "  }\n",
              "</style>\n",
              "\n",
              "    <script>\n",
              "      async function quickchart(key) {\n",
              "        const containerElement = document.querySelector('#' + key);\n",
              "        const charts = await google.colab.kernel.invokeFunction(\n",
              "            'suggestCharts', [key], {});\n",
              "      }\n",
              "    </script>\n",
              "\n",
              "      <script>\n",
              "\n",
              "function displayQuickchartButton(domScope) {\n",
              "  let quickchartButtonEl =\n",
              "    domScope.querySelector('#df-31ead26d-c465-4a5f-bae7-7d6bffc774e2 button.colab-df-quickchart');\n",
              "  quickchartButtonEl.style.display =\n",
              "    google.colab.kernel.accessAllowed ? 'block' : 'none';\n",
              "}\n",
              "\n",
              "        displayQuickchartButton(document);\n",
              "      </script>\n",
              "      <style>\n",
              "    .colab-df-container {\n",
              "      display:flex;\n",
              "      flex-wrap:wrap;\n",
              "      gap: 12px;\n",
              "    }\n",
              "\n",
              "    .colab-df-convert {\n",
              "      background-color: #E8F0FE;\n",
              "      border: none;\n",
              "      border-radius: 50%;\n",
              "      cursor: pointer;\n",
              "      display: none;\n",
              "      fill: #1967D2;\n",
              "      height: 32px;\n",
              "      padding: 0 0 0 0;\n",
              "      width: 32px;\n",
              "    }\n",
              "\n",
              "    .colab-df-convert:hover {\n",
              "      background-color: #E2EBFA;\n",
              "      box-shadow: 0px 1px 2px rgba(60, 64, 67, 0.3), 0px 1px 3px 1px rgba(60, 64, 67, 0.15);\n",
              "      fill: #174EA6;\n",
              "    }\n",
              "\n",
              "    [theme=dark] .colab-df-convert {\n",
              "      background-color: #3B4455;\n",
              "      fill: #D2E3FC;\n",
              "    }\n",
              "\n",
              "    [theme=dark] .colab-df-convert:hover {\n",
              "      background-color: #434B5C;\n",
              "      box-shadow: 0px 1px 3px 1px rgba(0, 0, 0, 0.15);\n",
              "      filter: drop-shadow(0px 1px 2px rgba(0, 0, 0, 0.3));\n",
              "      fill: #FFFFFF;\n",
              "    }\n",
              "  </style>\n",
              "\n",
              "      <script>\n",
              "        const buttonEl =\n",
              "          document.querySelector('#df-9d3e9ea2-ae2d-4ba8-9d0e-3ae5bdfee1ea button.colab-df-convert');\n",
              "        buttonEl.style.display =\n",
              "          google.colab.kernel.accessAllowed ? 'block' : 'none';\n",
              "\n",
              "        async function convertToInteractive(key) {\n",
              "          const element = document.querySelector('#df-9d3e9ea2-ae2d-4ba8-9d0e-3ae5bdfee1ea');\n",
              "          const dataTable =\n",
              "            await google.colab.kernel.invokeFunction('convertToInteractive',\n",
              "                                                     [key], {});\n",
              "          if (!dataTable) return;\n",
              "\n",
              "          const docLinkHtml = 'Like what you see? Visit the ' +\n",
              "            '<a target=\"_blank\" href=https://colab.research.google.com/notebooks/data_table.ipynb>data table notebook</a>'\n",
              "            + ' to learn more about interactive tables.';\n",
              "          element.innerHTML = '';\n",
              "          dataTable['output_type'] = 'display_data';\n",
              "          await google.colab.output.renderOutput(dataTable, element);\n",
              "          const docLink = document.createElement('div');\n",
              "          docLink.innerHTML = docLinkHtml;\n",
              "          element.appendChild(docLink);\n",
              "        }\n",
              "      </script>\n",
              "    </div>\n",
              "  </div>\n"
            ]
          },
          "metadata": {},
          "execution_count": 36
        }
      ]
    },
    {
      "cell_type": "code",
      "source": [
        "# perform mathematical operations with timestamps (outputs a timedelta object)\n",
        "champ.Month.max() - champ.Month.min()"
      ],
      "metadata": {
        "colab": {
          "base_uri": "https://localhost:8080/"
        },
        "id": "TfUqArilcU50",
        "outputId": "c6b86549-2040-4c1c-9777-a15c74d2195f"
      },
      "execution_count": 37,
      "outputs": [
        {
          "output_type": "execute_result",
          "data": {
            "text/plain": [
              "Timedelta('3166 days 00:00:00')"
            ]
          },
          "metadata": {},
          "execution_count": 37
        }
      ]
    },
    {
      "cell_type": "code",
      "source": [
        "# timedelta objects also have attributes you can access\n",
        "(champ.Month.max() - champ.Month.min()).days"
      ],
      "metadata": {
        "colab": {
          "base_uri": "https://localhost:8080/"
        },
        "id": "NS41vdAscasq",
        "outputId": "e6340767-6147-4882-97e5-e1b55921935d"
      },
      "execution_count": 38,
      "outputs": [
        {
          "output_type": "execute_result",
          "data": {
            "text/plain": [
              "3166"
            ]
          },
          "metadata": {},
          "execution_count": 38
        }
      ]
    },
    {
      "cell_type": "code",
      "source": [
        "# count the number of UFO reports per year\n",
        "champ['Year'] = champ.Month.dt.year\n",
        "champ.Year.value_counts().sort_index().head()"
      ],
      "metadata": {
        "id": "iylUzCKlcapE",
        "colab": {
          "base_uri": "https://localhost:8080/"
        },
        "outputId": "f5096873-2eef-455d-d99c-a446882de197"
      },
      "execution_count": 39,
      "outputs": [
        {
          "output_type": "execute_result",
          "data": {
            "text/plain": [
              "1964    12\n",
              "1965    12\n",
              "1966    12\n",
              "1967    12\n",
              "1968    12\n",
              "Name: Year, dtype: int64"
            ]
          },
          "metadata": {},
          "execution_count": 39
        }
      ]
    },
    {
      "cell_type": "markdown",
      "source": [
        "##Extract week of the year"
      ],
      "metadata": {
        "id": "mBWSWn-ZIjk5"
      }
    },
    {
      "cell_type": "code",
      "source": [
        "#Extract week of the year\n",
        "champ['date_week'] = champ['Month'].dt.week\n",
        "\n",
        "champ.head()"
      ],
      "metadata": {
        "id": "Aur7VnSnIQn4",
        "colab": {
          "base_uri": "https://localhost:8080/",
          "height": 305
        },
        "outputId": "d79996a2-e795-468d-f654-430e9f09d16d"
      },
      "execution_count": 40,
      "outputs": [
        {
          "output_type": "stream",
          "name": "stderr",
          "text": [
            "<ipython-input-40-06a402d91672>:2: FutureWarning: Series.dt.weekofyear and Series.dt.week have been deprecated. Please use Series.dt.isocalendar().week instead.\n",
            "  champ['date_week'] = champ['Month'].dt.week\n"
          ]
        },
        {
          "output_type": "execute_result",
          "data": {
            "text/plain": [
              "       Month   sales  Month_year  Month_no Month_name  Month_day  \\\n",
              "0 1964-01-01  2815.0        1964         1    January          1   \n",
              "1 1964-02-01  2672.0        1964         2   February          1   \n",
              "2 1964-03-01  2755.0        1964         3      March          1   \n",
              "3 1964-04-01  2721.0        1964         4      April          1   \n",
              "4 1964-05-01  2946.0        1964         5        May          1   \n",
              "\n",
              "  Month_dow_name  date_is_weekend  Year  date_week  \n",
              "0      Wednesday                0  1964          1  \n",
              "1       Saturday                1  1964          5  \n",
              "2         Sunday                1  1964          9  \n",
              "3      Wednesday                0  1964         14  \n",
              "4         Friday                0  1964         18  "
            ],
            "text/html": [
              "\n",
              "\n",
              "  <div id=\"df-c1a469dd-833e-4084-b751-6401f84f9f91\">\n",
              "    <div class=\"colab-df-container\">\n",
              "      <div>\n",
              "<style scoped>\n",
              "    .dataframe tbody tr th:only-of-type {\n",
              "        vertical-align: middle;\n",
              "    }\n",
              "\n",
              "    .dataframe tbody tr th {\n",
              "        vertical-align: top;\n",
              "    }\n",
              "\n",
              "    .dataframe thead th {\n",
              "        text-align: right;\n",
              "    }\n",
              "</style>\n",
              "<table border=\"1\" class=\"dataframe\">\n",
              "  <thead>\n",
              "    <tr style=\"text-align: right;\">\n",
              "      <th></th>\n",
              "      <th>Month</th>\n",
              "      <th>sales</th>\n",
              "      <th>Month_year</th>\n",
              "      <th>Month_no</th>\n",
              "      <th>Month_name</th>\n",
              "      <th>Month_day</th>\n",
              "      <th>Month_dow_name</th>\n",
              "      <th>date_is_weekend</th>\n",
              "      <th>Year</th>\n",
              "      <th>date_week</th>\n",
              "    </tr>\n",
              "  </thead>\n",
              "  <tbody>\n",
              "    <tr>\n",
              "      <th>0</th>\n",
              "      <td>1964-01-01</td>\n",
              "      <td>2815.0</td>\n",
              "      <td>1964</td>\n",
              "      <td>1</td>\n",
              "      <td>January</td>\n",
              "      <td>1</td>\n",
              "      <td>Wednesday</td>\n",
              "      <td>0</td>\n",
              "      <td>1964</td>\n",
              "      <td>1</td>\n",
              "    </tr>\n",
              "    <tr>\n",
              "      <th>1</th>\n",
              "      <td>1964-02-01</td>\n",
              "      <td>2672.0</td>\n",
              "      <td>1964</td>\n",
              "      <td>2</td>\n",
              "      <td>February</td>\n",
              "      <td>1</td>\n",
              "      <td>Saturday</td>\n",
              "      <td>1</td>\n",
              "      <td>1964</td>\n",
              "      <td>5</td>\n",
              "    </tr>\n",
              "    <tr>\n",
              "      <th>2</th>\n",
              "      <td>1964-03-01</td>\n",
              "      <td>2755.0</td>\n",
              "      <td>1964</td>\n",
              "      <td>3</td>\n",
              "      <td>March</td>\n",
              "      <td>1</td>\n",
              "      <td>Sunday</td>\n",
              "      <td>1</td>\n",
              "      <td>1964</td>\n",
              "      <td>9</td>\n",
              "    </tr>\n",
              "    <tr>\n",
              "      <th>3</th>\n",
              "      <td>1964-04-01</td>\n",
              "      <td>2721.0</td>\n",
              "      <td>1964</td>\n",
              "      <td>4</td>\n",
              "      <td>April</td>\n",
              "      <td>1</td>\n",
              "      <td>Wednesday</td>\n",
              "      <td>0</td>\n",
              "      <td>1964</td>\n",
              "      <td>14</td>\n",
              "    </tr>\n",
              "    <tr>\n",
              "      <th>4</th>\n",
              "      <td>1964-05-01</td>\n",
              "      <td>2946.0</td>\n",
              "      <td>1964</td>\n",
              "      <td>5</td>\n",
              "      <td>May</td>\n",
              "      <td>1</td>\n",
              "      <td>Friday</td>\n",
              "      <td>0</td>\n",
              "      <td>1964</td>\n",
              "      <td>18</td>\n",
              "    </tr>\n",
              "  </tbody>\n",
              "</table>\n",
              "</div>\n",
              "      <button class=\"colab-df-convert\" onclick=\"convertToInteractive('df-c1a469dd-833e-4084-b751-6401f84f9f91')\"\n",
              "              title=\"Convert this dataframe to an interactive table.\"\n",
              "              style=\"display:none;\">\n",
              "\n",
              "  <svg xmlns=\"http://www.w3.org/2000/svg\" height=\"24px\"viewBox=\"0 0 24 24\"\n",
              "       width=\"24px\">\n",
              "    <path d=\"M0 0h24v24H0V0z\" fill=\"none\"/>\n",
              "    <path d=\"M18.56 5.44l.94 2.06.94-2.06 2.06-.94-2.06-.94-.94-2.06-.94 2.06-2.06.94zm-11 1L8.5 8.5l.94-2.06 2.06-.94-2.06-.94L8.5 2.5l-.94 2.06-2.06.94zm10 10l.94 2.06.94-2.06 2.06-.94-2.06-.94-.94-2.06-.94 2.06-2.06.94z\"/><path d=\"M17.41 7.96l-1.37-1.37c-.4-.4-.92-.59-1.43-.59-.52 0-1.04.2-1.43.59L10.3 9.45l-7.72 7.72c-.78.78-.78 2.05 0 2.83L4 21.41c.39.39.9.59 1.41.59.51 0 1.02-.2 1.41-.59l7.78-7.78 2.81-2.81c.8-.78.8-2.07 0-2.86zM5.41 20L4 18.59l7.72-7.72 1.47 1.35L5.41 20z\"/>\n",
              "  </svg>\n",
              "      </button>\n",
              "\n",
              "\n",
              "\n",
              "    <div id=\"df-4e435201-6a9d-43b1-a83f-32a6ec8449ed\">\n",
              "      <button class=\"colab-df-quickchart\" onclick=\"quickchart('df-4e435201-6a9d-43b1-a83f-32a6ec8449ed')\"\n",
              "              title=\"Suggest charts.\"\n",
              "              style=\"display:none;\">\n",
              "\n",
              "<svg xmlns=\"http://www.w3.org/2000/svg\" height=\"24px\"viewBox=\"0 0 24 24\"\n",
              "     width=\"24px\">\n",
              "    <g>\n",
              "        <path d=\"M19 3H5c-1.1 0-2 .9-2 2v14c0 1.1.9 2 2 2h14c1.1 0 2-.9 2-2V5c0-1.1-.9-2-2-2zM9 17H7v-7h2v7zm4 0h-2V7h2v10zm4 0h-2v-4h2v4z\"/>\n",
              "    </g>\n",
              "</svg>\n",
              "      </button>\n",
              "    </div>\n",
              "\n",
              "<style>\n",
              "  .colab-df-quickchart {\n",
              "    background-color: #E8F0FE;\n",
              "    border: none;\n",
              "    border-radius: 50%;\n",
              "    cursor: pointer;\n",
              "    display: none;\n",
              "    fill: #1967D2;\n",
              "    height: 32px;\n",
              "    padding: 0 0 0 0;\n",
              "    width: 32px;\n",
              "  }\n",
              "\n",
              "  .colab-df-quickchart:hover {\n",
              "    background-color: #E2EBFA;\n",
              "    box-shadow: 0px 1px 2px rgba(60, 64, 67, 0.3), 0px 1px 3px 1px rgba(60, 64, 67, 0.15);\n",
              "    fill: #174EA6;\n",
              "  }\n",
              "\n",
              "  [theme=dark] .colab-df-quickchart {\n",
              "    background-color: #3B4455;\n",
              "    fill: #D2E3FC;\n",
              "  }\n",
              "\n",
              "  [theme=dark] .colab-df-quickchart:hover {\n",
              "    background-color: #434B5C;\n",
              "    box-shadow: 0px 1px 3px 1px rgba(0, 0, 0, 0.15);\n",
              "    filter: drop-shadow(0px 1px 2px rgba(0, 0, 0, 0.3));\n",
              "    fill: #FFFFFF;\n",
              "  }\n",
              "</style>\n",
              "\n",
              "    <script>\n",
              "      async function quickchart(key) {\n",
              "        const containerElement = document.querySelector('#' + key);\n",
              "        const charts = await google.colab.kernel.invokeFunction(\n",
              "            'suggestCharts', [key], {});\n",
              "      }\n",
              "    </script>\n",
              "\n",
              "      <script>\n",
              "\n",
              "function displayQuickchartButton(domScope) {\n",
              "  let quickchartButtonEl =\n",
              "    domScope.querySelector('#df-4e435201-6a9d-43b1-a83f-32a6ec8449ed button.colab-df-quickchart');\n",
              "  quickchartButtonEl.style.display =\n",
              "    google.colab.kernel.accessAllowed ? 'block' : 'none';\n",
              "}\n",
              "\n",
              "        displayQuickchartButton(document);\n",
              "      </script>\n",
              "      <style>\n",
              "    .colab-df-container {\n",
              "      display:flex;\n",
              "      flex-wrap:wrap;\n",
              "      gap: 12px;\n",
              "    }\n",
              "\n",
              "    .colab-df-convert {\n",
              "      background-color: #E8F0FE;\n",
              "      border: none;\n",
              "      border-radius: 50%;\n",
              "      cursor: pointer;\n",
              "      display: none;\n",
              "      fill: #1967D2;\n",
              "      height: 32px;\n",
              "      padding: 0 0 0 0;\n",
              "      width: 32px;\n",
              "    }\n",
              "\n",
              "    .colab-df-convert:hover {\n",
              "      background-color: #E2EBFA;\n",
              "      box-shadow: 0px 1px 2px rgba(60, 64, 67, 0.3), 0px 1px 3px 1px rgba(60, 64, 67, 0.15);\n",
              "      fill: #174EA6;\n",
              "    }\n",
              "\n",
              "    [theme=dark] .colab-df-convert {\n",
              "      background-color: #3B4455;\n",
              "      fill: #D2E3FC;\n",
              "    }\n",
              "\n",
              "    [theme=dark] .colab-df-convert:hover {\n",
              "      background-color: #434B5C;\n",
              "      box-shadow: 0px 1px 3px 1px rgba(0, 0, 0, 0.15);\n",
              "      filter: drop-shadow(0px 1px 2px rgba(0, 0, 0, 0.3));\n",
              "      fill: #FFFFFF;\n",
              "    }\n",
              "  </style>\n",
              "\n",
              "      <script>\n",
              "        const buttonEl =\n",
              "          document.querySelector('#df-c1a469dd-833e-4084-b751-6401f84f9f91 button.colab-df-convert');\n",
              "        buttonEl.style.display =\n",
              "          google.colab.kernel.accessAllowed ? 'block' : 'none';\n",
              "\n",
              "        async function convertToInteractive(key) {\n",
              "          const element = document.querySelector('#df-c1a469dd-833e-4084-b751-6401f84f9f91');\n",
              "          const dataTable =\n",
              "            await google.colab.kernel.invokeFunction('convertToInteractive',\n",
              "                                                     [key], {});\n",
              "          if (!dataTable) return;\n",
              "\n",
              "          const docLinkHtml = 'Like what you see? Visit the ' +\n",
              "            '<a target=\"_blank\" href=https://colab.research.google.com/notebooks/data_table.ipynb>data table notebook</a>'\n",
              "            + ' to learn more about interactive tables.';\n",
              "          element.innerHTML = '';\n",
              "          dataTable['output_type'] = 'display_data';\n",
              "          await google.colab.output.renderOutput(dataTable, element);\n",
              "          const docLink = document.createElement('div');\n",
              "          docLink.innerHTML = docLinkHtml;\n",
              "          element.appendChild(docLink);\n",
              "        }\n",
              "      </script>\n",
              "    </div>\n",
              "  </div>\n"
            ]
          },
          "metadata": {},
          "execution_count": 40
        }
      ]
    },
    {
      "cell_type": "markdown",
      "source": [
        "##Extract Quarter"
      ],
      "metadata": {
        "id": "qciqIjOBNjsg"
      }
    },
    {
      "cell_type": "code",
      "source": [
        "#Extract Quarter\n",
        "champ['quarter'] = champ['Month'].dt.quarter\n",
        "\n",
        "champ.head()"
      ],
      "metadata": {
        "id": "9_TswDAGNOeY",
        "colab": {
          "base_uri": "https://localhost:8080/",
          "height": 337
        },
        "outputId": "a51dfc88-e064-453a-b43e-85cdaff2e6e4"
      },
      "execution_count": 41,
      "outputs": [
        {
          "output_type": "execute_result",
          "data": {
            "text/plain": [
              "       Month   sales  Month_year  Month_no Month_name  Month_day  \\\n",
              "0 1964-01-01  2815.0        1964         1    January          1   \n",
              "1 1964-02-01  2672.0        1964         2   February          1   \n",
              "2 1964-03-01  2755.0        1964         3      March          1   \n",
              "3 1964-04-01  2721.0        1964         4      April          1   \n",
              "4 1964-05-01  2946.0        1964         5        May          1   \n",
              "\n",
              "  Month_dow_name  date_is_weekend  Year  date_week  quarter  \n",
              "0      Wednesday                0  1964          1        1  \n",
              "1       Saturday                1  1964          5        1  \n",
              "2         Sunday                1  1964          9        1  \n",
              "3      Wednesday                0  1964         14        2  \n",
              "4         Friday                0  1964         18        2  "
            ],
            "text/html": [
              "\n",
              "\n",
              "  <div id=\"df-e515b552-ed3b-40b1-b426-15aabdd3f89b\">\n",
              "    <div class=\"colab-df-container\">\n",
              "      <div>\n",
              "<style scoped>\n",
              "    .dataframe tbody tr th:only-of-type {\n",
              "        vertical-align: middle;\n",
              "    }\n",
              "\n",
              "    .dataframe tbody tr th {\n",
              "        vertical-align: top;\n",
              "    }\n",
              "\n",
              "    .dataframe thead th {\n",
              "        text-align: right;\n",
              "    }\n",
              "</style>\n",
              "<table border=\"1\" class=\"dataframe\">\n",
              "  <thead>\n",
              "    <tr style=\"text-align: right;\">\n",
              "      <th></th>\n",
              "      <th>Month</th>\n",
              "      <th>sales</th>\n",
              "      <th>Month_year</th>\n",
              "      <th>Month_no</th>\n",
              "      <th>Month_name</th>\n",
              "      <th>Month_day</th>\n",
              "      <th>Month_dow_name</th>\n",
              "      <th>date_is_weekend</th>\n",
              "      <th>Year</th>\n",
              "      <th>date_week</th>\n",
              "      <th>quarter</th>\n",
              "    </tr>\n",
              "  </thead>\n",
              "  <tbody>\n",
              "    <tr>\n",
              "      <th>0</th>\n",
              "      <td>1964-01-01</td>\n",
              "      <td>2815.0</td>\n",
              "      <td>1964</td>\n",
              "      <td>1</td>\n",
              "      <td>January</td>\n",
              "      <td>1</td>\n",
              "      <td>Wednesday</td>\n",
              "      <td>0</td>\n",
              "      <td>1964</td>\n",
              "      <td>1</td>\n",
              "      <td>1</td>\n",
              "    </tr>\n",
              "    <tr>\n",
              "      <th>1</th>\n",
              "      <td>1964-02-01</td>\n",
              "      <td>2672.0</td>\n",
              "      <td>1964</td>\n",
              "      <td>2</td>\n",
              "      <td>February</td>\n",
              "      <td>1</td>\n",
              "      <td>Saturday</td>\n",
              "      <td>1</td>\n",
              "      <td>1964</td>\n",
              "      <td>5</td>\n",
              "      <td>1</td>\n",
              "    </tr>\n",
              "    <tr>\n",
              "      <th>2</th>\n",
              "      <td>1964-03-01</td>\n",
              "      <td>2755.0</td>\n",
              "      <td>1964</td>\n",
              "      <td>3</td>\n",
              "      <td>March</td>\n",
              "      <td>1</td>\n",
              "      <td>Sunday</td>\n",
              "      <td>1</td>\n",
              "      <td>1964</td>\n",
              "      <td>9</td>\n",
              "      <td>1</td>\n",
              "    </tr>\n",
              "    <tr>\n",
              "      <th>3</th>\n",
              "      <td>1964-04-01</td>\n",
              "      <td>2721.0</td>\n",
              "      <td>1964</td>\n",
              "      <td>4</td>\n",
              "      <td>April</td>\n",
              "      <td>1</td>\n",
              "      <td>Wednesday</td>\n",
              "      <td>0</td>\n",
              "      <td>1964</td>\n",
              "      <td>14</td>\n",
              "      <td>2</td>\n",
              "    </tr>\n",
              "    <tr>\n",
              "      <th>4</th>\n",
              "      <td>1964-05-01</td>\n",
              "      <td>2946.0</td>\n",
              "      <td>1964</td>\n",
              "      <td>5</td>\n",
              "      <td>May</td>\n",
              "      <td>1</td>\n",
              "      <td>Friday</td>\n",
              "      <td>0</td>\n",
              "      <td>1964</td>\n",
              "      <td>18</td>\n",
              "      <td>2</td>\n",
              "    </tr>\n",
              "  </tbody>\n",
              "</table>\n",
              "</div>\n",
              "      <button class=\"colab-df-convert\" onclick=\"convertToInteractive('df-e515b552-ed3b-40b1-b426-15aabdd3f89b')\"\n",
              "              title=\"Convert this dataframe to an interactive table.\"\n",
              "              style=\"display:none;\">\n",
              "\n",
              "  <svg xmlns=\"http://www.w3.org/2000/svg\" height=\"24px\"viewBox=\"0 0 24 24\"\n",
              "       width=\"24px\">\n",
              "    <path d=\"M0 0h24v24H0V0z\" fill=\"none\"/>\n",
              "    <path d=\"M18.56 5.44l.94 2.06.94-2.06 2.06-.94-2.06-.94-.94-2.06-.94 2.06-2.06.94zm-11 1L8.5 8.5l.94-2.06 2.06-.94-2.06-.94L8.5 2.5l-.94 2.06-2.06.94zm10 10l.94 2.06.94-2.06 2.06-.94-2.06-.94-.94-2.06-.94 2.06-2.06.94z\"/><path d=\"M17.41 7.96l-1.37-1.37c-.4-.4-.92-.59-1.43-.59-.52 0-1.04.2-1.43.59L10.3 9.45l-7.72 7.72c-.78.78-.78 2.05 0 2.83L4 21.41c.39.39.9.59 1.41.59.51 0 1.02-.2 1.41-.59l7.78-7.78 2.81-2.81c.8-.78.8-2.07 0-2.86zM5.41 20L4 18.59l7.72-7.72 1.47 1.35L5.41 20z\"/>\n",
              "  </svg>\n",
              "      </button>\n",
              "\n",
              "\n",
              "\n",
              "    <div id=\"df-711b1fdd-12c6-4af5-b3c2-6330bbf9b1d6\">\n",
              "      <button class=\"colab-df-quickchart\" onclick=\"quickchart('df-711b1fdd-12c6-4af5-b3c2-6330bbf9b1d6')\"\n",
              "              title=\"Suggest charts.\"\n",
              "              style=\"display:none;\">\n",
              "\n",
              "<svg xmlns=\"http://www.w3.org/2000/svg\" height=\"24px\"viewBox=\"0 0 24 24\"\n",
              "     width=\"24px\">\n",
              "    <g>\n",
              "        <path d=\"M19 3H5c-1.1 0-2 .9-2 2v14c0 1.1.9 2 2 2h14c1.1 0 2-.9 2-2V5c0-1.1-.9-2-2-2zM9 17H7v-7h2v7zm4 0h-2V7h2v10zm4 0h-2v-4h2v4z\"/>\n",
              "    </g>\n",
              "</svg>\n",
              "      </button>\n",
              "    </div>\n",
              "\n",
              "<style>\n",
              "  .colab-df-quickchart {\n",
              "    background-color: #E8F0FE;\n",
              "    border: none;\n",
              "    border-radius: 50%;\n",
              "    cursor: pointer;\n",
              "    display: none;\n",
              "    fill: #1967D2;\n",
              "    height: 32px;\n",
              "    padding: 0 0 0 0;\n",
              "    width: 32px;\n",
              "  }\n",
              "\n",
              "  .colab-df-quickchart:hover {\n",
              "    background-color: #E2EBFA;\n",
              "    box-shadow: 0px 1px 2px rgba(60, 64, 67, 0.3), 0px 1px 3px 1px rgba(60, 64, 67, 0.15);\n",
              "    fill: #174EA6;\n",
              "  }\n",
              "\n",
              "  [theme=dark] .colab-df-quickchart {\n",
              "    background-color: #3B4455;\n",
              "    fill: #D2E3FC;\n",
              "  }\n",
              "\n",
              "  [theme=dark] .colab-df-quickchart:hover {\n",
              "    background-color: #434B5C;\n",
              "    box-shadow: 0px 1px 3px 1px rgba(0, 0, 0, 0.15);\n",
              "    filter: drop-shadow(0px 1px 2px rgba(0, 0, 0, 0.3));\n",
              "    fill: #FFFFFF;\n",
              "  }\n",
              "</style>\n",
              "\n",
              "    <script>\n",
              "      async function quickchart(key) {\n",
              "        const containerElement = document.querySelector('#' + key);\n",
              "        const charts = await google.colab.kernel.invokeFunction(\n",
              "            'suggestCharts', [key], {});\n",
              "      }\n",
              "    </script>\n",
              "\n",
              "      <script>\n",
              "\n",
              "function displayQuickchartButton(domScope) {\n",
              "  let quickchartButtonEl =\n",
              "    domScope.querySelector('#df-711b1fdd-12c6-4af5-b3c2-6330bbf9b1d6 button.colab-df-quickchart');\n",
              "  quickchartButtonEl.style.display =\n",
              "    google.colab.kernel.accessAllowed ? 'block' : 'none';\n",
              "}\n",
              "\n",
              "        displayQuickchartButton(document);\n",
              "      </script>\n",
              "      <style>\n",
              "    .colab-df-container {\n",
              "      display:flex;\n",
              "      flex-wrap:wrap;\n",
              "      gap: 12px;\n",
              "    }\n",
              "\n",
              "    .colab-df-convert {\n",
              "      background-color: #E8F0FE;\n",
              "      border: none;\n",
              "      border-radius: 50%;\n",
              "      cursor: pointer;\n",
              "      display: none;\n",
              "      fill: #1967D2;\n",
              "      height: 32px;\n",
              "      padding: 0 0 0 0;\n",
              "      width: 32px;\n",
              "    }\n",
              "\n",
              "    .colab-df-convert:hover {\n",
              "      background-color: #E2EBFA;\n",
              "      box-shadow: 0px 1px 2px rgba(60, 64, 67, 0.3), 0px 1px 3px 1px rgba(60, 64, 67, 0.15);\n",
              "      fill: #174EA6;\n",
              "    }\n",
              "\n",
              "    [theme=dark] .colab-df-convert {\n",
              "      background-color: #3B4455;\n",
              "      fill: #D2E3FC;\n",
              "    }\n",
              "\n",
              "    [theme=dark] .colab-df-convert:hover {\n",
              "      background-color: #434B5C;\n",
              "      box-shadow: 0px 1px 3px 1px rgba(0, 0, 0, 0.15);\n",
              "      filter: drop-shadow(0px 1px 2px rgba(0, 0, 0, 0.3));\n",
              "      fill: #FFFFFF;\n",
              "    }\n",
              "  </style>\n",
              "\n",
              "      <script>\n",
              "        const buttonEl =\n",
              "          document.querySelector('#df-e515b552-ed3b-40b1-b426-15aabdd3f89b button.colab-df-convert');\n",
              "        buttonEl.style.display =\n",
              "          google.colab.kernel.accessAllowed ? 'block' : 'none';\n",
              "\n",
              "        async function convertToInteractive(key) {\n",
              "          const element = document.querySelector('#df-e515b552-ed3b-40b1-b426-15aabdd3f89b');\n",
              "          const dataTable =\n",
              "            await google.colab.kernel.invokeFunction('convertToInteractive',\n",
              "                                                     [key], {});\n",
              "          if (!dataTable) return;\n",
              "\n",
              "          const docLinkHtml = 'Like what you see? Visit the ' +\n",
              "            '<a target=\"_blank\" href=https://colab.research.google.com/notebooks/data_table.ipynb>data table notebook</a>'\n",
              "            + ' to learn more about interactive tables.';\n",
              "          element.innerHTML = '';\n",
              "          dataTable['output_type'] = 'display_data';\n",
              "          await google.colab.output.renderOutput(dataTable, element);\n",
              "          const docLink = document.createElement('div');\n",
              "          docLink.innerHTML = docLinkHtml;\n",
              "          element.appendChild(docLink);\n",
              "        }\n",
              "      </script>\n",
              "    </div>\n",
              "  </div>\n"
            ]
          },
          "metadata": {},
          "execution_count": 41
        }
      ]
    },
    {
      "cell_type": "markdown",
      "source": [
        "#Extract Semester"
      ],
      "metadata": {
        "id": "ztBNatjYNvvU"
      }
    },
    {
      "cell_type": "code",
      "source": [
        "#Extract Semester\n",
        "champ['semester'] = np.where(champ['quarter'].isin([1,2]), 1, 2)\n",
        "\n",
        "champ.head()"
      ],
      "metadata": {
        "id": "4JIa83LrNmst",
        "colab": {
          "base_uri": "https://localhost:8080/",
          "height": 357
        },
        "outputId": "f4da4b9c-faee-45f1-ad13-61cec089cd93"
      },
      "execution_count": 42,
      "outputs": [
        {
          "output_type": "execute_result",
          "data": {
            "text/plain": [
              "       Month   sales  Month_year  Month_no Month_name  Month_day  \\\n",
              "0 1964-01-01  2815.0        1964         1    January          1   \n",
              "1 1964-02-01  2672.0        1964         2   February          1   \n",
              "2 1964-03-01  2755.0        1964         3      March          1   \n",
              "3 1964-04-01  2721.0        1964         4      April          1   \n",
              "4 1964-05-01  2946.0        1964         5        May          1   \n",
              "\n",
              "  Month_dow_name  date_is_weekend  Year  date_week  quarter  semester  \n",
              "0      Wednesday                0  1964          1        1         1  \n",
              "1       Saturday                1  1964          5        1         1  \n",
              "2         Sunday                1  1964          9        1         1  \n",
              "3      Wednesday                0  1964         14        2         1  \n",
              "4         Friday                0  1964         18        2         1  "
            ],
            "text/html": [
              "\n",
              "\n",
              "  <div id=\"df-d888bcec-0222-42a0-bd2b-17c98b296774\">\n",
              "    <div class=\"colab-df-container\">\n",
              "      <div>\n",
              "<style scoped>\n",
              "    .dataframe tbody tr th:only-of-type {\n",
              "        vertical-align: middle;\n",
              "    }\n",
              "\n",
              "    .dataframe tbody tr th {\n",
              "        vertical-align: top;\n",
              "    }\n",
              "\n",
              "    .dataframe thead th {\n",
              "        text-align: right;\n",
              "    }\n",
              "</style>\n",
              "<table border=\"1\" class=\"dataframe\">\n",
              "  <thead>\n",
              "    <tr style=\"text-align: right;\">\n",
              "      <th></th>\n",
              "      <th>Month</th>\n",
              "      <th>sales</th>\n",
              "      <th>Month_year</th>\n",
              "      <th>Month_no</th>\n",
              "      <th>Month_name</th>\n",
              "      <th>Month_day</th>\n",
              "      <th>Month_dow_name</th>\n",
              "      <th>date_is_weekend</th>\n",
              "      <th>Year</th>\n",
              "      <th>date_week</th>\n",
              "      <th>quarter</th>\n",
              "      <th>semester</th>\n",
              "    </tr>\n",
              "  </thead>\n",
              "  <tbody>\n",
              "    <tr>\n",
              "      <th>0</th>\n",
              "      <td>1964-01-01</td>\n",
              "      <td>2815.0</td>\n",
              "      <td>1964</td>\n",
              "      <td>1</td>\n",
              "      <td>January</td>\n",
              "      <td>1</td>\n",
              "      <td>Wednesday</td>\n",
              "      <td>0</td>\n",
              "      <td>1964</td>\n",
              "      <td>1</td>\n",
              "      <td>1</td>\n",
              "      <td>1</td>\n",
              "    </tr>\n",
              "    <tr>\n",
              "      <th>1</th>\n",
              "      <td>1964-02-01</td>\n",
              "      <td>2672.0</td>\n",
              "      <td>1964</td>\n",
              "      <td>2</td>\n",
              "      <td>February</td>\n",
              "      <td>1</td>\n",
              "      <td>Saturday</td>\n",
              "      <td>1</td>\n",
              "      <td>1964</td>\n",
              "      <td>5</td>\n",
              "      <td>1</td>\n",
              "      <td>1</td>\n",
              "    </tr>\n",
              "    <tr>\n",
              "      <th>2</th>\n",
              "      <td>1964-03-01</td>\n",
              "      <td>2755.0</td>\n",
              "      <td>1964</td>\n",
              "      <td>3</td>\n",
              "      <td>March</td>\n",
              "      <td>1</td>\n",
              "      <td>Sunday</td>\n",
              "      <td>1</td>\n",
              "      <td>1964</td>\n",
              "      <td>9</td>\n",
              "      <td>1</td>\n",
              "      <td>1</td>\n",
              "    </tr>\n",
              "    <tr>\n",
              "      <th>3</th>\n",
              "      <td>1964-04-01</td>\n",
              "      <td>2721.0</td>\n",
              "      <td>1964</td>\n",
              "      <td>4</td>\n",
              "      <td>April</td>\n",
              "      <td>1</td>\n",
              "      <td>Wednesday</td>\n",
              "      <td>0</td>\n",
              "      <td>1964</td>\n",
              "      <td>14</td>\n",
              "      <td>2</td>\n",
              "      <td>1</td>\n",
              "    </tr>\n",
              "    <tr>\n",
              "      <th>4</th>\n",
              "      <td>1964-05-01</td>\n",
              "      <td>2946.0</td>\n",
              "      <td>1964</td>\n",
              "      <td>5</td>\n",
              "      <td>May</td>\n",
              "      <td>1</td>\n",
              "      <td>Friday</td>\n",
              "      <td>0</td>\n",
              "      <td>1964</td>\n",
              "      <td>18</td>\n",
              "      <td>2</td>\n",
              "      <td>1</td>\n",
              "    </tr>\n",
              "  </tbody>\n",
              "</table>\n",
              "</div>\n",
              "      <button class=\"colab-df-convert\" onclick=\"convertToInteractive('df-d888bcec-0222-42a0-bd2b-17c98b296774')\"\n",
              "              title=\"Convert this dataframe to an interactive table.\"\n",
              "              style=\"display:none;\">\n",
              "\n",
              "  <svg xmlns=\"http://www.w3.org/2000/svg\" height=\"24px\"viewBox=\"0 0 24 24\"\n",
              "       width=\"24px\">\n",
              "    <path d=\"M0 0h24v24H0V0z\" fill=\"none\"/>\n",
              "    <path d=\"M18.56 5.44l.94 2.06.94-2.06 2.06-.94-2.06-.94-.94-2.06-.94 2.06-2.06.94zm-11 1L8.5 8.5l.94-2.06 2.06-.94-2.06-.94L8.5 2.5l-.94 2.06-2.06.94zm10 10l.94 2.06.94-2.06 2.06-.94-2.06-.94-.94-2.06-.94 2.06-2.06.94z\"/><path d=\"M17.41 7.96l-1.37-1.37c-.4-.4-.92-.59-1.43-.59-.52 0-1.04.2-1.43.59L10.3 9.45l-7.72 7.72c-.78.78-.78 2.05 0 2.83L4 21.41c.39.39.9.59 1.41.59.51 0 1.02-.2 1.41-.59l7.78-7.78 2.81-2.81c.8-.78.8-2.07 0-2.86zM5.41 20L4 18.59l7.72-7.72 1.47 1.35L5.41 20z\"/>\n",
              "  </svg>\n",
              "      </button>\n",
              "\n",
              "\n",
              "\n",
              "    <div id=\"df-f8b68ea9-a6c4-450c-b65d-6ce6502822aa\">\n",
              "      <button class=\"colab-df-quickchart\" onclick=\"quickchart('df-f8b68ea9-a6c4-450c-b65d-6ce6502822aa')\"\n",
              "              title=\"Suggest charts.\"\n",
              "              style=\"display:none;\">\n",
              "\n",
              "<svg xmlns=\"http://www.w3.org/2000/svg\" height=\"24px\"viewBox=\"0 0 24 24\"\n",
              "     width=\"24px\">\n",
              "    <g>\n",
              "        <path d=\"M19 3H5c-1.1 0-2 .9-2 2v14c0 1.1.9 2 2 2h14c1.1 0 2-.9 2-2V5c0-1.1-.9-2-2-2zM9 17H7v-7h2v7zm4 0h-2V7h2v10zm4 0h-2v-4h2v4z\"/>\n",
              "    </g>\n",
              "</svg>\n",
              "      </button>\n",
              "    </div>\n",
              "\n",
              "<style>\n",
              "  .colab-df-quickchart {\n",
              "    background-color: #E8F0FE;\n",
              "    border: none;\n",
              "    border-radius: 50%;\n",
              "    cursor: pointer;\n",
              "    display: none;\n",
              "    fill: #1967D2;\n",
              "    height: 32px;\n",
              "    padding: 0 0 0 0;\n",
              "    width: 32px;\n",
              "  }\n",
              "\n",
              "  .colab-df-quickchart:hover {\n",
              "    background-color: #E2EBFA;\n",
              "    box-shadow: 0px 1px 2px rgba(60, 64, 67, 0.3), 0px 1px 3px 1px rgba(60, 64, 67, 0.15);\n",
              "    fill: #174EA6;\n",
              "  }\n",
              "\n",
              "  [theme=dark] .colab-df-quickchart {\n",
              "    background-color: #3B4455;\n",
              "    fill: #D2E3FC;\n",
              "  }\n",
              "\n",
              "  [theme=dark] .colab-df-quickchart:hover {\n",
              "    background-color: #434B5C;\n",
              "    box-shadow: 0px 1px 3px 1px rgba(0, 0, 0, 0.15);\n",
              "    filter: drop-shadow(0px 1px 2px rgba(0, 0, 0, 0.3));\n",
              "    fill: #FFFFFF;\n",
              "  }\n",
              "</style>\n",
              "\n",
              "    <script>\n",
              "      async function quickchart(key) {\n",
              "        const containerElement = document.querySelector('#' + key);\n",
              "        const charts = await google.colab.kernel.invokeFunction(\n",
              "            'suggestCharts', [key], {});\n",
              "      }\n",
              "    </script>\n",
              "\n",
              "      <script>\n",
              "\n",
              "function displayQuickchartButton(domScope) {\n",
              "  let quickchartButtonEl =\n",
              "    domScope.querySelector('#df-f8b68ea9-a6c4-450c-b65d-6ce6502822aa button.colab-df-quickchart');\n",
              "  quickchartButtonEl.style.display =\n",
              "    google.colab.kernel.accessAllowed ? 'block' : 'none';\n",
              "}\n",
              "\n",
              "        displayQuickchartButton(document);\n",
              "      </script>\n",
              "      <style>\n",
              "    .colab-df-container {\n",
              "      display:flex;\n",
              "      flex-wrap:wrap;\n",
              "      gap: 12px;\n",
              "    }\n",
              "\n",
              "    .colab-df-convert {\n",
              "      background-color: #E8F0FE;\n",
              "      border: none;\n",
              "      border-radius: 50%;\n",
              "      cursor: pointer;\n",
              "      display: none;\n",
              "      fill: #1967D2;\n",
              "      height: 32px;\n",
              "      padding: 0 0 0 0;\n",
              "      width: 32px;\n",
              "    }\n",
              "\n",
              "    .colab-df-convert:hover {\n",
              "      background-color: #E2EBFA;\n",
              "      box-shadow: 0px 1px 2px rgba(60, 64, 67, 0.3), 0px 1px 3px 1px rgba(60, 64, 67, 0.15);\n",
              "      fill: #174EA6;\n",
              "    }\n",
              "\n",
              "    [theme=dark] .colab-df-convert {\n",
              "      background-color: #3B4455;\n",
              "      fill: #D2E3FC;\n",
              "    }\n",
              "\n",
              "    [theme=dark] .colab-df-convert:hover {\n",
              "      background-color: #434B5C;\n",
              "      box-shadow: 0px 1px 3px 1px rgba(0, 0, 0, 0.15);\n",
              "      filter: drop-shadow(0px 1px 2px rgba(0, 0, 0, 0.3));\n",
              "      fill: #FFFFFF;\n",
              "    }\n",
              "  </style>\n",
              "\n",
              "      <script>\n",
              "        const buttonEl =\n",
              "          document.querySelector('#df-d888bcec-0222-42a0-bd2b-17c98b296774 button.colab-df-convert');\n",
              "        buttonEl.style.display =\n",
              "          google.colab.kernel.accessAllowed ? 'block' : 'none';\n",
              "\n",
              "        async function convertToInteractive(key) {\n",
              "          const element = document.querySelector('#df-d888bcec-0222-42a0-bd2b-17c98b296774');\n",
              "          const dataTable =\n",
              "            await google.colab.kernel.invokeFunction('convertToInteractive',\n",
              "                                                     [key], {});\n",
              "          if (!dataTable) return;\n",
              "\n",
              "          const docLinkHtml = 'Like what you see? Visit the ' +\n",
              "            '<a target=\"_blank\" href=https://colab.research.google.com/notebooks/data_table.ipynb>data table notebook</a>'\n",
              "            + ' to learn more about interactive tables.';\n",
              "          element.innerHTML = '';\n",
              "          dataTable['output_type'] = 'display_data';\n",
              "          await google.colab.output.renderOutput(dataTable, element);\n",
              "          const docLink = document.createElement('div');\n",
              "          docLink.innerHTML = docLinkHtml;\n",
              "          element.appendChild(docLink);\n",
              "        }\n",
              "      </script>\n",
              "    </div>\n",
              "  </div>\n"
            ]
          },
          "metadata": {},
          "execution_count": 42
        }
      ]
    },
    {
      "cell_type": "code",
      "source": [
        "#Extract Time elapsed between dates\n",
        "import datetime\n",
        "\n",
        "today = datetime.datetime.today()\n",
        "\n",
        "today"
      ],
      "metadata": {
        "id": "NHemaaFGOAL4",
        "colab": {
          "base_uri": "https://localhost:8080/"
        },
        "outputId": "e960f029-05f8-4edb-d5fa-972acfdb7526"
      },
      "execution_count": 43,
      "outputs": [
        {
          "output_type": "execute_result",
          "data": {
            "text/plain": [
              "datetime.datetime(2023, 8, 9, 5, 49, 52, 343463)"
            ]
          },
          "metadata": {},
          "execution_count": 43
        }
      ]
    },
    {
      "cell_type": "code",
      "source": [
        "today - champ['Month']"
      ],
      "metadata": {
        "id": "27phNFT1PJIi",
        "colab": {
          "base_uri": "https://localhost:8080/"
        },
        "outputId": "357481fc-2588-4914-cf73-f84a08a3d48f"
      },
      "execution_count": 44,
      "outputs": [
        {
          "output_type": "execute_result",
          "data": {
            "text/plain": [
              "0     21770 days 05:49:52.343463\n",
              "1     21739 days 05:49:52.343463\n",
              "2     21710 days 05:49:52.343463\n",
              "3     21679 days 05:49:52.343463\n",
              "4     21649 days 05:49:52.343463\n",
              "                 ...            \n",
              "100   18727 days 05:49:52.343463\n",
              "101   18696 days 05:49:52.343463\n",
              "102   18666 days 05:49:52.343463\n",
              "103   18635 days 05:49:52.343463\n",
              "104   18604 days 05:49:52.343463\n",
              "Name: Month, Length: 105, dtype: timedelta64[ns]"
            ]
          },
          "metadata": {},
          "execution_count": 44
        }
      ]
    },
    {
      "cell_type": "code",
      "source": [
        "#days til now today's date\n",
        "(today - champ['Month']).dt.days"
      ],
      "metadata": {
        "id": "FWk8ram1QMJT",
        "colab": {
          "base_uri": "https://localhost:8080/"
        },
        "outputId": "e29ae4a0-6b98-4360-8aa6-b32a7130395f"
      },
      "execution_count": 45,
      "outputs": [
        {
          "output_type": "execute_result",
          "data": {
            "text/plain": [
              "0      21770\n",
              "1      21739\n",
              "2      21710\n",
              "3      21679\n",
              "4      21649\n",
              "       ...  \n",
              "100    18727\n",
              "101    18696\n",
              "102    18666\n",
              "103    18635\n",
              "104    18604\n",
              "Name: Month, Length: 105, dtype: int64"
            ]
          },
          "metadata": {},
          "execution_count": 45
        }
      ]
    },
    {
      "cell_type": "code",
      "source": [
        "# check dtypes\n",
        "champ.dtypes"
      ],
      "metadata": {
        "id": "Id-lfzTyEjGL",
        "colab": {
          "base_uri": "https://localhost:8080/"
        },
        "outputId": "cc10dbdd-eab6-48ce-e98e-ded2a223d910"
      },
      "execution_count": 46,
      "outputs": [
        {
          "output_type": "execute_result",
          "data": {
            "text/plain": [
              "Month              datetime64[ns]\n",
              "sales                     float64\n",
              "Month_year                  int64\n",
              "Month_no                    int64\n",
              "Month_name                 object\n",
              "Month_day                   int64\n",
              "Month_dow_name             object\n",
              "date_is_weekend             int64\n",
              "Year                        int64\n",
              "date_week                   int64\n",
              "quarter                     int64\n",
              "semester                    int64\n",
              "dtype: object"
            ]
          },
          "metadata": {},
          "execution_count": 46
        }
      ]
    },
    {
      "cell_type": "code",
      "source": [
        "champ['sales'].mean()"
      ],
      "metadata": {
        "id": "9Y9QCZHVD4K_",
        "colab": {
          "base_uri": "https://localhost:8080/"
        },
        "outputId": "2014fb05-5c28-44eb-b6df-80a8f63bb58b"
      },
      "execution_count": 47,
      "outputs": [
        {
          "output_type": "execute_result",
          "data": {
            "text/plain": [
              "4761.152380952381"
            ]
          },
          "metadata": {},
          "execution_count": 47
        }
      ]
    },
    {
      "cell_type": "code",
      "source": [
        "#Unique values of target variable\n",
        "champ['sales'].unique()"
      ],
      "metadata": {
        "id": "OmqZoWh84ayZ",
        "colab": {
          "base_uri": "https://localhost:8080/"
        },
        "outputId": "53a6d36e-5271-4a08-d71c-950963c714bb"
      },
      "execution_count": 48,
      "outputs": [
        {
          "output_type": "execute_result",
          "data": {
            "text/plain": [
              "array([ 2815.,  2672.,  2755.,  2721.,  2946.,  3036.,  2282.,  2212.,\n",
              "        2922.,  4301.,  5764.,  7312.,  2541.,  2475.,  3031.,  3266.,\n",
              "        3776.,  3230.,  3028.,  1759.,  3595.,  4474.,  6838.,  8357.,\n",
              "        3113.,  3006.,  4047.,  3523.,  3937.,  3986.,  3260.,  1573.,\n",
              "        3528.,  5211.,  7614.,  9254.,  5375.,  3088.,  3718.,  4514.,\n",
              "        4520.,  4539.,  3663.,  1643.,  4739.,  5428.,  8314., 10651.,\n",
              "        3633.,  4292.,  4154.,  4121.,  4647.,  4753.,  3965.,  1723.,\n",
              "        5048.,  6922.,  9858., 11331.,  4016.,  3957.,  4510.,  4276.,\n",
              "        4968.,  4677.,  1821.,  5222.,  6872., 10803., 13916.,  2639.,\n",
              "        2899.,  3370.,  3740.,  2927.,  4217.,  1738.,  5221.,  6424.,\n",
              "        9842., 13076.,  3934.,  3162.,  4286.,  4676.,  5010.,  4874.,\n",
              "        4633.,  1659.,  5951.,  6981.,  9851., 12670.,  4348.,  3564.,\n",
              "        4577.,  4788.,  4618.,  5312.,  4298.,  1413.,  5877.])"
            ]
          },
          "metadata": {},
          "execution_count": 48
        }
      ]
    },
    {
      "cell_type": "code",
      "source": [
        "\n",
        "#columns of dataset\n",
        "champ.columns"
      ],
      "metadata": {
        "id": "HXzd0hc2RS20",
        "colab": {
          "base_uri": "https://localhost:8080/"
        },
        "outputId": "17225837-cac9-4b06-e77c-be299373692f"
      },
      "execution_count": 49,
      "outputs": [
        {
          "output_type": "execute_result",
          "data": {
            "text/plain": [
              "Index(['Month', 'sales', 'Month_year', 'Month_no', 'Month_name', 'Month_day',\n",
              "       'Month_dow_name', 'date_is_weekend', 'Year', 'date_week', 'quarter',\n",
              "       'semester'],\n",
              "      dtype='object')"
            ]
          },
          "metadata": {},
          "execution_count": 49
        }
      ]
    },
    {
      "cell_type": "code",
      "source": [
        "champ.drop(columns=['Month','Month_name','Month_dow_name'],inplace=True)\n",
        "champ.head()"
      ],
      "metadata": {
        "id": "cu2KcEiKRj4U",
        "colab": {
          "base_uri": "https://localhost:8080/",
          "height": 206
        },
        "outputId": "43b607fa-4549-4a39-f01e-99123168f92d"
      },
      "execution_count": 50,
      "outputs": [
        {
          "output_type": "execute_result",
          "data": {
            "text/plain": [
              "    sales  Month_year  Month_no  Month_day  date_is_weekend  Year  date_week  \\\n",
              "0  2815.0        1964         1          1                0  1964          1   \n",
              "1  2672.0        1964         2          1                1  1964          5   \n",
              "2  2755.0        1964         3          1                1  1964          9   \n",
              "3  2721.0        1964         4          1                0  1964         14   \n",
              "4  2946.0        1964         5          1                0  1964         18   \n",
              "\n",
              "   quarter  semester  \n",
              "0        1         1  \n",
              "1        1         1  \n",
              "2        1         1  \n",
              "3        2         1  \n",
              "4        2         1  "
            ],
            "text/html": [
              "\n",
              "\n",
              "  <div id=\"df-2451aa59-c902-4429-a19b-2ebee744b9a9\">\n",
              "    <div class=\"colab-df-container\">\n",
              "      <div>\n",
              "<style scoped>\n",
              "    .dataframe tbody tr th:only-of-type {\n",
              "        vertical-align: middle;\n",
              "    }\n",
              "\n",
              "    .dataframe tbody tr th {\n",
              "        vertical-align: top;\n",
              "    }\n",
              "\n",
              "    .dataframe thead th {\n",
              "        text-align: right;\n",
              "    }\n",
              "</style>\n",
              "<table border=\"1\" class=\"dataframe\">\n",
              "  <thead>\n",
              "    <tr style=\"text-align: right;\">\n",
              "      <th></th>\n",
              "      <th>sales</th>\n",
              "      <th>Month_year</th>\n",
              "      <th>Month_no</th>\n",
              "      <th>Month_day</th>\n",
              "      <th>date_is_weekend</th>\n",
              "      <th>Year</th>\n",
              "      <th>date_week</th>\n",
              "      <th>quarter</th>\n",
              "      <th>semester</th>\n",
              "    </tr>\n",
              "  </thead>\n",
              "  <tbody>\n",
              "    <tr>\n",
              "      <th>0</th>\n",
              "      <td>2815.0</td>\n",
              "      <td>1964</td>\n",
              "      <td>1</td>\n",
              "      <td>1</td>\n",
              "      <td>0</td>\n",
              "      <td>1964</td>\n",
              "      <td>1</td>\n",
              "      <td>1</td>\n",
              "      <td>1</td>\n",
              "    </tr>\n",
              "    <tr>\n",
              "      <th>1</th>\n",
              "      <td>2672.0</td>\n",
              "      <td>1964</td>\n",
              "      <td>2</td>\n",
              "      <td>1</td>\n",
              "      <td>1</td>\n",
              "      <td>1964</td>\n",
              "      <td>5</td>\n",
              "      <td>1</td>\n",
              "      <td>1</td>\n",
              "    </tr>\n",
              "    <tr>\n",
              "      <th>2</th>\n",
              "      <td>2755.0</td>\n",
              "      <td>1964</td>\n",
              "      <td>3</td>\n",
              "      <td>1</td>\n",
              "      <td>1</td>\n",
              "      <td>1964</td>\n",
              "      <td>9</td>\n",
              "      <td>1</td>\n",
              "      <td>1</td>\n",
              "    </tr>\n",
              "    <tr>\n",
              "      <th>3</th>\n",
              "      <td>2721.0</td>\n",
              "      <td>1964</td>\n",
              "      <td>4</td>\n",
              "      <td>1</td>\n",
              "      <td>0</td>\n",
              "      <td>1964</td>\n",
              "      <td>14</td>\n",
              "      <td>2</td>\n",
              "      <td>1</td>\n",
              "    </tr>\n",
              "    <tr>\n",
              "      <th>4</th>\n",
              "      <td>2946.0</td>\n",
              "      <td>1964</td>\n",
              "      <td>5</td>\n",
              "      <td>1</td>\n",
              "      <td>0</td>\n",
              "      <td>1964</td>\n",
              "      <td>18</td>\n",
              "      <td>2</td>\n",
              "      <td>1</td>\n",
              "    </tr>\n",
              "  </tbody>\n",
              "</table>\n",
              "</div>\n",
              "      <button class=\"colab-df-convert\" onclick=\"convertToInteractive('df-2451aa59-c902-4429-a19b-2ebee744b9a9')\"\n",
              "              title=\"Convert this dataframe to an interactive table.\"\n",
              "              style=\"display:none;\">\n",
              "\n",
              "  <svg xmlns=\"http://www.w3.org/2000/svg\" height=\"24px\"viewBox=\"0 0 24 24\"\n",
              "       width=\"24px\">\n",
              "    <path d=\"M0 0h24v24H0V0z\" fill=\"none\"/>\n",
              "    <path d=\"M18.56 5.44l.94 2.06.94-2.06 2.06-.94-2.06-.94-.94-2.06-.94 2.06-2.06.94zm-11 1L8.5 8.5l.94-2.06 2.06-.94-2.06-.94L8.5 2.5l-.94 2.06-2.06.94zm10 10l.94 2.06.94-2.06 2.06-.94-2.06-.94-.94-2.06-.94 2.06-2.06.94z\"/><path d=\"M17.41 7.96l-1.37-1.37c-.4-.4-.92-.59-1.43-.59-.52 0-1.04.2-1.43.59L10.3 9.45l-7.72 7.72c-.78.78-.78 2.05 0 2.83L4 21.41c.39.39.9.59 1.41.59.51 0 1.02-.2 1.41-.59l7.78-7.78 2.81-2.81c.8-.78.8-2.07 0-2.86zM5.41 20L4 18.59l7.72-7.72 1.47 1.35L5.41 20z\"/>\n",
              "  </svg>\n",
              "      </button>\n",
              "\n",
              "\n",
              "\n",
              "    <div id=\"df-4ae20e19-6a96-4fcc-98ea-906927f51f39\">\n",
              "      <button class=\"colab-df-quickchart\" onclick=\"quickchart('df-4ae20e19-6a96-4fcc-98ea-906927f51f39')\"\n",
              "              title=\"Suggest charts.\"\n",
              "              style=\"display:none;\">\n",
              "\n",
              "<svg xmlns=\"http://www.w3.org/2000/svg\" height=\"24px\"viewBox=\"0 0 24 24\"\n",
              "     width=\"24px\">\n",
              "    <g>\n",
              "        <path d=\"M19 3H5c-1.1 0-2 .9-2 2v14c0 1.1.9 2 2 2h14c1.1 0 2-.9 2-2V5c0-1.1-.9-2-2-2zM9 17H7v-7h2v7zm4 0h-2V7h2v10zm4 0h-2v-4h2v4z\"/>\n",
              "    </g>\n",
              "</svg>\n",
              "      </button>\n",
              "    </div>\n",
              "\n",
              "<style>\n",
              "  .colab-df-quickchart {\n",
              "    background-color: #E8F0FE;\n",
              "    border: none;\n",
              "    border-radius: 50%;\n",
              "    cursor: pointer;\n",
              "    display: none;\n",
              "    fill: #1967D2;\n",
              "    height: 32px;\n",
              "    padding: 0 0 0 0;\n",
              "    width: 32px;\n",
              "  }\n",
              "\n",
              "  .colab-df-quickchart:hover {\n",
              "    background-color: #E2EBFA;\n",
              "    box-shadow: 0px 1px 2px rgba(60, 64, 67, 0.3), 0px 1px 3px 1px rgba(60, 64, 67, 0.15);\n",
              "    fill: #174EA6;\n",
              "  }\n",
              "\n",
              "  [theme=dark] .colab-df-quickchart {\n",
              "    background-color: #3B4455;\n",
              "    fill: #D2E3FC;\n",
              "  }\n",
              "\n",
              "  [theme=dark] .colab-df-quickchart:hover {\n",
              "    background-color: #434B5C;\n",
              "    box-shadow: 0px 1px 3px 1px rgba(0, 0, 0, 0.15);\n",
              "    filter: drop-shadow(0px 1px 2px rgba(0, 0, 0, 0.3));\n",
              "    fill: #FFFFFF;\n",
              "  }\n",
              "</style>\n",
              "\n",
              "    <script>\n",
              "      async function quickchart(key) {\n",
              "        const containerElement = document.querySelector('#' + key);\n",
              "        const charts = await google.colab.kernel.invokeFunction(\n",
              "            'suggestCharts', [key], {});\n",
              "      }\n",
              "    </script>\n",
              "\n",
              "      <script>\n",
              "\n",
              "function displayQuickchartButton(domScope) {\n",
              "  let quickchartButtonEl =\n",
              "    domScope.querySelector('#df-4ae20e19-6a96-4fcc-98ea-906927f51f39 button.colab-df-quickchart');\n",
              "  quickchartButtonEl.style.display =\n",
              "    google.colab.kernel.accessAllowed ? 'block' : 'none';\n",
              "}\n",
              "\n",
              "        displayQuickchartButton(document);\n",
              "      </script>\n",
              "      <style>\n",
              "    .colab-df-container {\n",
              "      display:flex;\n",
              "      flex-wrap:wrap;\n",
              "      gap: 12px;\n",
              "    }\n",
              "\n",
              "    .colab-df-convert {\n",
              "      background-color: #E8F0FE;\n",
              "      border: none;\n",
              "      border-radius: 50%;\n",
              "      cursor: pointer;\n",
              "      display: none;\n",
              "      fill: #1967D2;\n",
              "      height: 32px;\n",
              "      padding: 0 0 0 0;\n",
              "      width: 32px;\n",
              "    }\n",
              "\n",
              "    .colab-df-convert:hover {\n",
              "      background-color: #E2EBFA;\n",
              "      box-shadow: 0px 1px 2px rgba(60, 64, 67, 0.3), 0px 1px 3px 1px rgba(60, 64, 67, 0.15);\n",
              "      fill: #174EA6;\n",
              "    }\n",
              "\n",
              "    [theme=dark] .colab-df-convert {\n",
              "      background-color: #3B4455;\n",
              "      fill: #D2E3FC;\n",
              "    }\n",
              "\n",
              "    [theme=dark] .colab-df-convert:hover {\n",
              "      background-color: #434B5C;\n",
              "      box-shadow: 0px 1px 3px 1px rgba(0, 0, 0, 0.15);\n",
              "      filter: drop-shadow(0px 1px 2px rgba(0, 0, 0, 0.3));\n",
              "      fill: #FFFFFF;\n",
              "    }\n",
              "  </style>\n",
              "\n",
              "      <script>\n",
              "        const buttonEl =\n",
              "          document.querySelector('#df-2451aa59-c902-4429-a19b-2ebee744b9a9 button.colab-df-convert');\n",
              "        buttonEl.style.display =\n",
              "          google.colab.kernel.accessAllowed ? 'block' : 'none';\n",
              "\n",
              "        async function convertToInteractive(key) {\n",
              "          const element = document.querySelector('#df-2451aa59-c902-4429-a19b-2ebee744b9a9');\n",
              "          const dataTable =\n",
              "            await google.colab.kernel.invokeFunction('convertToInteractive',\n",
              "                                                     [key], {});\n",
              "          if (!dataTable) return;\n",
              "\n",
              "          const docLinkHtml = 'Like what you see? Visit the ' +\n",
              "            '<a target=\"_blank\" href=https://colab.research.google.com/notebooks/data_table.ipynb>data table notebook</a>'\n",
              "            + ' to learn more about interactive tables.';\n",
              "          element.innerHTML = '';\n",
              "          dataTable['output_type'] = 'display_data';\n",
              "          await google.colab.output.renderOutput(dataTable, element);\n",
              "          const docLink = document.createElement('div');\n",
              "          docLink.innerHTML = docLinkHtml;\n",
              "          element.appendChild(docLink);\n",
              "        }\n",
              "      </script>\n",
              "    </div>\n",
              "  </div>\n"
            ]
          },
          "metadata": {},
          "execution_count": 50
        }
      ]
    },
    {
      "cell_type": "markdown",
      "source": [
        "#Feature selection-"
      ],
      "metadata": {
        "id": "1P2m_Q0FQo0P"
      }
    },
    {
      "cell_type": "markdown",
      "source": [
        "#our target variable is 'sales',and as a input only two variables we are going to take based on month and year"
      ],
      "metadata": {
        "id": "EOtxwFTmP8bo"
      }
    },
    {
      "cell_type": "code",
      "source": [
        "champ.shape"
      ],
      "metadata": {
        "id": "GAy0VP-6UMLz",
        "colab": {
          "base_uri": "https://localhost:8080/"
        },
        "outputId": "5938acf0-e61f-4cc3-fca0-4192ff9faea1"
      },
      "execution_count": 51,
      "outputs": [
        {
          "output_type": "execute_result",
          "data": {
            "text/plain": [
              "(105, 9)"
            ]
          },
          "metadata": {},
          "execution_count": 51
        }
      ]
    },
    {
      "cell_type": "markdown",
      "source": [
        "#Define X and y"
      ],
      "metadata": {
        "id": "V8I417QjE2Cj"
      }
    },
    {
      "cell_type": "code",
      "source": [
        "#as a input we use only year and month only as a given in dataset\n",
        "X=champ[['Month_year','Month_no']]\n",
        "y=champ['sales']"
      ],
      "metadata": {
        "id": "oJohWmJt1Ub0"
      },
      "execution_count": 52,
      "outputs": []
    },
    {
      "cell_type": "code",
      "source": [
        "X.shape"
      ],
      "metadata": {
        "id": "utsT90IaFFFW",
        "colab": {
          "base_uri": "https://localhost:8080/"
        },
        "outputId": "84c8432a-00ef-480f-ecc5-1efb395700cb"
      },
      "execution_count": 53,
      "outputs": [
        {
          "output_type": "execute_result",
          "data": {
            "text/plain": [
              "(105, 2)"
            ]
          },
          "metadata": {},
          "execution_count": 53
        }
      ]
    },
    {
      "cell_type": "code",
      "source": [
        "y.shape"
      ],
      "metadata": {
        "id": "Mx_DXxBGFFCB",
        "colab": {
          "base_uri": "https://localhost:8080/"
        },
        "outputId": "34875727-50c2-4f21-8301-42164d8f2fa2"
      },
      "execution_count": 54,
      "outputs": [
        {
          "output_type": "execute_result",
          "data": {
            "text/plain": [
              "(105,)"
            ]
          },
          "metadata": {},
          "execution_count": 54
        }
      ]
    },
    {
      "cell_type": "code",
      "source": [
        "X"
      ],
      "metadata": {
        "id": "kyfh0JVH2WtX",
        "colab": {
          "base_uri": "https://localhost:8080/",
          "height": 424
        },
        "outputId": "8c0372d3-64a1-41ce-ed84-2509084d0e8c"
      },
      "execution_count": 55,
      "outputs": [
        {
          "output_type": "execute_result",
          "data": {
            "text/plain": [
              "     Month_year  Month_no\n",
              "0          1964         1\n",
              "1          1964         2\n",
              "2          1964         3\n",
              "3          1964         4\n",
              "4          1964         5\n",
              "..          ...       ...\n",
              "100        1972         5\n",
              "101        1972         6\n",
              "102        1972         7\n",
              "103        1972         8\n",
              "104        1972         9\n",
              "\n",
              "[105 rows x 2 columns]"
            ],
            "text/html": [
              "\n",
              "\n",
              "  <div id=\"df-a51d560e-a7c1-4496-8688-ad931896fa39\">\n",
              "    <div class=\"colab-df-container\">\n",
              "      <div>\n",
              "<style scoped>\n",
              "    .dataframe tbody tr th:only-of-type {\n",
              "        vertical-align: middle;\n",
              "    }\n",
              "\n",
              "    .dataframe tbody tr th {\n",
              "        vertical-align: top;\n",
              "    }\n",
              "\n",
              "    .dataframe thead th {\n",
              "        text-align: right;\n",
              "    }\n",
              "</style>\n",
              "<table border=\"1\" class=\"dataframe\">\n",
              "  <thead>\n",
              "    <tr style=\"text-align: right;\">\n",
              "      <th></th>\n",
              "      <th>Month_year</th>\n",
              "      <th>Month_no</th>\n",
              "    </tr>\n",
              "  </thead>\n",
              "  <tbody>\n",
              "    <tr>\n",
              "      <th>0</th>\n",
              "      <td>1964</td>\n",
              "      <td>1</td>\n",
              "    </tr>\n",
              "    <tr>\n",
              "      <th>1</th>\n",
              "      <td>1964</td>\n",
              "      <td>2</td>\n",
              "    </tr>\n",
              "    <tr>\n",
              "      <th>2</th>\n",
              "      <td>1964</td>\n",
              "      <td>3</td>\n",
              "    </tr>\n",
              "    <tr>\n",
              "      <th>3</th>\n",
              "      <td>1964</td>\n",
              "      <td>4</td>\n",
              "    </tr>\n",
              "    <tr>\n",
              "      <th>4</th>\n",
              "      <td>1964</td>\n",
              "      <td>5</td>\n",
              "    </tr>\n",
              "    <tr>\n",
              "      <th>...</th>\n",
              "      <td>...</td>\n",
              "      <td>...</td>\n",
              "    </tr>\n",
              "    <tr>\n",
              "      <th>100</th>\n",
              "      <td>1972</td>\n",
              "      <td>5</td>\n",
              "    </tr>\n",
              "    <tr>\n",
              "      <th>101</th>\n",
              "      <td>1972</td>\n",
              "      <td>6</td>\n",
              "    </tr>\n",
              "    <tr>\n",
              "      <th>102</th>\n",
              "      <td>1972</td>\n",
              "      <td>7</td>\n",
              "    </tr>\n",
              "    <tr>\n",
              "      <th>103</th>\n",
              "      <td>1972</td>\n",
              "      <td>8</td>\n",
              "    </tr>\n",
              "    <tr>\n",
              "      <th>104</th>\n",
              "      <td>1972</td>\n",
              "      <td>9</td>\n",
              "    </tr>\n",
              "  </tbody>\n",
              "</table>\n",
              "<p>105 rows × 2 columns</p>\n",
              "</div>\n",
              "      <button class=\"colab-df-convert\" onclick=\"convertToInteractive('df-a51d560e-a7c1-4496-8688-ad931896fa39')\"\n",
              "              title=\"Convert this dataframe to an interactive table.\"\n",
              "              style=\"display:none;\">\n",
              "\n",
              "  <svg xmlns=\"http://www.w3.org/2000/svg\" height=\"24px\"viewBox=\"0 0 24 24\"\n",
              "       width=\"24px\">\n",
              "    <path d=\"M0 0h24v24H0V0z\" fill=\"none\"/>\n",
              "    <path d=\"M18.56 5.44l.94 2.06.94-2.06 2.06-.94-2.06-.94-.94-2.06-.94 2.06-2.06.94zm-11 1L8.5 8.5l.94-2.06 2.06-.94-2.06-.94L8.5 2.5l-.94 2.06-2.06.94zm10 10l.94 2.06.94-2.06 2.06-.94-2.06-.94-.94-2.06-.94 2.06-2.06.94z\"/><path d=\"M17.41 7.96l-1.37-1.37c-.4-.4-.92-.59-1.43-.59-.52 0-1.04.2-1.43.59L10.3 9.45l-7.72 7.72c-.78.78-.78 2.05 0 2.83L4 21.41c.39.39.9.59 1.41.59.51 0 1.02-.2 1.41-.59l7.78-7.78 2.81-2.81c.8-.78.8-2.07 0-2.86zM5.41 20L4 18.59l7.72-7.72 1.47 1.35L5.41 20z\"/>\n",
              "  </svg>\n",
              "      </button>\n",
              "\n",
              "\n",
              "\n",
              "    <div id=\"df-eb5e73f7-735a-495b-b03c-9735f6052de8\">\n",
              "      <button class=\"colab-df-quickchart\" onclick=\"quickchart('df-eb5e73f7-735a-495b-b03c-9735f6052de8')\"\n",
              "              title=\"Suggest charts.\"\n",
              "              style=\"display:none;\">\n",
              "\n",
              "<svg xmlns=\"http://www.w3.org/2000/svg\" height=\"24px\"viewBox=\"0 0 24 24\"\n",
              "     width=\"24px\">\n",
              "    <g>\n",
              "        <path d=\"M19 3H5c-1.1 0-2 .9-2 2v14c0 1.1.9 2 2 2h14c1.1 0 2-.9 2-2V5c0-1.1-.9-2-2-2zM9 17H7v-7h2v7zm4 0h-2V7h2v10zm4 0h-2v-4h2v4z\"/>\n",
              "    </g>\n",
              "</svg>\n",
              "      </button>\n",
              "    </div>\n",
              "\n",
              "<style>\n",
              "  .colab-df-quickchart {\n",
              "    background-color: #E8F0FE;\n",
              "    border: none;\n",
              "    border-radius: 50%;\n",
              "    cursor: pointer;\n",
              "    display: none;\n",
              "    fill: #1967D2;\n",
              "    height: 32px;\n",
              "    padding: 0 0 0 0;\n",
              "    width: 32px;\n",
              "  }\n",
              "\n",
              "  .colab-df-quickchart:hover {\n",
              "    background-color: #E2EBFA;\n",
              "    box-shadow: 0px 1px 2px rgba(60, 64, 67, 0.3), 0px 1px 3px 1px rgba(60, 64, 67, 0.15);\n",
              "    fill: #174EA6;\n",
              "  }\n",
              "\n",
              "  [theme=dark] .colab-df-quickchart {\n",
              "    background-color: #3B4455;\n",
              "    fill: #D2E3FC;\n",
              "  }\n",
              "\n",
              "  [theme=dark] .colab-df-quickchart:hover {\n",
              "    background-color: #434B5C;\n",
              "    box-shadow: 0px 1px 3px 1px rgba(0, 0, 0, 0.15);\n",
              "    filter: drop-shadow(0px 1px 2px rgba(0, 0, 0, 0.3));\n",
              "    fill: #FFFFFF;\n",
              "  }\n",
              "</style>\n",
              "\n",
              "    <script>\n",
              "      async function quickchart(key) {\n",
              "        const containerElement = document.querySelector('#' + key);\n",
              "        const charts = await google.colab.kernel.invokeFunction(\n",
              "            'suggestCharts', [key], {});\n",
              "      }\n",
              "    </script>\n",
              "\n",
              "      <script>\n",
              "\n",
              "function displayQuickchartButton(domScope) {\n",
              "  let quickchartButtonEl =\n",
              "    domScope.querySelector('#df-eb5e73f7-735a-495b-b03c-9735f6052de8 button.colab-df-quickchart');\n",
              "  quickchartButtonEl.style.display =\n",
              "    google.colab.kernel.accessAllowed ? 'block' : 'none';\n",
              "}\n",
              "\n",
              "        displayQuickchartButton(document);\n",
              "      </script>\n",
              "      <style>\n",
              "    .colab-df-container {\n",
              "      display:flex;\n",
              "      flex-wrap:wrap;\n",
              "      gap: 12px;\n",
              "    }\n",
              "\n",
              "    .colab-df-convert {\n",
              "      background-color: #E8F0FE;\n",
              "      border: none;\n",
              "      border-radius: 50%;\n",
              "      cursor: pointer;\n",
              "      display: none;\n",
              "      fill: #1967D2;\n",
              "      height: 32px;\n",
              "      padding: 0 0 0 0;\n",
              "      width: 32px;\n",
              "    }\n",
              "\n",
              "    .colab-df-convert:hover {\n",
              "      background-color: #E2EBFA;\n",
              "      box-shadow: 0px 1px 2px rgba(60, 64, 67, 0.3), 0px 1px 3px 1px rgba(60, 64, 67, 0.15);\n",
              "      fill: #174EA6;\n",
              "    }\n",
              "\n",
              "    [theme=dark] .colab-df-convert {\n",
              "      background-color: #3B4455;\n",
              "      fill: #D2E3FC;\n",
              "    }\n",
              "\n",
              "    [theme=dark] .colab-df-convert:hover {\n",
              "      background-color: #434B5C;\n",
              "      box-shadow: 0px 1px 3px 1px rgba(0, 0, 0, 0.15);\n",
              "      filter: drop-shadow(0px 1px 2px rgba(0, 0, 0, 0.3));\n",
              "      fill: #FFFFFF;\n",
              "    }\n",
              "  </style>\n",
              "\n",
              "      <script>\n",
              "        const buttonEl =\n",
              "          document.querySelector('#df-a51d560e-a7c1-4496-8688-ad931896fa39 button.colab-df-convert');\n",
              "        buttonEl.style.display =\n",
              "          google.colab.kernel.accessAllowed ? 'block' : 'none';\n",
              "\n",
              "        async function convertToInteractive(key) {\n",
              "          const element = document.querySelector('#df-a51d560e-a7c1-4496-8688-ad931896fa39');\n",
              "          const dataTable =\n",
              "            await google.colab.kernel.invokeFunction('convertToInteractive',\n",
              "                                                     [key], {});\n",
              "          if (!dataTable) return;\n",
              "\n",
              "          const docLinkHtml = 'Like what you see? Visit the ' +\n",
              "            '<a target=\"_blank\" href=https://colab.research.google.com/notebooks/data_table.ipynb>data table notebook</a>'\n",
              "            + ' to learn more about interactive tables.';\n",
              "          element.innerHTML = '';\n",
              "          dataTable['output_type'] = 'display_data';\n",
              "          await google.colab.output.renderOutput(dataTable, element);\n",
              "          const docLink = document.createElement('div');\n",
              "          docLink.innerHTML = docLinkHtml;\n",
              "          element.appendChild(docLink);\n",
              "        }\n",
              "      </script>\n",
              "    </div>\n",
              "  </div>\n"
            ]
          },
          "metadata": {},
          "execution_count": 55
        }
      ]
    },
    {
      "cell_type": "code",
      "source": [
        "y"
      ],
      "metadata": {
        "id": "sduNoj8S2bZi",
        "colab": {
          "base_uri": "https://localhost:8080/"
        },
        "outputId": "d8e2169f-8eb1-42c8-d5fd-22b3db4bf01b"
      },
      "execution_count": 56,
      "outputs": [
        {
          "output_type": "execute_result",
          "data": {
            "text/plain": [
              "0      2815.0\n",
              "1      2672.0\n",
              "2      2755.0\n",
              "3      2721.0\n",
              "4      2946.0\n",
              "        ...  \n",
              "100    4618.0\n",
              "101    5312.0\n",
              "102    4298.0\n",
              "103    1413.0\n",
              "104    5877.0\n",
              "Name: sales, Length: 105, dtype: float64"
            ]
          },
          "metadata": {},
          "execution_count": 56
        }
      ]
    },
    {
      "cell_type": "code",
      "source": [
        "# Train-test-split\n",
        "from sklearn.model_selection import train_test_split\n",
        "X_train,X_test,y_train,y_test = train_test_split(X,y,test_size=0.3,random_state=42)"
      ],
      "metadata": {
        "id": "jmcTMl_a5wAv"
      },
      "execution_count": 57,
      "outputs": []
    },
    {
      "cell_type": "code",
      "source": [
        "from sklearn.linear_model import LinearRegression"
      ],
      "metadata": {
        "id": "8e_9Uu7H6CmL"
      },
      "execution_count": 58,
      "outputs": []
    },
    {
      "cell_type": "code",
      "source": [
        "# Step 2: Instantiate the model\n",
        "lr = LinearRegression()"
      ],
      "metadata": {
        "id": "BfyMXPAUFRy_"
      },
      "execution_count": 59,
      "outputs": []
    },
    {
      "cell_type": "code",
      "source": [
        "# Step 3: Fit the model\n",
        "lr.fit(X_train,y_train)"
      ],
      "metadata": {
        "id": "mQvwnsyMFWwb",
        "colab": {
          "base_uri": "https://localhost:8080/",
          "height": 75
        },
        "outputId": "edc5e5a0-6fcc-4d82-c977-f129b2cec121"
      },
      "execution_count": 60,
      "outputs": [
        {
          "output_type": "execute_result",
          "data": {
            "text/plain": [
              "LinearRegression()"
            ],
            "text/html": [
              "<style>#sk-container-id-1 {color: black;background-color: white;}#sk-container-id-1 pre{padding: 0;}#sk-container-id-1 div.sk-toggleable {background-color: white;}#sk-container-id-1 label.sk-toggleable__label {cursor: pointer;display: block;width: 100%;margin-bottom: 0;padding: 0.3em;box-sizing: border-box;text-align: center;}#sk-container-id-1 label.sk-toggleable__label-arrow:before {content: \"▸\";float: left;margin-right: 0.25em;color: #696969;}#sk-container-id-1 label.sk-toggleable__label-arrow:hover:before {color: black;}#sk-container-id-1 div.sk-estimator:hover label.sk-toggleable__label-arrow:before {color: black;}#sk-container-id-1 div.sk-toggleable__content {max-height: 0;max-width: 0;overflow: hidden;text-align: left;background-color: #f0f8ff;}#sk-container-id-1 div.sk-toggleable__content pre {margin: 0.2em;color: black;border-radius: 0.25em;background-color: #f0f8ff;}#sk-container-id-1 input.sk-toggleable__control:checked~div.sk-toggleable__content {max-height: 200px;max-width: 100%;overflow: auto;}#sk-container-id-1 input.sk-toggleable__control:checked~label.sk-toggleable__label-arrow:before {content: \"▾\";}#sk-container-id-1 div.sk-estimator input.sk-toggleable__control:checked~label.sk-toggleable__label {background-color: #d4ebff;}#sk-container-id-1 div.sk-label input.sk-toggleable__control:checked~label.sk-toggleable__label {background-color: #d4ebff;}#sk-container-id-1 input.sk-hidden--visually {border: 0;clip: rect(1px 1px 1px 1px);clip: rect(1px, 1px, 1px, 1px);height: 1px;margin: -1px;overflow: hidden;padding: 0;position: absolute;width: 1px;}#sk-container-id-1 div.sk-estimator {font-family: monospace;background-color: #f0f8ff;border: 1px dotted black;border-radius: 0.25em;box-sizing: border-box;margin-bottom: 0.5em;}#sk-container-id-1 div.sk-estimator:hover {background-color: #d4ebff;}#sk-container-id-1 div.sk-parallel-item::after {content: \"\";width: 100%;border-bottom: 1px solid gray;flex-grow: 1;}#sk-container-id-1 div.sk-label:hover label.sk-toggleable__label {background-color: #d4ebff;}#sk-container-id-1 div.sk-serial::before {content: \"\";position: absolute;border-left: 1px solid gray;box-sizing: border-box;top: 0;bottom: 0;left: 50%;z-index: 0;}#sk-container-id-1 div.sk-serial {display: flex;flex-direction: column;align-items: center;background-color: white;padding-right: 0.2em;padding-left: 0.2em;position: relative;}#sk-container-id-1 div.sk-item {position: relative;z-index: 1;}#sk-container-id-1 div.sk-parallel {display: flex;align-items: stretch;justify-content: center;background-color: white;position: relative;}#sk-container-id-1 div.sk-item::before, #sk-container-id-1 div.sk-parallel-item::before {content: \"\";position: absolute;border-left: 1px solid gray;box-sizing: border-box;top: 0;bottom: 0;left: 50%;z-index: -1;}#sk-container-id-1 div.sk-parallel-item {display: flex;flex-direction: column;z-index: 1;position: relative;background-color: white;}#sk-container-id-1 div.sk-parallel-item:first-child::after {align-self: flex-end;width: 50%;}#sk-container-id-1 div.sk-parallel-item:last-child::after {align-self: flex-start;width: 50%;}#sk-container-id-1 div.sk-parallel-item:only-child::after {width: 0;}#sk-container-id-1 div.sk-dashed-wrapped {border: 1px dashed gray;margin: 0 0.4em 0.5em 0.4em;box-sizing: border-box;padding-bottom: 0.4em;background-color: white;}#sk-container-id-1 div.sk-label label {font-family: monospace;font-weight: bold;display: inline-block;line-height: 1.2em;}#sk-container-id-1 div.sk-label-container {text-align: center;}#sk-container-id-1 div.sk-container {/* jupyter's `normalize.less` sets `[hidden] { display: none; }` but bootstrap.min.css set `[hidden] { display: none !important; }` so we also need the `!important` here to be able to override the default hidden behavior on the sphinx rendered scikit-learn.org. See: https://github.com/scikit-learn/scikit-learn/issues/21755 */display: inline-block !important;position: relative;}#sk-container-id-1 div.sk-text-repr-fallback {display: none;}</style><div id=\"sk-container-id-1\" class=\"sk-top-container\"><div class=\"sk-text-repr-fallback\"><pre>LinearRegression()</pre><b>In a Jupyter environment, please rerun this cell to show the HTML representation or trust the notebook. <br />On GitHub, the HTML representation is unable to render, please try loading this page with nbviewer.org.</b></div><div class=\"sk-container\" hidden><div class=\"sk-item\"><div class=\"sk-estimator sk-toggleable\"><input class=\"sk-toggleable__control sk-hidden--visually\" id=\"sk-estimator-id-1\" type=\"checkbox\" checked><label for=\"sk-estimator-id-1\" class=\"sk-toggleable__label sk-toggleable__label-arrow\">LinearRegression</label><div class=\"sk-toggleable__content\"><pre>LinearRegression()</pre></div></div></div></div></div>"
            ]
          },
          "metadata": {},
          "execution_count": 60
        }
      ]
    },
    {
      "cell_type": "code",
      "source": [
        "# Take a peek at the model coefficient and intercept\n",
        "\n",
        "print(lr.intercept_) # Constant\n",
        "print(lr.coef_)"
      ],
      "metadata": {
        "id": "I-rH8um3FE_R",
        "colab": {
          "base_uri": "https://localhost:8080/"
        },
        "outputId": "c8841fd8-8eef-450d-aaa1-a043d917fcd7"
      },
      "execution_count": 61,
      "outputs": [
        {
          "output_type": "stream",
          "name": "stdout",
          "text": [
            "-461572.26112249546\n",
            "[235.41878676 497.42591632]\n"
          ]
        }
      ]
    },
    {
      "cell_type": "code",
      "source": [
        "# Make predictions\n",
        "y_pred =lr.predict(X_test)"
      ],
      "metadata": {
        "id": "BixuM-mjFE8Y"
      },
      "execution_count": 62,
      "outputs": []
    },
    {
      "cell_type": "code",
      "source": [
        "y_pred"
      ],
      "metadata": {
        "id": "idutPZwDRmRX",
        "colab": {
          "base_uri": "https://localhost:8080/"
        },
        "outputId": "8daa6690-6c81-49c0-cd1f-55ed2fb13108"
      },
      "execution_count": 63,
      "outputs": [
        {
          "output_type": "execute_result",
          "data": {
            "text/plain": [
              "array([4743.05505536, 4951.88549931, 4454.45958299, 4716.46671255,\n",
              "       6470.75159107, 7909.85265441, 7150.41960853, 7465.6034237 ,\n",
              "       6261.92114711, 1287.66198394, 4507.6362686 , 5240.48097167,\n",
              "       5422.72307282, 3171.012278  , 5187.30428607, 3277.36564921,\n",
              "       6679.58203502, 6235.33280431, 1523.0807707 , 2753.35139009,\n",
              "       4663.29002695, 5711.31854519, 6497.33993387, 4689.87836975,\n",
              "       5973.32567475, 2700.17470448, 3015.35851965, 4978.47384211,\n",
              "       3983.62200948, 5764.4952308 , 3433.01940756, 6759.34706343])"
            ]
          },
          "metadata": {},
          "execution_count": 63
        }
      ]
    },
    {
      "cell_type": "code",
      "source": [
        "y_test.values"
      ],
      "metadata": {
        "id": "PNEUHgHzKI0F",
        "colab": {
          "base_uri": "https://localhost:8080/"
        },
        "outputId": "ac7ae6a1-7d20-452d-9c24-b8eac43bd330"
      },
      "execution_count": 64,
      "outputs": [
        {
          "output_type": "execute_result",
          "data": {
            "text/plain": [
              "array([ 3260.,  4677.,  4968.,  4753.,  5428.,  9851.,  5877., 10651.,\n",
              "        5764.,  2815.,  3028.,  1573.,  4874.,  4348.,  3986.,  2946.,\n",
              "        5221.,  5211.,  2541.,  4047.,  4788.,  1723.,  6838.,  2927.,\n",
              "        4739.,  2639.,  3266.,  3663.,  4520.,  4301.,  3162.,  7312.])"
            ]
          },
          "metadata": {},
          "execution_count": 64
        }
      ]
    },
    {
      "cell_type": "code",
      "source": [
        "from sklearn.metrics import mean_absolute_error,mean_squared_error,r2_score"
      ],
      "metadata": {
        "id": "oQCYKe25MOPh"
      },
      "execution_count": 65,
      "outputs": []
    },
    {
      "cell_type": "code",
      "source": [
        "#Mean_absolute_error\n",
        "print('MAE',mean_absolute_error(y_test,y_pred))"
      ],
      "metadata": {
        "id": "p7eNRJhVKhYj",
        "colab": {
          "base_uri": "https://localhost:8080/"
        },
        "outputId": "43a2ab9c-4f8c-4d01-b735-fccf708da0cd"
      },
      "execution_count": 66,
      "outputs": [
        {
          "output_type": "stream",
          "name": "stdout",
          "text": [
            "MAE 1152.4280441862848\n"
          ]
        }
      ]
    },
    {
      "cell_type": "code",
      "source": [
        "#Mean_absolute_error\n",
        "print('MSE',mean_squared_error(y_test,y_pred))"
      ],
      "metadata": {
        "id": "y87yAKV0Ljo7",
        "colab": {
          "base_uri": "https://localhost:8080/"
        },
        "outputId": "37f1fa81-0dd9-4961-f32c-27a778e30890"
      },
      "execution_count": 67,
      "outputs": [
        {
          "output_type": "stream",
          "name": "stdout",
          "text": [
            "MSE 2243280.8886390575\n"
          ]
        }
      ]
    },
    {
      "cell_type": "code",
      "source": [
        "print('RMSE',np.sqrt(mean_squared_error(y_test,y_pred)))"
      ],
      "metadata": {
        "id": "f7Mgwub8NIWT",
        "colab": {
          "base_uri": "https://localhost:8080/"
        },
        "outputId": "fdd2b16b-6c2a-4a53-abb5-9667adf4369f"
      },
      "execution_count": 68,
      "outputs": [
        {
          "output_type": "stream",
          "name": "stdout",
          "text": [
            "RMSE 1497.7586216206728\n"
          ]
        }
      ]
    },
    {
      "cell_type": "code",
      "source": [
        "from sklearn.metrics import r2_score\n",
        "r2_score=(y_test,y_pred)\n",
        "r2_score"
      ],
      "metadata": {
        "id": "3IJc4NQ8PcBS",
        "colab": {
          "base_uri": "https://localhost:8080/"
        },
        "outputId": "eea52e16-1cff-4915-e7df-1761e055a869"
      },
      "execution_count": 69,
      "outputs": [
        {
          "output_type": "execute_result",
          "data": {
            "text/plain": [
              "(30      3260.0\n",
              " 65      4677.0\n",
              " 64      4968.0\n",
              " 53      4753.0\n",
              " 45      5428.0\n",
              " 94      9851.0\n",
              " 104     5877.0\n",
              " 47     10651.0\n",
              " 10      5764.0\n",
              " 0       2815.0\n",
              " 18      3028.0\n",
              " 31      1573.0\n",
              " 89      4874.0\n",
              " 96      4348.0\n",
              " 77      3986.0\n",
              " 4       2946.0\n",
              " 80      5221.0\n",
              " 33      5211.0\n",
              " 12      2541.0\n",
              " 26      4047.0\n",
              " 99      4788.0\n",
              " 55      1723.0\n",
              " 22      6838.0\n",
              " 76      2927.0\n",
              " 44      4739.0\n",
              " 72      2639.0\n",
              " 15      3266.0\n",
              " 42      3663.0\n",
              " 40      4520.0\n",
              " 9       4301.0\n",
              " 85      3162.0\n",
              " 11      7312.0\n",
              " Name: sales, dtype: float64,\n",
              " array([4743.05505536, 4951.88549931, 4454.45958299, 4716.46671255,\n",
              "        6470.75159107, 7909.85265441, 7150.41960853, 7465.6034237 ,\n",
              "        6261.92114711, 1287.66198394, 4507.6362686 , 5240.48097167,\n",
              "        5422.72307282, 3171.012278  , 5187.30428607, 3277.36564921,\n",
              "        6679.58203502, 6235.33280431, 1523.0807707 , 2753.35139009,\n",
              "        4663.29002695, 5711.31854519, 6497.33993387, 4689.87836975,\n",
              "        5973.32567475, 2700.17470448, 3015.35851965, 4978.47384211,\n",
              "        3983.62200948, 5764.4952308 , 3433.01940756, 6759.34706343]))"
            ]
          },
          "metadata": {},
          "execution_count": 69
        }
      ]
    },
    {
      "cell_type": "code",
      "source": [
        "lr.score(X_test,y_test)"
      ],
      "metadata": {
        "id": "dCMlnMCcAizq",
        "colab": {
          "base_uri": "https://localhost:8080/"
        },
        "outputId": "d37e36dd-23cf-4caa-8a98-589db93edb6c"
      },
      "execution_count": 70,
      "outputs": [
        {
          "output_type": "execute_result",
          "data": {
            "text/plain": [
              "0.4270276748003855"
            ]
          },
          "metadata": {},
          "execution_count": 70
        }
      ]
    },
    {
      "cell_type": "code",
      "source": [
        "lr.score(X_train,y_train)"
      ],
      "metadata": {
        "id": "iZbxp_t5P8BK",
        "colab": {
          "base_uri": "https://localhost:8080/"
        },
        "outputId": "88ea6e6a-8b02-44c3-c6de-fa45d8a965f3"
      },
      "execution_count": 71,
      "outputs": [
        {
          "output_type": "execute_result",
          "data": {
            "text/plain": [
              "0.4374243257975241"
            ]
          },
          "metadata": {},
          "execution_count": 71
        }
      ]
    },
    {
      "cell_type": "markdown",
      "source": [
        "# Cross validation"
      ],
      "metadata": {
        "id": "5p59Fz3U4Mns"
      }
    },
    {
      "cell_type": "code",
      "source": [
        "from sklearn.model_selection import cross_val_score\n",
        "val_score=cross_val_score(lr,X_train,y_train,cv=5)"
      ],
      "metadata": {
        "id": "-HbkofpR4NaW"
      },
      "execution_count": 72,
      "outputs": []
    },
    {
      "cell_type": "code",
      "source": [
        "val_score"
      ],
      "metadata": {
        "id": "ZrwMe-zW4btL",
        "colab": {
          "base_uri": "https://localhost:8080/"
        },
        "outputId": "b7fd070e-5076-48f5-9953-570501cde1cf"
      },
      "execution_count": 73,
      "outputs": [
        {
          "output_type": "execute_result",
          "data": {
            "text/plain": [
              "array([-0.56283839, -0.35592455,  0.32649708,  0.61499161,  0.4786654 ])"
            ]
          },
          "metadata": {},
          "execution_count": 73
        }
      ]
    },
    {
      "cell_type": "code",
      "source": [
        "val_score.mean()"
      ],
      "metadata": {
        "id": "Kp4P4zVq4nvA",
        "colab": {
          "base_uri": "https://localhost:8080/"
        },
        "outputId": "ebe44dd0-dee2-492b-c7e8-e82d14258e00"
      },
      "execution_count": 74,
      "outputs": [
        {
          "output_type": "execute_result",
          "data": {
            "text/plain": [
              "0.10027823098297577"
            ]
          },
          "metadata": {},
          "execution_count": 74
        }
      ]
    },
    {
      "cell_type": "code",
      "source": [
        "val_score.std()"
      ],
      "metadata": {
        "id": "-c4miWYO4pKU",
        "colab": {
          "base_uri": "https://localhost:8080/"
        },
        "outputId": "9caeea95-c119-427b-8a22-8caac3cbf036"
      },
      "execution_count": 75,
      "outputs": [
        {
          "output_type": "execute_result",
          "data": {
            "text/plain": [
              "0.47055845671224517"
            ]
          },
          "metadata": {},
          "execution_count": 75
        }
      ]
    },
    {
      "cell_type": "markdown",
      "source": [
        "#Decision tree regressor"
      ],
      "metadata": {
        "id": "hS9zvbP_UKwm"
      }
    },
    {
      "cell_type": "code",
      "source": [
        "from sklearn.model_selection import cross_val_score\n",
        "from sklearn.tree import DecisionTreeRegressor\n",
        "regressor = DecisionTreeRegressor(random_state=42)"
      ],
      "metadata": {
        "id": "prGf-8faG0JA"
      },
      "execution_count": 76,
      "outputs": []
    },
    {
      "cell_type": "code",
      "source": [
        "# Fit model.\n",
        "regressor.fit(X_train,y_train)"
      ],
      "metadata": {
        "id": "5-5ba1ARAuy4",
        "colab": {
          "base_uri": "https://localhost:8080/",
          "height": 75
        },
        "outputId": "a28546d4-b609-44c9-982b-056412912392"
      },
      "execution_count": 77,
      "outputs": [
        {
          "output_type": "execute_result",
          "data": {
            "text/plain": [
              "DecisionTreeRegressor(random_state=42)"
            ],
            "text/html": [
              "<style>#sk-container-id-2 {color: black;background-color: white;}#sk-container-id-2 pre{padding: 0;}#sk-container-id-2 div.sk-toggleable {background-color: white;}#sk-container-id-2 label.sk-toggleable__label {cursor: pointer;display: block;width: 100%;margin-bottom: 0;padding: 0.3em;box-sizing: border-box;text-align: center;}#sk-container-id-2 label.sk-toggleable__label-arrow:before {content: \"▸\";float: left;margin-right: 0.25em;color: #696969;}#sk-container-id-2 label.sk-toggleable__label-arrow:hover:before {color: black;}#sk-container-id-2 div.sk-estimator:hover label.sk-toggleable__label-arrow:before {color: black;}#sk-container-id-2 div.sk-toggleable__content {max-height: 0;max-width: 0;overflow: hidden;text-align: left;background-color: #f0f8ff;}#sk-container-id-2 div.sk-toggleable__content pre {margin: 0.2em;color: black;border-radius: 0.25em;background-color: #f0f8ff;}#sk-container-id-2 input.sk-toggleable__control:checked~div.sk-toggleable__content {max-height: 200px;max-width: 100%;overflow: auto;}#sk-container-id-2 input.sk-toggleable__control:checked~label.sk-toggleable__label-arrow:before {content: \"▾\";}#sk-container-id-2 div.sk-estimator input.sk-toggleable__control:checked~label.sk-toggleable__label {background-color: #d4ebff;}#sk-container-id-2 div.sk-label input.sk-toggleable__control:checked~label.sk-toggleable__label {background-color: #d4ebff;}#sk-container-id-2 input.sk-hidden--visually {border: 0;clip: rect(1px 1px 1px 1px);clip: rect(1px, 1px, 1px, 1px);height: 1px;margin: -1px;overflow: hidden;padding: 0;position: absolute;width: 1px;}#sk-container-id-2 div.sk-estimator {font-family: monospace;background-color: #f0f8ff;border: 1px dotted black;border-radius: 0.25em;box-sizing: border-box;margin-bottom: 0.5em;}#sk-container-id-2 div.sk-estimator:hover {background-color: #d4ebff;}#sk-container-id-2 div.sk-parallel-item::after {content: \"\";width: 100%;border-bottom: 1px solid gray;flex-grow: 1;}#sk-container-id-2 div.sk-label:hover label.sk-toggleable__label {background-color: #d4ebff;}#sk-container-id-2 div.sk-serial::before {content: \"\";position: absolute;border-left: 1px solid gray;box-sizing: border-box;top: 0;bottom: 0;left: 50%;z-index: 0;}#sk-container-id-2 div.sk-serial {display: flex;flex-direction: column;align-items: center;background-color: white;padding-right: 0.2em;padding-left: 0.2em;position: relative;}#sk-container-id-2 div.sk-item {position: relative;z-index: 1;}#sk-container-id-2 div.sk-parallel {display: flex;align-items: stretch;justify-content: center;background-color: white;position: relative;}#sk-container-id-2 div.sk-item::before, #sk-container-id-2 div.sk-parallel-item::before {content: \"\";position: absolute;border-left: 1px solid gray;box-sizing: border-box;top: 0;bottom: 0;left: 50%;z-index: -1;}#sk-container-id-2 div.sk-parallel-item {display: flex;flex-direction: column;z-index: 1;position: relative;background-color: white;}#sk-container-id-2 div.sk-parallel-item:first-child::after {align-self: flex-end;width: 50%;}#sk-container-id-2 div.sk-parallel-item:last-child::after {align-self: flex-start;width: 50%;}#sk-container-id-2 div.sk-parallel-item:only-child::after {width: 0;}#sk-container-id-2 div.sk-dashed-wrapped {border: 1px dashed gray;margin: 0 0.4em 0.5em 0.4em;box-sizing: border-box;padding-bottom: 0.4em;background-color: white;}#sk-container-id-2 div.sk-label label {font-family: monospace;font-weight: bold;display: inline-block;line-height: 1.2em;}#sk-container-id-2 div.sk-label-container {text-align: center;}#sk-container-id-2 div.sk-container {/* jupyter's `normalize.less` sets `[hidden] { display: none; }` but bootstrap.min.css set `[hidden] { display: none !important; }` so we also need the `!important` here to be able to override the default hidden behavior on the sphinx rendered scikit-learn.org. See: https://github.com/scikit-learn/scikit-learn/issues/21755 */display: inline-block !important;position: relative;}#sk-container-id-2 div.sk-text-repr-fallback {display: none;}</style><div id=\"sk-container-id-2\" class=\"sk-top-container\"><div class=\"sk-text-repr-fallback\"><pre>DecisionTreeRegressor(random_state=42)</pre><b>In a Jupyter environment, please rerun this cell to show the HTML representation or trust the notebook. <br />On GitHub, the HTML representation is unable to render, please try loading this page with nbviewer.org.</b></div><div class=\"sk-container\" hidden><div class=\"sk-item\"><div class=\"sk-estimator sk-toggleable\"><input class=\"sk-toggleable__control sk-hidden--visually\" id=\"sk-estimator-id-2\" type=\"checkbox\" checked><label for=\"sk-estimator-id-2\" class=\"sk-toggleable__label sk-toggleable__label-arrow\">DecisionTreeRegressor</label><div class=\"sk-toggleable__content\"><pre>DecisionTreeRegressor(random_state=42)</pre></div></div></div></div></div>"
            ]
          },
          "metadata": {},
          "execution_count": 77
        }
      ]
    },
    {
      "cell_type": "code",
      "source": [
        "# Evaluate model.\n",
        "\n",
        "print(f'Score on training set: {regressor.score(X_train, y_train)}')\n",
        "print(f'Score on testing set: {regressor.score(X_test, y_test)}')"
      ],
      "metadata": {
        "id": "UO34qkwUKZRx",
        "colab": {
          "base_uri": "https://localhost:8080/"
        },
        "outputId": "700c43b5-701d-4842-ea1f-b7ad5ac48643"
      },
      "execution_count": 78,
      "outputs": [
        {
          "output_type": "stream",
          "name": "stdout",
          "text": [
            "Score on training set: 1.0\n",
            "Score on testing set: 0.8646468180042071\n"
          ]
        }
      ]
    },
    {
      "cell_type": "code",
      "source": [
        "from sklearn.model_selection import cross_val_score\n",
        "val_score=cross_val_score(regressor,X_train,y_train,cv=5)"
      ],
      "metadata": {
        "id": "qx3e3ajpFL-4"
      },
      "execution_count": 79,
      "outputs": []
    },
    {
      "cell_type": "code",
      "source": [
        "val_score"
      ],
      "metadata": {
        "id": "0YymqqtUFQMu",
        "colab": {
          "base_uri": "https://localhost:8080/"
        },
        "outputId": "7c75582c-41b8-42de-c7a5-25035401f2e4"
      },
      "execution_count": 80,
      "outputs": [
        {
          "output_type": "execute_result",
          "data": {
            "text/plain": [
              "array([0.92329852, 0.65735976, 0.94165673, 0.7078698 , 0.88437811])"
            ]
          },
          "metadata": {},
          "execution_count": 80
        }
      ]
    },
    {
      "cell_type": "code",
      "source": [
        "val_score.mean()"
      ],
      "metadata": {
        "id": "vA-SpzjmFQE7",
        "colab": {
          "base_uri": "https://localhost:8080/"
        },
        "outputId": "64cbb967-f777-4b54-f799-817aa56c85b8"
      },
      "execution_count": 81,
      "outputs": [
        {
          "output_type": "execute_result",
          "data": {
            "text/plain": [
              "0.822912583164922"
            ]
          },
          "metadata": {},
          "execution_count": 81
        }
      ]
    },
    {
      "cell_type": "code",
      "source": [
        "val_score.std()"
      ],
      "metadata": {
        "id": "yO8_2Q6iFQBk",
        "colab": {
          "base_uri": "https://localhost:8080/"
        },
        "outputId": "1173aec7-1467-4495-ea07-3146860b8d73"
      },
      "execution_count": 82,
      "outputs": [
        {
          "output_type": "execute_result",
          "data": {
            "text/plain": [
              "0.11713078196108531"
            ]
          },
          "metadata": {},
          "execution_count": 82
        }
      ]
    },
    {
      "cell_type": "markdown",
      "source": [
        "#Hyperparameter tunning"
      ],
      "metadata": {
        "id": "pQ1pdgTWR3g3"
      }
    },
    {
      "cell_type": "code",
      "source": [
        "tuned_hyper_model= DecisionTreeRegressor(max_depth=5,max_features='auto',max_leaf_nodes=50,min_samples_leaf=2,min_weight_fraction_leaf=0.1,splitter='random')"
      ],
      "metadata": {
        "id": "RSW-orNDKZXw"
      },
      "execution_count": 83,
      "outputs": []
    },
    {
      "cell_type": "code",
      "source": [
        "# fitting model\n",
        "\n",
        "\n",
        "tuned_hyper_model.fit(X_train,y_train)"
      ],
      "metadata": {
        "id": "VH1TqUjLKZar",
        "colab": {
          "base_uri": "https://localhost:8080/",
          "height": 164
        },
        "outputId": "667c79f6-c917-4eb0-b27d-2bed42174fa4"
      },
      "execution_count": 84,
      "outputs": [
        {
          "output_type": "stream",
          "name": "stderr",
          "text": [
            "/usr/local/lib/python3.10/dist-packages/sklearn/tree/_classes.py:277: FutureWarning: `max_features='auto'` has been deprecated in 1.1 and will be removed in 1.3. To keep the past behaviour, explicitly set `max_features=1.0'`.\n",
            "  warnings.warn(\n"
          ]
        },
        {
          "output_type": "execute_result",
          "data": {
            "text/plain": [
              "DecisionTreeRegressor(max_depth=5, max_features='auto', max_leaf_nodes=50,\n",
              "                      min_samples_leaf=2, min_weight_fraction_leaf=0.1,\n",
              "                      splitter='random')"
            ],
            "text/html": [
              "<style>#sk-container-id-3 {color: black;background-color: white;}#sk-container-id-3 pre{padding: 0;}#sk-container-id-3 div.sk-toggleable {background-color: white;}#sk-container-id-3 label.sk-toggleable__label {cursor: pointer;display: block;width: 100%;margin-bottom: 0;padding: 0.3em;box-sizing: border-box;text-align: center;}#sk-container-id-3 label.sk-toggleable__label-arrow:before {content: \"▸\";float: left;margin-right: 0.25em;color: #696969;}#sk-container-id-3 label.sk-toggleable__label-arrow:hover:before {color: black;}#sk-container-id-3 div.sk-estimator:hover label.sk-toggleable__label-arrow:before {color: black;}#sk-container-id-3 div.sk-toggleable__content {max-height: 0;max-width: 0;overflow: hidden;text-align: left;background-color: #f0f8ff;}#sk-container-id-3 div.sk-toggleable__content pre {margin: 0.2em;color: black;border-radius: 0.25em;background-color: #f0f8ff;}#sk-container-id-3 input.sk-toggleable__control:checked~div.sk-toggleable__content {max-height: 200px;max-width: 100%;overflow: auto;}#sk-container-id-3 input.sk-toggleable__control:checked~label.sk-toggleable__label-arrow:before {content: \"▾\";}#sk-container-id-3 div.sk-estimator input.sk-toggleable__control:checked~label.sk-toggleable__label {background-color: #d4ebff;}#sk-container-id-3 div.sk-label input.sk-toggleable__control:checked~label.sk-toggleable__label {background-color: #d4ebff;}#sk-container-id-3 input.sk-hidden--visually {border: 0;clip: rect(1px 1px 1px 1px);clip: rect(1px, 1px, 1px, 1px);height: 1px;margin: -1px;overflow: hidden;padding: 0;position: absolute;width: 1px;}#sk-container-id-3 div.sk-estimator {font-family: monospace;background-color: #f0f8ff;border: 1px dotted black;border-radius: 0.25em;box-sizing: border-box;margin-bottom: 0.5em;}#sk-container-id-3 div.sk-estimator:hover {background-color: #d4ebff;}#sk-container-id-3 div.sk-parallel-item::after {content: \"\";width: 100%;border-bottom: 1px solid gray;flex-grow: 1;}#sk-container-id-3 div.sk-label:hover label.sk-toggleable__label {background-color: #d4ebff;}#sk-container-id-3 div.sk-serial::before {content: \"\";position: absolute;border-left: 1px solid gray;box-sizing: border-box;top: 0;bottom: 0;left: 50%;z-index: 0;}#sk-container-id-3 div.sk-serial {display: flex;flex-direction: column;align-items: center;background-color: white;padding-right: 0.2em;padding-left: 0.2em;position: relative;}#sk-container-id-3 div.sk-item {position: relative;z-index: 1;}#sk-container-id-3 div.sk-parallel {display: flex;align-items: stretch;justify-content: center;background-color: white;position: relative;}#sk-container-id-3 div.sk-item::before, #sk-container-id-3 div.sk-parallel-item::before {content: \"\";position: absolute;border-left: 1px solid gray;box-sizing: border-box;top: 0;bottom: 0;left: 50%;z-index: -1;}#sk-container-id-3 div.sk-parallel-item {display: flex;flex-direction: column;z-index: 1;position: relative;background-color: white;}#sk-container-id-3 div.sk-parallel-item:first-child::after {align-self: flex-end;width: 50%;}#sk-container-id-3 div.sk-parallel-item:last-child::after {align-self: flex-start;width: 50%;}#sk-container-id-3 div.sk-parallel-item:only-child::after {width: 0;}#sk-container-id-3 div.sk-dashed-wrapped {border: 1px dashed gray;margin: 0 0.4em 0.5em 0.4em;box-sizing: border-box;padding-bottom: 0.4em;background-color: white;}#sk-container-id-3 div.sk-label label {font-family: monospace;font-weight: bold;display: inline-block;line-height: 1.2em;}#sk-container-id-3 div.sk-label-container {text-align: center;}#sk-container-id-3 div.sk-container {/* jupyter's `normalize.less` sets `[hidden] { display: none; }` but bootstrap.min.css set `[hidden] { display: none !important; }` so we also need the `!important` here to be able to override the default hidden behavior on the sphinx rendered scikit-learn.org. See: https://github.com/scikit-learn/scikit-learn/issues/21755 */display: inline-block !important;position: relative;}#sk-container-id-3 div.sk-text-repr-fallback {display: none;}</style><div id=\"sk-container-id-3\" class=\"sk-top-container\"><div class=\"sk-text-repr-fallback\"><pre>DecisionTreeRegressor(max_depth=5, max_features=&#x27;auto&#x27;, max_leaf_nodes=50,\n",
              "                      min_samples_leaf=2, min_weight_fraction_leaf=0.1,\n",
              "                      splitter=&#x27;random&#x27;)</pre><b>In a Jupyter environment, please rerun this cell to show the HTML representation or trust the notebook. <br />On GitHub, the HTML representation is unable to render, please try loading this page with nbviewer.org.</b></div><div class=\"sk-container\" hidden><div class=\"sk-item\"><div class=\"sk-estimator sk-toggleable\"><input class=\"sk-toggleable__control sk-hidden--visually\" id=\"sk-estimator-id-3\" type=\"checkbox\" checked><label for=\"sk-estimator-id-3\" class=\"sk-toggleable__label sk-toggleable__label-arrow\">DecisionTreeRegressor</label><div class=\"sk-toggleable__content\"><pre>DecisionTreeRegressor(max_depth=5, max_features=&#x27;auto&#x27;, max_leaf_nodes=50,\n",
              "                      min_samples_leaf=2, min_weight_fraction_leaf=0.1,\n",
              "                      splitter=&#x27;random&#x27;)</pre></div></div></div></div></div>"
            ]
          },
          "metadata": {},
          "execution_count": 84
        }
      ]
    },
    {
      "cell_type": "code",
      "source": [
        "# prediction\n",
        "\n",
        "tuned_pred=tuned_hyper_model.predict(X_test)"
      ],
      "metadata": {
        "id": "m30KSQAWKZeQ"
      },
      "execution_count": 85,
      "outputs": []
    },
    {
      "cell_type": "code",
      "source": [
        "plt.scatter(y_test,tuned_pred)"
      ],
      "metadata": {
        "id": "YV5U1uZdMlZq",
        "colab": {
          "base_uri": "https://localhost:8080/",
          "height": 447
        },
        "outputId": "bb408528-554a-48c4-f4d1-3d4e6413572a"
      },
      "execution_count": 86,
      "outputs": [
        {
          "output_type": "execute_result",
          "data": {
            "text/plain": [
              "<matplotlib.collections.PathCollection at 0x7eae6ca892a0>"
            ]
          },
          "metadata": {},
          "execution_count": 86
        },
        {
          "output_type": "display_data",
          "data": {
            "text/plain": [
              "<Figure size 640x480 with 1 Axes>"
            ],
            "image/png": "[encoded data removed]"
          },
          "metadata": {}
        }
      ]
    },
    {
      "cell_type": "code",
      "source": [
        "# With hyperparameter tuned\n",
        "\n",
        "from sklearn import metrics\n",
        "\n",
        "print('MAE:', metrics.mean_absolute_error(y_test,tuned_pred))\n",
        "print('MSE:', metrics.mean_squared_error(y_test, tuned_pred))\n",
        "print('RMSE:', np.sqrt(metrics.mean_squared_error(y_test, tuned_pred)))"
      ],
      "metadata": {
        "id": "qeJNtEX7MlWG",
        "colab": {
          "base_uri": "https://localhost:8080/"
        },
        "outputId": "0ddae524-6845-45fc-c95d-ab5a75b04230"
      },
      "execution_count": 87,
      "outputs": [
        {
          "output_type": "stream",
          "name": "stdout",
          "text": [
            "MAE: 1382.8107946832579\n",
            "MSE: 3565742.7591202455\n",
            "RMSE: 1888.3174413006532\n"
          ]
        }
      ]
    },
    {
      "cell_type": "markdown",
      "source": [
        "# XGBRegressor"
      ],
      "metadata": {
        "id": "GRngSBSsVRI5"
      }
    },
    {
      "cell_type": "code",
      "source": [
        "from xgboost import XGBRegressor\n",
        "xgb_model = XGBRegressor(random_state = 42)"
      ],
      "metadata": {
        "id": "1O0-mnXUM3hh"
      },
      "execution_count": 88,
      "outputs": []
    },
    {
      "cell_type": "code",
      "source": [
        "# make a dictionary of hyperparameter values to search\n",
        "search_space = {\n",
        "    \"n_estimators\" : [100, 200, 500],\n",
        "    \"max_depth\" : [3, 6, 9],\n",
        "    \"gamma\" : [0.01, 0.1],\n",
        "    \"learning_rate\" : [0.001, 0.01, 0.1, 1]\n",
        "}"
      ],
      "metadata": {
        "id": "5OTUR7KXVbjc"
      },
      "execution_count": 89,
      "outputs": []
    },
    {
      "cell_type": "code",
      "source": [
        "from sklearn.model_selection import GridSearchCV\n",
        "# make a GridSearchCV object\n",
        "GS = GridSearchCV(estimator = xgb_model,\n",
        "                  param_grid = search_space,\n",
        "                  scoring = [\"r2\", \"neg_root_mean_squared_error\"], #sklearn.metrics.SCORERS.keys()\n",
        "                  refit = \"r2\",\n",
        "                  cv = 5,\n",
        "                  verbose = 4)"
      ],
      "metadata": {
        "id": "_q8BdvgJVbgD"
      },
      "execution_count": 90,
      "outputs": []
    },
    {
      "cell_type": "code",
      "source": [
        "GS.fit(X_train, y_train)"
      ],
      "metadata": {
        "id": "Q2ADpm8NVbcd",
        "colab": {
          "base_uri": "https://localhost:8080/",
          "height": 1000
        },
        "outputId": "5e8ac57a-068d-49a4-f156-34907d8daad4"
      },
      "execution_count": 91,
      "outputs": [
        {
          "output_type": "stream",
          "name": "stdout",
          "text": [
            "Fitting 5 folds for each of 72 candidates, totalling 360 fits\n",
            "[CV 1/5] END gamma=0.01, learning_rate=0.001, max_depth=3, n_estimators=100; neg_root_mean_squared_error: (test=-4148.627) r2: (test=-2.946) total time=   0.1s\n",
            "[CV 2/5] END gamma=0.01, learning_rate=0.001, max_depth=3, n_estimators=100; neg_root_mean_squared_error: (test=-3471.287) r2: (test=-5.435) total time=   0.0s\n",
            "[CV 3/5] END gamma=0.01, learning_rate=0.001, max_depth=3, n_estimators=100; neg_root_mean_squared_error: (test=-6010.889) r2: (test=-2.475) total time=   0.0s\n",
            "[CV 4/5] END gamma=0.01, learning_rate=0.001, max_depth=3, n_estimators=100; neg_root_mean_squared_error: (test=-4910.856) r2: (test=-4.377) total time=   0.0s\n",
            "[CV 5/5] END gamma=0.01, learning_rate=0.001, max_depth=3, n_estimators=100; neg_root_mean_squared_error: (test=-6569.096) r2: (test=-2.462) total time=   0.0s\n",
            "[CV 1/5] END gamma=0.01, learning_rate=0.001, max_depth=3, n_estimators=200; neg_root_mean_squared_error: (test=-3745.023) r2: (test=-2.216) total time=   0.0s\n",
            "[CV 2/5] END gamma=0.01, learning_rate=0.001, max_depth=3, n_estimators=200; neg_root_mean_squared_error: (test=-3174.354) r2: (test=-4.381) total time=   0.0s\n",
            "[CV 3/5] END gamma=0.01, learning_rate=0.001, max_depth=3, n_estimators=200; neg_root_mean_squared_error: (test=-5527.289) r2: (test=-1.939) total time=   0.1s\n",
            "[CV 4/5] END gamma=0.01, learning_rate=0.001, max_depth=3, n_estimators=200; neg_root_mean_squared_error: (test=-4502.058) r2: (test=-3.519) total time=   0.0s\n",
            "[CV 5/5] END gamma=0.01, learning_rate=0.001, max_depth=3, n_estimators=200; neg_root_mean_squared_error: (test=-6153.036) r2: (test=-2.037) total time=   0.0s\n",
            "[CV 1/5] END gamma=0.01, learning_rate=0.001, max_depth=3, n_estimators=500; neg_root_mean_squared_error: (test=-2781.698) r2: (test=-0.774) total time=   0.1s\n",
            "[CV 2/5] END gamma=0.01, learning_rate=0.001, max_depth=3, n_estimators=500; neg_root_mean_squared_error: (test=-2313.257) r2: (test=-1.858) total time=   0.1s\n",
            "[CV 3/5] END gamma=0.01, learning_rate=0.001, max_depth=3, n_estimators=500; neg_root_mean_squared_error: (test=-4324.997) r2: (test=-0.799) total time=   0.1s\n",
            "[CV 4/5] END gamma=0.01, learning_rate=0.001, max_depth=3, n_estimators=500; neg_root_mean_squared_error: (test=-3490.076) r2: (test=-1.716) total time=   0.1s\n",
            "[CV 5/5] END gamma=0.01, learning_rate=0.001, max_depth=3, n_estimators=500; neg_root_mean_squared_error: (test=-4993.954) r2: (test=-1.001) total time=   0.1s\n",
            "[CV 1/5] END gamma=0.01, learning_rate=0.001, max_depth=6, n_estimators=100; neg_root_mean_squared_error: (test=-4148.627) r2: (test=-2.946) total time=   0.0s\n",
            "[CV 2/5] END gamma=0.01, learning_rate=0.001, max_depth=6, n_estimators=100; neg_root_mean_squared_error: (test=-3471.287) r2: (test=-5.435) total time=   0.0s\n",
            "[CV 3/5] END gamma=0.01, learning_rate=0.001, max_depth=6, n_estimators=100; neg_root_mean_squared_error: (test=-6010.889) r2: (test=-2.475) total time=   0.0s\n",
            "[CV 4/5] END gamma=0.01, learning_rate=0.001, max_depth=6, n_estimators=100; neg_root_mean_squared_error: (test=-4910.856) r2: (test=-4.377) total time=   0.0s\n",
            "[CV 5/5] END gamma=0.01, learning_rate=0.001, max_depth=6, n_estimators=100; neg_root_mean_squared_error: (test=-6569.096) r2: (test=-2.462) total time=   0.0s\n",
            "[CV 1/5] END gamma=0.01, learning_rate=0.001, max_depth=6, n_estimators=200; neg_root_mean_squared_error: (test=-3745.023) r2: (test=-2.216) total time=   0.0s\n",
            "[CV 2/5] END gamma=0.01, learning_rate=0.001, max_depth=6, n_estimators=200; neg_root_mean_squared_error: (test=-3174.354) r2: (test=-4.381) total time=   0.0s\n",
            "[CV 3/5] END gamma=0.01, learning_rate=0.001, max_depth=6, n_estimators=200; neg_root_mean_squared_error: (test=-5527.289) r2: (test=-1.939) total time=   0.0s\n",
            "[CV 4/5] END gamma=0.01, learning_rate=0.001, max_depth=6, n_estimators=200; neg_root_mean_squared_error: (test=-4502.058) r2: (test=-3.519) total time=   0.0s\n",
            "[CV 5/5] END gamma=0.01, learning_rate=0.001, max_depth=6, n_estimators=200; neg_root_mean_squared_error: (test=-6153.036) r2: (test=-2.037) total time=   0.1s\n",
            "[CV 1/5] END gamma=0.01, learning_rate=0.001, max_depth=6, n_estimators=500; neg_root_mean_squared_error: (test=-2773.332) r2: (test=-0.764) total time=   0.2s\n",
            "[CV 2/5] END gamma=0.01, learning_rate=0.001, max_depth=6, n_estimators=500; neg_root_mean_squared_error: (test=-2314.664) r2: (test=-1.861) total time=   0.1s\n",
            "[CV 3/5] END gamma=0.01, learning_rate=0.001, max_depth=6, n_estimators=500; neg_root_mean_squared_error: (test=-4324.997) r2: (test=-0.799) total time=   0.1s\n",
            "[CV 4/5] END gamma=0.01, learning_rate=0.001, max_depth=6, n_estimators=500; neg_root_mean_squared_error: (test=-3483.136) r2: (test=-1.705) total time=   0.1s\n",
            "[CV 5/5] END gamma=0.01, learning_rate=0.001, max_depth=6, n_estimators=500; neg_root_mean_squared_error: (test=-4993.116) r2: (test=-1.000) total time=   0.1s\n",
            "[CV 1/5] END gamma=0.01, learning_rate=0.001, max_depth=9, n_estimators=100; neg_root_mean_squared_error: (test=-4148.627) r2: (test=-2.946) total time=   0.0s\n",
            "[CV 2/5] END gamma=0.01, learning_rate=0.001, max_depth=9, n_estimators=100; neg_root_mean_squared_error: (test=-3471.287) r2: (test=-5.435) total time=   0.0s\n",
            "[CV 3/5] END gamma=0.01, learning_rate=0.001, max_depth=9, n_estimators=100; neg_root_mean_squared_error: (test=-6010.889) r2: (test=-2.475) total time=   0.0s\n",
            "[CV 4/5] END gamma=0.01, learning_rate=0.001, max_depth=9, n_estimators=100; neg_root_mean_squared_error: (test=-4910.856) r2: (test=-4.377) total time=   0.0s\n",
            "[CV 5/5] END gamma=0.01, learning_rate=0.001, max_depth=9, n_estimators=100; neg_root_mean_squared_error: (test=-6569.096) r2: (test=-2.462) total time=   0.0s\n",
            "[CV 1/5] END gamma=0.01, learning_rate=0.001, max_depth=9, n_estimators=200; neg_root_mean_squared_error: (test=-3745.023) r2: (test=-2.216) total time=   0.0s\n",
            "[CV 2/5] END gamma=0.01, learning_rate=0.001, max_depth=9, n_estimators=200; neg_root_mean_squared_error: (test=-3174.354) r2: (test=-4.381) total time=   0.0s\n",
            "[CV 3/5] END gamma=0.01, learning_rate=0.001, max_depth=9, n_estimators=200; neg_root_mean_squared_error: (test=-5527.289) r2: (test=-1.939) total time=   0.0s\n",
            "[CV 4/5] END gamma=0.01, learning_rate=0.001, max_depth=9, n_estimators=200; neg_root_mean_squared_error: (test=-4502.058) r2: (test=-3.519) total time=   0.0s\n",
            "[CV 5/5] END gamma=0.01, learning_rate=0.001, max_depth=9, n_estimators=200; neg_root_mean_squared_error: (test=-6153.036) r2: (test=-2.037) total time=   0.1s\n",
            "[CV 1/5] END gamma=0.01, learning_rate=0.001, max_depth=9, n_estimators=500; neg_root_mean_squared_error: (test=-2773.332) r2: (test=-0.764) total time=   0.1s\n",
            "[CV 2/5] END gamma=0.01, learning_rate=0.001, max_depth=9, n_estimators=500; neg_root_mean_squared_error: (test=-2314.664) r2: (test=-1.861) total time=   0.1s\n",
            "[CV 3/5] END gamma=0.01, learning_rate=0.001, max_depth=9, n_estimators=500; neg_root_mean_squared_error: (test=-4324.997) r2: (test=-0.799) total time=   0.1s\n",
            "[CV 4/5] END gamma=0.01, learning_rate=0.001, max_depth=9, n_estimators=500; neg_root_mean_squared_error: (test=-3483.136) r2: (test=-1.705) total time=   0.1s\n",
            "[CV 5/5] END gamma=0.01, learning_rate=0.001, max_depth=9, n_estimators=500; neg_root_mean_squared_error: (test=-4993.116) r2: (test=-1.000) total time=   0.1s\n",
            "[CV 1/5] END gamma=0.01, learning_rate=0.01, max_depth=3, n_estimators=100; neg_root_mean_squared_error: (test=-1793.156) r2: (test=0.263) total time=   0.0s\n",
            "[CV 2/5] END gamma=0.01, learning_rate=0.01, max_depth=3, n_estimators=100; neg_root_mean_squared_error: (test=-1305.820) r2: (test=0.089) total time=   0.0s\n",
            "[CV 3/5] END gamma=0.01, learning_rate=0.01, max_depth=3, n_estimators=100; neg_root_mean_squared_error: (test=-2907.486) r2: (test=0.187) total time=   0.0s\n",
            "[CV 4/5] END gamma=0.01, learning_rate=0.01, max_depth=3, n_estimators=100; neg_root_mean_squared_error: (test=-2306.288) r2: (test=-0.186) total time=   0.0s\n",
            "[CV 5/5] END gamma=0.01, learning_rate=0.01, max_depth=3, n_estimators=100; neg_root_mean_squared_error: (test=-3591.662) r2: (test=-0.035) total time=   0.0s\n",
            "[CV 1/5] END gamma=0.01, learning_rate=0.01, max_depth=3, n_estimators=200; neg_root_mean_squared_error: (test=-929.587) r2: (test=0.802) total time=   0.0s\n",
            "[CV 2/5] END gamma=0.01, learning_rate=0.01, max_depth=3, n_estimators=200; neg_root_mean_squared_error: (test=-556.506) r2: (test=0.835) total time=   0.1s\n",
            "[CV 3/5] END gamma=0.01, learning_rate=0.01, max_depth=3, n_estimators=200; neg_root_mean_squared_error: (test=-1572.498) r2: (test=0.762) total time=   0.0s\n",
            "[CV 4/5] END gamma=0.01, learning_rate=0.01, max_depth=3, n_estimators=200; neg_root_mean_squared_error: (test=-1110.376) r2: (test=0.725) total time=   0.0s\n",
            "[CV 5/5] END gamma=0.01, learning_rate=0.01, max_depth=3, n_estimators=200; neg_root_mean_squared_error: (test=-2019.117) r2: (test=0.673) total time=   0.0s\n",
            "[CV 1/5] END gamma=0.01, learning_rate=0.01, max_depth=3, n_estimators=500; neg_root_mean_squared_error: (test=-570.518) r2: (test=0.925) total time=   0.1s\n",
            "[CV 2/5] END gamma=0.01, learning_rate=0.01, max_depth=3, n_estimators=500; neg_root_mean_squared_error: (test=-604.954) r2: (test=0.805) total time=   0.1s\n",
            "[CV 3/5] END gamma=0.01, learning_rate=0.01, max_depth=3, n_estimators=500; neg_root_mean_squared_error: (test=-844.512) r2: (test=0.931) total time=   0.1s\n",
            "[CV 4/5] END gamma=0.01, learning_rate=0.01, max_depth=3, n_estimators=500; neg_root_mean_squared_error: (test=-532.947) r2: (test=0.937) total time=   0.1s\n",
            "[CV 5/5] END gamma=0.01, learning_rate=0.01, max_depth=3, n_estimators=500; neg_root_mean_squared_error: (test=-682.076) r2: (test=0.963) total time=   0.1s\n",
            "[CV 1/5] END gamma=0.01, learning_rate=0.01, max_depth=6, n_estimators=100; neg_root_mean_squared_error: (test=-1753.033) r2: (test=0.295) total time=   0.0s\n",
            "[CV 2/5] END gamma=0.01, learning_rate=0.01, max_depth=6, n_estimators=100; neg_root_mean_squared_error: (test=-1324.462) r2: (test=0.063) total time=   0.0s\n",
            "[CV 3/5] END gamma=0.01, learning_rate=0.01, max_depth=6, n_estimators=100; neg_root_mean_squared_error: (test=-2887.449) r2: (test=0.198) total time=   0.0s\n",
            "[CV 4/5] END gamma=0.01, learning_rate=0.01, max_depth=6, n_estimators=100; neg_root_mean_squared_error: (test=-2270.859) r2: (test=-0.150) total time=   0.0s\n",
            "[CV 5/5] END gamma=0.01, learning_rate=0.01, max_depth=6, n_estimators=100; neg_root_mean_squared_error: (test=-3582.750) r2: (test=-0.030) total time=   0.0s\n",
            "[CV 1/5] END gamma=0.01, learning_rate=0.01, max_depth=6, n_estimators=200; neg_root_mean_squared_error: (test=-846.383) r2: (test=0.836) total time=   0.0s\n",
            "[CV 2/5] END gamma=0.01, learning_rate=0.01, max_depth=6, n_estimators=200; neg_root_mean_squared_error: (test=-532.924) r2: (test=0.848) total time=   0.1s\n",
            "[CV 3/5] END gamma=0.01, learning_rate=0.01, max_depth=6, n_estimators=200; neg_root_mean_squared_error: (test=-1525.892) r2: (test=0.776) total time=   0.1s\n",
            "[CV 4/5] END gamma=0.01, learning_rate=0.01, max_depth=6, n_estimators=200; neg_root_mean_squared_error: (test=-1044.083) r2: (test=0.757) total time=   0.0s\n",
            "[CV 5/5] END gamma=0.01, learning_rate=0.01, max_depth=6, n_estimators=200; neg_root_mean_squared_error: (test=-1983.383) r2: (test=0.684) total time=   0.0s\n",
            "[CV 1/5] END gamma=0.01, learning_rate=0.01, max_depth=6, n_estimators=500; neg_root_mean_squared_error: (test=-463.755) r2: (test=0.951) total time=   0.1s\n",
            "[CV 2/5] END gamma=0.01, learning_rate=0.01, max_depth=6, n_estimators=500; neg_root_mean_squared_error: (test=-570.017) r2: (test=0.826) total time=   0.1s\n",
            "[CV 3/5] END gamma=0.01, learning_rate=0.01, max_depth=6, n_estimators=500; neg_root_mean_squared_error: (test=-783.065) r2: (test=0.941) total time=   0.2s\n",
            "[CV 4/5] END gamma=0.01, learning_rate=0.01, max_depth=6, n_estimators=500; neg_root_mean_squared_error: (test=-489.314) r2: (test=0.947) total time=   0.1s\n",
            "[CV 5/5] END gamma=0.01, learning_rate=0.01, max_depth=6, n_estimators=500; neg_root_mean_squared_error: (test=-627.407) r2: (test=0.968) total time=   0.1s\n",
            "[CV 1/5] END gamma=0.01, learning_rate=0.01, max_depth=9, n_estimators=100; neg_root_mean_squared_error: (test=-1753.033) r2: (test=0.295) total time=   0.0s\n",
            "[CV 2/5] END gamma=0.01, learning_rate=0.01, max_depth=9, n_estimators=100; neg_root_mean_squared_error: (test=-1324.462) r2: (test=0.063) total time=   0.0s\n",
            "[CV 3/5] END gamma=0.01, learning_rate=0.01, max_depth=9, n_estimators=100; neg_root_mean_squared_error: (test=-2887.449) r2: (test=0.198) total time=   0.0s\n",
            "[CV 4/5] END gamma=0.01, learning_rate=0.01, max_depth=9, n_estimators=100; neg_root_mean_squared_error: (test=-2270.859) r2: (test=-0.150) total time=   0.0s\n",
            "[CV 5/5] END gamma=0.01, learning_rate=0.01, max_depth=9, n_estimators=100; neg_root_mean_squared_error: (test=-3582.750) r2: (test=-0.030) total time=   0.0s\n",
            "[CV 1/5] END gamma=0.01, learning_rate=0.01, max_depth=9, n_estimators=200; neg_root_mean_squared_error: (test=-842.673) r2: (test=0.837) total time=   0.0s\n",
            "[CV 2/5] END gamma=0.01, learning_rate=0.01, max_depth=9, n_estimators=200; neg_root_mean_squared_error: (test=-528.143) r2: (test=0.851) total time=   0.0s\n",
            "[CV 3/5] END gamma=0.01, learning_rate=0.01, max_depth=9, n_estimators=200; neg_root_mean_squared_error: (test=-1520.725) r2: (test=0.778) total time=   0.1s\n",
            "[CV 4/5] END gamma=0.01, learning_rate=0.01, max_depth=9, n_estimators=200; neg_root_mean_squared_error: (test=-1044.609) r2: (test=0.757) total time=   0.1s\n",
            "[CV 5/5] END gamma=0.01, learning_rate=0.01, max_depth=9, n_estimators=200; neg_root_mean_squared_error: (test=-1982.672) r2: (test=0.685) total time=   0.1s\n",
            "[CV 1/5] END gamma=0.01, learning_rate=0.01, max_depth=9, n_estimators=500; neg_root_mean_squared_error: (test=-450.430) r2: (test=0.953) total time=   0.2s\n",
            "[CV 2/5] END gamma=0.01, learning_rate=0.01, max_depth=9, n_estimators=500; neg_root_mean_squared_error: (test=-572.388) r2: (test=0.825) total time=   0.2s\n",
            "[CV 3/5] END gamma=0.01, learning_rate=0.01, max_depth=9, n_estimators=500; neg_root_mean_squared_error: (test=-805.763) r2: (test=0.938) total time=   0.1s\n",
            "[CV 4/5] END gamma=0.01, learning_rate=0.01, max_depth=9, n_estimators=500; neg_root_mean_squared_error: (test=-496.707) r2: (test=0.945) total time=   0.2s\n",
            "[CV 5/5] END gamma=0.01, learning_rate=0.01, max_depth=9, n_estimators=500; neg_root_mean_squared_error: (test=-633.981) r2: (test=0.968) total time=   0.2s\n",
            "[CV 1/5] END gamma=0.01, learning_rate=0.1, max_depth=3, n_estimators=100; neg_root_mean_squared_error: (test=-544.533) r2: (test=0.932) total time=   0.0s\n",
            "[CV 2/5] END gamma=0.01, learning_rate=0.1, max_depth=3, n_estimators=100; neg_root_mean_squared_error: (test=-650.678) r2: (test=0.774) total time=   0.0s\n",
            "[CV 3/5] END gamma=0.01, learning_rate=0.1, max_depth=3, n_estimators=100; neg_root_mean_squared_error: (test=-762.690) r2: (test=0.944) total time=   0.0s\n",
            "[CV 4/5] END gamma=0.01, learning_rate=0.1, max_depth=3, n_estimators=100; neg_root_mean_squared_error: (test=-557.729) r2: (test=0.931) total time=   0.0s\n",
            "[CV 5/5] END gamma=0.01, learning_rate=0.1, max_depth=3, n_estimators=100; neg_root_mean_squared_error: (test=-462.687) r2: (test=0.983) total time=   0.0s\n",
            "[CV 1/5] END gamma=0.01, learning_rate=0.1, max_depth=3, n_estimators=200; neg_root_mean_squared_error: (test=-529.313) r2: (test=0.936) total time=   0.0s\n",
            "[CV 2/5] END gamma=0.01, learning_rate=0.1, max_depth=3, n_estimators=200; neg_root_mean_squared_error: (test=-726.391) r2: (test=0.718) total time=   0.0s\n",
            "[CV 3/5] END gamma=0.01, learning_rate=0.1, max_depth=3, n_estimators=200; neg_root_mean_squared_error: (test=-782.821) r2: (test=0.941) total time=   0.1s\n",
            "[CV 4/5] END gamma=0.01, learning_rate=0.1, max_depth=3, n_estimators=200; neg_root_mean_squared_error: (test=-562.549) r2: (test=0.929) total time=   0.0s\n",
            "[CV 5/5] END gamma=0.01, learning_rate=0.1, max_depth=3, n_estimators=200; neg_root_mean_squared_error: (test=-415.288) r2: (test=0.986) total time=   0.0s\n",
            "[CV 1/5] END gamma=0.01, learning_rate=0.1, max_depth=3, n_estimators=500; neg_root_mean_squared_error: (test=-546.478) r2: (test=0.932) total time=   0.1s\n",
            "[CV 2/5] END gamma=0.01, learning_rate=0.1, max_depth=3, n_estimators=500; neg_root_mean_squared_error: (test=-737.524) r2: (test=0.710) total time=   0.1s\n",
            "[CV 3/5] END gamma=0.01, learning_rate=0.1, max_depth=3, n_estimators=500; neg_root_mean_squared_error: (test=-833.985) r2: (test=0.933) total time=   0.1s\n",
            "[CV 4/5] END gamma=0.01, learning_rate=0.1, max_depth=3, n_estimators=500; neg_root_mean_squared_error: (test=-584.473) r2: (test=0.924) total time=   0.1s\n",
            "[CV 5/5] END gamma=0.01, learning_rate=0.1, max_depth=3, n_estimators=500; neg_root_mean_squared_error: (test=-407.200) r2: (test=0.987) total time=   0.1s\n",
            "[CV 1/5] END gamma=0.01, learning_rate=0.1, max_depth=6, n_estimators=100; neg_root_mean_squared_error: (test=-476.777) r2: (test=0.948) total time=   0.0s\n",
            "[CV 2/5] END gamma=0.01, learning_rate=0.1, max_depth=6, n_estimators=100; neg_root_mean_squared_error: (test=-695.037) r2: (test=0.742) total time=   0.0s\n",
            "[CV 3/5] END gamma=0.01, learning_rate=0.1, max_depth=6, n_estimators=100; neg_root_mean_squared_error: (test=-758.921) r2: (test=0.945) total time=   0.0s\n",
            "[CV 4/5] END gamma=0.01, learning_rate=0.1, max_depth=6, n_estimators=100; neg_root_mean_squared_error: (test=-613.329) r2: (test=0.916) total time=   0.0s\n",
            "[CV 5/5] END gamma=0.01, learning_rate=0.1, max_depth=6, n_estimators=100; neg_root_mean_squared_error: (test=-408.854) r2: (test=0.987) total time=   0.0s\n",
            "[CV 1/5] END gamma=0.01, learning_rate=0.1, max_depth=6, n_estimators=200; neg_root_mean_squared_error: (test=-482.890) r2: (test=0.947) total time=   0.1s\n",
            "[CV 2/5] END gamma=0.01, learning_rate=0.1, max_depth=6, n_estimators=200; neg_root_mean_squared_error: (test=-714.142) r2: (test=0.728) total time=   0.1s\n",
            "[CV 3/5] END gamma=0.01, learning_rate=0.1, max_depth=6, n_estimators=200; neg_root_mean_squared_error: (test=-761.254) r2: (test=0.944) total time=   0.1s\n",
            "[CV 4/5] END gamma=0.01, learning_rate=0.1, max_depth=6, n_estimators=200; neg_root_mean_squared_error: (test=-631.008) r2: (test=0.911) total time=   0.1s\n",
            "[CV 5/5] END gamma=0.01, learning_rate=0.1, max_depth=6, n_estimators=200; neg_root_mean_squared_error: (test=-411.875) r2: (test=0.986) total time=   0.1s\n",
            "[CV 1/5] END gamma=0.01, learning_rate=0.1, max_depth=6, n_estimators=500; neg_root_mean_squared_error: (test=-484.298) r2: (test=0.946) total time=   0.2s\n",
            "[CV 2/5] END gamma=0.01, learning_rate=0.1, max_depth=6, n_estimators=500; neg_root_mean_squared_error: (test=-716.294) r2: (test=0.726) total time=   0.1s\n",
            "[CV 3/5] END gamma=0.01, learning_rate=0.1, max_depth=6, n_estimators=500; neg_root_mean_squared_error: (test=-762.621) r2: (test=0.944) total time=   0.2s\n",
            "[CV 4/5] END gamma=0.01, learning_rate=0.1, max_depth=6, n_estimators=500; neg_root_mean_squared_error: (test=-632.011) r2: (test=0.911) total time=   0.2s\n",
            "[CV 5/5] END gamma=0.01, learning_rate=0.1, max_depth=6, n_estimators=500; neg_root_mean_squared_error: (test=-413.692) r2: (test=0.986) total time=   0.2s\n",
            "[CV 1/5] END gamma=0.01, learning_rate=0.1, max_depth=9, n_estimators=100; neg_root_mean_squared_error: (test=-449.064) r2: (test=0.954) total time=   0.0s\n",
            "[CV 2/5] END gamma=0.01, learning_rate=0.1, max_depth=9, n_estimators=100; neg_root_mean_squared_error: (test=-675.072) r2: (test=0.757) total time=   0.0s\n",
            "[CV 3/5] END gamma=0.01, learning_rate=0.1, max_depth=9, n_estimators=100; neg_root_mean_squared_error: (test=-797.463) r2: (test=0.939) total time=   0.0s\n",
            "[CV 4/5] END gamma=0.01, learning_rate=0.1, max_depth=9, n_estimators=100; neg_root_mean_squared_error: (test=-650.752) r2: (test=0.906) total time=   0.0s\n",
            "[CV 5/5] END gamma=0.01, learning_rate=0.1, max_depth=9, n_estimators=100; neg_root_mean_squared_error: (test=-516.383) r2: (test=0.979) total time=   0.1s\n",
            "[CV 1/5] END gamma=0.01, learning_rate=0.1, max_depth=9, n_estimators=200; neg_root_mean_squared_error: (test=-449.285) r2: (test=0.954) total time=   0.1s\n",
            "[CV 2/5] END gamma=0.01, learning_rate=0.1, max_depth=9, n_estimators=200; neg_root_mean_squared_error: (test=-683.659) r2: (test=0.750) total time=   0.1s\n",
            "[CV 3/5] END gamma=0.01, learning_rate=0.1, max_depth=9, n_estimators=200; neg_root_mean_squared_error: (test=-798.993) r2: (test=0.939) total time=   0.1s\n",
            "[CV 4/5] END gamma=0.01, learning_rate=0.1, max_depth=9, n_estimators=200; neg_root_mean_squared_error: (test=-664.246) r2: (test=0.902) total time=   0.1s\n",
            "[CV 5/5] END gamma=0.01, learning_rate=0.1, max_depth=9, n_estimators=200; neg_root_mean_squared_error: (test=-517.940) r2: (test=0.978) total time=   0.1s\n",
            "[CV 1/5] END gamma=0.01, learning_rate=0.1, max_depth=9, n_estimators=500; neg_root_mean_squared_error: (test=-449.307) r2: (test=0.954) total time=   0.2s\n",
            "[CV 2/5] END gamma=0.01, learning_rate=0.1, max_depth=9, n_estimators=500; neg_root_mean_squared_error: (test=-683.691) r2: (test=0.750) total time=   0.2s\n",
            "[CV 3/5] END gamma=0.01, learning_rate=0.1, max_depth=9, n_estimators=500; neg_root_mean_squared_error: (test=-799.003) r2: (test=0.939) total time=   2.0s\n",
            "[CV 4/5] END gamma=0.01, learning_rate=0.1, max_depth=9, n_estimators=500; neg_root_mean_squared_error: (test=-664.262) r2: (test=0.902) total time=   0.2s\n",
            "[CV 5/5] END gamma=0.01, learning_rate=0.1, max_depth=9, n_estimators=500; neg_root_mean_squared_error: (test=-518.023) r2: (test=0.978) total time=   0.2s\n",
            "[CV 1/5] END gamma=0.01, learning_rate=1, max_depth=3, n_estimators=100; neg_root_mean_squared_error: (test=-611.363) r2: (test=0.914) total time=   0.0s\n",
            "[CV 2/5] END gamma=0.01, learning_rate=1, max_depth=3, n_estimators=100; neg_root_mean_squared_error: (test=-782.051) r2: (test=0.673) total time=   0.0s\n",
            "[CV 3/5] END gamma=0.01, learning_rate=1, max_depth=3, n_estimators=100; neg_root_mean_squared_error: (test=-756.411) r2: (test=0.945) total time=   0.0s\n",
            "[CV 4/5] END gamma=0.01, learning_rate=1, max_depth=3, n_estimators=100; neg_root_mean_squared_error: (test=-894.672) r2: (test=0.822) total time=   0.0s\n",
            "[CV 5/5] END gamma=0.01, learning_rate=1, max_depth=3, n_estimators=100; neg_root_mean_squared_error: (test=-1121.951) r2: (test=0.899) total time=   0.0s\n",
            "[CV 1/5] END gamma=0.01, learning_rate=1, max_depth=3, n_estimators=200; neg_root_mean_squared_error: (test=-610.303) r2: (test=0.915) total time=   0.0s\n",
            "[CV 2/5] END gamma=0.01, learning_rate=1, max_depth=3, n_estimators=200; neg_root_mean_squared_error: (test=-783.013) r2: (test=0.673) total time=   0.0s\n",
            "[CV 3/5] END gamma=0.01, learning_rate=1, max_depth=3, n_estimators=200; neg_root_mean_squared_error: (test=-757.054) r2: (test=0.945) total time=   0.0s\n",
            "[CV 4/5] END gamma=0.01, learning_rate=1, max_depth=3, n_estimators=200; neg_root_mean_squared_error: (test=-890.024) r2: (test=0.823) total time=   0.0s\n",
            "[CV 5/5] END gamma=0.01, learning_rate=1, max_depth=3, n_estimators=200; neg_root_mean_squared_error: (test=-1127.299) r2: (test=0.898) total time=   0.0s\n",
            "[CV 1/5] END gamma=0.01, learning_rate=1, max_depth=3, n_estimators=500; neg_root_mean_squared_error: (test=-610.620) r2: (test=0.915) total time=   0.1s\n",
            "[CV 2/5] END gamma=0.01, learning_rate=1, max_depth=3, n_estimators=500; neg_root_mean_squared_error: (test=-783.049) r2: (test=0.673) total time=   0.1s\n",
            "[CV 3/5] END gamma=0.01, learning_rate=1, max_depth=3, n_estimators=500; neg_root_mean_squared_error: (test=-756.790) r2: (test=0.945) total time=   0.1s\n",
            "[CV 4/5] END gamma=0.01, learning_rate=1, max_depth=3, n_estimators=500; neg_root_mean_squared_error: (test=-888.897) r2: (test=0.824) total time=   0.1s\n",
            "[CV 5/5] END gamma=0.01, learning_rate=1, max_depth=3, n_estimators=500; neg_root_mean_squared_error: (test=-1127.817) r2: (test=0.898) total time=   0.1s\n",
            "[CV 1/5] END gamma=0.01, learning_rate=1, max_depth=6, n_estimators=100; neg_root_mean_squared_error: (test=-630.839) r2: (test=0.909) total time=   0.0s\n",
            "[CV 2/5] END gamma=0.01, learning_rate=1, max_depth=6, n_estimators=100; neg_root_mean_squared_error: (test=-929.843) r2: (test=0.538) total time=   0.0s\n",
            "[CV 3/5] END gamma=0.01, learning_rate=1, max_depth=6, n_estimators=100; neg_root_mean_squared_error: (test=-741.635) r2: (test=0.947) total time=   0.0s\n",
            "[CV 4/5] END gamma=0.01, learning_rate=1, max_depth=6, n_estimators=100; neg_root_mean_squared_error: (test=-829.190) r2: (test=0.847) total time=   0.0s\n",
            "[CV 5/5] END gamma=0.01, learning_rate=1, max_depth=6, n_estimators=100; neg_root_mean_squared_error: (test=-1361.734) r2: (test=0.851) total time=   0.0s\n",
            "[CV 1/5] END gamma=0.01, learning_rate=1, max_depth=6, n_estimators=200; neg_root_mean_squared_error: (test=-630.839) r2: (test=0.909) total time=   0.1s\n",
            "[CV 2/5] END gamma=0.01, learning_rate=1, max_depth=6, n_estimators=200; neg_root_mean_squared_error: (test=-929.843) r2: (test=0.538) total time=   0.1s\n",
            "[CV 3/5] END gamma=0.01, learning_rate=1, max_depth=6, n_estimators=200; neg_root_mean_squared_error: (test=-741.635) r2: (test=0.947) total time=   0.1s\n",
            "[CV 4/5] END gamma=0.01, learning_rate=1, max_depth=6, n_estimators=200; neg_root_mean_squared_error: (test=-829.190) r2: (test=0.847) total time=   0.1s\n",
            "[CV 5/5] END gamma=0.01, learning_rate=1, max_depth=6, n_estimators=200; neg_root_mean_squared_error: (test=-1361.734) r2: (test=0.851) total time=   0.1s\n",
            "[CV 1/5] END gamma=0.01, learning_rate=1, max_depth=6, n_estimators=500; neg_root_mean_squared_error: (test=-630.839) r2: (test=0.909) total time=   0.1s\n",
            "[CV 2/5] END gamma=0.01, learning_rate=1, max_depth=6, n_estimators=500; neg_root_mean_squared_error: (test=-929.843) r2: (test=0.538) total time=   0.1s\n",
            "[CV 3/5] END gamma=0.01, learning_rate=1, max_depth=6, n_estimators=500; neg_root_mean_squared_error: (test=-741.635) r2: (test=0.947) total time=   0.1s\n",
            "[CV 4/5] END gamma=0.01, learning_rate=1, max_depth=6, n_estimators=500; neg_root_mean_squared_error: (test=-829.190) r2: (test=0.847) total time=   0.1s\n",
            "[CV 5/5] END gamma=0.01, learning_rate=1, max_depth=6, n_estimators=500; neg_root_mean_squared_error: (test=-1361.734) r2: (test=0.851) total time=   0.1s\n",
            "[CV 1/5] END gamma=0.01, learning_rate=1, max_depth=9, n_estimators=100; neg_root_mean_squared_error: (test=-546.022) r2: (test=0.932) total time=   0.0s\n",
            "[CV 2/5] END gamma=0.01, learning_rate=1, max_depth=9, n_estimators=100; neg_root_mean_squared_error: (test=-968.954) r2: (test=0.499) total time=   0.0s\n",
            "[CV 3/5] END gamma=0.01, learning_rate=1, max_depth=9, n_estimators=100; neg_root_mean_squared_error: (test=-821.916) r2: (test=0.935) total time=   0.1s\n",
            "[CV 4/5] END gamma=0.01, learning_rate=1, max_depth=9, n_estimators=100; neg_root_mean_squared_error: (test=-997.611) r2: (test=0.778) total time=   0.0s\n",
            "[CV 5/5] END gamma=0.01, learning_rate=1, max_depth=9, n_estimators=100; neg_root_mean_squared_error: (test=-1414.098) r2: (test=0.840) total time=   0.0s\n",
            "[CV 1/5] END gamma=0.01, learning_rate=1, max_depth=9, n_estimators=200; neg_root_mean_squared_error: (test=-546.022) r2: (test=0.932) total time=   0.1s\n",
            "[CV 2/5] END gamma=0.01, learning_rate=1, max_depth=9, n_estimators=200; neg_root_mean_squared_error: (test=-968.954) r2: (test=0.499) total time=   0.1s\n",
            "[CV 3/5] END gamma=0.01, learning_rate=1, max_depth=9, n_estimators=200; neg_root_mean_squared_error: (test=-821.916) r2: (test=0.935) total time=   0.1s\n",
            "[CV 4/5] END gamma=0.01, learning_rate=1, max_depth=9, n_estimators=200; neg_root_mean_squared_error: (test=-997.611) r2: (test=0.778) total time=   0.1s\n",
            "[CV 5/5] END gamma=0.01, learning_rate=1, max_depth=9, n_estimators=200; neg_root_mean_squared_error: (test=-1414.098) r2: (test=0.840) total time=   0.1s\n",
            "[CV 1/5] END gamma=0.01, learning_rate=1, max_depth=9, n_estimators=500; neg_root_mean_squared_error: (test=-546.022) r2: (test=0.932) total time=   0.2s\n",
            "[CV 2/5] END gamma=0.01, learning_rate=1, max_depth=9, n_estimators=500; neg_root_mean_squared_error: (test=-968.954) r2: (test=0.499) total time=   0.2s\n",
            "[CV 3/5] END gamma=0.01, learning_rate=1, max_depth=9, n_estimators=500; neg_root_mean_squared_error: (test=-821.916) r2: (test=0.935) total time=   0.2s\n",
            "[CV 4/5] END gamma=0.01, learning_rate=1, max_depth=9, n_estimators=500; neg_root_mean_squared_error: (test=-997.611) r2: (test=0.778) total time=   0.2s\n",
            "[CV 5/5] END gamma=0.01, learning_rate=1, max_depth=9, n_estimators=500; neg_root_mean_squared_error: (test=-1414.098) r2: (test=0.840) total time=   0.2s\n",
            "[CV 1/5] END gamma=0.1, learning_rate=0.001, max_depth=3, n_estimators=100; neg_root_mean_squared_error: (test=-4148.627) r2: (test=-2.946) total time=   0.0s\n",
            "[CV 2/5] END gamma=0.1, learning_rate=0.001, max_depth=3, n_estimators=100; neg_root_mean_squared_error: (test=-3471.287) r2: (test=-5.435) total time=   0.0s\n",
            "[CV 3/5] END gamma=0.1, learning_rate=0.001, max_depth=3, n_estimators=100; neg_root_mean_squared_error: (test=-6010.889) r2: (test=-2.475) total time=   0.0s\n",
            "[CV 4/5] END gamma=0.1, learning_rate=0.001, max_depth=3, n_estimators=100; neg_root_mean_squared_error: (test=-4910.856) r2: (test=-4.377) total time=   0.0s\n",
            "[CV 5/5] END gamma=0.1, learning_rate=0.001, max_depth=3, n_estimators=100; neg_root_mean_squared_error: (test=-6569.096) r2: (test=-2.462) total time=   0.0s\n",
            "[CV 1/5] END gamma=0.1, learning_rate=0.001, max_depth=3, n_estimators=200; neg_root_mean_squared_error: (test=-3745.023) r2: (test=-2.216) total time=   0.0s\n",
            "[CV 2/5] END gamma=0.1, learning_rate=0.001, max_depth=3, n_estimators=200; neg_root_mean_squared_error: (test=-3174.354) r2: (test=-4.381) total time=   0.0s\n",
            "[CV 3/5] END gamma=0.1, learning_rate=0.001, max_depth=3, n_estimators=200; neg_root_mean_squared_error: (test=-5527.289) r2: (test=-1.939) total time=   0.1s\n",
            "[CV 4/5] END gamma=0.1, learning_rate=0.001, max_depth=3, n_estimators=200; neg_root_mean_squared_error: (test=-4502.058) r2: (test=-3.519) total time=   0.0s\n",
            "[CV 5/5] END gamma=0.1, learning_rate=0.001, max_depth=3, n_estimators=200; neg_root_mean_squared_error: (test=-6153.036) r2: (test=-2.037) total time=   0.0s\n",
            "[CV 1/5] END gamma=0.1, learning_rate=0.001, max_depth=3, n_estimators=500; neg_root_mean_squared_error: (test=-2781.698) r2: (test=-0.774) total time=   0.1s\n",
            "[CV 2/5] END gamma=0.1, learning_rate=0.001, max_depth=3, n_estimators=500; neg_root_mean_squared_error: (test=-2313.257) r2: (test=-1.858) total time=   0.1s\n",
            "[CV 3/5] END gamma=0.1, learning_rate=0.001, max_depth=3, n_estimators=500; neg_root_mean_squared_error: (test=-4324.997) r2: (test=-0.799) total time=   0.1s\n",
            "[CV 4/5] END gamma=0.1, learning_rate=0.001, max_depth=3, n_estimators=500; neg_root_mean_squared_error: (test=-3490.076) r2: (test=-1.716) total time=   0.1s\n",
            "[CV 5/5] END gamma=0.1, learning_rate=0.001, max_depth=3, n_estimators=500; neg_root_mean_squared_error: (test=-4993.954) r2: (test=-1.001) total time=   0.1s\n",
            "[CV 1/5] END gamma=0.1, learning_rate=0.001, max_depth=6, n_estimators=100; neg_root_mean_squared_error: (test=-4148.627) r2: (test=-2.946) total time=   0.0s\n",
            "[CV 2/5] END gamma=0.1, learning_rate=0.001, max_depth=6, n_estimators=100; neg_root_mean_squared_error: (test=-3471.287) r2: (test=-5.435) total time=   0.0s\n",
            "[CV 3/5] END gamma=0.1, learning_rate=0.001, max_depth=6, n_estimators=100; neg_root_mean_squared_error: (test=-6010.889) r2: (test=-2.475) total time=   0.0s\n",
            "[CV 4/5] END gamma=0.1, learning_rate=0.001, max_depth=6, n_estimators=100; neg_root_mean_squared_error: (test=-4910.856) r2: (test=-4.377) total time=   0.0s\n",
            "[CV 5/5] END gamma=0.1, learning_rate=0.001, max_depth=6, n_estimators=100; neg_root_mean_squared_error: (test=-6569.096) r2: (test=-2.462) total time=   0.0s\n",
            "[CV 1/5] END gamma=0.1, learning_rate=0.001, max_depth=6, n_estimators=200; neg_root_mean_squared_error: (test=-3745.023) r2: (test=-2.216) total time=   0.0s\n",
            "[CV 2/5] END gamma=0.1, learning_rate=0.001, max_depth=6, n_estimators=200; neg_root_mean_squared_error: (test=-3174.354) r2: (test=-4.381) total time=   0.0s\n",
            "[CV 3/5] END gamma=0.1, learning_rate=0.001, max_depth=6, n_estimators=200; neg_root_mean_squared_error: (test=-5527.289) r2: (test=-1.939) total time=   0.0s\n",
            "[CV 4/5] END gamma=0.1, learning_rate=0.001, max_depth=6, n_estimators=200; neg_root_mean_squared_error: (test=-4502.058) r2: (test=-3.519) total time=   0.0s\n",
            "[CV 5/5] END gamma=0.1, learning_rate=0.001, max_depth=6, n_estimators=200; neg_root_mean_squared_error: (test=-6153.036) r2: (test=-2.037) total time=   0.0s\n",
            "[CV 1/5] END gamma=0.1, learning_rate=0.001, max_depth=6, n_estimators=500; neg_root_mean_squared_error: (test=-2773.332) r2: (test=-0.764) total time=   0.1s\n",
            "[CV 2/5] END gamma=0.1, learning_rate=0.001, max_depth=6, n_estimators=500; neg_root_mean_squared_error: (test=-2314.664) r2: (test=-1.861) total time=   0.1s\n",
            "[CV 3/5] END gamma=0.1, learning_rate=0.001, max_depth=6, n_estimators=500; neg_root_mean_squared_error: (test=-4324.997) r2: (test=-0.799) total time=   0.1s\n",
            "[CV 4/5] END gamma=0.1, learning_rate=0.001, max_depth=6, n_estimators=500; neg_root_mean_squared_error: (test=-3483.136) r2: (test=-1.705) total time=   0.1s\n",
            "[CV 5/5] END gamma=0.1, learning_rate=0.001, max_depth=6, n_estimators=500; neg_root_mean_squared_error: (test=-4993.116) r2: (test=-1.000) total time=   0.1s\n",
            "[CV 1/5] END gamma=0.1, learning_rate=0.001, max_depth=9, n_estimators=100; neg_root_mean_squared_error: (test=-4148.627) r2: (test=-2.946) total time=   0.0s\n",
            "[CV 2/5] END gamma=0.1, learning_rate=0.001, max_depth=9, n_estimators=100; neg_root_mean_squared_error: (test=-3471.287) r2: (test=-5.435) total time=   0.0s\n",
            "[CV 3/5] END gamma=0.1, learning_rate=0.001, max_depth=9, n_estimators=100; neg_root_mean_squared_error: (test=-6010.889) r2: (test=-2.475) total time=   0.0s\n",
            "[CV 4/5] END gamma=0.1, learning_rate=0.001, max_depth=9, n_estimators=100; neg_root_mean_squared_error: (test=-4910.856) r2: (test=-4.377) total time=   0.0s\n",
            "[CV 5/5] END gamma=0.1, learning_rate=0.001, max_depth=9, n_estimators=100; neg_root_mean_squared_error: (test=-6569.096) r2: (test=-2.462) total time=   0.0s\n",
            "[CV 1/5] END gamma=0.1, learning_rate=0.001, max_depth=9, n_estimators=200; neg_root_mean_squared_error: (test=-3745.023) r2: (test=-2.216) total time=   0.1s\n",
            "[CV 2/5] END gamma=0.1, learning_rate=0.001, max_depth=9, n_estimators=200; neg_root_mean_squared_error: (test=-3174.354) r2: (test=-4.381) total time=   0.0s\n",
            "[CV 3/5] END gamma=0.1, learning_rate=0.001, max_depth=9, n_estimators=200; neg_root_mean_squared_error: (test=-5527.289) r2: (test=-1.939) total time=   0.0s\n",
            "[CV 4/5] END gamma=0.1, learning_rate=0.001, max_depth=9, n_estimators=200; neg_root_mean_squared_error: (test=-4502.058) r2: (test=-3.519) total time=   0.0s\n",
            "[CV 5/5] END gamma=0.1, learning_rate=0.001, max_depth=9, n_estimators=200; neg_root_mean_squared_error: (test=-6153.036) r2: (test=-2.037) total time=   0.0s\n",
            "[CV 1/5] END gamma=0.1, learning_rate=0.001, max_depth=9, n_estimators=500; neg_root_mean_squared_error: (test=-2773.332) r2: (test=-0.764) total time=   0.1s\n",
            "[CV 2/5] END gamma=0.1, learning_rate=0.001, max_depth=9, n_estimators=500; neg_root_mean_squared_error: (test=-2314.664) r2: (test=-1.861) total time=   0.1s\n",
            "[CV 3/5] END gamma=0.1, learning_rate=0.001, max_depth=9, n_estimators=500; neg_root_mean_squared_error: (test=-4324.997) r2: (test=-0.799) total time=   0.1s\n",
            "[CV 4/5] END gamma=0.1, learning_rate=0.001, max_depth=9, n_estimators=500; neg_root_mean_squared_error: (test=-3483.136) r2: (test=-1.705) total time=   0.1s\n",
            "[CV 5/5] END gamma=0.1, learning_rate=0.001, max_depth=9, n_estimators=500; neg_root_mean_squared_error: (test=-4993.116) r2: (test=-1.000) total time=   0.1s\n",
            "[CV 1/5] END gamma=0.1, learning_rate=0.01, max_depth=3, n_estimators=100; neg_root_mean_squared_error: (test=-1793.156) r2: (test=0.263) total time=   0.0s\n",
            "[CV 2/5] END gamma=0.1, learning_rate=0.01, max_depth=3, n_estimators=100; neg_root_mean_squared_error: (test=-1305.820) r2: (test=0.089) total time=   0.0s\n",
            "[CV 3/5] END gamma=0.1, learning_rate=0.01, max_depth=3, n_estimators=100; neg_root_mean_squared_error: (test=-2907.486) r2: (test=0.187) total time=   0.0s\n",
            "[CV 4/5] END gamma=0.1, learning_rate=0.01, max_depth=3, n_estimators=100; neg_root_mean_squared_error: (test=-2306.288) r2: (test=-0.186) total time=   0.0s\n",
            "[CV 5/5] END gamma=0.1, learning_rate=0.01, max_depth=3, n_estimators=100; neg_root_mean_squared_error: (test=-3591.662) r2: (test=-0.035) total time=   0.0s\n",
            "[CV 1/5] END gamma=0.1, learning_rate=0.01, max_depth=3, n_estimators=200; neg_root_mean_squared_error: (test=-929.587) r2: (test=0.802) total time=   0.0s\n",
            "[CV 2/5] END gamma=0.1, learning_rate=0.01, max_depth=3, n_estimators=200; neg_root_mean_squared_error: (test=-556.506) r2: (test=0.835) total time=   0.0s\n",
            "[CV 3/5] END gamma=0.1, learning_rate=0.01, max_depth=3, n_estimators=200; neg_root_mean_squared_error: (test=-1572.498) r2: (test=0.762) total time=   0.0s\n",
            "[CV 4/5] END gamma=0.1, learning_rate=0.01, max_depth=3, n_estimators=200; neg_root_mean_squared_error: (test=-1110.376) r2: (test=0.725) total time=   0.0s\n",
            "[CV 5/5] END gamma=0.1, learning_rate=0.01, max_depth=3, n_estimators=200; neg_root_mean_squared_error: (test=-2019.117) r2: (test=0.673) total time=   0.0s\n",
            "[CV 1/5] END gamma=0.1, learning_rate=0.01, max_depth=3, n_estimators=500; neg_root_mean_squared_error: (test=-570.518) r2: (test=0.925) total time=   0.1s\n",
            "[CV 2/5] END gamma=0.1, learning_rate=0.01, max_depth=3, n_estimators=500; neg_root_mean_squared_error: (test=-604.954) r2: (test=0.805) total time=   0.1s\n",
            "[CV 3/5] END gamma=0.1, learning_rate=0.01, max_depth=3, n_estimators=500; neg_root_mean_squared_error: (test=-844.512) r2: (test=0.931) total time=   0.1s\n",
            "[CV 4/5] END gamma=0.1, learning_rate=0.01, max_depth=3, n_estimators=500; neg_root_mean_squared_error: (test=-532.947) r2: (test=0.937) total time=   0.1s\n",
            "[CV 5/5] END gamma=0.1, learning_rate=0.01, max_depth=3, n_estimators=500; neg_root_mean_squared_error: (test=-682.076) r2: (test=0.963) total time=   0.1s\n",
            "[CV 1/5] END gamma=0.1, learning_rate=0.01, max_depth=6, n_estimators=100; neg_root_mean_squared_error: (test=-1753.033) r2: (test=0.295) total time=   0.0s\n",
            "[CV 2/5] END gamma=0.1, learning_rate=0.01, max_depth=6, n_estimators=100; neg_root_mean_squared_error: (test=-1324.462) r2: (test=0.063) total time=   0.0s\n",
            "[CV 3/5] END gamma=0.1, learning_rate=0.01, max_depth=6, n_estimators=100; neg_root_mean_squared_error: (test=-2887.449) r2: (test=0.198) total time=   0.0s\n",
            "[CV 4/5] END gamma=0.1, learning_rate=0.01, max_depth=6, n_estimators=100; neg_root_mean_squared_error: (test=-2270.859) r2: (test=-0.150) total time=   0.0s\n",
            "[CV 5/5] END gamma=0.1, learning_rate=0.01, max_depth=6, n_estimators=100; neg_root_mean_squared_error: (test=-3582.750) r2: (test=-0.030) total time=   0.0s\n",
            "[CV 1/5] END gamma=0.1, learning_rate=0.01, max_depth=6, n_estimators=200; neg_root_mean_squared_error: (test=-846.383) r2: (test=0.836) total time=   0.0s\n",
            "[CV 2/5] END gamma=0.1, learning_rate=0.01, max_depth=6, n_estimators=200; neg_root_mean_squared_error: (test=-532.924) r2: (test=0.848) total time=   0.1s\n",
            "[CV 3/5] END gamma=0.1, learning_rate=0.01, max_depth=6, n_estimators=200; neg_root_mean_squared_error: (test=-1525.892) r2: (test=0.776) total time=   0.0s\n",
            "[CV 4/5] END gamma=0.1, learning_rate=0.01, max_depth=6, n_estimators=200; neg_root_mean_squared_error: (test=-1044.083) r2: (test=0.757) total time=   0.0s\n",
            "[CV 5/5] END gamma=0.1, learning_rate=0.01, max_depth=6, n_estimators=200; neg_root_mean_squared_error: (test=-1983.383) r2: (test=0.684) total time=   0.0s\n",
            "[CV 1/5] END gamma=0.1, learning_rate=0.01, max_depth=6, n_estimators=500; neg_root_mean_squared_error: (test=-463.755) r2: (test=0.951) total time=   0.1s\n",
            "[CV 2/5] END gamma=0.1, learning_rate=0.01, max_depth=6, n_estimators=500; neg_root_mean_squared_error: (test=-570.017) r2: (test=0.826) total time=   0.1s\n",
            "[CV 3/5] END gamma=0.1, learning_rate=0.01, max_depth=6, n_estimators=500; neg_root_mean_squared_error: (test=-783.065) r2: (test=0.941) total time=   0.1s\n",
            "[CV 4/5] END gamma=0.1, learning_rate=0.01, max_depth=6, n_estimators=500; neg_root_mean_squared_error: (test=-489.314) r2: (test=0.947) total time=   0.1s\n",
            "[CV 5/5] END gamma=0.1, learning_rate=0.01, max_depth=6, n_estimators=500; neg_root_mean_squared_error: (test=-627.407) r2: (test=0.968) total time=   0.1s\n",
            "[CV 1/5] END gamma=0.1, learning_rate=0.01, max_depth=9, n_estimators=100; neg_root_mean_squared_error: (test=-1753.033) r2: (test=0.295) total time=   0.0s\n",
            "[CV 2/5] END gamma=0.1, learning_rate=0.01, max_depth=9, n_estimators=100; neg_root_mean_squared_error: (test=-1324.462) r2: (test=0.063) total time=   0.0s\n",
            "[CV 3/5] END gamma=0.1, learning_rate=0.01, max_depth=9, n_estimators=100; neg_root_mean_squared_error: (test=-2887.449) r2: (test=0.198) total time=   0.0s\n",
            "[CV 4/5] END gamma=0.1, learning_rate=0.01, max_depth=9, n_estimators=100; neg_root_mean_squared_error: (test=-2270.859) r2: (test=-0.150) total time=   0.0s\n",
            "[CV 5/5] END gamma=0.1, learning_rate=0.01, max_depth=9, n_estimators=100; neg_root_mean_squared_error: (test=-3582.750) r2: (test=-0.030) total time=   0.0s\n",
            "[CV 1/5] END gamma=0.1, learning_rate=0.01, max_depth=9, n_estimators=200; neg_root_mean_squared_error: (test=-842.673) r2: (test=0.837) total time=   0.0s\n",
            "[CV 2/5] END gamma=0.1, learning_rate=0.01, max_depth=9, n_estimators=200; neg_root_mean_squared_error: (test=-528.143) r2: (test=0.851) total time=   0.1s\n",
            "[CV 3/5] END gamma=0.1, learning_rate=0.01, max_depth=9, n_estimators=200; neg_root_mean_squared_error: (test=-1520.725) r2: (test=0.778) total time=   0.0s\n",
            "[CV 4/5] END gamma=0.1, learning_rate=0.01, max_depth=9, n_estimators=200; neg_root_mean_squared_error: (test=-1044.609) r2: (test=0.757) total time=   0.0s\n",
            "[CV 5/5] END gamma=0.1, learning_rate=0.01, max_depth=9, n_estimators=200; neg_root_mean_squared_error: (test=-1982.672) r2: (test=0.685) total time=   0.0s\n",
            "[CV 1/5] END gamma=0.1, learning_rate=0.01, max_depth=9, n_estimators=500; neg_root_mean_squared_error: (test=-450.430) r2: (test=0.953) total time=   0.1s\n",
            "[CV 2/5] END gamma=0.1, learning_rate=0.01, max_depth=9, n_estimators=500; neg_root_mean_squared_error: (test=-572.388) r2: (test=0.825) total time=   0.1s\n",
            "[CV 3/5] END gamma=0.1, learning_rate=0.01, max_depth=9, n_estimators=500; neg_root_mean_squared_error: (test=-805.763) r2: (test=0.938) total time=   0.1s\n",
            "[CV 4/5] END gamma=0.1, learning_rate=0.01, max_depth=9, n_estimators=500; neg_root_mean_squared_error: (test=-496.707) r2: (test=0.945) total time=   0.1s\n",
            "[CV 5/5] END gamma=0.1, learning_rate=0.01, max_depth=9, n_estimators=500; neg_root_mean_squared_error: (test=-633.981) r2: (test=0.968) total time=   0.2s\n",
            "[CV 1/5] END gamma=0.1, learning_rate=0.1, max_depth=3, n_estimators=100; neg_root_mean_squared_error: (test=-544.533) r2: (test=0.932) total time=   0.0s\n",
            "[CV 2/5] END gamma=0.1, learning_rate=0.1, max_depth=3, n_estimators=100; neg_root_mean_squared_error: (test=-650.678) r2: (test=0.774) total time=   0.0s\n",
            "[CV 3/5] END gamma=0.1, learning_rate=0.1, max_depth=3, n_estimators=100; neg_root_mean_squared_error: (test=-762.690) r2: (test=0.944) total time=   0.0s\n",
            "[CV 4/5] END gamma=0.1, learning_rate=0.1, max_depth=3, n_estimators=100; neg_root_mean_squared_error: (test=-557.729) r2: (test=0.931) total time=   0.0s\n",
            "[CV 5/5] END gamma=0.1, learning_rate=0.1, max_depth=3, n_estimators=100; neg_root_mean_squared_error: (test=-462.687) r2: (test=0.983) total time=   0.0s\n",
            "[CV 1/5] END gamma=0.1, learning_rate=0.1, max_depth=3, n_estimators=200; neg_root_mean_squared_error: (test=-529.313) r2: (test=0.936) total time=   0.0s\n",
            "[CV 2/5] END gamma=0.1, learning_rate=0.1, max_depth=3, n_estimators=200; neg_root_mean_squared_error: (test=-726.391) r2: (test=0.718) total time=   0.0s\n",
            "[CV 3/5] END gamma=0.1, learning_rate=0.1, max_depth=3, n_estimators=200; neg_root_mean_squared_error: (test=-782.821) r2: (test=0.941) total time=   0.0s\n",
            "[CV 4/5] END gamma=0.1, learning_rate=0.1, max_depth=3, n_estimators=200; neg_root_mean_squared_error: (test=-562.549) r2: (test=0.929) total time=   0.0s\n",
            "[CV 5/5] END gamma=0.1, learning_rate=0.1, max_depth=3, n_estimators=200; neg_root_mean_squared_error: (test=-415.288) r2: (test=0.986) total time=   0.0s\n",
            "[CV 1/5] END gamma=0.1, learning_rate=0.1, max_depth=3, n_estimators=500; neg_root_mean_squared_error: (test=-546.478) r2: (test=0.932) total time=   0.1s\n",
            "[CV 2/5] END gamma=0.1, learning_rate=0.1, max_depth=3, n_estimators=500; neg_root_mean_squared_error: (test=-737.524) r2: (test=0.710) total time=   0.1s\n",
            "[CV 3/5] END gamma=0.1, learning_rate=0.1, max_depth=3, n_estimators=500; neg_root_mean_squared_error: (test=-824.229) r2: (test=0.935) total time=   0.1s\n",
            "[CV 4/5] END gamma=0.1, learning_rate=0.1, max_depth=3, n_estimators=500; neg_root_mean_squared_error: (test=-584.473) r2: (test=0.924) total time=   0.1s\n",
            "[CV 5/5] END gamma=0.1, learning_rate=0.1, max_depth=3, n_estimators=500; neg_root_mean_squared_error: (test=-407.200) r2: (test=0.987) total time=   0.1s\n",
            "[CV 1/5] END gamma=0.1, learning_rate=0.1, max_depth=6, n_estimators=100; neg_root_mean_squared_error: (test=-476.777) r2: (test=0.948) total time=   0.0s\n",
            "[CV 2/5] END gamma=0.1, learning_rate=0.1, max_depth=6, n_estimators=100; neg_root_mean_squared_error: (test=-695.037) r2: (test=0.742) total time=   0.0s\n",
            "[CV 3/5] END gamma=0.1, learning_rate=0.1, max_depth=6, n_estimators=100; neg_root_mean_squared_error: (test=-758.921) r2: (test=0.945) total time=   0.0s\n",
            "[CV 4/5] END gamma=0.1, learning_rate=0.1, max_depth=6, n_estimators=100; neg_root_mean_squared_error: (test=-613.329) r2: (test=0.916) total time=   0.0s\n",
            "[CV 5/5] END gamma=0.1, learning_rate=0.1, max_depth=6, n_estimators=100; neg_root_mean_squared_error: (test=-408.854) r2: (test=0.987) total time=   0.0s\n",
            "[CV 1/5] END gamma=0.1, learning_rate=0.1, max_depth=6, n_estimators=200; neg_root_mean_squared_error: (test=-482.708) r2: (test=0.947) total time=   0.0s\n",
            "[CV 2/5] END gamma=0.1, learning_rate=0.1, max_depth=6, n_estimators=200; neg_root_mean_squared_error: (test=-714.572) r2: (test=0.727) total time=   0.0s\n",
            "[CV 3/5] END gamma=0.1, learning_rate=0.1, max_depth=6, n_estimators=200; neg_root_mean_squared_error: (test=-760.022) r2: (test=0.944) total time=   0.1s\n",
            "[CV 4/5] END gamma=0.1, learning_rate=0.1, max_depth=6, n_estimators=200; neg_root_mean_squared_error: (test=-634.932) r2: (test=0.910) total time=   0.1s\n",
            "[CV 5/5] END gamma=0.1, learning_rate=0.1, max_depth=6, n_estimators=200; neg_root_mean_squared_error: (test=-412.523) r2: (test=0.986) total time=   0.1s\n",
            "[CV 1/5] END gamma=0.1, learning_rate=0.1, max_depth=6, n_estimators=500; neg_root_mean_squared_error: (test=-484.102) r2: (test=0.946) total time=   0.3s\n",
            "[CV 2/5] END gamma=0.1, learning_rate=0.1, max_depth=6, n_estimators=500; neg_root_mean_squared_error: (test=-714.922) r2: (test=0.727) total time=   1.5s\n",
            "[CV 3/5] END gamma=0.1, learning_rate=0.1, max_depth=6, n_estimators=500; neg_root_mean_squared_error: (test=-760.171) r2: (test=0.944) total time=   0.1s\n",
            "[CV 4/5] END gamma=0.1, learning_rate=0.1, max_depth=6, n_estimators=500; neg_root_mean_squared_error: (test=-635.434) r2: (test=0.910) total time=   0.1s\n",
            "[CV 5/5] END gamma=0.1, learning_rate=0.1, max_depth=6, n_estimators=500; neg_root_mean_squared_error: (test=-414.830) r2: (test=0.986) total time=   0.1s\n",
            "[CV 1/5] END gamma=0.1, learning_rate=0.1, max_depth=9, n_estimators=100; neg_root_mean_squared_error: (test=-449.451) r2: (test=0.954) total time=   0.0s\n",
            "[CV 2/5] END gamma=0.1, learning_rate=0.1, max_depth=9, n_estimators=100; neg_root_mean_squared_error: (test=-675.067) r2: (test=0.757) total time=   0.0s\n",
            "[CV 3/5] END gamma=0.1, learning_rate=0.1, max_depth=9, n_estimators=100; neg_root_mean_squared_error: (test=-797.463) r2: (test=0.939) total time=   0.0s\n",
            "[CV 4/5] END gamma=0.1, learning_rate=0.1, max_depth=9, n_estimators=100; neg_root_mean_squared_error: (test=-650.757) r2: (test=0.906) total time=   0.0s\n",
            "[CV 5/5] END gamma=0.1, learning_rate=0.1, max_depth=9, n_estimators=100; neg_root_mean_squared_error: (test=-516.392) r2: (test=0.979) total time=   0.0s\n",
            "[CV 1/5] END gamma=0.1, learning_rate=0.1, max_depth=9, n_estimators=200; neg_root_mean_squared_error: (test=-449.889) r2: (test=0.954) total time=   0.1s\n",
            "[CV 2/5] END gamma=0.1, learning_rate=0.1, max_depth=9, n_estimators=200; neg_root_mean_squared_error: (test=-686.206) r2: (test=0.749) total time=   0.1s\n",
            "[CV 3/5] END gamma=0.1, learning_rate=0.1, max_depth=9, n_estimators=200; neg_root_mean_squared_error: (test=-799.349) r2: (test=0.939) total time=   0.1s\n",
            "[CV 4/5] END gamma=0.1, learning_rate=0.1, max_depth=9, n_estimators=200; neg_root_mean_squared_error: (test=-666.840) r2: (test=0.901) total time=   0.1s\n",
            "[CV 5/5] END gamma=0.1, learning_rate=0.1, max_depth=9, n_estimators=200; neg_root_mean_squared_error: (test=-517.872) r2: (test=0.978) total time=   0.1s\n",
            "[CV 1/5] END gamma=0.1, learning_rate=0.1, max_depth=9, n_estimators=500; neg_root_mean_squared_error: (test=-449.886) r2: (test=0.954) total time=   0.2s\n",
            "[CV 2/5] END gamma=0.1, learning_rate=0.1, max_depth=9, n_estimators=500; neg_root_mean_squared_error: (test=-686.234) r2: (test=0.749) total time=   0.2s\n",
            "[CV 3/5] END gamma=0.1, learning_rate=0.1, max_depth=9, n_estimators=500; neg_root_mean_squared_error: (test=-799.350) r2: (test=0.939) total time=   0.2s\n",
            "[CV 4/5] END gamma=0.1, learning_rate=0.1, max_depth=9, n_estimators=500; neg_root_mean_squared_error: (test=-666.866) r2: (test=0.901) total time=   0.2s\n",
            "[CV 5/5] END gamma=0.1, learning_rate=0.1, max_depth=9, n_estimators=500; neg_root_mean_squared_error: (test=-517.922) r2: (test=0.978) total time=   0.2s\n",
            "[CV 1/5] END gamma=0.1, learning_rate=1, max_depth=3, n_estimators=100; neg_root_mean_squared_error: (test=-611.363) r2: (test=0.914) total time=   0.0s\n",
            "[CV 2/5] END gamma=0.1, learning_rate=1, max_depth=3, n_estimators=100; neg_root_mean_squared_error: (test=-782.051) r2: (test=0.673) total time=   0.0s\n",
            "[CV 3/5] END gamma=0.1, learning_rate=1, max_depth=3, n_estimators=100; neg_root_mean_squared_error: (test=-756.411) r2: (test=0.945) total time=   0.0s\n",
            "[CV 4/5] END gamma=0.1, learning_rate=1, max_depth=3, n_estimators=100; neg_root_mean_squared_error: (test=-894.672) r2: (test=0.822) total time=   0.0s\n",
            "[CV 5/5] END gamma=0.1, learning_rate=1, max_depth=3, n_estimators=100; neg_root_mean_squared_error: (test=-1121.951) r2: (test=0.899) total time=   0.0s\n",
            "[CV 1/5] END gamma=0.1, learning_rate=1, max_depth=3, n_estimators=200; neg_root_mean_squared_error: (test=-610.665) r2: (test=0.914) total time=   0.0s\n",
            "[CV 2/5] END gamma=0.1, learning_rate=1, max_depth=3, n_estimators=200; neg_root_mean_squared_error: (test=-783.015) r2: (test=0.673) total time=   0.0s\n",
            "[CV 3/5] END gamma=0.1, learning_rate=1, max_depth=3, n_estimators=200; neg_root_mean_squared_error: (test=-756.370) r2: (test=0.945) total time=   0.0s\n",
            "[CV 4/5] END gamma=0.1, learning_rate=1, max_depth=3, n_estimators=200; neg_root_mean_squared_error: (test=-889.778) r2: (test=0.823) total time=   0.0s\n",
            "[CV 5/5] END gamma=0.1, learning_rate=1, max_depth=3, n_estimators=200; neg_root_mean_squared_error: (test=-1127.414) r2: (test=0.898) total time=   0.0s\n",
            "[CV 1/5] END gamma=0.1, learning_rate=1, max_depth=3, n_estimators=500; neg_root_mean_squared_error: (test=-610.663) r2: (test=0.914) total time=   0.1s\n",
            "[CV 2/5] END gamma=0.1, learning_rate=1, max_depth=3, n_estimators=500; neg_root_mean_squared_error: (test=-783.144) r2: (test=0.672) total time=   0.1s\n",
            "[CV 3/5] END gamma=0.1, learning_rate=1, max_depth=3, n_estimators=500; neg_root_mean_squared_error: (test=-756.755) r2: (test=0.945) total time=   0.1s\n",
            "[CV 4/5] END gamma=0.1, learning_rate=1, max_depth=3, n_estimators=500; neg_root_mean_squared_error: (test=-888.734) r2: (test=0.824) total time=   0.1s\n",
            "[CV 5/5] END gamma=0.1, learning_rate=1, max_depth=3, n_estimators=500; neg_root_mean_squared_error: (test=-1128.138) r2: (test=0.898) total time=   0.1s\n",
            "[CV 1/5] END gamma=0.1, learning_rate=1, max_depth=6, n_estimators=100; neg_root_mean_squared_error: (test=-631.230) r2: (test=0.909) total time=   0.0s\n",
            "[CV 2/5] END gamma=0.1, learning_rate=1, max_depth=6, n_estimators=100; neg_root_mean_squared_error: (test=-929.764) r2: (test=0.538) total time=   0.0s\n",
            "[CV 3/5] END gamma=0.1, learning_rate=1, max_depth=6, n_estimators=100; neg_root_mean_squared_error: (test=-741.817) r2: (test=0.947) total time=   0.0s\n",
            "[CV 4/5] END gamma=0.1, learning_rate=1, max_depth=6, n_estimators=100; neg_root_mean_squared_error: (test=-829.667) r2: (test=0.847) total time=   0.0s\n",
            "[CV 5/5] END gamma=0.1, learning_rate=1, max_depth=6, n_estimators=100; neg_root_mean_squared_error: (test=-1361.235) r2: (test=0.851) total time=   0.0s\n",
            "[CV 1/5] END gamma=0.1, learning_rate=1, max_depth=6, n_estimators=200; neg_root_mean_squared_error: (test=-631.230) r2: (test=0.909) total time=   0.1s\n",
            "[CV 2/5] END gamma=0.1, learning_rate=1, max_depth=6, n_estimators=200; neg_root_mean_squared_error: (test=-929.764) r2: (test=0.538) total time=   0.1s\n",
            "[CV 3/5] END gamma=0.1, learning_rate=1, max_depth=6, n_estimators=200; neg_root_mean_squared_error: (test=-741.817) r2: (test=0.947) total time=   0.1s\n",
            "[CV 4/5] END gamma=0.1, learning_rate=1, max_depth=6, n_estimators=200; neg_root_mean_squared_error: (test=-829.667) r2: (test=0.847) total time=   0.1s\n",
            "[CV 5/5] END gamma=0.1, learning_rate=1, max_depth=6, n_estimators=200; neg_root_mean_squared_error: (test=-1361.235) r2: (test=0.851) total time=   0.1s\n",
            "[CV 1/5] END gamma=0.1, learning_rate=1, max_depth=6, n_estimators=500; neg_root_mean_squared_error: (test=-631.230) r2: (test=0.909) total time=   0.2s\n",
            "[CV 2/5] END gamma=0.1, learning_rate=1, max_depth=6, n_estimators=500; neg_root_mean_squared_error: (test=-929.764) r2: (test=0.538) total time=   0.1s\n",
            "[CV 3/5] END gamma=0.1, learning_rate=1, max_depth=6, n_estimators=500; neg_root_mean_squared_error: (test=-741.817) r2: (test=0.947) total time=   0.2s\n",
            "[CV 4/5] END gamma=0.1, learning_rate=1, max_depth=6, n_estimators=500; neg_root_mean_squared_error: (test=-829.667) r2: (test=0.847) total time=   0.1s\n",
            "[CV 5/5] END gamma=0.1, learning_rate=1, max_depth=6, n_estimators=500; neg_root_mean_squared_error: (test=-1361.235) r2: (test=0.851) total time=   0.1s\n",
            "[CV 1/5] END gamma=0.1, learning_rate=1, max_depth=9, n_estimators=100; neg_root_mean_squared_error: (test=-546.049) r2: (test=0.932) total time=   0.1s\n",
            "[CV 2/5] END gamma=0.1, learning_rate=1, max_depth=9, n_estimators=100; neg_root_mean_squared_error: (test=-968.977) r2: (test=0.499) total time=   0.0s\n",
            "[CV 3/5] END gamma=0.1, learning_rate=1, max_depth=9, n_estimators=100; neg_root_mean_squared_error: (test=-821.963) r2: (test=0.935) total time=   0.0s\n",
            "[CV 4/5] END gamma=0.1, learning_rate=1, max_depth=9, n_estimators=100; neg_root_mean_squared_error: (test=-997.521) r2: (test=0.778) total time=   0.0s\n",
            "[CV 5/5] END gamma=0.1, learning_rate=1, max_depth=9, n_estimators=100; neg_root_mean_squared_error: (test=-1414.140) r2: (test=0.840) total time=   0.0s\n",
            "[CV 1/5] END gamma=0.1, learning_rate=1, max_depth=9, n_estimators=200; neg_root_mean_squared_error: (test=-546.049) r2: (test=0.932) total time=   0.1s\n",
            "[CV 2/5] END gamma=0.1, learning_rate=1, max_depth=9, n_estimators=200; neg_root_mean_squared_error: (test=-968.977) r2: (test=0.499) total time=   0.1s\n",
            "[CV 3/5] END gamma=0.1, learning_rate=1, max_depth=9, n_estimators=200; neg_root_mean_squared_error: (test=-821.963) r2: (test=0.935) total time=   0.1s\n",
            "[CV 4/5] END gamma=0.1, learning_rate=1, max_depth=9, n_estimators=200; neg_root_mean_squared_error: (test=-997.521) r2: (test=0.778) total time=   0.1s\n",
            "[CV 5/5] END gamma=0.1, learning_rate=1, max_depth=9, n_estimators=200; neg_root_mean_squared_error: (test=-1414.140) r2: (test=0.840) total time=   0.1s\n",
            "[CV 1/5] END gamma=0.1, learning_rate=1, max_depth=9, n_estimators=500; neg_root_mean_squared_error: (test=-546.049) r2: (test=0.932) total time=   0.2s\n",
            "[CV 2/5] END gamma=0.1, learning_rate=1, max_depth=9, n_estimators=500; neg_root_mean_squared_error: (test=-968.977) r2: (test=0.499) total time=   0.2s\n",
            "[CV 3/5] END gamma=0.1, learning_rate=1, max_depth=9, n_estimators=500; neg_root_mean_squared_error: (test=-821.963) r2: (test=0.935) total time=   0.2s\n",
            "[CV 4/5] END gamma=0.1, learning_rate=1, max_depth=9, n_estimators=500; neg_root_mean_squared_error: (test=-997.521) r2: (test=0.778) total time=   0.2s\n",
            "[CV 5/5] END gamma=0.1, learning_rate=1, max_depth=9, n_estimators=500; neg_root_mean_squared_error: (test=-1414.140) r2: (test=0.840) total time=   0.2s\n"
          ]
        },
        {
          "output_type": "execute_result",
          "data": {
            "text/plain": [
              "GridSearchCV(cv=5,\n",
              "             estimator=XGBRegressor(base_score=None, booster=None,\n",
              "                                    callbacks=None, colsample_bylevel=None,\n",
              "                                    colsample_bynode=None,\n",
              "                                    colsample_bytree=None,\n",
              "                                    early_stopping_rounds=None,\n",
              "                                    enable_categorical=False, eval_metric=None,\n",
              "                                    feature_types=None, gamma=None, gpu_id=None,\n",
              "                                    grow_policy=None, importance_type=None,\n",
              "                                    interaction_constraints=None,\n",
              "                                    learning_rate=None, m...\n",
              "                                    max_depth=None, max_leaves=None,\n",
              "                                    min_child_weight=None, missing=nan,\n",
              "                                    monotone_constraints=None, n_estimators=100,\n",
              "                                    n_jobs=None, num_parallel_tree=None,\n",
              "                                    predictor=None, random_state=42, ...),\n",
              "             param_grid={'gamma': [0.01, 0.1],\n",
              "                         'learning_rate': [0.001, 0.01, 0.1, 1],\n",
              "                         'max_depth': [3, 6, 9],\n",
              "                         'n_estimators': [100, 200, 500]},\n",
              "             refit='r2', scoring=['r2', 'neg_root_mean_squared_error'],\n",
              "             verbose=4)"
            ],
            "text/html": [
              "<style>#sk-container-id-4 {color: black;background-color: white;}#sk-container-id-4 pre{padding: 0;}#sk-container-id-4 div.sk-toggleable {background-color: white;}#sk-container-id-4 label.sk-toggleable__label {cursor: pointer;display: block;width: 100%;margin-bottom: 0;padding: 0.3em;box-sizing: border-box;text-align: center;}#sk-container-id-4 label.sk-toggleable__label-arrow:before {content: \"▸\";float: left;margin-right: 0.25em;color: #696969;}#sk-container-id-4 label.sk-toggleable__label-arrow:hover:before {color: black;}#sk-container-id-4 div.sk-estimator:hover label.sk-toggleable__label-arrow:before {color: black;}#sk-container-id-4 div.sk-toggleable__content {max-height: 0;max-width: 0;overflow: hidden;text-align: left;background-color: #f0f8ff;}#sk-container-id-4 div.sk-toggleable__content pre {margin: 0.2em;color: black;border-radius: 0.25em;background-color: #f0f8ff;}#sk-container-id-4 input.sk-toggleable__control:checked~div.sk-toggleable__content {max-height: 200px;max-width: 100%;overflow: auto;}#sk-container-id-4 input.sk-toggleable__control:checked~label.sk-toggleable__label-arrow:before {content: \"▾\";}#sk-container-id-4 div.sk-estimator input.sk-toggleable__control:checked~label.sk-toggleable__label {background-color: #d4ebff;}#sk-container-id-4 div.sk-label input.sk-toggleable__control:checked~label.sk-toggleable__label {background-color: #d4ebff;}#sk-container-id-4 input.sk-hidden--visually {border: 0;clip: rect(1px 1px 1px 1px);clip: rect(1px, 1px, 1px, 1px);height: 1px;margin: -1px;overflow: hidden;padding: 0;position: absolute;width: 1px;}#sk-container-id-4 div.sk-estimator {font-family: monospace;background-color: #f0f8ff;border: 1px dotted black;border-radius: 0.25em;box-sizing: border-box;margin-bottom: 0.5em;}#sk-container-id-4 div.sk-estimator:hover {background-color: #d4ebff;}#sk-container-id-4 div.sk-parallel-item::after {content: \"\";width: 100%;border-bottom: 1px solid gray;flex-grow: 1;}#sk-container-id-4 div.sk-label:hover label.sk-toggleable__label {background-color: #d4ebff;}#sk-container-id-4 div.sk-serial::before {content: \"\";position: absolute;border-left: 1px solid gray;box-sizing: border-box;top: 0;bottom: 0;left: 50%;z-index: 0;}#sk-container-id-4 div.sk-serial {display: flex;flex-direction: column;align-items: center;background-color: white;padding-right: 0.2em;padding-left: 0.2em;position: relative;}#sk-container-id-4 div.sk-item {position: relative;z-index: 1;}#sk-container-id-4 div.sk-parallel {display: flex;align-items: stretch;justify-content: center;background-color: white;position: relative;}#sk-container-id-4 div.sk-item::before, #sk-container-id-4 div.sk-parallel-item::before {content: \"\";position: absolute;border-left: 1px solid gray;box-sizing: border-box;top: 0;bottom: 0;left: 50%;z-index: -1;}#sk-container-id-4 div.sk-parallel-item {display: flex;flex-direction: column;z-index: 1;position: relative;background-color: white;}#sk-container-id-4 div.sk-parallel-item:first-child::after {align-self: flex-end;width: 50%;}#sk-container-id-4 div.sk-parallel-item:last-child::after {align-self: flex-start;width: 50%;}#sk-container-id-4 div.sk-parallel-item:only-child::after {width: 0;}#sk-container-id-4 div.sk-dashed-wrapped {border: 1px dashed gray;margin: 0 0.4em 0.5em 0.4em;box-sizing: border-box;padding-bottom: 0.4em;background-color: white;}#sk-container-id-4 div.sk-label label {font-family: monospace;font-weight: bold;display: inline-block;line-height: 1.2em;}#sk-container-id-4 div.sk-label-container {text-align: center;}#sk-container-id-4 div.sk-container {/* jupyter's `normalize.less` sets `[hidden] { display: none; }` but bootstrap.min.css set `[hidden] { display: none !important; }` so we also need the `!important` here to be able to override the default hidden behavior on the sphinx rendered scikit-learn.org. See: https://github.com/scikit-learn/scikit-learn/issues/21755 */display: inline-block !important;position: relative;}#sk-container-id-4 div.sk-text-repr-fallback {display: none;}</style><div id=\"sk-container-id-4\" class=\"sk-top-container\"><div class=\"sk-text-repr-fallback\"><pre>GridSearchCV(cv=5,\n",
              "             estimator=XGBRegressor(base_score=None, booster=None,\n",
              "                                    callbacks=None, colsample_bylevel=None,\n",
              "                                    colsample_bynode=None,\n",
              "                                    colsample_bytree=None,\n",
              "                                    early_stopping_rounds=None,\n",
              "                                    enable_categorical=False, eval_metric=None,\n",
              "                                    feature_types=None, gamma=None, gpu_id=None,\n",
              "                                    grow_policy=None, importance_type=None,\n",
              "                                    interaction_constraints=None,\n",
              "                                    learning_rate=None, m...\n",
              "                                    max_depth=None, max_leaves=None,\n",
              "                                    min_child_weight=None, missing=nan,\n",
              "                                    monotone_constraints=None, n_estimators=100,\n",
              "                                    n_jobs=None, num_parallel_tree=None,\n",
              "                                    predictor=None, random_state=42, ...),\n",
              "             param_grid={&#x27;gamma&#x27;: [0.01, 0.1],\n",
              "                         &#x27;learning_rate&#x27;: [0.001, 0.01, 0.1, 1],\n",
              "                         &#x27;max_depth&#x27;: [3, 6, 9],\n",
              "                         &#x27;n_estimators&#x27;: [100, 200, 500]},\n",
              "             refit=&#x27;r2&#x27;, scoring=[&#x27;r2&#x27;, &#x27;neg_root_mean_squared_error&#x27;],\n",
              "             verbose=4)</pre><b>In a Jupyter environment, please rerun this cell to show the HTML representation or trust the notebook. <br />On GitHub, the HTML representation is unable to render, please try loading this page with nbviewer.org.</b></div><div class=\"sk-container\" hidden><div class=\"sk-item sk-dashed-wrapped\"><div class=\"sk-label-container\"><div class=\"sk-label sk-toggleable\"><input class=\"sk-toggleable__control sk-hidden--visually\" id=\"sk-estimator-id-4\" type=\"checkbox\" ><label for=\"sk-estimator-id-4\" class=\"sk-toggleable__label sk-toggleable__label-arrow\">GridSearchCV</label><div class=\"sk-toggleable__content\"><pre>GridSearchCV(cv=5,\n",
              "             estimator=XGBRegressor(base_score=None, booster=None,\n",
              "                                    callbacks=None, colsample_bylevel=None,\n",
              "                                    colsample_bynode=None,\n",
              "                                    colsample_bytree=None,\n",
              "                                    early_stopping_rounds=None,\n",
              "                                    enable_categorical=False, eval_metric=None,\n",
              "                                    feature_types=None, gamma=None, gpu_id=None,\n",
              "                                    grow_policy=None, importance_type=None,\n",
              "                                    interaction_constraints=None,\n",
              "                                    learning_rate=None, m...\n",
              "                                    max_depth=None, max_leaves=None,\n",
              "                                    min_child_weight=None, missing=nan,\n",
              "                                    monotone_constraints=None, n_estimators=100,\n",
              "                                    n_jobs=None, num_parallel_tree=None,\n",
              "                                    predictor=None, random_state=42, ...),\n",
              "             param_grid={&#x27;gamma&#x27;: [0.01, 0.1],\n",
              "                         &#x27;learning_rate&#x27;: [0.001, 0.01, 0.1, 1],\n",
              "                         &#x27;max_depth&#x27;: [3, 6, 9],\n",
              "                         &#x27;n_estimators&#x27;: [100, 200, 500]},\n",
              "             refit=&#x27;r2&#x27;, scoring=[&#x27;r2&#x27;, &#x27;neg_root_mean_squared_error&#x27;],\n",
              "             verbose=4)</pre></div></div></div><div class=\"sk-parallel\"><div class=\"sk-parallel-item\"><div class=\"sk-item\"><div class=\"sk-label-container\"><div class=\"sk-label sk-toggleable\"><input class=\"sk-toggleable__control sk-hidden--visually\" id=\"sk-estimator-id-5\" type=\"checkbox\" ><label for=\"sk-estimator-id-5\" class=\"sk-toggleable__label sk-toggleable__label-arrow\">estimator: XGBRegressor</label><div class=\"sk-toggleable__content\"><pre>XGBRegressor(base_score=None, booster=None, callbacks=None,\n",
              "             colsample_bylevel=None, colsample_bynode=None,\n",
              "             colsample_bytree=None, early_stopping_rounds=None,\n",
              "             enable_categorical=False, eval_metric=None, feature_types=None,\n",
              "             gamma=None, gpu_id=None, grow_policy=None, importance_type=None,\n",
              "             interaction_constraints=None, learning_rate=None, max_bin=None,\n",
              "             max_cat_threshold=None, max_cat_to_onehot=None,\n",
              "             max_delta_step=None, max_depth=None, max_leaves=None,\n",
              "             min_child_weight=None, missing=nan, monotone_constraints=None,\n",
              "             n_estimators=100, n_jobs=None, num_parallel_tree=None,\n",
              "             predictor=None, random_state=42, ...)</pre></div></div></div><div class=\"sk-serial\"><div class=\"sk-item\"><div class=\"sk-estimator sk-toggleable\"><input class=\"sk-toggleable__control sk-hidden--visually\" id=\"sk-estimator-id-6\" type=\"checkbox\" ><label for=\"sk-estimator-id-6\" class=\"sk-toggleable__label sk-toggleable__label-arrow\">XGBRegressor</label><div class=\"sk-toggleable__content\"><pre>XGBRegressor(base_score=None, booster=None, callbacks=None,\n",
              "             colsample_bylevel=None, colsample_bynode=None,\n",
              "             colsample_bytree=None, early_stopping_rounds=None,\n",
              "             enable_categorical=False, eval_metric=None, feature_types=None,\n",
              "             gamma=None, gpu_id=None, grow_policy=None, importance_type=None,\n",
              "             interaction_constraints=None, learning_rate=None, max_bin=None,\n",
              "             max_cat_threshold=None, max_cat_to_onehot=None,\n",
              "             max_delta_step=None, max_depth=None, max_leaves=None,\n",
              "             min_child_weight=None, missing=nan, monotone_constraints=None,\n",
              "             n_estimators=100, n_jobs=None, num_parallel_tree=None,\n",
              "             predictor=None, random_state=42, ...)</pre></div></div></div></div></div></div></div></div></div></div>"
            ]
          },
          "metadata": {},
          "execution_count": 91
        }
      ]
    },
    {
      "cell_type": "code",
      "source": [
        "print(GS.best_estimator_) # to get the complete details of the best model"
      ],
      "metadata": {
        "id": "2AjBJsfzVbYi",
        "colab": {
          "base_uri": "https://localhost:8080/"
        },
        "outputId": "47dc5249-d7bc-4ec3-d9cb-59882d438d52"
      },
      "execution_count": 92,
      "outputs": [
        {
          "output_type": "stream",
          "name": "stdout",
          "text": [
            "XGBRegressor(base_score=None, booster=None, callbacks=None,\n",
            "             colsample_bylevel=None, colsample_bynode=None,\n",
            "             colsample_bytree=None, early_stopping_rounds=None,\n",
            "             enable_categorical=False, eval_metric=None, feature_types=None,\n",
            "             gamma=0.01, gpu_id=None, grow_policy=None, importance_type=None,\n",
            "             interaction_constraints=None, learning_rate=0.01, max_bin=None,\n",
            "             max_cat_threshold=None, max_cat_to_onehot=None,\n",
            "             max_delta_step=None, max_depth=6, max_leaves=None,\n",
            "             min_child_weight=None, missing=nan, monotone_constraints=None,\n",
            "             n_estimators=500, n_jobs=None, num_parallel_tree=None,\n",
            "             predictor=None, random_state=42, ...)\n"
          ]
        }
      ]
    },
    {
      "cell_type": "code",
      "source": [
        "print(GS.best_params_) # to get only the best hyperparameter values that we searched for"
      ],
      "metadata": {
        "id": "1LD_6JN2WBrS",
        "colab": {
          "base_uri": "https://localhost:8080/"
        },
        "outputId": "f4ca733d-dfa3-4e78-9376-191065c074d3"
      },
      "execution_count": 93,
      "outputs": [
        {
          "output_type": "stream",
          "name": "stdout",
          "text": [
            "{'gamma': 0.01, 'learning_rate': 0.01, 'max_depth': 6, 'n_estimators': 500}\n"
          ]
        }
      ]
    },
    {
      "cell_type": "code",
      "source": [
        "print(GS.best_score_) # score according to the metric we passed in refit"
      ],
      "metadata": {
        "id": "WBRmYhBMWJwW",
        "colab": {
          "base_uri": "https://localhost:8080/"
        },
        "outputId": "72f76c6e-5d0f-4796-f312-6218a4e7e537"
      },
      "execution_count": 94,
      "outputs": [
        {
          "output_type": "stream",
          "name": "stdout",
          "text": [
            "0.9266455183504527\n"
          ]
        }
      ]
    },
    {
      "cell_type": "code",
      "source": [
        "df = pd.DataFrame(GS.cv_results_)\n",
        "df = df.sort_values(\"rank_test_r2\")\n",
        "df.to_csv(\"cv_results.csv\", index = False)"
      ],
      "metadata": {
        "id": "9zeBcOpXWR1r"
      },
      "execution_count": 95,
      "outputs": []
    },
    {
      "cell_type": "code",
      "source": [
        "#Mean_absolute_error(Linear regression)\n",
        "print('MAE',mean_absolute_error(y_test,y_pred))\n",
        "print('MSE',mean_squared_error(y_test,y_pred))\n",
        "print('RMSE',np.sqrt(mean_squared_error(y_test,y_pred)))\n",
        "print(GS.best_score_)\n",
        "print(GS.best_params_)\n",
        "print('MAE:', metrics.mean_absolute_error(y_test,tuned_pred))\n",
        "print('MSE:', metrics.mean_squared_error(y_test, tuned_pred))\n",
        "print('RMSE:', np.sqrt(metrics.mean_squared_error(y_test, tuned_pred)))\n",
        "print(f'Score on Decision Tree Regressor training set: {regressor.score(X_train, y_train)}')\n",
        "print(f'Score on Decision Tree Regressor testing set: {regressor.score(X_test, y_test)}')\n"
      ],
      "metadata": {
        "colab": {
          "base_uri": "https://localhost:8080/"
        },
        "id": "SwvSCXVJI7cE",
        "outputId": "abc05873-2432-4ca4-c645-872771bb5f70"
      },
      "execution_count": 96,
      "outputs": [
        {
          "output_type": "stream",
          "name": "stdout",
          "text": [
            "MAE 1152.4280441862848\n",
            "MSE 2243280.8886390575\n",
            "RMSE 1497.7586216206728\n",
            "0.9266455183504527\n",
            "{'gamma': 0.01, 'learning_rate': 0.01, 'max_depth': 6, 'n_estimators': 500}\n",
            "MAE: 1382.8107946832579\n",
            "MSE: 3565742.7591202455\n",
            "RMSE: 1888.3174413006532\n",
            "Score on Decision Tree Regressor training set: 1.0\n",
            "Score on Decision Tree Regressor testing set: 0.8646468180042071\n"
          ]
        }
      ]
    }
  ]
}