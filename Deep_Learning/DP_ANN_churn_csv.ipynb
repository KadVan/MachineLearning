{
  "nbformat": 4,
  "nbformat_minor": 0,
  "metadata": {
    "colab": {
      "provenance": []
    },
    "kernelspec": {
      "name": "python3",
      "display_name": "Python 3"
    },
    "language_info": {
      "name": "python"
    }
  },
  "cells": [
    {
      "cell_type": "code",
      "execution_count": 206,
      "metadata": {
        "id": "KMQO-lpC6lgI"
      },
      "outputs": [],
      "source": [
        "#!pip install tensorflow-gpu\n"
      ]
    },
    {
      "cell_type": "code",
      "source": [
        "import tensorflow as tf"
      ],
      "metadata": {
        "id": "D2IliGyI62B0"
      },
      "execution_count": 207,
      "outputs": []
    },
    {
      "cell_type": "code",
      "source": [
        "print(tf.__version__)"
      ],
      "metadata": {
        "colab": {
          "base_uri": "https://localhost:8080/"
        },
        "id": "4_fyxUHb7GuH",
        "outputId": "2a1a4b25-225f-47a3-8a8a-57ac80889713"
      },
      "execution_count": 208,
      "outputs": [
        {
          "output_type": "stream",
          "name": "stdout",
          "text": [
            "2.12.0\n"
          ]
        }
      ]
    },
    {
      "cell_type": "code",
      "source": [
        "# Importing the libraries\n",
        "import numpy as np\n",
        "import matplotlib.pyplot as plt\n",
        "import pandas as pd"
      ],
      "metadata": {
        "id": "LLvV2K-o7KAp"
      },
      "execution_count": 209,
      "outputs": []
    },
    {
      "cell_type": "code",
      "source": [
        "# Importing the dataset\n",
        "dataset = pd.read_csv('Churn_Modelling.csv')\n",
        "dataset.head()"
      ],
      "metadata": {
        "colab": {
          "base_uri": "https://localhost:8080/",
          "height": 250
        },
        "id": "CJAJkQpg1IdY",
        "outputId": "57fe138d-f1a2-4a28-f28a-a67892f18a68"
      },
      "execution_count": 210,
      "outputs": [
        {
          "output_type": "execute_result",
          "data": {
            "text/plain": [
              "   RowNumber  CustomerId   Surname  CreditScore Geography  Gender  Age  \\\n",
              "0          1    15634602  Hargrave          619    France  Female   42   \n",
              "1          2    15647311      Hill          608     Spain  Female   41   \n",
              "2          3    15619304      Onio          502    France  Female   42   \n",
              "3          4    15701354      Boni          699    France  Female   39   \n",
              "4          5    15737888  Mitchell          850     Spain  Female   43   \n",
              "\n",
              "   Tenure    Balance  NumOfProducts  HasCrCard  IsActiveMember  \\\n",
              "0       2       0.00              1          1               1   \n",
              "1       1   83807.86              1          0               1   \n",
              "2       8  159660.80              3          1               0   \n",
              "3       1       0.00              2          0               0   \n",
              "4       2  125510.82              1          1               1   \n",
              "\n",
              "   EstimatedSalary  Exited  \n",
              "0        101348.88       1  \n",
              "1        112542.58       0  \n",
              "2        113931.57       1  \n",
              "3         93826.63       0  \n",
              "4         79084.10       0  "
            ],
            "text/html": [
              "\n",
              "\n",
              "  <div id=\"df-5aa0ec72-d337-4c4d-8d0a-31eb9b9faf03\">\n",
              "    <div class=\"colab-df-container\">\n",
              "      <div>\n",
              "<style scoped>\n",
              "    .dataframe tbody tr th:only-of-type {\n",
              "        vertical-align: middle;\n",
              "    }\n",
              "\n",
              "    .dataframe tbody tr th {\n",
              "        vertical-align: top;\n",
              "    }\n",
              "\n",
              "    .dataframe thead th {\n",
              "        text-align: right;\n",
              "    }\n",
              "</style>\n",
              "<table border=\"1\" class=\"dataframe\">\n",
              "  <thead>\n",
              "    <tr style=\"text-align: right;\">\n",
              "      <th></th>\n",
              "      <th>RowNumber</th>\n",
              "      <th>CustomerId</th>\n",
              "      <th>Surname</th>\n",
              "      <th>CreditScore</th>\n",
              "      <th>Geography</th>\n",
              "      <th>Gender</th>\n",
              "      <th>Age</th>\n",
              "      <th>Tenure</th>\n",
              "      <th>Balance</th>\n",
              "      <th>NumOfProducts</th>\n",
              "      <th>HasCrCard</th>\n",
              "      <th>IsActiveMember</th>\n",
              "      <th>EstimatedSalary</th>\n",
              "      <th>Exited</th>\n",
              "    </tr>\n",
              "  </thead>\n",
              "  <tbody>\n",
              "    <tr>\n",
              "      <th>0</th>\n",
              "      <td>1</td>\n",
              "      <td>15634602</td>\n",
              "      <td>Hargrave</td>\n",
              "      <td>619</td>\n",
              "      <td>France</td>\n",
              "      <td>Female</td>\n",
              "      <td>42</td>\n",
              "      <td>2</td>\n",
              "      <td>0.00</td>\n",
              "      <td>1</td>\n",
              "      <td>1</td>\n",
              "      <td>1</td>\n",
              "      <td>101348.88</td>\n",
              "      <td>1</td>\n",
              "    </tr>\n",
              "    <tr>\n",
              "      <th>1</th>\n",
              "      <td>2</td>\n",
              "      <td>15647311</td>\n",
              "      <td>Hill</td>\n",
              "      <td>608</td>\n",
              "      <td>Spain</td>\n",
              "      <td>Female</td>\n",
              "      <td>41</td>\n",
              "      <td>1</td>\n",
              "      <td>83807.86</td>\n",
              "      <td>1</td>\n",
              "      <td>0</td>\n",
              "      <td>1</td>\n",
              "      <td>112542.58</td>\n",
              "      <td>0</td>\n",
              "    </tr>\n",
              "    <tr>\n",
              "      <th>2</th>\n",
              "      <td>3</td>\n",
              "      <td>15619304</td>\n",
              "      <td>Onio</td>\n",
              "      <td>502</td>\n",
              "      <td>France</td>\n",
              "      <td>Female</td>\n",
              "      <td>42</td>\n",
              "      <td>8</td>\n",
              "      <td>159660.80</td>\n",
              "      <td>3</td>\n",
              "      <td>1</td>\n",
              "      <td>0</td>\n",
              "      <td>113931.57</td>\n",
              "      <td>1</td>\n",
              "    </tr>\n",
              "    <tr>\n",
              "      <th>3</th>\n",
              "      <td>4</td>\n",
              "      <td>15701354</td>\n",
              "      <td>Boni</td>\n",
              "      <td>699</td>\n",
              "      <td>France</td>\n",
              "      <td>Female</td>\n",
              "      <td>39</td>\n",
              "      <td>1</td>\n",
              "      <td>0.00</td>\n",
              "      <td>2</td>\n",
              "      <td>0</td>\n",
              "      <td>0</td>\n",
              "      <td>93826.63</td>\n",
              "      <td>0</td>\n",
              "    </tr>\n",
              "    <tr>\n",
              "      <th>4</th>\n",
              "      <td>5</td>\n",
              "      <td>15737888</td>\n",
              "      <td>Mitchell</td>\n",
              "      <td>850</td>\n",
              "      <td>Spain</td>\n",
              "      <td>Female</td>\n",
              "      <td>43</td>\n",
              "      <td>2</td>\n",
              "      <td>125510.82</td>\n",
              "      <td>1</td>\n",
              "      <td>1</td>\n",
              "      <td>1</td>\n",
              "      <td>79084.10</td>\n",
              "      <td>0</td>\n",
              "    </tr>\n",
              "  </tbody>\n",
              "</table>\n",
              "</div>\n",
              "      <button class=\"colab-df-convert\" onclick=\"convertToInteractive('df-5aa0ec72-d337-4c4d-8d0a-31eb9b9faf03')\"\n",
              "              title=\"Convert this dataframe to an interactive table.\"\n",
              "              style=\"display:none;\">\n",
              "\n",
              "  <svg xmlns=\"http://www.w3.org/2000/svg\" height=\"24px\"viewBox=\"0 0 24 24\"\n",
              "       width=\"24px\">\n",
              "    <path d=\"M0 0h24v24H0V0z\" fill=\"none\"/>\n",
              "    <path d=\"M18.56 5.44l.94 2.06.94-2.06 2.06-.94-2.06-.94-.94-2.06-.94 2.06-2.06.94zm-11 1L8.5 8.5l.94-2.06 2.06-.94-2.06-.94L8.5 2.5l-.94 2.06-2.06.94zm10 10l.94 2.06.94-2.06 2.06-.94-2.06-.94-.94-2.06-.94 2.06-2.06.94z\"/><path d=\"M17.41 7.96l-1.37-1.37c-.4-.4-.92-.59-1.43-.59-.52 0-1.04.2-1.43.59L10.3 9.45l-7.72 7.72c-.78.78-.78 2.05 0 2.83L4 21.41c.39.39.9.59 1.41.59.51 0 1.02-.2 1.41-.59l7.78-7.78 2.81-2.81c.8-.78.8-2.07 0-2.86zM5.41 20L4 18.59l7.72-7.72 1.47 1.35L5.41 20z\"/>\n",
              "  </svg>\n",
              "      </button>\n",
              "\n",
              "\n",
              "\n",
              "    <div id=\"df-2f268b74-bcbb-4777-9abb-98b4f6d3f9fd\">\n",
              "      <button class=\"colab-df-quickchart\" onclick=\"quickchart('df-2f268b74-bcbb-4777-9abb-98b4f6d3f9fd')\"\n",
              "              title=\"Suggest charts.\"\n",
              "              style=\"display:none;\">\n",
              "\n",
              "<svg xmlns=\"http://www.w3.org/2000/svg\" height=\"24px\"viewBox=\"0 0 24 24\"\n",
              "     width=\"24px\">\n",
              "    <g>\n",
              "        <path d=\"M19 3H5c-1.1 0-2 .9-2 2v14c0 1.1.9 2 2 2h14c1.1 0 2-.9 2-2V5c0-1.1-.9-2-2-2zM9 17H7v-7h2v7zm4 0h-2V7h2v10zm4 0h-2v-4h2v4z\"/>\n",
              "    </g>\n",
              "</svg>\n",
              "      </button>\n",
              "    </div>\n",
              "\n",
              "<style>\n",
              "  .colab-df-quickchart {\n",
              "    background-color: #E8F0FE;\n",
              "    border: none;\n",
              "    border-radius: 50%;\n",
              "    cursor: pointer;\n",
              "    display: none;\n",
              "    fill: #1967D2;\n",
              "    height: 32px;\n",
              "    padding: 0 0 0 0;\n",
              "    width: 32px;\n",
              "  }\n",
              "\n",
              "  .colab-df-quickchart:hover {\n",
              "    background-color: #E2EBFA;\n",
              "    box-shadow: 0px 1px 2px rgba(60, 64, 67, 0.3), 0px 1px 3px 1px rgba(60, 64, 67, 0.15);\n",
              "    fill: #174EA6;\n",
              "  }\n",
              "\n",
              "  [theme=dark] .colab-df-quickchart {\n",
              "    background-color: #3B4455;\n",
              "    fill: #D2E3FC;\n",
              "  }\n",
              "\n",
              "  [theme=dark] .colab-df-quickchart:hover {\n",
              "    background-color: #434B5C;\n",
              "    box-shadow: 0px 1px 3px 1px rgba(0, 0, 0, 0.15);\n",
              "    filter: drop-shadow(0px 1px 2px rgba(0, 0, 0, 0.3));\n",
              "    fill: #FFFFFF;\n",
              "  }\n",
              "</style>\n",
              "\n",
              "    <script>\n",
              "      async function quickchart(key) {\n",
              "        const containerElement = document.querySelector('#' + key);\n",
              "        const charts = await google.colab.kernel.invokeFunction(\n",
              "            'suggestCharts', [key], {});\n",
              "      }\n",
              "    </script>\n",
              "\n",
              "      <script>\n",
              "\n",
              "function displayQuickchartButton(domScope) {\n",
              "  let quickchartButtonEl =\n",
              "    domScope.querySelector('#df-2f268b74-bcbb-4777-9abb-98b4f6d3f9fd button.colab-df-quickchart');\n",
              "  quickchartButtonEl.style.display =\n",
              "    google.colab.kernel.accessAllowed ? 'block' : 'none';\n",
              "}\n",
              "\n",
              "        displayQuickchartButton(document);\n",
              "      </script>\n",
              "      <style>\n",
              "    .colab-df-container {\n",
              "      display:flex;\n",
              "      flex-wrap:wrap;\n",
              "      gap: 12px;\n",
              "    }\n",
              "\n",
              "    .colab-df-convert {\n",
              "      background-color: #E8F0FE;\n",
              "      border: none;\n",
              "      border-radius: 50%;\n",
              "      cursor: pointer;\n",
              "      display: none;\n",
              "      fill: #1967D2;\n",
              "      height: 32px;\n",
              "      padding: 0 0 0 0;\n",
              "      width: 32px;\n",
              "    }\n",
              "\n",
              "    .colab-df-convert:hover {\n",
              "      background-color: #E2EBFA;\n",
              "      box-shadow: 0px 1px 2px rgba(60, 64, 67, 0.3), 0px 1px 3px 1px rgba(60, 64, 67, 0.15);\n",
              "      fill: #174EA6;\n",
              "    }\n",
              "\n",
              "    [theme=dark] .colab-df-convert {\n",
              "      background-color: #3B4455;\n",
              "      fill: #D2E3FC;\n",
              "    }\n",
              "\n",
              "    [theme=dark] .colab-df-convert:hover {\n",
              "      background-color: #434B5C;\n",
              "      box-shadow: 0px 1px 3px 1px rgba(0, 0, 0, 0.15);\n",
              "      filter: drop-shadow(0px 1px 2px rgba(0, 0, 0, 0.3));\n",
              "      fill: #FFFFFF;\n",
              "    }\n",
              "  </style>\n",
              "\n",
              "      <script>\n",
              "        const buttonEl =\n",
              "          document.querySelector('#df-5aa0ec72-d337-4c4d-8d0a-31eb9b9faf03 button.colab-df-convert');\n",
              "        buttonEl.style.display =\n",
              "          google.colab.kernel.accessAllowed ? 'block' : 'none';\n",
              "\n",
              "        async function convertToInteractive(key) {\n",
              "          const element = document.querySelector('#df-5aa0ec72-d337-4c4d-8d0a-31eb9b9faf03');\n",
              "          const dataTable =\n",
              "            await google.colab.kernel.invokeFunction('convertToInteractive',\n",
              "                                                     [key], {});\n",
              "          if (!dataTable) return;\n",
              "\n",
              "          const docLinkHtml = 'Like what you see? Visit the ' +\n",
              "            '<a target=\"_blank\" href=https://colab.research.google.com/notebooks/data_table.ipynb>data table notebook</a>'\n",
              "            + ' to learn more about interactive tables.';\n",
              "          element.innerHTML = '';\n",
              "          dataTable['output_type'] = 'display_data';\n",
              "          await google.colab.output.renderOutput(dataTable, element);\n",
              "          const docLink = document.createElement('div');\n",
              "          docLink.innerHTML = docLinkHtml;\n",
              "          element.appendChild(docLink);\n",
              "        }\n",
              "      </script>\n",
              "    </div>\n",
              "  </div>\n"
            ]
          },
          "metadata": {},
          "execution_count": 210
        }
      ]
    },
    {
      "cell_type": "code",
      "source": [
        "X = dataset.iloc[:, 3:13]\n",
        "y = dataset.iloc[:, 13]"
      ],
      "metadata": {
        "id": "gHRHobkK7Sxn"
      },
      "execution_count": 211,
      "outputs": []
    },
    {
      "cell_type": "code",
      "source": [
        "#Create dummy variables\n",
        "geography=pd.get_dummies(X[\"Geography\"],drop_first=True)\n",
        "gender=pd.get_dummies(X['Gender'],drop_first=True)"
      ],
      "metadata": {
        "id": "T2yS0VL67Ufn"
      },
      "execution_count": 212,
      "outputs": []
    },
    {
      "cell_type": "code",
      "source": [
        "## Concatenate the Data Frames\n",
        "\n",
        "X=pd.concat([X,geography,gender],axis=1)\n",
        "\n",
        "## Drop Unnecessary columns\n",
        "X=X.drop(['Geography','Gender'],axis=1)\n",
        "\n",
        "# Splitting the dataset into the Training set and Test set\n",
        "from sklearn.model_selection import train_test_split\n",
        "X_train, X_test, y_train, y_test = train_test_split(X, y, test_size = 0.2, random_state = 0)\n"
      ],
      "metadata": {
        "id": "Co2rxaFR7Wgo"
      },
      "execution_count": 213,
      "outputs": []
    },
    {
      "cell_type": "code",
      "source": [
        "# Feature Scaling\n",
        "from sklearn.preprocessing import StandardScaler\n",
        "sc = StandardScaler()\n",
        "X_train_sc = sc.fit_transform(X_train)\n",
        "X_test_sc = sc.transform(X_test)\n",
        "\n",
        "\n"
      ],
      "metadata": {
        "id": "GNZrZXy37ZLs"
      },
      "execution_count": 214,
      "outputs": []
    },
    {
      "cell_type": "code",
      "source": [
        "# Part 2 - Now let's make the ANN!"
      ],
      "metadata": {
        "id": "uwN3bgie7bvT"
      },
      "execution_count": 215,
      "outputs": []
    },
    {
      "cell_type": "code",
      "source": [
        "from tensorflow.keras.models import Sequential\n",
        "from tensorflow.keras.layers import Dense\n",
        "from tensorflow.keras.layers import LeakyReLU,PReLU,ELU\n",
        "from tensorflow.keras.layers import Dropout\n"
      ],
      "metadata": {
        "id": "rL_a7vWu7dj1"
      },
      "execution_count": 216,
      "outputs": []
    },
    {
      "cell_type": "code",
      "source": [
        "# Initialising the ANN\n",
        "classifier = Sequential()"
      ],
      "metadata": {
        "id": "VDJwvrbZ7kj4"
      },
      "execution_count": 217,
      "outputs": []
    },
    {
      "cell_type": "code",
      "source": [
        "# Adding the input layer and the first hidden layer\n",
        "classifier.add(Dense(units=11,activation='relu'))"
      ],
      "metadata": {
        "id": "RSZQrU-g7z4N"
      },
      "execution_count": 218,
      "outputs": []
    },
    {
      "cell_type": "code",
      "source": [
        "# Adding the input layer and the first hidden layer\n",
        "classifier.add(Dense(units=6,activation='relu'))"
      ],
      "metadata": {
        "id": "byszZMvw8RcQ"
      },
      "execution_count": 219,
      "outputs": []
    },
    {
      "cell_type": "code",
      "source": [
        "# Adding the input layer and the first hidden layer\n",
        "classifier.add(Dense(units=1,activation='relu'))"
      ],
      "metadata": {
        "id": "Mk2slmAX8XUI"
      },
      "execution_count": 220,
      "outputs": []
    },
    {
      "cell_type": "code",
      "source": [
        "classifier.compile(optimizer='adam',loss='binary_crossentropy',metrics=['accuracy'])"
      ],
      "metadata": {
        "id": "F2udThHo8cFt"
      },
      "execution_count": 221,
      "outputs": []
    },
    {
      "cell_type": "code",
      "source": [
        "model_history=classifier.fit(X_train_sc,y_train,validation_split=0.33,batch_size=10,epochs=50)"
      ],
      "metadata": {
        "colab": {
          "base_uri": "https://localhost:8080/"
        },
        "id": "3qairJAs8fIc",
        "outputId": "79f73b7f-d9fa-4381-97a0-9bb50c13fc2e"
      },
      "execution_count": 222,
      "outputs": [
        {
          "output_type": "stream",
          "name": "stdout",
          "text": [
            "Epoch 1/50\n",
            "536/536 [==============================] - 3s 4ms/step - loss: 1.2335 - accuracy: 0.7113 - val_loss: 0.6855 - val_accuracy: 0.7452\n",
            "Epoch 2/50\n",
            "536/536 [==============================] - 2s 4ms/step - loss: 0.6089 - accuracy: 0.7744 - val_loss: 0.5772 - val_accuracy: 0.7751\n",
            "Epoch 3/50\n",
            "536/536 [==============================] - 2s 3ms/step - loss: 0.5265 - accuracy: 0.7867 - val_loss: 0.5228 - val_accuracy: 0.7891\n",
            "Epoch 4/50\n",
            "536/536 [==============================] - 2s 3ms/step - loss: 0.4983 - accuracy: 0.7983 - val_loss: 0.5566 - val_accuracy: 0.7683\n",
            "Epoch 5/50\n",
            "536/536 [==============================] - 2s 3ms/step - loss: 0.4964 - accuracy: 0.8018 - val_loss: 0.4801 - val_accuracy: 0.8046\n",
            "Epoch 6/50\n",
            "536/536 [==============================] - 1s 3ms/step - loss: 0.4625 - accuracy: 0.8089 - val_loss: 0.4954 - val_accuracy: 0.8114\n",
            "Epoch 7/50\n",
            "536/536 [==============================] - 1s 2ms/step - loss: 0.4500 - accuracy: 0.8207 - val_loss: 0.4771 - val_accuracy: 0.8145\n",
            "Epoch 8/50\n",
            "536/536 [==============================] - 2s 3ms/step - loss: 0.4468 - accuracy: 0.8261 - val_loss: 0.4765 - val_accuracy: 0.8201\n",
            "Epoch 9/50\n",
            "536/536 [==============================] - 2s 4ms/step - loss: 0.4342 - accuracy: 0.8257 - val_loss: 0.4652 - val_accuracy: 0.8217\n",
            "Epoch 10/50\n",
            "536/536 [==============================] - 2s 3ms/step - loss: 0.4290 - accuracy: 0.8341 - val_loss: 0.4749 - val_accuracy: 0.8258\n",
            "Epoch 11/50\n",
            "536/536 [==============================] - 1s 3ms/step - loss: 0.4242 - accuracy: 0.8365 - val_loss: 0.4475 - val_accuracy: 0.8190\n",
            "Epoch 12/50\n",
            "536/536 [==============================] - 1s 3ms/step - loss: 0.4130 - accuracy: 0.8354 - val_loss: 0.4484 - val_accuracy: 0.8277\n",
            "Epoch 13/50\n",
            "536/536 [==============================] - 1s 3ms/step - loss: 0.4101 - accuracy: 0.8406 - val_loss: 0.4509 - val_accuracy: 0.8258\n",
            "Epoch 14/50\n",
            "536/536 [==============================] - 1s 2ms/step - loss: 0.4029 - accuracy: 0.8419 - val_loss: 0.4764 - val_accuracy: 0.8292\n",
            "Epoch 15/50\n",
            "536/536 [==============================] - 1s 2ms/step - loss: 0.4009 - accuracy: 0.8444 - val_loss: 0.4825 - val_accuracy: 0.8289\n",
            "Epoch 16/50\n",
            "536/536 [==============================] - 2s 3ms/step - loss: 0.3913 - accuracy: 0.8414 - val_loss: 0.4494 - val_accuracy: 0.8232\n",
            "Epoch 17/50\n",
            "536/536 [==============================] - 2s 3ms/step - loss: 0.3937 - accuracy: 0.8378 - val_loss: 0.4220 - val_accuracy: 0.8323\n",
            "Epoch 18/50\n",
            "536/536 [==============================] - 2s 4ms/step - loss: 0.3913 - accuracy: 0.8434 - val_loss: 0.4586 - val_accuracy: 0.8311\n",
            "Epoch 19/50\n",
            "536/536 [==============================] - 1s 3ms/step - loss: 0.3815 - accuracy: 0.8455 - val_loss: 0.4604 - val_accuracy: 0.8307\n",
            "Epoch 20/50\n",
            "536/536 [==============================] - 2s 3ms/step - loss: 0.3801 - accuracy: 0.8455 - val_loss: 0.4937 - val_accuracy: 0.8315\n",
            "Epoch 21/50\n",
            "536/536 [==============================] - 2s 3ms/step - loss: 0.3810 - accuracy: 0.8455 - val_loss: 0.4645 - val_accuracy: 0.8334\n",
            "Epoch 22/50\n",
            "536/536 [==============================] - 1s 3ms/step - loss: 0.3802 - accuracy: 0.8438 - val_loss: 0.4898 - val_accuracy: 0.8330\n",
            "Epoch 23/50\n",
            "536/536 [==============================] - 2s 3ms/step - loss: 0.3784 - accuracy: 0.8453 - val_loss: 0.4672 - val_accuracy: 0.8342\n",
            "Epoch 24/50\n",
            "536/536 [==============================] - 1s 3ms/step - loss: 0.3760 - accuracy: 0.8472 - val_loss: 0.4372 - val_accuracy: 0.8338\n",
            "Epoch 25/50\n",
            "536/536 [==============================] - 2s 4ms/step - loss: 0.3776 - accuracy: 0.8470 - val_loss: 0.4412 - val_accuracy: 0.8311\n",
            "Epoch 26/50\n",
            "536/536 [==============================] - 2s 3ms/step - loss: 0.3841 - accuracy: 0.8472 - val_loss: 0.4404 - val_accuracy: 0.8307\n",
            "Epoch 27/50\n",
            "536/536 [==============================] - 2s 3ms/step - loss: 0.3800 - accuracy: 0.8483 - val_loss: 0.4225 - val_accuracy: 0.8326\n",
            "Epoch 28/50\n",
            "536/536 [==============================] - 2s 3ms/step - loss: 0.3791 - accuracy: 0.8515 - val_loss: 0.4452 - val_accuracy: 0.8349\n",
            "Epoch 29/50\n",
            "536/536 [==============================] - 1s 2ms/step - loss: 0.3759 - accuracy: 0.8498 - val_loss: 0.4485 - val_accuracy: 0.8391\n",
            "Epoch 30/50\n",
            "536/536 [==============================] - 1s 3ms/step - loss: 0.3808 - accuracy: 0.8489 - val_loss: 0.4370 - val_accuracy: 0.8360\n",
            "Epoch 31/50\n",
            "536/536 [==============================] - 2s 3ms/step - loss: 0.3773 - accuracy: 0.8533 - val_loss: 0.4514 - val_accuracy: 0.8345\n",
            "Epoch 32/50\n",
            "536/536 [==============================] - 2s 3ms/step - loss: 0.3786 - accuracy: 0.8528 - val_loss: 0.4200 - val_accuracy: 0.8338\n",
            "Epoch 33/50\n",
            "536/536 [==============================] - 2s 4ms/step - loss: 0.3930 - accuracy: 0.8522 - val_loss: 0.4358 - val_accuracy: 0.8383\n",
            "Epoch 34/50\n",
            "536/536 [==============================] - 2s 3ms/step - loss: 0.3777 - accuracy: 0.8466 - val_loss: 0.4313 - val_accuracy: 0.8391\n",
            "Epoch 35/50\n",
            "536/536 [==============================] - 1s 2ms/step - loss: 0.3755 - accuracy: 0.8494 - val_loss: 0.4336 - val_accuracy: 0.8379\n",
            "Epoch 36/50\n",
            "536/536 [==============================] - 2s 3ms/step - loss: 0.3715 - accuracy: 0.8502 - val_loss: 0.4440 - val_accuracy: 0.8364\n",
            "Epoch 37/50\n",
            "536/536 [==============================] - 1s 2ms/step - loss: 0.3753 - accuracy: 0.8526 - val_loss: 0.4277 - val_accuracy: 0.8391\n",
            "Epoch 38/50\n",
            "536/536 [==============================] - 1s 3ms/step - loss: 0.3717 - accuracy: 0.8533 - val_loss: 0.4235 - val_accuracy: 0.8413\n",
            "Epoch 39/50\n",
            "536/536 [==============================] - 2s 3ms/step - loss: 0.3734 - accuracy: 0.8518 - val_loss: 0.4255 - val_accuracy: 0.8379\n",
            "Epoch 40/50\n",
            "536/536 [==============================] - 2s 3ms/step - loss: 0.3836 - accuracy: 0.8474 - val_loss: 0.4120 - val_accuracy: 0.8372\n",
            "Epoch 41/50\n",
            "536/536 [==============================] - 2s 4ms/step - loss: 0.3757 - accuracy: 0.8517 - val_loss: 0.4159 - val_accuracy: 0.8421\n",
            "Epoch 42/50\n",
            "536/536 [==============================] - 1s 3ms/step - loss: 0.3696 - accuracy: 0.8533 - val_loss: 0.4287 - val_accuracy: 0.8421\n",
            "Epoch 43/50\n",
            "536/536 [==============================] - 2s 3ms/step - loss: 0.3632 - accuracy: 0.8537 - val_loss: 0.4432 - val_accuracy: 0.8413\n",
            "Epoch 44/50\n",
            "536/536 [==============================] - 2s 3ms/step - loss: 0.3658 - accuracy: 0.8556 - val_loss: 0.4415 - val_accuracy: 0.8440\n",
            "Epoch 45/50\n",
            "536/536 [==============================] - 2s 3ms/step - loss: 0.3612 - accuracy: 0.8515 - val_loss: 0.4397 - val_accuracy: 0.8421\n",
            "Epoch 46/50\n",
            "536/536 [==============================] - 1s 2ms/step - loss: 0.3612 - accuracy: 0.8546 - val_loss: 0.4659 - val_accuracy: 0.8432\n",
            "Epoch 47/50\n",
            "536/536 [==============================] - 2s 3ms/step - loss: 0.3702 - accuracy: 0.8528 - val_loss: 0.4114 - val_accuracy: 0.8436\n",
            "Epoch 48/50\n",
            "536/536 [==============================] - 2s 4ms/step - loss: 0.3587 - accuracy: 0.8530 - val_loss: 0.3945 - val_accuracy: 0.8448\n",
            "Epoch 49/50\n",
            "536/536 [==============================] - 2s 4ms/step - loss: 0.3564 - accuracy: 0.8546 - val_loss: 0.4095 - val_accuracy: 0.8482\n",
            "Epoch 50/50\n",
            "536/536 [==============================] - 1s 3ms/step - loss: 0.3493 - accuracy: 0.8556 - val_loss: 0.4282 - val_accuracy: 0.8451\n"
          ]
        }
      ]
    },
    {
      "cell_type": "code",
      "source": [
        "# list all data in history\n",
        "\n",
        "print(model_history.history.keys())"
      ],
      "metadata": {
        "colab": {
          "base_uri": "https://localhost:8080/"
        },
        "id": "Q9t_M4wICTTz",
        "outputId": "7e929b5f-edaa-422c-a8c3-4bab73f98ff1"
      },
      "execution_count": 223,
      "outputs": [
        {
          "output_type": "stream",
          "name": "stdout",
          "text": [
            "dict_keys(['loss', 'accuracy', 'val_loss', 'val_accuracy'])\n"
          ]
        }
      ]
    },
    {
      "cell_type": "code",
      "source": [
        "\n",
        "# summarize history for accuracy\n",
        "plt.plot(model_history.history['accuracy'])\n",
        "plt.plot(model_history.history['val_accuracy'])\n",
        "plt.title('model accuracy')\n",
        "plt.ylabel('accuracy')\n",
        "plt.xlabel('epoch')\n",
        "plt.legend(['train', 'test'], loc='upper left')\n",
        "plt.show()"
      ],
      "metadata": {
        "colab": {
          "base_uri": "https://localhost:8080/",
          "height": 472
        },
        "id": "MMOyiwzgBlLY",
        "outputId": "814e2820-a135-43a5-bab6-bb3fad5aef82"
      },
      "execution_count": 224,
      "outputs": [
        {
          "output_type": "display_data",
          "data": {
            "text/plain": [
              "<Figure size 640x480 with 1 Axes>"
            ],
            "image/png": "[encoded data removed]"
          },
          "metadata": {}
        }
      ]
    },
    {
      "cell_type": "code",
      "source": [
        "# summarize history for loss\n",
        "plt.plot(model_history.history['loss'])\n",
        "plt.plot(model_history.history['val_loss'])\n",
        "plt.title('model loss')\n",
        "plt.ylabel('loss')\n",
        "plt.xlabel('epoch')\n",
        "plt.legend(['train', 'test'], loc='upper left')\n",
        "plt.show()"
      ],
      "metadata": {
        "colab": {
          "base_uri": "https://localhost:8080/",
          "height": 472
        },
        "id": "QH141RsQCEr0",
        "outputId": "847adc32-9791-41f1-8db5-3a02671c3ebe"
      },
      "execution_count": 225,
      "outputs": [
        {
          "output_type": "display_data",
          "data": {
            "text/plain": [
              "<Figure size 640x480 with 1 Axes>"
            ],
            "image/png": "[encoded data removed]"
          },
          "metadata": {}
        }
      ]
    },
    {
      "cell_type": "code",
      "source": [
        "# Part 3 - Making the predictions and evaluating the model\n",
        "\n",
        "# Predicting the Test set results\n",
        "y_pred = classifier.predict(X_test_sc)\n",
        "y_pred = (y_pred > 0.5)"
      ],
      "metadata": {
        "id": "OYqCIIkDCd8S",
        "colab": {
          "base_uri": "https://localhost:8080/"
        },
        "outputId": "be113527-1847-4a76-8601-15ea7729e630"
      },
      "execution_count": 226,
      "outputs": [
        {
          "output_type": "stream",
          "name": "stdout",
          "text": [
            "63/63 [==============================] - 0s 1ms/step\n"
          ]
        }
      ]
    },
    {
      "cell_type": "code",
      "source": [
        "# Making the Confusion Matrix\n",
        "from sklearn.metrics import confusion_matrix\n",
        "cm = confusion_matrix(y_test, y_pred)\n",
        "cm"
      ],
      "metadata": {
        "colab": {
          "base_uri": "https://localhost:8080/"
        },
        "id": "cm3EeOGTCi3-",
        "outputId": "f05d528a-686b-4bfe-b534-39603b96e72b"
      },
      "execution_count": 227,
      "outputs": [
        {
          "output_type": "execute_result",
          "data": {
            "text/plain": [
              "array([[1524,   71],\n",
              "       [ 220,  185]])"
            ]
          },
          "metadata": {},
          "execution_count": 227
        }
      ]
    },
    {
      "cell_type": "code",
      "source": [
        "# Calculate the Accuracy\n",
        "from sklearn.metrics import accuracy_score\n",
        "score=accuracy_score(y_pred,y_test)"
      ],
      "metadata": {
        "id": "FgfRKzzOClmP"
      },
      "execution_count": 228,
      "outputs": []
    },
    {
      "cell_type": "code",
      "source": [
        "score"
      ],
      "metadata": {
        "colab": {
          "base_uri": "https://localhost:8080/"
        },
        "id": "a_C5EETrCpSj",
        "outputId": "c594e61a-ab22-4172-ea8c-ace4ae954332"
      },
      "execution_count": 229,
      "outputs": [
        {
          "output_type": "execute_result",
          "data": {
            "text/plain": [
              "0.8545"
            ]
          },
          "metadata": {},
          "execution_count": 229
        }
      ]
    }
  ]
}