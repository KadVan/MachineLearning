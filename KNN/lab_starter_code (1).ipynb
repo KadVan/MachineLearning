{
  "cells": [
    {
      "cell_type": "markdown",
      "metadata": {
        "id": "H8vCZ6BblrPH"
      },
      "source": [
        "## Lab: Predicting Chronic Kidney Disease in Patients\n",
        "\n",
        "\n",
        "We can sketch out the data science process as follows:\n",
        "1. Define the problem.\n",
        "2. Obtain the data.\n",
        "3. Explore the data.\n",
        "4. Model the data.\n",
        "5. Evaluate the model.\n",
        "6. Answer the problem.\n",
        "\n",
        "In this lab, we're going to focus on steps exploring data, building models and evaluating the models we build.\n",
        "\n",
        "There are three links you may find important:\n",
        "- [A set of chronic kidney disease (CKD) data and other biological factors](./chronic_kidney_disease_full.csv).\n",
        "- [The CKD data dictionary](./chronic_kidney_disease_header.txt).\n",
        "- [An article comparing the use of k-nearest neighbors and support vector machines on predicting CKD](./chronic_kidney_disease.pdf)."
      ]
    },
    {
      "cell_type": "markdown",
      "metadata": {
        "id": "xh0h-t6clrPj"
      },
      "source": [
        "## Step 1: Define the problem.\n",
        "\n",
        "Suppose you're working for Mayo Clinic, widely recognized to be the top hospital in the United States. In your work, you've overheard nurses and doctors discuss test results, then arrive at a conclusion as to whether or not someone has developed a particular disease or condition. For example, you might overhear something like:\n",
        "\n",
        "> **Nurse**: Male 57 year-old patient presents with severe chest pain. FDP _(short for fibrin degradation product)_ was elevated at 13. We did an echo _(echocardiogram)_ and it was inconclusive.\n",
        "\n",
        "> **Doctor**: What was his interarm BP? _(blood pressure)_\n",
        "\n",
        "> **Nurse**: Systolic was 140 on the right; 110 on the left.\n",
        "\n",
        "> **Doctor**: Dammit, it's an aortic dissection! Get to the OR _(operating room)_ now!\n",
        "\n",
        "> _(intense music playing)_\n",
        "\n",
        "In this fictitious but [Shonda Rhimes-esque](https://en.wikipedia.org/wiki/Shonda_Rhimes#Grey's_Anatomy,_Private_Practice,_Scandal_and_other_projects_with_ABC) scenario, you might imagine the doctor going through a series of steps like a [flowchart](https://en.wikipedia.org/wiki/Flowchart), or a series of if-this-then-that steps to diagnose a patient. The first steps made the doctor ask what the interarm blood pressure was. Because interarm blood pressure took on the values it took on, the doctor diagnosed the patient with an aortic dissection.\n",
        "\n",
        "Your goal, as a research biostatistical data scientist at the nation's top hospital, is to develop a medical test that can improve upon our current diagnosis system for [chronic kidney disease (CKD)](https://www.mayoclinic.org/diseases-conditions/chronic-kidney-disease/symptoms-causes/syc-20354521).\n",
        "\n",
        "**Real-world problem**: Develop a medical diagnosis test that is better than our current diagnosis system for CKD.\n",
        "\n",
        "**Data science problem**: Develop a medical diagnosis test that reduces both the number of false positives and the number of false negatives."
      ]
    },
    {
      "cell_type": "markdown",
      "metadata": {
        "id": "Drn4LziilrP1"
      },
      "source": [
        "---\n",
        "\n",
        "## Step 2: Obtain the data.\n",
        "\n",
        "### 1. Read in the data."
      ]
    },
    {
      "cell_type": "code",
      "execution_count": null,
      "metadata": {
        "collapsed": true,
        "id": "WxoCqNholrP4"
      },
      "outputs": [],
      "source": [
        "import pandas as pd\n",
        "import numpy as np\n",
        "import matplotlib.pyplot as plt\n",
        "import seaborn as sns\n",
        "import random\n",
        "import patsy\n",
        "from sklearn.neighbors import KNeighborsClassifier\n",
        "from sklearn.ensemble import RandomForestClassifier\n",
        "from sklearn.model_selection import train_test_split, GridSearchCV, StratifiedKFold\n",
        "from sklearn.metrics import confusion_matrix, classification_report\n",
        "from sklearn.tree import DecisionTreeClassifier\n",
        "from sklearn.metrics import recall_score\n",
        "from sklearn.preprocessing import PolynomialFeatures, StandardScaler\n",
        "from sklearn.linear_model import LogisticRegression\n",
        "\n",
        "from sklearn.utils import resample\n",
        "from imblearn.over_sampling import SMOTE\n",
        "from imblearn.combine import SMOTEENN, SMOTETomek\n",
        "from imblearn.under_sampling import NearMiss, EditedNearestNeighbours, TomekLinks\n",
        "from imblearn.ensemble import BalancedBaggingClassifier\n",
        "from imblearn.pipeline import Pipeline\n",
        "\n",
        "%matplotlib inline\n",
        "%config InlineBackend.figure_format = 'retina'"
      ]
    },
    {
      "cell_type": "code",
      "source": [
        "\n",
        "df = pd.read_csv('./chronic_kidney_disease_full.csv')"
      ],
      "metadata": {
        "id": "lK1ObuXNt4OV"
      },
      "execution_count": null,
      "outputs": []
    },
    {
      "cell_type": "markdown",
      "metadata": {
        "id": "SXeAkZuClrP_"
      },
      "source": [
        "### 2. Check out the data dictionary. What are a few features or relationships you might be interested in checking out?"
      ]
    },
    {
      "cell_type": "markdown",
      "metadata": {
        "id": "JJAf7SKWlrQB"
      },
      "source": [
        "Answer:"
      ]
    },
    {
      "cell_type": "code",
      "source": [
        "\n",
        "df.head()"
      ],
      "metadata": {
        "colab": {
          "base_uri": "https://localhost:8080/",
          "height": 300
        },
        "id": "KZoMUN7Gt2s3",
        "outputId": "220c4a66-2eda-4cec-f9c6-3f55dd934e7d"
      },
      "execution_count": null,
      "outputs": [
        {
          "output_type": "execute_result",
          "data": {
            "text/plain": [
              "    age    bp     sg   al   su     rbc        pc         pcc          ba  \\\n",
              "0  48.0  80.0  1.020  1.0  0.0     NaN    normal  notpresent  notpresent   \n",
              "1   7.0  50.0  1.020  4.0  0.0     NaN    normal  notpresent  notpresent   \n",
              "2  62.0  80.0  1.010  2.0  3.0  normal    normal  notpresent  notpresent   \n",
              "3  48.0  70.0  1.005  4.0  0.0  normal  abnormal     present  notpresent   \n",
              "4  51.0  80.0  1.010  2.0  0.0  normal    normal  notpresent  notpresent   \n",
              "\n",
              "     bgr  ...   pcv    wbcc  rbcc  htn   dm  cad  appet   pe  ane class  \n",
              "0  121.0  ...  44.0  7800.0   5.2  yes  yes   no   good   no   no   ckd  \n",
              "1    NaN  ...  38.0  6000.0   NaN   no   no   no   good   no   no   ckd  \n",
              "2  423.0  ...  31.0  7500.0   NaN   no  yes   no   poor   no  yes   ckd  \n",
              "3  117.0  ...  32.0  6700.0   3.9  yes   no   no   poor  yes  yes   ckd  \n",
              "4  106.0  ...  35.0  7300.0   4.6   no   no   no   good   no   no   ckd  \n",
              "\n",
              "[5 rows x 25 columns]"
            ],
            "text/html": [
              "\n",
              "  <div id=\"df-f7ecad4d-1486-48a7-a75b-463a445c2f2d\">\n",
              "    <div class=\"colab-df-container\">\n",
              "      <div>\n",
              "<style scoped>\n",
              "    .dataframe tbody tr th:only-of-type {\n",
              "        vertical-align: middle;\n",
              "    }\n",
              "\n",
              "    .dataframe tbody tr th {\n",
              "        vertical-align: top;\n",
              "    }\n",
              "\n",
              "    .dataframe thead th {\n",
              "        text-align: right;\n",
              "    }\n",
              "</style>\n",
              "<table border=\"1\" class=\"dataframe\">\n",
              "  <thead>\n",
              "    <tr style=\"text-align: right;\">\n",
              "      <th></th>\n",
              "      <th>age</th>\n",
              "      <th>bp</th>\n",
              "      <th>sg</th>\n",
              "      <th>al</th>\n",
              "      <th>su</th>\n",
              "      <th>rbc</th>\n",
              "      <th>pc</th>\n",
              "      <th>pcc</th>\n",
              "      <th>ba</th>\n",
              "      <th>bgr</th>\n",
              "      <th>...</th>\n",
              "      <th>pcv</th>\n",
              "      <th>wbcc</th>\n",
              "      <th>rbcc</th>\n",
              "      <th>htn</th>\n",
              "      <th>dm</th>\n",
              "      <th>cad</th>\n",
              "      <th>appet</th>\n",
              "      <th>pe</th>\n",
              "      <th>ane</th>\n",
              "      <th>class</th>\n",
              "    </tr>\n",
              "  </thead>\n",
              "  <tbody>\n",
              "    <tr>\n",
              "      <th>0</th>\n",
              "      <td>48.0</td>\n",
              "      <td>80.0</td>\n",
              "      <td>1.020</td>\n",
              "      <td>1.0</td>\n",
              "      <td>0.0</td>\n",
              "      <td>NaN</td>\n",
              "      <td>normal</td>\n",
              "      <td>notpresent</td>\n",
              "      <td>notpresent</td>\n",
              "      <td>121.0</td>\n",
              "      <td>...</td>\n",
              "      <td>44.0</td>\n",
              "      <td>7800.0</td>\n",
              "      <td>5.2</td>\n",
              "      <td>yes</td>\n",
              "      <td>yes</td>\n",
              "      <td>no</td>\n",
              "      <td>good</td>\n",
              "      <td>no</td>\n",
              "      <td>no</td>\n",
              "      <td>ckd</td>\n",
              "    </tr>\n",
              "    <tr>\n",
              "      <th>1</th>\n",
              "      <td>7.0</td>\n",
              "      <td>50.0</td>\n",
              "      <td>1.020</td>\n",
              "      <td>4.0</td>\n",
              "      <td>0.0</td>\n",
              "      <td>NaN</td>\n",
              "      <td>normal</td>\n",
              "      <td>notpresent</td>\n",
              "      <td>notpresent</td>\n",
              "      <td>NaN</td>\n",
              "      <td>...</td>\n",
              "      <td>38.0</td>\n",
              "      <td>6000.0</td>\n",
              "      <td>NaN</td>\n",
              "      <td>no</td>\n",
              "      <td>no</td>\n",
              "      <td>no</td>\n",
              "      <td>good</td>\n",
              "      <td>no</td>\n",
              "      <td>no</td>\n",
              "      <td>ckd</td>\n",
              "    </tr>\n",
              "    <tr>\n",
              "      <th>2</th>\n",
              "      <td>62.0</td>\n",
              "      <td>80.0</td>\n",
              "      <td>1.010</td>\n",
              "      <td>2.0</td>\n",
              "      <td>3.0</td>\n",
              "      <td>normal</td>\n",
              "      <td>normal</td>\n",
              "      <td>notpresent</td>\n",
              "      <td>notpresent</td>\n",
              "      <td>423.0</td>\n",
              "      <td>...</td>\n",
              "      <td>31.0</td>\n",
              "      <td>7500.0</td>\n",
              "      <td>NaN</td>\n",
              "      <td>no</td>\n",
              "      <td>yes</td>\n",
              "      <td>no</td>\n",
              "      <td>poor</td>\n",
              "      <td>no</td>\n",
              "      <td>yes</td>\n",
              "      <td>ckd</td>\n",
              "    </tr>\n",
              "    <tr>\n",
              "      <th>3</th>\n",
              "      <td>48.0</td>\n",
              "      <td>70.0</td>\n",
              "      <td>1.005</td>\n",
              "      <td>4.0</td>\n",
              "      <td>0.0</td>\n",
              "      <td>normal</td>\n",
              "      <td>abnormal</td>\n",
              "      <td>present</td>\n",
              "      <td>notpresent</td>\n",
              "      <td>117.0</td>\n",
              "      <td>...</td>\n",
              "      <td>32.0</td>\n",
              "      <td>6700.0</td>\n",
              "      <td>3.9</td>\n",
              "      <td>yes</td>\n",
              "      <td>no</td>\n",
              "      <td>no</td>\n",
              "      <td>poor</td>\n",
              "      <td>yes</td>\n",
              "      <td>yes</td>\n",
              "      <td>ckd</td>\n",
              "    </tr>\n",
              "    <tr>\n",
              "      <th>4</th>\n",
              "      <td>51.0</td>\n",
              "      <td>80.0</td>\n",
              "      <td>1.010</td>\n",
              "      <td>2.0</td>\n",
              "      <td>0.0</td>\n",
              "      <td>normal</td>\n",
              "      <td>normal</td>\n",
              "      <td>notpresent</td>\n",
              "      <td>notpresent</td>\n",
              "      <td>106.0</td>\n",
              "      <td>...</td>\n",
              "      <td>35.0</td>\n",
              "      <td>7300.0</td>\n",
              "      <td>4.6</td>\n",
              "      <td>no</td>\n",
              "      <td>no</td>\n",
              "      <td>no</td>\n",
              "      <td>good</td>\n",
              "      <td>no</td>\n",
              "      <td>no</td>\n",
              "      <td>ckd</td>\n",
              "    </tr>\n",
              "  </tbody>\n",
              "</table>\n",
              "<p>5 rows × 25 columns</p>\n",
              "</div>\n",
              "      <button class=\"colab-df-convert\" onclick=\"convertToInteractive('df-f7ecad4d-1486-48a7-a75b-463a445c2f2d')\"\n",
              "              title=\"Convert this dataframe to an interactive table.\"\n",
              "              style=\"display:none;\">\n",
              "        \n",
              "  <svg xmlns=\"http://www.w3.org/2000/svg\" height=\"24px\"viewBox=\"0 0 24 24\"\n",
              "       width=\"24px\">\n",
              "    <path d=\"M0 0h24v24H0V0z\" fill=\"none\"/>\n",
              "    <path d=\"M18.56 5.44l.94 2.06.94-2.06 2.06-.94-2.06-.94-.94-2.06-.94 2.06-2.06.94zm-11 1L8.5 8.5l.94-2.06 2.06-.94-2.06-.94L8.5 2.5l-.94 2.06-2.06.94zm10 10l.94 2.06.94-2.06 2.06-.94-2.06-.94-.94-2.06-.94 2.06-2.06.94z\"/><path d=\"M17.41 7.96l-1.37-1.37c-.4-.4-.92-.59-1.43-.59-.52 0-1.04.2-1.43.59L10.3 9.45l-7.72 7.72c-.78.78-.78 2.05 0 2.83L4 21.41c.39.39.9.59 1.41.59.51 0 1.02-.2 1.41-.59l7.78-7.78 2.81-2.81c.8-.78.8-2.07 0-2.86zM5.41 20L4 18.59l7.72-7.72 1.47 1.35L5.41 20z\"/>\n",
              "  </svg>\n",
              "      </button>\n",
              "      \n",
              "  <style>\n",
              "    .colab-df-container {\n",
              "      display:flex;\n",
              "      flex-wrap:wrap;\n",
              "      gap: 12px;\n",
              "    }\n",
              "\n",
              "    .colab-df-convert {\n",
              "      background-color: #E8F0FE;\n",
              "      border: none;\n",
              "      border-radius: 50%;\n",
              "      cursor: pointer;\n",
              "      display: none;\n",
              "      fill: #1967D2;\n",
              "      height: 32px;\n",
              "      padding: 0 0 0 0;\n",
              "      width: 32px;\n",
              "    }\n",
              "\n",
              "    .colab-df-convert:hover {\n",
              "      background-color: #E2EBFA;\n",
              "      box-shadow: 0px 1px 2px rgba(60, 64, 67, 0.3), 0px 1px 3px 1px rgba(60, 64, 67, 0.15);\n",
              "      fill: #174EA6;\n",
              "    }\n",
              "\n",
              "    [theme=dark] .colab-df-convert {\n",
              "      background-color: #3B4455;\n",
              "      fill: #D2E3FC;\n",
              "    }\n",
              "\n",
              "    [theme=dark] .colab-df-convert:hover {\n",
              "      background-color: #434B5C;\n",
              "      box-shadow: 0px 1px 3px 1px rgba(0, 0, 0, 0.15);\n",
              "      filter: drop-shadow(0px 1px 2px rgba(0, 0, 0, 0.3));\n",
              "      fill: #FFFFFF;\n",
              "    }\n",
              "  </style>\n",
              "\n",
              "      <script>\n",
              "        const buttonEl =\n",
              "          document.querySelector('#df-f7ecad4d-1486-48a7-a75b-463a445c2f2d button.colab-df-convert');\n",
              "        buttonEl.style.display =\n",
              "          google.colab.kernel.accessAllowed ? 'block' : 'none';\n",
              "\n",
              "        async function convertToInteractive(key) {\n",
              "          const element = document.querySelector('#df-f7ecad4d-1486-48a7-a75b-463a445c2f2d');\n",
              "          const dataTable =\n",
              "            await google.colab.kernel.invokeFunction('convertToInteractive',\n",
              "                                                     [key], {});\n",
              "          if (!dataTable) return;\n",
              "\n",
              "          const docLinkHtml = 'Like what you see? Visit the ' +\n",
              "            '<a target=\"_blank\" href=https://colab.research.google.com/notebooks/data_table.ipynb>data table notebook</a>'\n",
              "            + ' to learn more about interactive tables.';\n",
              "          element.innerHTML = '';\n",
              "          dataTable['output_type'] = 'display_data';\n",
              "          await google.colab.output.renderOutput(dataTable, element);\n",
              "          const docLink = document.createElement('div');\n",
              "          docLink.innerHTML = docLinkHtml;\n",
              "          element.appendChild(docLink);\n",
              "        }\n",
              "      </script>\n",
              "    </div>\n",
              "  </div>\n",
              "  "
            ]
          },
          "metadata": {},
          "execution_count": 4
        }
      ]
    },
    {
      "cell_type": "code",
      "source": [
        "df.columns"
      ],
      "metadata": {
        "colab": {
          "base_uri": "https://localhost:8080/"
        },
        "id": "d-YuEBbtvIY6",
        "outputId": "3da9eeae-4632-4edd-d38d-dbce2587e24c"
      },
      "execution_count": null,
      "outputs": [
        {
          "output_type": "execute_result",
          "data": {
            "text/plain": [
              "Index(['age', 'bp', 'sg', 'al', 'su', 'rbc', 'pc', 'pcc', 'ba', 'bgr', 'bu',\n",
              "       'sc', 'sod', 'pot', 'hemo', 'pcv', 'wbcc', 'rbcc', 'htn', 'dm', 'cad',\n",
              "       'appet', 'pe', 'ane', 'class'],\n",
              "      dtype='object')"
            ]
          },
          "metadata": {},
          "execution_count": 5
        }
      ]
    },
    {
      "cell_type": "markdown",
      "metadata": {
        "id": "Oznaf68ulrQD"
      },
      "source": [
        "---\n",
        "\n",
        "## Step 3: Explore the data.\n",
        "\n",
        "### 3. How much of the data is missing from each column?"
      ]
    },
    {
      "cell_type": "code",
      "execution_count": null,
      "metadata": {
        "collapsed": true,
        "colab": {
          "base_uri": "https://localhost:8080/"
        },
        "id": "Tcl9lUeOlrQG",
        "outputId": "ca2b25b5-0df9-4e88-fef8-5661ed5cd996"
      },
      "outputs": [
        {
          "output_type": "execute_result",
          "data": {
            "text/plain": [
              "age        9\n",
              "bp        12\n",
              "sg        47\n",
              "al        46\n",
              "su        49\n",
              "rbc      152\n",
              "pc        65\n",
              "pcc        4\n",
              "ba         4\n",
              "bgr       44\n",
              "bu        19\n",
              "sc        17\n",
              "sod       87\n",
              "pot       88\n",
              "hemo      52\n",
              "pcv       71\n",
              "wbcc     106\n",
              "rbcc     131\n",
              "htn        2\n",
              "dm         2\n",
              "cad        2\n",
              "appet      1\n",
              "pe         1\n",
              "ane        1\n",
              "class      0\n",
              "dtype: int64"
            ]
          },
          "metadata": {},
          "execution_count": 6
        }
      ],
      "source": [
        "df.isnull().sum()"
      ]
    },
    {
      "cell_type": "code",
      "source": [
        "df_copy = df.dropna()"
      ],
      "metadata": {
        "id": "odEk844tvYq2"
      },
      "execution_count": null,
      "outputs": []
    },
    {
      "cell_type": "code",
      "source": [
        "\n",
        "df_copy.shape"
      ],
      "metadata": {
        "colab": {
          "base_uri": "https://localhost:8080/"
        },
        "id": "jslGXbCivYw_",
        "outputId": "29aa8faa-3f2f-44f3-bccb-6a387fd7b82e"
      },
      "execution_count": null,
      "outputs": [
        {
          "output_type": "execute_result",
          "data": {
            "text/plain": [
              "(158, 25)"
            ]
          },
          "metadata": {},
          "execution_count": 8
        }
      ]
    },
    {
      "cell_type": "markdown",
      "metadata": {
        "id": "vzTsi9WplrQJ"
      },
      "source": [
        "### 4. Suppose that I dropped every row that contained at least one missing value. (In the context of analysis with missing data, we call this a \"complete case analysis,\" because we keep only the complete cases!) How many rows would remain in our dataframe? What are at least two downsides to doing this?\n",
        "\n",
        "> There's a good visual on slide 15 of [this deck](https://liberalarts.utexas.edu/prc/_files/cs/Missing-Data.pdf) that shows what a complete case analysis looks like if you're interested."
      ]
    },
    {
      "cell_type": "markdown",
      "metadata": {
        "id": "BhDOpBellrQO"
      },
      "source": [
        "*Answer*:158 rows would remain.\n",
        "\n",
        "One downside of dropping rows with missing data is that we would be losing the data in the columns that do have valid values.\n",
        "\n",
        "Another downside of dropping rows is that we would no longer be dealing with a 'random' sample of respondents."
      ]
    },
    {
      "cell_type": "markdown",
      "metadata": {
        "id": "pVUYaBtdlrQR"
      },
      "source": [
        "### 5. Thinking critically about how our data were gathered, it's likely that these records were gathered by doctors and nurses. Brainstorm three potential areas (in addition to the missing data we've already discussed) where this data might be inaccurate or imprecise."
      ]
    },
    {
      "cell_type": "code",
      "source": [
        "1.# Any columns/features that involve human measurement may contain human error, i.e. faulty practices.\n",
        "2. #Some columns deal with data that can be largely temporary, making them largely influenced by timing.\n",
        "3. #Some records may have been mistakenly adjusted/rounded/recorded incorrectly."
      ],
      "metadata": {
        "id": "h5DNa2q2w251",
        "colab": {
          "base_uri": "https://localhost:8080/"
        },
        "outputId": "f0118814-f2d7-41cd-b724-6a82ad1d7433"
      },
      "execution_count": null,
      "outputs": [
        {
          "output_type": "execute_result",
          "data": {
            "text/plain": [
              "3.0"
            ]
          },
          "metadata": {},
          "execution_count": 9
        }
      ]
    },
    {
      "cell_type": "markdown",
      "metadata": {
        "id": "7EvdifJjlrQV"
      },
      "source": [
        "---\n",
        "\n",
        "## Step 4: Model the data.\n",
        "\n",
        "### 6. Suppose that I want to construct a model where no person who has CKD will ever be told that they do not have CKD. What (very simple, no machine learning needed) model can I create that will never tell a person with CKD that they do not have CKD?\n",
        "\n",
        "> Hint: Don't think about `statsmodels` or `scikit-learn` here."
      ]
    },
    {
      "cell_type": "markdown",
      "metadata": {
        "id": "tArSkaMYlrQX"
      },
      "source": [
        "Answer:"
      ]
    },
    {
      "cell_type": "code",
      "source": [
        "#Build a model that tells everyone that they have CKD; the only error that could occur is a Type I Error, or a False Positive."
      ],
      "metadata": {
        "id": "iehjyVmGxdn2"
      },
      "execution_count": null,
      "outputs": []
    },
    {
      "cell_type": "markdown",
      "metadata": {
        "id": "aSouy1B9lrQY"
      },
      "source": [
        "### 7. In problem 6, what common classification metric did we optimize for? Did we minimize false positives or negatives?"
      ]
    },
    {
      "cell_type": "markdown",
      "metadata": {
        "id": "GP6IrF7ClrQb"
      },
      "source": [
        "Answer:"
      ]
    },
    {
      "cell_type": "code",
      "source": [
        "#We optimized ** Sensitivity ** and the False Negative Rate by minimizing ** False Negatives**."
      ],
      "metadata": {
        "id": "9L8wYHc2xl1h"
      },
      "execution_count": null,
      "outputs": []
    },
    {
      "cell_type": "markdown",
      "metadata": {
        "id": "zzFbHze2lrQe"
      },
      "source": [
        "### 8. Thinking ethically, what is at least one disadvantage to the model you described in problem 6?"
      ]
    },
    {
      "cell_type": "markdown",
      "metadata": {
        "id": "F7mF_3gLlrQf"
      },
      "source": [
        "Answer:"
      ]
    },
    {
      "cell_type": "code",
      "source": [
        "#One disadvantage to the model described in problem 6 which tells everyone that they have CKD is that the model will produce many False Positives, causing a lot of undue stress and worry."
      ],
      "metadata": {
        "id": "z1MF03wkxwZ-"
      },
      "execution_count": null,
      "outputs": []
    },
    {
      "cell_type": "markdown",
      "metadata": {
        "id": "2lYPFt71lrQh"
      },
      "source": [
        "### 9. Suppose that I want to construct a model where a person who does not have CKD will ever be told that they do have CKD. What (very simple, no machine learning needed) model can I create that will accomplish this?"
      ]
    },
    {
      "cell_type": "markdown",
      "metadata": {
        "id": "TAHyYUqklrQl"
      },
      "source": [
        "Answer:"
      ]
    },
    {
      "cell_type": "code",
      "source": [
        "#Build a model that tells everyone that they do not have CKD; the only error that could occur is a Type II Error, or a False Negative"
      ],
      "metadata": {
        "id": "G0G8nZ-wx_nn"
      },
      "execution_count": null,
      "outputs": []
    },
    {
      "cell_type": "markdown",
      "metadata": {
        "id": "QagRdgwFlrQm"
      },
      "source": [
        "### 10. In problem 9, what common classification metric did we optimize for? Did we minimize false positives or negatives?"
      ]
    },
    {
      "cell_type": "markdown",
      "metadata": {
        "id": "BUEtFtOMlrQo"
      },
      "source": [
        "Answer:"
      ]
    },
    {
      "cell_type": "code",
      "source": [
        "#We optimized ** Specificity ** and the False Positive Rate by minimizing ** False Positives**."
      ],
      "metadata": {
        "id": "jrLBFig2yLIt"
      },
      "execution_count": null,
      "outputs": []
    },
    {
      "cell_type": "markdown",
      "metadata": {
        "id": "lbKz8gkRlrQp"
      },
      "source": [
        "### 11. Thinking ethically, what is at least one disadvantage to the model you described in problem 9?"
      ]
    },
    {
      "cell_type": "markdown",
      "metadata": {
        "id": "4XjM2QculrQr"
      },
      "source": [
        "Answer:"
      ]
    },
    {
      "cell_type": "code",
      "source": [
        "#One disadvantage to the model described in problem 9 which tells everyone that they do not have CKD is that the model will produce many False Negatives, causing a lot of sick people to believe they are not sick and not take any action to help themselves"
      ],
      "metadata": {
        "id": "k_vvMLtpyW3E"
      },
      "execution_count": null,
      "outputs": []
    },
    {
      "cell_type": "markdown",
      "metadata": {
        "id": "zHSL87LClrQs"
      },
      "source": [
        "### 12. Construct a logistic regression model in `sklearn` predicting class from the other variables. You may scale, select/drop, and engineer features as you wish - build a good model! Make sure, however, that you include at least one categorical/dummy feature and at least one quantitative feature.\n",
        "\n",
        "> Hint: Remember to do a train/test split!"
      ]
    },
    {
      "cell_type": "code",
      "execution_count": null,
      "metadata": {
        "collapsed": true,
        "colab": {
          "base_uri": "https://localhost:8080/"
        },
        "id": "83Os9XnklrQ2",
        "outputId": "b467783c-a139-41de-c479-8e3012a170ca"
      },
      "outputs": [
        {
          "output_type": "execute_result",
          "data": {
            "text/plain": [
              "Index(['age', 'bp', 'sg', 'al', 'su', 'rbc', 'pc', 'pcc', 'ba', 'bgr', 'bu',\n",
              "       'sc', 'sod', 'pot', 'hemo', 'pcv', 'wbcc', 'rbcc', 'htn', 'dm', 'cad',\n",
              "       'appet', 'pe', 'ane', 'class'],\n",
              "      dtype='object')"
            ]
          },
          "metadata": {},
          "execution_count": 16
        }
      ],
      "source": [
        "df.columns"
      ]
    },
    {
      "cell_type": "code",
      "source": [
        "df.info()"
      ],
      "metadata": {
        "colab": {
          "base_uri": "https://localhost:8080/"
        },
        "id": "byOBIRqIyvOK",
        "outputId": "440fc2f1-279f-4dc4-c46d-65cd712605d8"
      },
      "execution_count": null,
      "outputs": [
        {
          "output_type": "stream",
          "name": "stdout",
          "text": [
            "<class 'pandas.core.frame.DataFrame'>\n",
            "RangeIndex: 400 entries, 0 to 399\n",
            "Data columns (total 25 columns):\n",
            " #   Column  Non-Null Count  Dtype  \n",
            "---  ------  --------------  -----  \n",
            " 0   age     391 non-null    float64\n",
            " 1   bp      388 non-null    float64\n",
            " 2   sg      353 non-null    float64\n",
            " 3   al      354 non-null    float64\n",
            " 4   su      351 non-null    float64\n",
            " 5   rbc     248 non-null    object \n",
            " 6   pc      335 non-null    object \n",
            " 7   pcc     396 non-null    object \n",
            " 8   ba      396 non-null    object \n",
            " 9   bgr     356 non-null    float64\n",
            " 10  bu      381 non-null    float64\n",
            " 11  sc      383 non-null    float64\n",
            " 12  sod     313 non-null    float64\n",
            " 13  pot     312 non-null    float64\n",
            " 14  hemo    348 non-null    float64\n",
            " 15  pcv     329 non-null    float64\n",
            " 16  wbcc    294 non-null    float64\n",
            " 17  rbcc    269 non-null    float64\n",
            " 18  htn     398 non-null    object \n",
            " 19  dm      398 non-null    object \n",
            " 20  cad     398 non-null    object \n",
            " 21  appet   399 non-null    object \n",
            " 22  pe      399 non-null    object \n",
            " 23  ane     399 non-null    object \n",
            " 24  class   400 non-null    object \n",
            "dtypes: float64(14), object(11)\n",
            "memory usage: 78.2+ KB\n"
          ]
        }
      ]
    },
    {
      "cell_type": "code",
      "source": [
        "df.drop(['rbc','pc','sod','pot','pcv','wbcc','rbcc'], axis=1, inplace=True)"
      ],
      "metadata": {
        "id": "0G2os_6ayw64"
      },
      "execution_count": null,
      "outputs": []
    },
    {
      "cell_type": "code",
      "source": [
        "df.info()"
      ],
      "metadata": {
        "colab": {
          "base_uri": "https://localhost:8080/"
        },
        "id": "0HarF6_Ey2LR",
        "outputId": "4fa29dfe-7eb7-463b-c94c-5c0f135a01ef"
      },
      "execution_count": null,
      "outputs": [
        {
          "output_type": "stream",
          "name": "stdout",
          "text": [
            "<class 'pandas.core.frame.DataFrame'>\n",
            "RangeIndex: 400 entries, 0 to 399\n",
            "Data columns (total 18 columns):\n",
            " #   Column  Non-Null Count  Dtype  \n",
            "---  ------  --------------  -----  \n",
            " 0   age     391 non-null    float64\n",
            " 1   bp      388 non-null    float64\n",
            " 2   sg      353 non-null    float64\n",
            " 3   al      354 non-null    float64\n",
            " 4   su      351 non-null    float64\n",
            " 5   pcc     396 non-null    object \n",
            " 6   ba      396 non-null    object \n",
            " 7   bgr     356 non-null    float64\n",
            " 8   bu      381 non-null    float64\n",
            " 9   sc      383 non-null    float64\n",
            " 10  hemo    348 non-null    float64\n",
            " 11  htn     398 non-null    object \n",
            " 12  dm      398 non-null    object \n",
            " 13  cad     398 non-null    object \n",
            " 14  appet   399 non-null    object \n",
            " 15  pe      399 non-null    object \n",
            " 16  ane     399 non-null    object \n",
            " 17  class   400 non-null    object \n",
            "dtypes: float64(9), object(9)\n",
            "memory usage: 56.4+ KB\n"
          ]
        }
      ]
    },
    {
      "cell_type": "code",
      "source": [
        "#Build model:"
      ],
      "metadata": {
        "id": "LkcVmq7KzBYd"
      },
      "execution_count": null,
      "outputs": []
    },
    {
      "cell_type": "code",
      "source": [
        "df_v1 = df"
      ],
      "metadata": {
        "id": "rfLU9PEezGtC"
      },
      "execution_count": null,
      "outputs": []
    },
    {
      "cell_type": "code",
      "source": [
        "df_v1.replace(np.nan, 0, inplace=True)"
      ],
      "metadata": {
        "id": "Rkt1VSxMzGzH"
      },
      "execution_count": null,
      "outputs": []
    },
    {
      "cell_type": "code",
      "source": [
        "df_v1.info()"
      ],
      "metadata": {
        "colab": {
          "base_uri": "https://localhost:8080/"
        },
        "id": "WHn4jEE1zG8y",
        "outputId": "b485c1f4-a64b-4a0e-f724-c2fdbfc69364"
      },
      "execution_count": null,
      "outputs": [
        {
          "output_type": "stream",
          "name": "stdout",
          "text": [
            "<class 'pandas.core.frame.DataFrame'>\n",
            "RangeIndex: 400 entries, 0 to 399\n",
            "Data columns (total 18 columns):\n",
            " #   Column  Non-Null Count  Dtype  \n",
            "---  ------  --------------  -----  \n",
            " 0   age     400 non-null    float64\n",
            " 1   bp      400 non-null    float64\n",
            " 2   sg      400 non-null    float64\n",
            " 3   al      400 non-null    float64\n",
            " 4   su      400 non-null    float64\n",
            " 5   pcc     400 non-null    object \n",
            " 6   ba      400 non-null    object \n",
            " 7   bgr     400 non-null    float64\n",
            " 8   bu      400 non-null    float64\n",
            " 9   sc      400 non-null    float64\n",
            " 10  hemo    400 non-null    float64\n",
            " 11  htn     400 non-null    object \n",
            " 12  dm      400 non-null    object \n",
            " 13  cad     400 non-null    object \n",
            " 14  appet   400 non-null    object \n",
            " 15  pe      400 non-null    object \n",
            " 16  ane     400 non-null    object \n",
            " 17  class   400 non-null    object \n",
            "dtypes: float64(9), object(9)\n",
            "memory usage: 56.4+ KB\n"
          ]
        }
      ]
    },
    {
      "cell_type": "code",
      "source": [
        "df_v1['pcc'].value_counts()"
      ],
      "metadata": {
        "colab": {
          "base_uri": "https://localhost:8080/"
        },
        "id": "S2iC1K8_zT35",
        "outputId": "8939a5b7-5d70-4449-8cd7-48f424fe3045"
      },
      "execution_count": null,
      "outputs": [
        {
          "output_type": "execute_result",
          "data": {
            "text/plain": [
              "notpresent    354\n",
              "present        42\n",
              "0               4\n",
              "Name: pcc, dtype: int64"
            ]
          },
          "metadata": {},
          "execution_count": 24
        }
      ]
    },
    {
      "cell_type": "code",
      "source": [
        "df_v1['pcc'].replace(0, 'present', inplace=True)"
      ],
      "metadata": {
        "id": "GQPxRQ6fzeHL"
      },
      "execution_count": null,
      "outputs": []
    },
    {
      "cell_type": "code",
      "source": [
        "df_v1['pcc'].value_counts()"
      ],
      "metadata": {
        "colab": {
          "base_uri": "https://localhost:8080/"
        },
        "id": "DoVKMFZ5zeOx",
        "outputId": "cdf33863-315b-4418-934f-a28b4e20e8f3"
      },
      "execution_count": null,
      "outputs": [
        {
          "output_type": "execute_result",
          "data": {
            "text/plain": [
              "notpresent    354\n",
              "present        46\n",
              "Name: pcc, dtype: int64"
            ]
          },
          "metadata": {},
          "execution_count": 26
        }
      ]
    },
    {
      "cell_type": "code",
      "source": [
        "\n",
        "df_v1['ba'].value_counts()"
      ],
      "metadata": {
        "colab": {
          "base_uri": "https://localhost:8080/"
        },
        "id": "5d1_02Cozxj_",
        "outputId": "f7e31958-beb2-4586-bb5d-8b6adb1f8fff"
      },
      "execution_count": null,
      "outputs": [
        {
          "output_type": "execute_result",
          "data": {
            "text/plain": [
              "notpresent    374\n",
              "present        22\n",
              "0               4\n",
              "Name: ba, dtype: int64"
            ]
          },
          "metadata": {},
          "execution_count": 27
        }
      ]
    },
    {
      "cell_type": "code",
      "source": [
        "df_v1['ba'].replace(0, 'present', inplace=True)"
      ],
      "metadata": {
        "id": "J0h2jUB_z43T"
      },
      "execution_count": null,
      "outputs": []
    },
    {
      "cell_type": "code",
      "source": [
        "df_v1['ba'].value_counts()"
      ],
      "metadata": {
        "colab": {
          "base_uri": "https://localhost:8080/"
        },
        "id": "29XgR-H9z5UY",
        "outputId": "7c33cd6c-6f9e-4686-c7a8-70ebea37f031"
      },
      "execution_count": null,
      "outputs": [
        {
          "output_type": "execute_result",
          "data": {
            "text/plain": [
              "notpresent    374\n",
              "present        26\n",
              "Name: ba, dtype: int64"
            ]
          },
          "metadata": {},
          "execution_count": 29
        }
      ]
    },
    {
      "cell_type": "code",
      "source": [
        "df_v1['htn'].value_counts()"
      ],
      "metadata": {
        "colab": {
          "base_uri": "https://localhost:8080/"
        },
        "id": "wB5IvePU0C0s",
        "outputId": "ac7644b8-b686-41ba-9940-f615bbdf805f"
      },
      "execution_count": null,
      "outputs": [
        {
          "output_type": "execute_result",
          "data": {
            "text/plain": [
              "no     251\n",
              "yes    147\n",
              "0        2\n",
              "Name: htn, dtype: int64"
            ]
          },
          "metadata": {},
          "execution_count": 30
        }
      ]
    },
    {
      "cell_type": "code",
      "source": [
        "df_v1['htn'].replace(0, 'yes', inplace=True)"
      ],
      "metadata": {
        "id": "SoBE-id80C84"
      },
      "execution_count": null,
      "outputs": []
    },
    {
      "cell_type": "code",
      "source": [
        "df_v1['htn'].value_counts()"
      ],
      "metadata": {
        "colab": {
          "base_uri": "https://localhost:8080/"
        },
        "id": "FBHqVZxr0DD5",
        "outputId": "8c0835a7-a9c3-4410-f78e-3a7c0947225b"
      },
      "execution_count": null,
      "outputs": [
        {
          "output_type": "execute_result",
          "data": {
            "text/plain": [
              "no     251\n",
              "yes    149\n",
              "Name: htn, dtype: int64"
            ]
          },
          "metadata": {},
          "execution_count": 32
        }
      ]
    },
    {
      "cell_type": "code",
      "source": [
        "\n",
        "df_v1['dm'].value_counts()"
      ],
      "metadata": {
        "colab": {
          "base_uri": "https://localhost:8080/"
        },
        "id": "5yN2aw_B0Yfw",
        "outputId": "a7f333c5-cc2f-49fa-e94a-50faaa1dd50a"
      },
      "execution_count": null,
      "outputs": [
        {
          "output_type": "execute_result",
          "data": {
            "text/plain": [
              "no     261\n",
              "yes    137\n",
              "0        2\n",
              "Name: dm, dtype: int64"
            ]
          },
          "metadata": {},
          "execution_count": 33
        }
      ]
    },
    {
      "cell_type": "code",
      "source": [
        "df_v1['dm'].replace(0, 'yes', inplace=True)"
      ],
      "metadata": {
        "id": "CL5o3RpA0c_U"
      },
      "execution_count": null,
      "outputs": []
    },
    {
      "cell_type": "code",
      "source": [
        "df_v1['dm'].value_counts()"
      ],
      "metadata": {
        "colab": {
          "base_uri": "https://localhost:8080/"
        },
        "id": "Z0wX4S9C0dJw",
        "outputId": "bc7fc0d2-969c-42c8-c24d-cd0c79853947"
      },
      "execution_count": null,
      "outputs": [
        {
          "output_type": "execute_result",
          "data": {
            "text/plain": [
              "no     261\n",
              "yes    139\n",
              "Name: dm, dtype: int64"
            ]
          },
          "metadata": {},
          "execution_count": 35
        }
      ]
    },
    {
      "cell_type": "code",
      "source": [
        "df_v1['cad'].value_counts()"
      ],
      "metadata": {
        "colab": {
          "base_uri": "https://localhost:8080/"
        },
        "id": "wNlxGXj30dUe",
        "outputId": "6e90196f-b599-4909-f895-761c5672b44d"
      },
      "execution_count": null,
      "outputs": [
        {
          "output_type": "execute_result",
          "data": {
            "text/plain": [
              "no     364\n",
              "yes     34\n",
              "0        2\n",
              "Name: cad, dtype: int64"
            ]
          },
          "metadata": {},
          "execution_count": 36
        }
      ]
    },
    {
      "cell_type": "code",
      "source": [
        "df_v1['cad'].replace(0, 'yes', inplace=True)"
      ],
      "metadata": {
        "id": "McsndBbU0dhZ"
      },
      "execution_count": null,
      "outputs": []
    },
    {
      "cell_type": "code",
      "source": [
        "\n",
        "df_v1['cad'].value_counts()"
      ],
      "metadata": {
        "colab": {
          "base_uri": "https://localhost:8080/"
        },
        "id": "oQV7WHfR0_GI",
        "outputId": "3fdae1d9-7d93-4af3-b7b5-c4fe6fffd579"
      },
      "execution_count": null,
      "outputs": [
        {
          "output_type": "execute_result",
          "data": {
            "text/plain": [
              "no     364\n",
              "yes     36\n",
              "Name: cad, dtype: int64"
            ]
          },
          "metadata": {},
          "execution_count": 38
        }
      ]
    },
    {
      "cell_type": "code",
      "source": [
        "\n",
        "df_v1['appet'].value_counts()"
      ],
      "metadata": {
        "colab": {
          "base_uri": "https://localhost:8080/"
        },
        "id": "Y7qfRZ8k0_Lq",
        "outputId": "25bd81d2-a552-431c-fcbf-e78ad88486f8"
      },
      "execution_count": null,
      "outputs": [
        {
          "output_type": "execute_result",
          "data": {
            "text/plain": [
              "good    317\n",
              "poor     82\n",
              "0         1\n",
              "Name: appet, dtype: int64"
            ]
          },
          "metadata": {},
          "execution_count": 39
        }
      ]
    },
    {
      "cell_type": "code",
      "source": [
        "df_v1['appet'].replace(0, 'poor', inplace=True)"
      ],
      "metadata": {
        "id": "ztmdWbVd0_WW"
      },
      "execution_count": null,
      "outputs": []
    },
    {
      "cell_type": "code",
      "source": [
        "\n",
        "df_v1['appet'].value_counts()"
      ],
      "metadata": {
        "colab": {
          "base_uri": "https://localhost:8080/"
        },
        "id": "lcSu8hwj0_cg",
        "outputId": "19efd4fe-7bb9-4b0c-8fb3-7f85955dd6e0"
      },
      "execution_count": null,
      "outputs": [
        {
          "output_type": "execute_result",
          "data": {
            "text/plain": [
              "good    317\n",
              "poor     83\n",
              "Name: appet, dtype: int64"
            ]
          },
          "metadata": {},
          "execution_count": 41
        }
      ]
    },
    {
      "cell_type": "code",
      "source": [
        "\n",
        "df_v1['pe'].value_counts()"
      ],
      "metadata": {
        "colab": {
          "base_uri": "https://localhost:8080/"
        },
        "id": "bjlYgwGP0_ii",
        "outputId": "26943740-533a-4f53-bd0a-eb7ca987d225"
      },
      "execution_count": null,
      "outputs": [
        {
          "output_type": "execute_result",
          "data": {
            "text/plain": [
              "no     323\n",
              "yes     76\n",
              "0        1\n",
              "Name: pe, dtype: int64"
            ]
          },
          "metadata": {},
          "execution_count": 42
        }
      ]
    },
    {
      "cell_type": "code",
      "source": [
        "\n",
        "df_v1['ane'].value_counts()\n"
      ],
      "metadata": {
        "colab": {
          "base_uri": "https://localhost:8080/"
        },
        "id": "P66ypYxw1Qle",
        "outputId": "aee72f8a-3c39-4a69-818e-9fb22aeb2112"
      },
      "execution_count": null,
      "outputs": [
        {
          "output_type": "execute_result",
          "data": {
            "text/plain": [
              "no     339\n",
              "yes     60\n",
              "0        1\n",
              "Name: ane, dtype: int64"
            ]
          },
          "metadata": {},
          "execution_count": 43
        }
      ]
    },
    {
      "cell_type": "code",
      "source": [
        "\n",
        "df_v1['ane'].replace(0, 'yes', inplace=True)"
      ],
      "metadata": {
        "id": "tAasgL0A2O6Q"
      },
      "execution_count": null,
      "outputs": []
    },
    {
      "cell_type": "code",
      "source": [
        "\n",
        "df_v1['ane'].value_counts()"
      ],
      "metadata": {
        "colab": {
          "base_uri": "https://localhost:8080/"
        },
        "id": "dMf3FVcl2O_q",
        "outputId": "462f3fe0-b2d6-40f7-a1df-c001e8195999"
      },
      "execution_count": null,
      "outputs": [
        {
          "output_type": "execute_result",
          "data": {
            "text/plain": [
              "no     339\n",
              "yes     61\n",
              "Name: ane, dtype: int64"
            ]
          },
          "metadata": {},
          "execution_count": 45
        }
      ]
    },
    {
      "cell_type": "code",
      "source": [
        "\n",
        "df_v1['class'].value_counts()"
      ],
      "metadata": {
        "colab": {
          "base_uri": "https://localhost:8080/"
        },
        "id": "1quDFzOK2afx",
        "outputId": "8d1f2aba-af9b-499d-edb1-41b8cff62191"
      },
      "execution_count": null,
      "outputs": [
        {
          "output_type": "execute_result",
          "data": {
            "text/plain": [
              "ckd       250\n",
              "notckd    150\n",
              "Name: class, dtype: int64"
            ]
          },
          "metadata": {},
          "execution_count": 46
        }
      ]
    },
    {
      "cell_type": "code",
      "source": [
        "df_v1 = pd.get_dummies(data=df_v1, drop_first=True)\n",
        "\n"
      ],
      "metadata": {
        "id": "wHqUpx5z2ak6"
      },
      "execution_count": null,
      "outputs": []
    },
    {
      "cell_type": "code",
      "source": [
        "df_v1.columns"
      ],
      "metadata": {
        "colab": {
          "base_uri": "https://localhost:8080/"
        },
        "id": "qdIEuLIM2asB",
        "outputId": "dc454f22-79fe-4de3-ccf8-7ed11bf399fd"
      },
      "execution_count": null,
      "outputs": [
        {
          "output_type": "execute_result",
          "data": {
            "text/plain": [
              "Index(['age', 'bp', 'sg', 'al', 'su', 'bgr', 'bu', 'sc', 'hemo', 'pcc_present',\n",
              "       'ba_present', 'htn_yes', 'dm_yes', 'cad_yes', 'appet_poor', 'pe_no',\n",
              "       'pe_yes', 'ane_yes', 'class_notckd'],\n",
              "      dtype='object')"
            ]
          },
          "metadata": {},
          "execution_count": 48
        }
      ]
    },
    {
      "cell_type": "code",
      "source": [
        "df_v1.drop('class_notckd', axis=1, inplace=True)\n"
      ],
      "metadata": {
        "id": "k_PNXfat2axN"
      },
      "execution_count": null,
      "outputs": []
    },
    {
      "cell_type": "code",
      "source": [
        "df_v1 ['class'] = df['class']"
      ],
      "metadata": {
        "id": "S9qJATsZ2a2n"
      },
      "execution_count": null,
      "outputs": []
    },
    {
      "cell_type": "code",
      "source": [
        "df_v1.columns"
      ],
      "metadata": {
        "colab": {
          "base_uri": "https://localhost:8080/"
        },
        "id": "tix4omnI1QsR",
        "outputId": "3fffc38d-3be0-40a3-bf5d-3ccb542a796b"
      },
      "execution_count": null,
      "outputs": [
        {
          "output_type": "execute_result",
          "data": {
            "text/plain": [
              "Index(['age', 'bp', 'sg', 'al', 'su', 'bgr', 'bu', 'sc', 'hemo', 'pcc_present',\n",
              "       'ba_present', 'htn_yes', 'dm_yes', 'cad_yes', 'appet_poor', 'pe_no',\n",
              "       'pe_yes', 'ane_yes', 'class'],\n",
              "      dtype='object')"
            ]
          },
          "metadata": {},
          "execution_count": 51
        }
      ]
    },
    {
      "cell_type": "code",
      "source": [
        "df_v1.info()"
      ],
      "metadata": {
        "colab": {
          "base_uri": "https://localhost:8080/"
        },
        "id": "z0aYQv5v3QHo",
        "outputId": "9b684f05-8aba-42df-e078-058bf2bf762e"
      },
      "execution_count": null,
      "outputs": [
        {
          "output_type": "stream",
          "name": "stdout",
          "text": [
            "<class 'pandas.core.frame.DataFrame'>\n",
            "RangeIndex: 400 entries, 0 to 399\n",
            "Data columns (total 19 columns):\n",
            " #   Column       Non-Null Count  Dtype  \n",
            "---  ------       --------------  -----  \n",
            " 0   age          400 non-null    float64\n",
            " 1   bp           400 non-null    float64\n",
            " 2   sg           400 non-null    float64\n",
            " 3   al           400 non-null    float64\n",
            " 4   su           400 non-null    float64\n",
            " 5   bgr          400 non-null    float64\n",
            " 6   bu           400 non-null    float64\n",
            " 7   sc           400 non-null    float64\n",
            " 8   hemo         400 non-null    float64\n",
            " 9   pcc_present  400 non-null    uint8  \n",
            " 10  ba_present   400 non-null    uint8  \n",
            " 11  htn_yes      400 non-null    uint8  \n",
            " 12  dm_yes       400 non-null    uint8  \n",
            " 13  cad_yes      400 non-null    uint8  \n",
            " 14  appet_poor   400 non-null    uint8  \n",
            " 15  pe_no        400 non-null    uint8  \n",
            " 16  pe_yes       400 non-null    uint8  \n",
            " 17  ane_yes      400 non-null    uint8  \n",
            " 18  class        400 non-null    object \n",
            "dtypes: float64(9), object(1), uint8(9)\n",
            "memory usage: 34.9+ KB\n"
          ]
        }
      ]
    },
    {
      "cell_type": "code",
      "source": [
        "v1col_list = list(df_v1.columns)"
      ],
      "metadata": {
        "id": "gxQQmlAr3QNY"
      },
      "execution_count": null,
      "outputs": []
    },
    {
      "cell_type": "code",
      "source": [
        "v1_features = []"
      ],
      "metadata": {
        "id": "b0XWSl023QWA"
      },
      "execution_count": null,
      "outputs": []
    },
    {
      "cell_type": "code",
      "source": [
        "[v1_features.append(col) for col in v1col_list if col != 'class']"
      ],
      "metadata": {
        "colab": {
          "base_uri": "https://localhost:8080/"
        },
        "id": "yOPGq3GJ3cz8",
        "outputId": "f844cf37-e0de-4356-d387-b8f01ab4e533"
      },
      "execution_count": null,
      "outputs": [
        {
          "output_type": "execute_result",
          "data": {
            "text/plain": [
              "[None,\n",
              " None,\n",
              " None,\n",
              " None,\n",
              " None,\n",
              " None,\n",
              " None,\n",
              " None,\n",
              " None,\n",
              " None,\n",
              " None,\n",
              " None,\n",
              " None,\n",
              " None,\n",
              " None,\n",
              " None,\n",
              " None,\n",
              " None]"
            ]
          },
          "metadata": {},
          "execution_count": 55
        }
      ]
    },
    {
      "cell_type": "code",
      "source": [
        "v1_features"
      ],
      "metadata": {
        "colab": {
          "base_uri": "https://localhost:8080/"
        },
        "id": "TtyIY2Mf3dAf",
        "outputId": "299a4ff3-4633-497d-ec48-6e3effb875a7"
      },
      "execution_count": null,
      "outputs": [
        {
          "output_type": "execute_result",
          "data": {
            "text/plain": [
              "['age',\n",
              " 'bp',\n",
              " 'sg',\n",
              " 'al',\n",
              " 'su',\n",
              " 'bgr',\n",
              " 'bu',\n",
              " 'sc',\n",
              " 'hemo',\n",
              " 'pcc_present',\n",
              " 'ba_present',\n",
              " 'htn_yes',\n",
              " 'dm_yes',\n",
              " 'cad_yes',\n",
              " 'appet_poor',\n",
              " 'pe_no',\n",
              " 'pe_yes',\n",
              " 'ane_yes']"
            ]
          },
          "metadata": {},
          "execution_count": 56
        }
      ]
    },
    {
      "cell_type": "code",
      "source": [
        "X = df_v1[v1_features]\n",
        "y = df_v1['class']"
      ],
      "metadata": {
        "id": "xIc2dLj94twh"
      },
      "execution_count": null,
      "outputs": []
    },
    {
      "cell_type": "code",
      "source": [
        "poly = PolynomialFeatures(include_bias=False, degree=2)"
      ],
      "metadata": {
        "id": "Di1IKflv48Jg"
      },
      "execution_count": null,
      "outputs": []
    },
    {
      "cell_type": "code",
      "source": [
        "X_poly = poly.fit_transform(X)"
      ],
      "metadata": {
        "id": "ABPBAQcl5FHf"
      },
      "execution_count": null,
      "outputs": []
    },
    {
      "cell_type": "code",
      "source": [
        "\n",
        "X_train, X_test, y_train, y_test = train_test_split(X_poly, y, random_state = 42)"
      ],
      "metadata": {
        "id": "xDCCxhUi644r"
      },
      "execution_count": null,
      "outputs": []
    },
    {
      "cell_type": "code",
      "source": [
        "ss = StandardScaler()\n",
        "\n",
        "X_train_sc = ss.fit_transform(X_train)\n",
        "X_test_sc = ss.fit_transform(X_test)"
      ],
      "metadata": {
        "id": "1q6Yl2EZ7GsX"
      },
      "execution_count": null,
      "outputs": []
    },
    {
      "cell_type": "code",
      "source": [
        "X_train_sc = ss.transform(X_train)\n",
        "X_test_sc = ss.transform(X_test)"
      ],
      "metadata": {
        "id": "_8IXpA3L7TDu"
      },
      "execution_count": null,
      "outputs": []
    },
    {
      "cell_type": "markdown",
      "metadata": {
        "id": "MXSaKUPslrQ5"
      },
      "source": [
        "---\n",
        "\n",
        "## Step 5: Evaluate the model.\n",
        "\n",
        "### 13. Based on your logistic regression model constructed in problem 12, interpret the coefficient of one of your quantitative features."
      ]
    },
    {
      "cell_type": "code",
      "execution_count": null,
      "metadata": {
        "collapsed": true,
        "colab": {
          "base_uri": "https://localhost:8080/"
        },
        "id": "eOq2-N59lrQ8",
        "outputId": "65f47f2e-a2cd-444e-c6b2-23aad6b4f5d8"
      },
      "outputs": [
        {
          "output_type": "execute_result",
          "data": {
            "text/plain": [
              "LogisticRegression()"
            ]
          },
          "metadata": {},
          "execution_count": 63
        }
      ],
      "source": [
        "logreg = LogisticRegression()\n",
        "logreg.fit(X_train_sc, y_train)"
      ]
    },
    {
      "cell_type": "code",
      "source": [
        "logreg.score(X_test_sc, y_test)"
      ],
      "metadata": {
        "colab": {
          "base_uri": "https://localhost:8080/"
        },
        "id": "-n9iIJq-7RKV",
        "outputId": "24c9f9d2-a8cd-4ec5-b355-107f5f7c063b"
      },
      "execution_count": null,
      "outputs": [
        {
          "output_type": "execute_result",
          "data": {
            "text/plain": [
              "0.96"
            ]
          },
          "metadata": {},
          "execution_count": 64
        }
      ]
    },
    {
      "cell_type": "code",
      "source": [
        "\n",
        "logreg.score(X_train_sc, y_train)"
      ],
      "metadata": {
        "colab": {
          "base_uri": "https://localhost:8080/"
        },
        "id": "MRy3Kdxs7pI0",
        "outputId": "54155768-c032-4a5e-a074-c6d50cab2e00"
      },
      "execution_count": null,
      "outputs": [
        {
          "output_type": "execute_result",
          "data": {
            "text/plain": [
              "0.9733333333333334"
            ]
          },
          "metadata": {},
          "execution_count": 65
        }
      ]
    },
    {
      "cell_type": "markdown",
      "metadata": {
        "id": "_X60UxnelrQ_"
      },
      "source": [
        "### 14. Based on your logistic regression model constructed in problem 12, interpret the coefficient of one of your categorical/dummy features."
      ]
    },
    {
      "cell_type": "code",
      "execution_count": null,
      "metadata": {
        "collapsed": true,
        "colab": {
          "base_uri": "https://localhost:8080/"
        },
        "id": "Zx-X4HPYlrRA",
        "outputId": "13e3bfa6-3c48-44e5-f3da-693cd7bd22de"
      },
      "outputs": [
        {
          "output_type": "execute_result",
          "data": {
            "text/plain": [
              "array([[ 4.20695153e-01,  4.53548577e-01,  1.60166714e-01,\n",
              "        -5.83676504e-01, -9.61869901e-02,  5.28664633e-02,\n",
              "         1.10342588e-01, -3.47041867e-01, -4.15899884e-01,\n",
              "        -8.77576727e-02,  1.18289826e-01, -2.31976320e-01,\n",
              "        -2.08616750e-01,  8.98323659e-02, -2.28144481e-01,\n",
              "         1.39540573e-01, -1.42073141e-01, -2.01503694e-01,\n",
              "        -1.12435527e+00, -4.35496589e-01,  2.13749207e-01,\n",
              "        -4.88657459e-01, -5.24950152e-02, -1.81416907e-01,\n",
              "         3.79191112e-01, -1.23281438e-01,  9.92788717e-01,\n",
              "        -1.53867244e-01,  6.08592694e-02, -1.61947277e-01,\n",
              "        -2.33583704e-01,  3.18698240e-02, -1.32287590e-01,\n",
              "         3.89159487e-01, -1.08456842e-01, -1.78144366e-01,\n",
              "        -7.39681631e-01,  1.07176629e-02, -4.23165275e-01,\n",
              "        -8.48785711e-02, -1.57041340e-02,  4.23709819e-01,\n",
              "        -2.81124032e-01, -2.59769094e-01, -8.52165975e-02,\n",
              "         7.19110908e-02, -2.70055189e-01, -2.29869113e-01,\n",
              "         4.65275951e-02, -1.90086715e-01,  3.23398069e-01,\n",
              "        -1.13092248e-01, -1.99940212e-01,  3.60408180e-01,\n",
              "        -5.83133806e-01, -9.64441510e-02,  4.76054152e-02,\n",
              "         5.03002364e-01, -2.82945892e-01, -4.77927506e-01,\n",
              "        -8.56660578e-02,  1.19602194e-01, -2.23705037e-01,\n",
              "        -1.58629565e-01,  1.11955065e-01, -2.51452001e-01,\n",
              "         2.36496907e-01, -1.54590720e-01, -2.08829533e-01,\n",
              "        -1.98891120e-01, -2.56940008e-02, -1.90506159e-01,\n",
              "        -1.71090613e-01, -1.00986879e-01, -6.93520529e-01,\n",
              "        -8.80513744e-02, -3.96043534e-02, -2.32695201e-02,\n",
              "        -6.79692987e-03, -8.92475336e-02, -1.87055881e-03,\n",
              "        -7.09828406e-01, -7.49270345e-03, -6.86818434e-03,\n",
              "        -8.72203316e-02, -4.26015813e-02, -2.31366799e-02,\n",
              "        -2.08249291e-02, -1.10075554e-01, -4.41346503e-02,\n",
              "        -5.64005172e-02, -1.43947870e-03, -7.42447180e-02,\n",
              "        -1.36208762e-03, -8.69278551e-04, -1.03992378e-01,\n",
              "         3.97902077e-06, -1.14910295e-04, -4.75878021e-01,\n",
              "         7.47800084e-02, -2.15452868e-01,  1.62404199e-02,\n",
              "         6.74873482e-02,  7.59739504e-02, -7.62152567e-02,\n",
              "        -2.27276991e-01,  9.19955516e-02, -2.00384064e-01,\n",
              "         8.79984456e-02, -7.37397161e-02, -7.67007034e-03,\n",
              "        -1.48796774e-01, -2.59103964e-01,  8.66201757e-02,\n",
              "        -2.92041812e-02,  3.57635454e-02, -8.43924077e-02,\n",
              "        -7.27821229e-02,  2.92313929e-02, -1.06944587e-01,\n",
              "         1.62646418e-01, -3.40803894e-02, -4.70970683e-02,\n",
              "        -5.39365780e-02, -8.58905941e-01, -3.66980893e-02,\n",
              "         5.51507521e-03, -4.74597914e-02, -4.79648570e-02,\n",
              "        -6.68623747e-04, -4.68175473e-02, -3.59717053e-01,\n",
              "        -2.74827389e-02, -2.07940843e-02,  1.88912701e+00,\n",
              "        -2.03734329e-01,  1.49489526e-02, -1.44280472e-01,\n",
              "        -1.77993130e-01,  2.26374202e-01, -1.49838702e-01,\n",
              "        -2.95910752e-01, -2.72751139e-02, -2.79441762e-01,\n",
              "        -8.77576727e-02,  2.03733425e-01, -1.50709274e-02,\n",
              "        -2.37571387e-03, -2.92175994e-01, -2.40752726e-03,\n",
              "        -9.83709977e-02, -1.11814152e-05, -4.44336094e-05,\n",
              "         1.18289826e-01, -2.12472561e-04, -3.78405387e-03,\n",
              "        -1.36246460e-04, -9.15099786e-03,  1.28975708e-01,\n",
              "        -1.74139775e-04, -1.69590470e-04, -2.31976320e-01,\n",
              "         1.89550252e-01,  2.79597645e-01, -1.65146856e-03,\n",
              "        -2.41949947e-01, -2.74838422e-02, -3.98114522e-04,\n",
              "        -2.08616750e-01,  3.53285318e-01, -6.18276358e-03,\n",
              "        -2.30342684e-01, -8.87788302e-03, -1.78917380e-04,\n",
              "         8.98323659e-02, -3.03314577e-03,  1.34197180e-01,\n",
              "        -6.75505190e-02, -2.30632905e-02, -2.28144481e-01,\n",
              "        -3.18943163e-01, -3.90090625e-03, -9.21512754e-03,\n",
              "         1.39540573e-01,  0.00000000e+00, -2.34598300e-01,\n",
              "        -1.42073141e-01, -6.74937469e-04, -2.01503694e-01]])"
            ]
          },
          "metadata": {},
          "execution_count": 66
        }
      ],
      "source": [
        "\n",
        "logreg.coef_"
      ]
    },
    {
      "cell_type": "code",
      "source": [
        "np.exp(0.11018577)"
      ],
      "metadata": {
        "colab": {
          "base_uri": "https://localhost:8080/"
        },
        "id": "AVKWj8Ze8hcY",
        "outputId": "ca7d8ab3-90d7-417d-974c-0a6ce99b27ef"
      },
      "execution_count": null,
      "outputs": [
        {
          "output_type": "execute_result",
          "data": {
            "text/plain": [
              "1.1164854606988666"
            ]
          },
          "metadata": {},
          "execution_count": 67
        }
      ]
    },
    {
      "cell_type": "code",
      "source": [
        "#Coefficient for Beta 1 Interpretation:\n",
        "#Beta 1's coefficient of 0.11018577 implies that a respondent is more and more likely to have CKD for every year he/she is older."
      ],
      "metadata": {
        "id": "gP0C5F9U8wPU"
      },
      "execution_count": null,
      "outputs": []
    },
    {
      "cell_type": "markdown",
      "metadata": {
        "id": "aBlhdlpylrRB"
      },
      "source": [
        "### 15. Despite being a relatively simple model, logistic regression is very widely used in the real world. Why do you think that's the case? Name at least two advantages to using logistic regression as a modeling technique."
      ]
    },
    {
      "cell_type": "markdown",
      "metadata": {
        "id": "XI57nUANlrRC"
      },
      "source": [
        "Answer:"
      ]
    },
    {
      "cell_type": "code",
      "source": [
        "#I believe that's the case because it's ** simple , and can predict probabilities. **\n",
        "\n",
        "#** Advantages of Logistic Regression: ** 1. Logistic Regression will predict continuous values. 2. Logistic Regression connects regression and classification. 3. Logistic Regression can predict probabilities."
      ],
      "metadata": {
        "id": "cH1zOlyI8SFM"
      },
      "execution_count": null,
      "outputs": []
    },
    {
      "cell_type": "markdown",
      "metadata": {
        "id": "1T29z-6-lrRD"
      },
      "source": [
        "### 16. Does it make sense to generate a confusion matrix on our training data or our test data? Why? Generate it on the proper data.\n",
        "\n",
        "> Hint: Once you've generated your predicted $y$ values and you have your observed $y$ values, then it will be easy to [generate a confusion matrix using sklearn](http://scikit-learn.org/stable/modules/generated/sklearn.metrics.confusion_matrix.html)."
      ]
    },
    {
      "cell_type": "code",
      "execution_count": null,
      "metadata": {
        "collapsed": true,
        "id": "d5aau94BlrRE"
      },
      "outputs": [],
      "source": [
        "#Hint: Once you've generated your predicted  values and you have your observed  values, then it will be easy to generate a confusion matrix using sklearn.\n",
        "\n",
        "#It makes sense to generate a confusion matrix on our test data because we do all of our testing on our test data; our test data is our unseen data."
      ]
    },
    {
      "cell_type": "code",
      "source": [
        "\n",
        "predictions = logreg.predict(X_test_sc)"
      ],
      "metadata": {
        "id": "rjcAw6KL9xZj"
      },
      "execution_count": null,
      "outputs": []
    },
    {
      "cell_type": "code",
      "source": [
        "from sklearn.metrics import confusion_matrix"
      ],
      "metadata": {
        "id": "eaZl3nRi9xgl"
      },
      "execution_count": null,
      "outputs": []
    },
    {
      "cell_type": "code",
      "source": [
        "cm = confusion_matrix(y_test, predictions)"
      ],
      "metadata": {
        "id": "cLLWKxBB9xmN"
      },
      "execution_count": null,
      "outputs": []
    },
    {
      "cell_type": "code",
      "source": [
        "cm"
      ],
      "metadata": {
        "colab": {
          "base_uri": "https://localhost:8080/"
        },
        "id": "M6KRT0Sc-FJ9",
        "outputId": "6865a07b-527d-4dea-f1dc-6ec570da3ffc"
      },
      "execution_count": null,
      "outputs": [
        {
          "output_type": "execute_result",
          "data": {
            "text/plain": [
              "array([[62,  3],\n",
              "       [ 1, 34]])"
            ]
          },
          "metadata": {},
          "execution_count": 74
        }
      ]
    },
    {
      "cell_type": "code",
      "source": [
        "\n",
        "cm = pd.DataFrame(cm, columns=['Predicted Negative','Predicted Positive'], index=['Actual Negative','Actual Positive'])"
      ],
      "metadata": {
        "id": "XK9VuL-h-Fjm"
      },
      "execution_count": null,
      "outputs": []
    },
    {
      "cell_type": "code",
      "source": [
        "\n",
        "cm"
      ],
      "metadata": {
        "colab": {
          "base_uri": "https://localhost:8080/",
          "height": 112
        },
        "id": "IB4-k63Z-YN9",
        "outputId": "694c724e-aadc-4a61-a7b7-09f8118a3b37"
      },
      "execution_count": null,
      "outputs": [
        {
          "output_type": "execute_result",
          "data": {
            "text/plain": [
              "                 Predicted Negative  Predicted Positive\n",
              "Actual Negative                  62                   3\n",
              "Actual Positive                   1                  34"
            ],
            "text/html": [
              "\n",
              "  <div id=\"df-6c362da6-a004-4ff1-a214-fce6fbcc127c\">\n",
              "    <div class=\"colab-df-container\">\n",
              "      <div>\n",
              "<style scoped>\n",
              "    .dataframe tbody tr th:only-of-type {\n",
              "        vertical-align: middle;\n",
              "    }\n",
              "\n",
              "    .dataframe tbody tr th {\n",
              "        vertical-align: top;\n",
              "    }\n",
              "\n",
              "    .dataframe thead th {\n",
              "        text-align: right;\n",
              "    }\n",
              "</style>\n",
              "<table border=\"1\" class=\"dataframe\">\n",
              "  <thead>\n",
              "    <tr style=\"text-align: right;\">\n",
              "      <th></th>\n",
              "      <th>Predicted Negative</th>\n",
              "      <th>Predicted Positive</th>\n",
              "    </tr>\n",
              "  </thead>\n",
              "  <tbody>\n",
              "    <tr>\n",
              "      <th>Actual Negative</th>\n",
              "      <td>62</td>\n",
              "      <td>3</td>\n",
              "    </tr>\n",
              "    <tr>\n",
              "      <th>Actual Positive</th>\n",
              "      <td>1</td>\n",
              "      <td>34</td>\n",
              "    </tr>\n",
              "  </tbody>\n",
              "</table>\n",
              "</div>\n",
              "      <button class=\"colab-df-convert\" onclick=\"convertToInteractive('df-6c362da6-a004-4ff1-a214-fce6fbcc127c')\"\n",
              "              title=\"Convert this dataframe to an interactive table.\"\n",
              "              style=\"display:none;\">\n",
              "        \n",
              "  <svg xmlns=\"http://www.w3.org/2000/svg\" height=\"24px\"viewBox=\"0 0 24 24\"\n",
              "       width=\"24px\">\n",
              "    <path d=\"M0 0h24v24H0V0z\" fill=\"none\"/>\n",
              "    <path d=\"M18.56 5.44l.94 2.06.94-2.06 2.06-.94-2.06-.94-.94-2.06-.94 2.06-2.06.94zm-11 1L8.5 8.5l.94-2.06 2.06-.94-2.06-.94L8.5 2.5l-.94 2.06-2.06.94zm10 10l.94 2.06.94-2.06 2.06-.94-2.06-.94-.94-2.06-.94 2.06-2.06.94z\"/><path d=\"M17.41 7.96l-1.37-1.37c-.4-.4-.92-.59-1.43-.59-.52 0-1.04.2-1.43.59L10.3 9.45l-7.72 7.72c-.78.78-.78 2.05 0 2.83L4 21.41c.39.39.9.59 1.41.59.51 0 1.02-.2 1.41-.59l7.78-7.78 2.81-2.81c.8-.78.8-2.07 0-2.86zM5.41 20L4 18.59l7.72-7.72 1.47 1.35L5.41 20z\"/>\n",
              "  </svg>\n",
              "      </button>\n",
              "      \n",
              "  <style>\n",
              "    .colab-df-container {\n",
              "      display:flex;\n",
              "      flex-wrap:wrap;\n",
              "      gap: 12px;\n",
              "    }\n",
              "\n",
              "    .colab-df-convert {\n",
              "      background-color: #E8F0FE;\n",
              "      border: none;\n",
              "      border-radius: 50%;\n",
              "      cursor: pointer;\n",
              "      display: none;\n",
              "      fill: #1967D2;\n",
              "      height: 32px;\n",
              "      padding: 0 0 0 0;\n",
              "      width: 32px;\n",
              "    }\n",
              "\n",
              "    .colab-df-convert:hover {\n",
              "      background-color: #E2EBFA;\n",
              "      box-shadow: 0px 1px 2px rgba(60, 64, 67, 0.3), 0px 1px 3px 1px rgba(60, 64, 67, 0.15);\n",
              "      fill: #174EA6;\n",
              "    }\n",
              "\n",
              "    [theme=dark] .colab-df-convert {\n",
              "      background-color: #3B4455;\n",
              "      fill: #D2E3FC;\n",
              "    }\n",
              "\n",
              "    [theme=dark] .colab-df-convert:hover {\n",
              "      background-color: #434B5C;\n",
              "      box-shadow: 0px 1px 3px 1px rgba(0, 0, 0, 0.15);\n",
              "      filter: drop-shadow(0px 1px 2px rgba(0, 0, 0, 0.3));\n",
              "      fill: #FFFFFF;\n",
              "    }\n",
              "  </style>\n",
              "\n",
              "      <script>\n",
              "        const buttonEl =\n",
              "          document.querySelector('#df-6c362da6-a004-4ff1-a214-fce6fbcc127c button.colab-df-convert');\n",
              "        buttonEl.style.display =\n",
              "          google.colab.kernel.accessAllowed ? 'block' : 'none';\n",
              "\n",
              "        async function convertToInteractive(key) {\n",
              "          const element = document.querySelector('#df-6c362da6-a004-4ff1-a214-fce6fbcc127c');\n",
              "          const dataTable =\n",
              "            await google.colab.kernel.invokeFunction('convertToInteractive',\n",
              "                                                     [key], {});\n",
              "          if (!dataTable) return;\n",
              "\n",
              "          const docLinkHtml = 'Like what you see? Visit the ' +\n",
              "            '<a target=\"_blank\" href=https://colab.research.google.com/notebooks/data_table.ipynb>data table notebook</a>'\n",
              "            + ' to learn more about interactive tables.';\n",
              "          element.innerHTML = '';\n",
              "          dataTable['output_type'] = 'display_data';\n",
              "          await google.colab.output.renderOutput(dataTable, element);\n",
              "          const docLink = document.createElement('div');\n",
              "          docLink.innerHTML = docLinkHtml;\n",
              "          element.appendChild(docLink);\n",
              "        }\n",
              "      </script>\n",
              "    </div>\n",
              "  </div>\n",
              "  "
            ]
          },
          "metadata": {},
          "execution_count": 76
        }
      ]
    },
    {
      "cell_type": "markdown",
      "metadata": {
        "id": "jFkrQJeJlrRF"
      },
      "source": [
        "### 17. In this hospital case, we want to predict CKD. Do we want to optimize for sensitivity, specificity, or something else? Why? (If you don't think there's one clear answer, that's okay! There rarely is. Be sure to defend your conclusion!)"
      ]
    },
    {
      "cell_type": "markdown",
      "metadata": {
        "id": "MdG37Nh_lrRG"
      },
      "source": [
        "Answer:"
      ]
    },
    {
      "cell_type": "code",
      "source": [
        "#In this hospital case, we want to optimize for ** sensitivity** or recall; although predicting someone is positive for CKD when they are actually negative, a False Negative/Type II Error, is a bad mistake to make, it is not as bad as predicting someone is negative for CKD when they are actually positve, a False Positive/Type I Error.\n",
        "\n",
        "#A False Negative/Type II Error can be remedied within a few months when the person being tested is screened again - the only harm down, while unnecessary and potentially considerable, would be emotional distress.\n",
        "\n",
        "#A False Positive/Type I Error, on the other hand, would result in a sick person going about their life as if they were healthy, not addressing their ailing condition, possibly leading to even more serious health concerns or even death."
      ],
      "metadata": {
        "id": "kQfjpGZB9pjW"
      },
      "execution_count": null,
      "outputs": []
    },
    {
      "cell_type": "markdown",
      "metadata": {
        "id": "PA2LvLBrlrRG"
      },
      "source": [
        "### 18 (BONUS). Write a function that will create an ROC curve for you, then plot the ROC curve.\n",
        "\n",
        "Here's a strategy you might consider:\n",
        "1. In order to even begin, you'll need some fit model. Use your logistic regression model from problem 12.\n",
        "2. We want to look at all values of your \"threshold\" - that is, anything where .predict() gives you above your threshold falls in the \"positive class,\" and anything that is below your threshold falls in the \"negative class.\" Start the threshold at 0.\n",
        "3. At this value of your threshold, calculate the sensitivity and specificity. Store these values.\n",
        "4. Increment your threshold by some \"step.\" Maybe set your step to be 0.01, or even smaller.\n",
        "5. At this value of your threshold, calculate the sensitivity and specificity. Store these values.\n",
        "6. Repeat steps 3 and 4 until you get to the threshold of 1.\n",
        "7. Plot the values of sensitivity and 1 - specificity."
      ]
    },
    {
      "cell_type": "code",
      "execution_count": null,
      "metadata": {
        "collapsed": true,
        "id": "4FHlC5YOlrRI"
      },
      "outputs": [],
      "source": [
        "from sklearn.metrics import accuracy_score,recall_score,precision_score,roc_curve,plot_roc_curve\n"
      ]
    },
    {
      "cell_type": "code",
      "source": [
        "knn = KNeighborsClassifier()"
      ],
      "metadata": {
        "id": "RFzzKMX_HK6X"
      },
      "execution_count": null,
      "outputs": []
    },
    {
      "cell_type": "code",
      "source": [
        "knn.fit(X_train_sc,y_train)"
      ],
      "metadata": {
        "colab": {
          "base_uri": "https://localhost:8080/"
        },
        "id": "dGWo16mNHcAs",
        "outputId": "cc7b3583-6bd5-4d15-9d9b-50776234cf6f"
      },
      "execution_count": null,
      "outputs": [
        {
          "output_type": "execute_result",
          "data": {
            "text/plain": [
              "KNeighborsClassifier()"
            ]
          },
          "metadata": {},
          "execution_count": 80
        }
      ]
    },
    {
      "cell_type": "code",
      "source": [
        "knn.score(X_train_sc,y_train)"
      ],
      "metadata": {
        "colab": {
          "base_uri": "https://localhost:8080/"
        },
        "id": "kAYX6bmuHcTP",
        "outputId": "48fa1c58-f373-4f63-cab6-528696ff8440"
      },
      "execution_count": null,
      "outputs": [
        {
          "output_type": "execute_result",
          "data": {
            "text/plain": [
              "0.9233333333333333"
            ]
          },
          "metadata": {},
          "execution_count": 81
        }
      ]
    },
    {
      "cell_type": "code",
      "source": [
        "knn.score(X_test_sc,y_test)"
      ],
      "metadata": {
        "colab": {
          "base_uri": "https://localhost:8080/"
        },
        "id": "IVLJMPAPHiwl",
        "outputId": "87cc0057-0950-4ed8-c838-dbf1314abd44"
      },
      "execution_count": null,
      "outputs": [
        {
          "output_type": "execute_result",
          "data": {
            "text/plain": [
              "0.88"
            ]
          },
          "metadata": {},
          "execution_count": 82
        }
      ]
    },
    {
      "cell_type": "code",
      "source": [
        "import matplotlib.pyplot as plt"
      ],
      "metadata": {
        "id": "-MB3QeDEDk9r"
      },
      "execution_count": null,
      "outputs": []
    },
    {
      "cell_type": "code",
      "source": [
        "plot_roc_curve(knn,X_test_sc,y_test)\n",
        "plt.plot ([0,1],[0,1],\n",
        "          label = 'baseline', linestyle='--' )\n",
        "plt.legend();"
      ],
      "metadata": {
        "colab": {
          "base_uri": "https://localhost:8080/",
          "height": 333
        },
        "id": "tKvNdF_cDlZ6",
        "outputId": "27a41777-1a69-4d47-bcc4-669b0824dc85"
      },
      "execution_count": null,
      "outputs": [
        {
          "output_type": "stream",
          "name": "stderr",
          "text": [
            "/usr/local/lib/python3.8/dist-packages/sklearn/utils/deprecation.py:87: FutureWarning: Function plot_roc_curve is deprecated; Function :func:`plot_roc_curve` is deprecated in 1.0 and will be removed in 1.2. Use one of the class methods: :meth:`sklearn.metric.RocCurveDisplay.from_predictions` or :meth:`sklearn.metric.RocCurveDisplay.from_estimator`.\n",
            "  warnings.warn(msg, category=FutureWarning)\n"
          ]
        },
        {
          "output_type": "display_data",
          "data": {
            "text/plain": [
              "<Figure size 432x288 with 1 Axes>"
            ],
            "image/png": "[encoded data removed]"
          },
          "metadata": {
            "image/png": {
              "width": 385,
              "height": 261
            },
            "needs_background": "light"
          }
        }
      ]
    },
    {
      "cell_type": "markdown",
      "metadata": {
        "id": "Ctk5nIO6lrRI"
      },
      "source": [
        "### 19. Suppose you're speaking with the biostatistics lead at Mayo Clinic, who asks you \"Why are unbalanced classes generally a problem? Are they a problem in this particular CKD analysis?\" How would you respond?"
      ]
    },
    {
      "cell_type": "markdown",
      "metadata": {
        "id": "Y3O8zyqdlrRJ"
      },
      "source": [
        "Answer:"
      ]
    },
    {
      "cell_type": "code",
      "source": [
        "#Unbalanced classes are generally a problem because the minority class is at risk of not having enough exposure during the model process to be accounted for in the model. In other words, since there is so little of the minority class(es), they model cannot sufficiently pick up its signal, resulting in its attributes being overlooked/missed during the prediction process.\n",
        "\n",
        "#I do not believe this is a problem in this particular CKD analysis because the minority class, those without CKD, account for 37.5% of the data set, not a small enough percentage to be concerned about unbalanced-class-issues.\n",
        "\n",
        "#I would respond by offering to build two versions of the model, one that does not make any changes to offset the unbalanced classes, and one that sets both classes equal by either: 1. oversampling the minority, or negative CKD cases; or 2. undersampling the majority, or positive CKD cases. This would allow us to observe if there are any measurable differences in the models' results."
      ],
      "metadata": {
        "id": "twzJ5A-gIAnP"
      },
      "execution_count": null,
      "outputs": []
    },
    {
      "cell_type": "code",
      "source": [
        "\n",
        "df['class'].value_counts()"
      ],
      "metadata": {
        "colab": {
          "base_uri": "https://localhost:8080/"
        },
        "id": "c9YKgkR0ISwe",
        "outputId": "86b2615b-88b1-443c-b19a-04fc639c8cfd"
      },
      "execution_count": null,
      "outputs": [
        {
          "output_type": "execute_result",
          "data": {
            "text/plain": [
              "ckd       250\n",
              "notckd    150\n",
              "Name: class, dtype: int64"
            ]
          },
          "metadata": {},
          "execution_count": 86
        }
      ]
    },
    {
      "cell_type": "code",
      "source": [
        "df_v1['class'].value_counts()"
      ],
      "metadata": {
        "colab": {
          "base_uri": "https://localhost:8080/"
        },
        "id": "-L3s1C2tIS8P",
        "outputId": "167cd2a7-4a81-4e06-a1c5-d2085e94d8e6"
      },
      "execution_count": null,
      "outputs": [
        {
          "output_type": "execute_result",
          "data": {
            "text/plain": [
              "ckd       250\n",
              "notckd    150\n",
              "Name: class, dtype: int64"
            ]
          },
          "metadata": {},
          "execution_count": 87
        }
      ]
    },
    {
      "cell_type": "markdown",
      "metadata": {
        "id": "FzkmH-wFlrRN"
      },
      "source": [
        "### 20. Suppose you're speaking with a doctor at Mayo Clinic who, despite being very smart, doesn't know much about data science or statistics. How would you explain why unbalanced classes are generally a problem to this doctor?"
      ]
    },
    {
      "cell_type": "code",
      "source": [
        "df['class'].value_counts()\n"
      ],
      "metadata": {
        "colab": {
          "base_uri": "https://localhost:8080/"
        },
        "id": "b0XIpi8qIRet",
        "outputId": "d2f47fb2-c3ac-426e-e470-43ec3e528567"
      },
      "execution_count": null,
      "outputs": [
        {
          "output_type": "execute_result",
          "data": {
            "text/plain": [
              "ckd       250\n",
              "notckd    150\n",
              "Name: class, dtype: int64"
            ]
          },
          "metadata": {},
          "execution_count": 88
        }
      ]
    },
    {
      "cell_type": "code",
      "source": [
        "df_v1['class'].value_counts()"
      ],
      "metadata": {
        "colab": {
          "base_uri": "https://localhost:8080/"
        },
        "id": "0GUlg5rlQOF-",
        "outputId": "a5cd84a2-2b68-4a64-e777-abb8c0efe0b4"
      },
      "execution_count": null,
      "outputs": [
        {
          "output_type": "execute_result",
          "data": {
            "text/plain": [
              "ckd       250\n",
              "notckd    150\n",
              "Name: class, dtype: int64"
            ]
          },
          "metadata": {},
          "execution_count": 89
        }
      ]
    },
    {
      "cell_type": "markdown",
      "metadata": {
        "id": "5DfZbtOrlrRP"
      },
      "source": [
        "Answer:"
      ]
    },
    {
      "cell_type": "markdown",
      "metadata": {
        "id": "6bPkrPsklrRR"
      },
      "source": [
        "### 21. Let's create very unbalanced classes just for the sake of this example! Generate very unbalanced classes by [bootstrapping](http://stattrek.com/statistics/dictionary.aspx?definition=sampling_with_replacement) (a.k.a. random sampling with replacement) the majority class.\n",
        "\n",
        "1. The majority class are those individuals with CKD.\n",
        "2. Generate a random sample of size 200,000 of individuals who have CKD **with replacement**. (Consider setting a random seed for this part!)\n",
        "3. Create a new dataframe with the original data plus this random sample of data.\n",
        "4. Now we should have a dataset with around 200,000 observations, of which only about 0.00075% are non-CKD individuals."
      ]
    },
    {
      "cell_type": "code",
      "execution_count": null,
      "metadata": {
        "collapsed": true,
        "id": "pS5nejcOlrRS",
        "colab": {
          "base_uri": "https://localhost:8080/"
        },
        "outputId": "812d1cf7-8327-41a0-b53e-87e9892d7990"
      },
      "outputs": [
        {
          "output_type": "execute_result",
          "data": {
            "text/plain": [
              "(400, 19)"
            ]
          },
          "metadata": {},
          "execution_count": 90
        }
      ],
      "source": [
        "df_v1.shape"
      ]
    },
    {
      "cell_type": "code",
      "source": [
        "df_v1['class'].value_counts()"
      ],
      "metadata": {
        "colab": {
          "base_uri": "https://localhost:8080/"
        },
        "id": "qIoLbqJAUlKj",
        "outputId": "afe6d6aa-1ac2-49b4-8c28-313bdedc81ff"
      },
      "execution_count": null,
      "outputs": [
        {
          "output_type": "execute_result",
          "data": {
            "text/plain": [
              "ckd       250\n",
              "notckd    150\n",
              "Name: class, dtype: int64"
            ]
          },
          "metadata": {},
          "execution_count": 91
        }
      ]
    },
    {
      "cell_type": "code",
      "source": [
        "df_v1_maj = df_v1[ df_v1['class'] == 'ckd' ]\n",
        "df_v1_min = df_v1[ df_v1['class'] == 'notckd' ]"
      ],
      "metadata": {
        "id": "u3hZCQ6yUlRK"
      },
      "execution_count": null,
      "outputs": []
    },
    {
      "cell_type": "code",
      "source": [
        "df_upsample = resample(df_v1_maj, replace = True, n_samples = 4850, random_state = 42)\n",
        "df_upsample = pd.concat([df_upsample, df_v1_min])"
      ],
      "metadata": {
        "id": "dDyczijfUlhA"
      },
      "execution_count": null,
      "outputs": []
    },
    {
      "cell_type": "code",
      "source": [
        "df_upsample['class'].value_counts()"
      ],
      "metadata": {
        "colab": {
          "base_uri": "https://localhost:8080/"
        },
        "id": "W2QAHuVeUlnb",
        "outputId": "ae6c4391-35f8-41dd-fbc8-18493d19cebb"
      },
      "execution_count": null,
      "outputs": [
        {
          "output_type": "execute_result",
          "data": {
            "text/plain": [
              "ckd       4850\n",
              "notckd     150\n",
              "Name: class, dtype: int64"
            ]
          },
          "metadata": {},
          "execution_count": 94
        }
      ]
    },
    {
      "cell_type": "markdown",
      "metadata": {
        "id": "sYmDXBIHlrRT"
      },
      "source": [
        "### 22. Build a logistic regression model on the unbalanced class data and evaluate its performance using whatever method(s) you see fit. How would you describe the impact of unbalanced classes on logistic regression as a classifier?\n",
        "> Be sure to look at how well it performs on non-CKD data."
      ]
    },
    {
      "cell_type": "code",
      "execution_count": null,
      "metadata": {
        "collapsed": true,
        "id": "l9qDtumilrRb"
      },
      "outputs": [],
      "source": [
        "X = df_upsample[v1_features]\n",
        "y = df_upsample['class']"
      ]
    },
    {
      "cell_type": "code",
      "source": [
        "X_poly = poly.fit_transform(X)"
      ],
      "metadata": {
        "id": "AKLdvEeNVJBE"
      },
      "execution_count": null,
      "outputs": []
    },
    {
      "cell_type": "code",
      "source": [
        "X_train, X_test, y_train, y_test = train_test_split(X_poly, y, random_state = 42)"
      ],
      "metadata": {
        "id": "LHVMOee-VJEk"
      },
      "execution_count": null,
      "outputs": []
    },
    {
      "cell_type": "code",
      "source": [
        "ss.fit(X_train)"
      ],
      "metadata": {
        "colab": {
          "base_uri": "https://localhost:8080/"
        },
        "id": "XxMcb2D-VJK6",
        "outputId": "17826e61-041a-4a83-ad61-22adac0f4296"
      },
      "execution_count": null,
      "outputs": [
        {
          "output_type": "execute_result",
          "data": {
            "text/plain": [
              "StandardScaler()"
            ]
          },
          "metadata": {},
          "execution_count": 98
        }
      ]
    },
    {
      "cell_type": "code",
      "source": [
        "X_train_sc = ss.transform(X_train)\n",
        "X_test_sc = ss.transform(X_test)"
      ],
      "metadata": {
        "id": "DlpPtQqoVJOe"
      },
      "execution_count": null,
      "outputs": []
    },
    {
      "cell_type": "code",
      "source": [
        "logreg.fit(X_train_sc, y_train)"
      ],
      "metadata": {
        "colab": {
          "base_uri": "https://localhost:8080/"
        },
        "id": "zxOY1VLjVizw",
        "outputId": "4c5786eb-1d38-4825-b06a-7452c860e47a"
      },
      "execution_count": null,
      "outputs": [
        {
          "output_type": "stream",
          "name": "stderr",
          "text": [
            "/usr/local/lib/python3.8/dist-packages/sklearn/linear_model/_logistic.py:814: ConvergenceWarning: lbfgs failed to converge (status=1):\n",
            "STOP: TOTAL NO. of ITERATIONS REACHED LIMIT.\n",
            "\n",
            "Increase the number of iterations (max_iter) or scale the data as shown in:\n",
            "    https://scikit-learn.org/stable/modules/preprocessing.html\n",
            "Please also refer to the documentation for alternative solver options:\n",
            "    https://scikit-learn.org/stable/modules/linear_model.html#logistic-regression\n",
            "  n_iter_i = _check_optimize_result(\n"
          ]
        },
        {
          "output_type": "execute_result",
          "data": {
            "text/plain": [
              "LogisticRegression()"
            ]
          },
          "metadata": {},
          "execution_count": 101
        }
      ]
    },
    {
      "cell_type": "code",
      "source": [
        "# Earlier score was 0.96666666666"
      ],
      "metadata": {
        "id": "I4DdLJYsVtPd"
      },
      "execution_count": null,
      "outputs": []
    },
    {
      "cell_type": "code",
      "source": [
        "logreg.score(X_train_sc, y_train)"
      ],
      "metadata": {
        "colab": {
          "base_uri": "https://localhost:8080/"
        },
        "id": "qmgz8cXIVteJ",
        "outputId": "b7a412b0-9868-480f-b7b8-b173603c0a31"
      },
      "execution_count": null,
      "outputs": [
        {
          "output_type": "execute_result",
          "data": {
            "text/plain": [
              "0.9968"
            ]
          },
          "metadata": {},
          "execution_count": 102
        }
      ]
    },
    {
      "cell_type": "code",
      "source": [
        "# Earlier score was 0.96"
      ],
      "metadata": {
        "id": "U80RNXyJVtwX"
      },
      "execution_count": null,
      "outputs": []
    },
    {
      "cell_type": "code",
      "source": [
        "logreg.score(X_test_sc, y_test)\n"
      ],
      "metadata": {
        "colab": {
          "base_uri": "https://localhost:8080/"
        },
        "id": "UwQEdl_qV_pk",
        "outputId": "834e20b1-1464-4c83-aa9c-dc320782e5d4"
      },
      "execution_count": null,
      "outputs": [
        {
          "output_type": "execute_result",
          "data": {
            "text/plain": [
              "0.9976"
            ]
          },
          "metadata": {},
          "execution_count": 103
        }
      ]
    },
    {
      "cell_type": "code",
      "source": [
        "predictions = logreg.predict(X_test_sc)"
      ],
      "metadata": {
        "id": "7hZLkEayWGIq"
      },
      "execution_count": null,
      "outputs": []
    },
    {
      "cell_type": "code",
      "source": [
        "cm = confusion_matrix(y_test, predictions)"
      ],
      "metadata": {
        "id": "efFpQlX1WGbP"
      },
      "execution_count": null,
      "outputs": []
    },
    {
      "cell_type": "code",
      "source": [
        "cm"
      ],
      "metadata": {
        "colab": {
          "base_uri": "https://localhost:8080/"
        },
        "id": "mST7DYdzV_vB",
        "outputId": "31a4b4ad-02b9-4fc6-8165-cf0bd71bf9f0"
      },
      "execution_count": null,
      "outputs": [
        {
          "output_type": "execute_result",
          "data": {
            "text/plain": [
              "array([[1208,    0],\n",
              "       [   3,   39]])"
            ]
          },
          "metadata": {},
          "execution_count": 106
        }
      ]
    },
    {
      "cell_type": "code",
      "source": [
        "\n",
        "cm = pd.DataFrame(cm, columns=['Predicted Negative','Predicted Positive'], index=['Actual Negative','Actual Positive'])"
      ],
      "metadata": {
        "id": "6Crl3gcYWai8"
      },
      "execution_count": null,
      "outputs": []
    },
    {
      "cell_type": "code",
      "source": [
        "cm"
      ],
      "metadata": {
        "colab": {
          "base_uri": "https://localhost:8080/",
          "height": 112
        },
        "id": "4YvbLygwWath",
        "outputId": "2b50c4b1-c41f-41ff-859c-f556d8816e1d"
      },
      "execution_count": null,
      "outputs": [
        {
          "output_type": "execute_result",
          "data": {
            "text/plain": [
              "                 Predicted Negative  Predicted Positive\n",
              "Actual Negative                1208                   0\n",
              "Actual Positive                   3                  39"
            ],
            "text/html": [
              "\n",
              "  <div id=\"df-07a014c6-9920-407f-b20d-78613f92681c\">\n",
              "    <div class=\"colab-df-container\">\n",
              "      <div>\n",
              "<style scoped>\n",
              "    .dataframe tbody tr th:only-of-type {\n",
              "        vertical-align: middle;\n",
              "    }\n",
              "\n",
              "    .dataframe tbody tr th {\n",
              "        vertical-align: top;\n",
              "    }\n",
              "\n",
              "    .dataframe thead th {\n",
              "        text-align: right;\n",
              "    }\n",
              "</style>\n",
              "<table border=\"1\" class=\"dataframe\">\n",
              "  <thead>\n",
              "    <tr style=\"text-align: right;\">\n",
              "      <th></th>\n",
              "      <th>Predicted Negative</th>\n",
              "      <th>Predicted Positive</th>\n",
              "    </tr>\n",
              "  </thead>\n",
              "  <tbody>\n",
              "    <tr>\n",
              "      <th>Actual Negative</th>\n",
              "      <td>1208</td>\n",
              "      <td>0</td>\n",
              "    </tr>\n",
              "    <tr>\n",
              "      <th>Actual Positive</th>\n",
              "      <td>3</td>\n",
              "      <td>39</td>\n",
              "    </tr>\n",
              "  </tbody>\n",
              "</table>\n",
              "</div>\n",
              "      <button class=\"colab-df-convert\" onclick=\"convertToInteractive('df-07a014c6-9920-407f-b20d-78613f92681c')\"\n",
              "              title=\"Convert this dataframe to an interactive table.\"\n",
              "              style=\"display:none;\">\n",
              "        \n",
              "  <svg xmlns=\"http://www.w3.org/2000/svg\" height=\"24px\"viewBox=\"0 0 24 24\"\n",
              "       width=\"24px\">\n",
              "    <path d=\"M0 0h24v24H0V0z\" fill=\"none\"/>\n",
              "    <path d=\"M18.56 5.44l.94 2.06.94-2.06 2.06-.94-2.06-.94-.94-2.06-.94 2.06-2.06.94zm-11 1L8.5 8.5l.94-2.06 2.06-.94-2.06-.94L8.5 2.5l-.94 2.06-2.06.94zm10 10l.94 2.06.94-2.06 2.06-.94-2.06-.94-.94-2.06-.94 2.06-2.06.94z\"/><path d=\"M17.41 7.96l-1.37-1.37c-.4-.4-.92-.59-1.43-.59-.52 0-1.04.2-1.43.59L10.3 9.45l-7.72 7.72c-.78.78-.78 2.05 0 2.83L4 21.41c.39.39.9.59 1.41.59.51 0 1.02-.2 1.41-.59l7.78-7.78 2.81-2.81c.8-.78.8-2.07 0-2.86zM5.41 20L4 18.59l7.72-7.72 1.47 1.35L5.41 20z\"/>\n",
              "  </svg>\n",
              "      </button>\n",
              "      \n",
              "  <style>\n",
              "    .colab-df-container {\n",
              "      display:flex;\n",
              "      flex-wrap:wrap;\n",
              "      gap: 12px;\n",
              "    }\n",
              "\n",
              "    .colab-df-convert {\n",
              "      background-color: #E8F0FE;\n",
              "      border: none;\n",
              "      border-radius: 50%;\n",
              "      cursor: pointer;\n",
              "      display: none;\n",
              "      fill: #1967D2;\n",
              "      height: 32px;\n",
              "      padding: 0 0 0 0;\n",
              "      width: 32px;\n",
              "    }\n",
              "\n",
              "    .colab-df-convert:hover {\n",
              "      background-color: #E2EBFA;\n",
              "      box-shadow: 0px 1px 2px rgba(60, 64, 67, 0.3), 0px 1px 3px 1px rgba(60, 64, 67, 0.15);\n",
              "      fill: #174EA6;\n",
              "    }\n",
              "\n",
              "    [theme=dark] .colab-df-convert {\n",
              "      background-color: #3B4455;\n",
              "      fill: #D2E3FC;\n",
              "    }\n",
              "\n",
              "    [theme=dark] .colab-df-convert:hover {\n",
              "      background-color: #434B5C;\n",
              "      box-shadow: 0px 1px 3px 1px rgba(0, 0, 0, 0.15);\n",
              "      filter: drop-shadow(0px 1px 2px rgba(0, 0, 0, 0.3));\n",
              "      fill: #FFFFFF;\n",
              "    }\n",
              "  </style>\n",
              "\n",
              "      <script>\n",
              "        const buttonEl =\n",
              "          document.querySelector('#df-07a014c6-9920-407f-b20d-78613f92681c button.colab-df-convert');\n",
              "        buttonEl.style.display =\n",
              "          google.colab.kernel.accessAllowed ? 'block' : 'none';\n",
              "\n",
              "        async function convertToInteractive(key) {\n",
              "          const element = document.querySelector('#df-07a014c6-9920-407f-b20d-78613f92681c');\n",
              "          const dataTable =\n",
              "            await google.colab.kernel.invokeFunction('convertToInteractive',\n",
              "                                                     [key], {});\n",
              "          if (!dataTable) return;\n",
              "\n",
              "          const docLinkHtml = 'Like what you see? Visit the ' +\n",
              "            '<a target=\"_blank\" href=https://colab.research.google.com/notebooks/data_table.ipynb>data table notebook</a>'\n",
              "            + ' to learn more about interactive tables.';\n",
              "          element.innerHTML = '';\n",
              "          dataTable['output_type'] = 'display_data';\n",
              "          await google.colab.output.renderOutput(dataTable, element);\n",
              "          const docLink = document.createElement('div');\n",
              "          docLink.innerHTML = docLinkHtml;\n",
              "          element.appendChild(docLink);\n",
              "        }\n",
              "      </script>\n",
              "    </div>\n",
              "  </div>\n",
              "  "
            ]
          },
          "metadata": {},
          "execution_count": 108
        }
      ]
    },
    {
      "cell_type": "code",
      "source": [
        "1208+3+0+39"
      ],
      "metadata": {
        "colab": {
          "base_uri": "https://localhost:8080/"
        },
        "id": "VnL-KcJxWi6t",
        "outputId": "7e89638e-82aa-4b7e-f3bf-592a3acbed51"
      },
      "execution_count": 1,
      "outputs": [
        {
          "output_type": "execute_result",
          "data": {
            "text/plain": [
              "1250"
            ]
          },
          "metadata": {},
          "execution_count": 1
        }
      ]
    },
    {
      "cell_type": "markdown",
      "metadata": {
        "id": "FYzaFXe2lrRn"
      },
      "source": [
        "---\n",
        "\n",
        "## Step 6: Answer the problem.\n",
        "\n",
        "At this step, you would generally answer the problem! In this situation, you would likely present your model to doctors or administrators at the hospital and show how your model results in reduced false positives/false negatives. Next steps would be to find a way to roll this model and its conclusions out across the hospital so that the outcomes of patients with CKD (and without CKD!) can be improved!"
      ]
    },
    {
      "cell_type": "code",
      "source": [
        "#The impact of unbalanced classes on logistic regression is that it seems to have concted the specificity of the model, in this case, as there are 0 False Positives out of a total of 1,250 predictions."
      ],
      "metadata": {
        "id": "rZO4Lc4fXLcY"
      },
      "execution_count": null,
      "outputs": []
    }
  ],
  "metadata": {
    "kernelspec": {
      "display_name": "Python 3 (ipykernel)",
      "language": "python",
      "name": "python3"
    },
    "language_info": {
      "codemirror_mode": {
        "name": "ipython",
        "version": 3
      },
      "file_extension": ".py",
      "mimetype": "text/x-python",
      "name": "python",
      "nbconvert_exporter": "python",
      "pygments_lexer": "ipython3",
      "version": "3.9.7"
    },
    "colab": {
      "provenance": []
    }
  },
  "nbformat": 4,
  "nbformat_minor": 0
}