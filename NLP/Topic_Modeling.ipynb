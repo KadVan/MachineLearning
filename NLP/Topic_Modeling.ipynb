{
 "cells": [
  {
   "cell_type": "code",
   "execution_count": 4,
   "id": "7df7e63a",
   "metadata": {},
   "outputs": [
    {
     "data": {
      "text/html": [
       "<div>\n",
       "<style scoped>\n",
       "    .dataframe tbody tr th:only-of-type {\n",
       "        vertical-align: middle;\n",
       "    }\n",
       "\n",
       "    .dataframe tbody tr th {\n",
       "        vertical-align: top;\n",
       "    }\n",
       "\n",
       "    .dataframe thead th {\n",
       "        text-align: right;\n",
       "    }\n",
       "</style>\n",
       "<table border=\"1\" class=\"dataframe\">\n",
       "  <thead>\n",
       "    <tr style=\"text-align: right;\">\n",
       "      <th></th>\n",
       "      <th>category</th>\n",
       "      <th>text</th>\n",
       "    </tr>\n",
       "  </thead>\n",
       "  <tbody>\n",
       "    <tr>\n",
       "      <th>0</th>\n",
       "      <td>tech</td>\n",
       "      <td>tv future in the hands of viewers with home th...</td>\n",
       "    </tr>\n",
       "    <tr>\n",
       "      <th>1</th>\n",
       "      <td>business</td>\n",
       "      <td>worldcom boss  left books alone  former worldc...</td>\n",
       "    </tr>\n",
       "    <tr>\n",
       "      <th>2</th>\n",
       "      <td>sport</td>\n",
       "      <td>tigers wary of farrell  gamble  leicester say ...</td>\n",
       "    </tr>\n",
       "    <tr>\n",
       "      <th>3</th>\n",
       "      <td>sport</td>\n",
       "      <td>yeading face newcastle in fa cup premiership s...</td>\n",
       "    </tr>\n",
       "    <tr>\n",
       "      <th>4</th>\n",
       "      <td>entertainment</td>\n",
       "      <td>ocean s twelve raids box office ocean s twelve...</td>\n",
       "    </tr>\n",
       "    <tr>\n",
       "      <th>...</th>\n",
       "      <td>...</td>\n",
       "      <td>...</td>\n",
       "    </tr>\n",
       "    <tr>\n",
       "      <th>2220</th>\n",
       "      <td>business</td>\n",
       "      <td>cars pull down us retail figures us retail sal...</td>\n",
       "    </tr>\n",
       "    <tr>\n",
       "      <th>2221</th>\n",
       "      <td>politics</td>\n",
       "      <td>kilroy unveils immigration policy ex-chatshow ...</td>\n",
       "    </tr>\n",
       "    <tr>\n",
       "      <th>2222</th>\n",
       "      <td>entertainment</td>\n",
       "      <td>rem announce new glasgow concert us band rem h...</td>\n",
       "    </tr>\n",
       "    <tr>\n",
       "      <th>2223</th>\n",
       "      <td>politics</td>\n",
       "      <td>how political squabbles snowball it s become c...</td>\n",
       "    </tr>\n",
       "    <tr>\n",
       "      <th>2224</th>\n",
       "      <td>sport</td>\n",
       "      <td>souness delight at euro progress boss graeme s...</td>\n",
       "    </tr>\n",
       "  </tbody>\n",
       "</table>\n",
       "<p>2225 rows × 2 columns</p>\n",
       "</div>"
      ],
      "text/plain": [
       "           category                                               text\n",
       "0              tech  tv future in the hands of viewers with home th...\n",
       "1          business  worldcom boss  left books alone  former worldc...\n",
       "2             sport  tigers wary of farrell  gamble  leicester say ...\n",
       "3             sport  yeading face newcastle in fa cup premiership s...\n",
       "4     entertainment  ocean s twelve raids box office ocean s twelve...\n",
       "...             ...                                                ...\n",
       "2220       business  cars pull down us retail figures us retail sal...\n",
       "2221       politics  kilroy unveils immigration policy ex-chatshow ...\n",
       "2222  entertainment  rem announce new glasgow concert us band rem h...\n",
       "2223       politics  how political squabbles snowball it s become c...\n",
       "2224          sport  souness delight at euro progress boss graeme s...\n",
       "\n",
       "[2225 rows x 2 columns]"
      ]
     },
     "execution_count": 4,
     "metadata": {},
     "output_type": "execute_result"
    }
   ],
   "source": [
    "import pandas as pd\n",
    "import numpy as np\n",
    "\n",
    "bbc_dataset = pd.read_csv(\"bbc-text.csv\")\n",
    "bbc_dataset = bbc_dataset.head(2225)\n",
    "bbc_dataset.dropna()"
   ]
  },
  {
   "cell_type": "code",
   "execution_count": 5,
   "id": "1d57dd79",
   "metadata": {},
   "outputs": [
    {
     "data": {
      "text/plain": [
       "(2225, 2)"
      ]
     },
     "execution_count": 5,
     "metadata": {},
     "output_type": "execute_result"
    }
   ],
   "source": [
    "bbc_dataset.shape"
   ]
  },
  {
   "cell_type": "code",
   "execution_count": 6,
   "id": "28bc524d",
   "metadata": {},
   "outputs": [
    {
     "data": {
      "text/plain": [
       "'labour in constituency race row labour s choice of a white candidate for one of the uk s most multi-racial seats proves the need for all-black short lists  says a race group.  local councillor lyn brown was selected for west ham  east london  in a contest between two white and five ethnic minority women. an operation black vote spokesman said they now wanted to meet labour party chairman ian mccartney for discussions. mr mccartney recently announced party consultation on all-black shortlists. however  labour has so far unable been unable to comment on the implications of the west ham result.  ashok vishwanathan of operation black vote  which aims to increase ethnic minorities  participation in the political process and their representation  said the result again showed all-women shortlists were not effective in getting minority women selected.  i think all-black shortlists are the only way to cut to the chase and address the lack of minority candidates   mr vishwanathan said.  last month the chairman of the commission for racial equality (cre) also called for ethnic minority shortlists in certain circumstances. a cre spokesman said the organisation had nothing to add on the shortlist issue specifically but would be working with all the political parties to address the under-representation of ethnic minorities in parliament.  we will be raising it with each of the party leaders on a formal basis and helping them find the most appropriate way forward   the spokesman said. ethnic minorities make up 8% of the united kingdom population but only 2% of mps - 13 out of 659 - are from a visible minority group. twelve of them represent labour  and one is a liberal democrat. if ethnic minorities were represented in the house of commons in proportion to their numbers in the population  there would be 42 ethnic minority mps.'"
      ]
     },
     "execution_count": 6,
     "metadata": {},
     "output_type": "execute_result"
    }
   ],
   "source": [
    "bbc_dataset['text'][450]"
   ]
  },
  {
   "cell_type": "code",
   "execution_count": 7,
   "id": "e9403eb0",
   "metadata": {},
   "outputs": [],
   "source": [
    "from sklearn.feature_extraction.text import CountVectorizer\n",
    "\n",
    "count_vect = CountVectorizer(max_df=0.8, min_df=2, stop_words='english')\n",
    "doc_term_matrix = count_vect.fit_transform(bbc_dataset['text'].values.astype('U'))"
   ]
  },
  {
   "cell_type": "code",
   "execution_count": 14,
   "id": "f6683859",
   "metadata": {},
   "outputs": [
    {
     "name": "stdout",
     "output_type": "stream",
     "text": [
      "  (0, 16292)\t13\n",
      "  (0, 6886)\t2\n",
      "  (0, 7514)\t2\n",
      "  (0, 16788)\t3\n",
      "  (0, 7863)\t2\n",
      "  (0, 15791)\t1\n",
      "  (0, 15523)\t1\n",
      "  (0, 11838)\t1\n",
      "  (0, 7759)\t4\n",
      "  (0, 4631)\t4\n",
      "  (0, 16294)\t2\n",
      "  (0, 4939)\t2\n",
      "  (0, 16778)\t2\n",
      "  (0, 12861)\t2\n",
      "  (0, 10532)\t1\n",
      "  (0, 9558)\t1\n",
      "  (0, 13578)\t1\n",
      "  (0, 17011)\t2\n",
      "  (0, 11614)\t7\n",
      "  (0, 16988)\t4\n",
      "  (0, 12636)\t1\n",
      "  (0, 4926)\t1\n",
      "  (0, 17390)\t2\n",
      "  (0, 15908)\t2\n",
      "  (0, 853)\t1\n",
      "  :\t:\n",
      "  (2224, 1896)\t1\n",
      "  (2224, 11355)\t1\n",
      "  (2224, 13514)\t1\n",
      "  (2224, 6975)\t1\n",
      "  (2224, 15161)\t1\n",
      "  (2224, 13329)\t1\n",
      "  (2224, 9326)\t1\n",
      "  (2224, 16327)\t2\n",
      "  (2224, 1004)\t1\n",
      "  (2224, 5458)\t1\n",
      "  (2224, 16174)\t1\n",
      "  (2224, 13908)\t1\n",
      "  (2224, 1699)\t1\n",
      "  (2224, 7168)\t1\n",
      "  (2224, 8708)\t1\n",
      "  (2224, 9784)\t1\n",
      "  (2224, 14690)\t4\n",
      "  (2224, 4454)\t1\n",
      "  (2224, 14219)\t2\n",
      "  (2224, 1084)\t1\n",
      "  (2224, 10303)\t1\n",
      "  (2224, 4668)\t1\n",
      "  (2224, 7258)\t1\n",
      "  (2224, 9254)\t1\n",
      "  (2224, 2042)\t1\n"
     ]
    }
   ],
   "source": [
    "print(doc_term_matrix)"
   ]
  },
  {
   "cell_type": "code",
   "execution_count": 8,
   "id": "16694628",
   "metadata": {},
   "outputs": [
    {
     "data": {
      "text/plain": [
       "LatentDirichletAllocation(n_components=5)"
      ]
     },
     "execution_count": 8,
     "metadata": {},
     "output_type": "execute_result"
    }
   ],
   "source": [
    "#apply LDA method\n",
    "from sklearn.decomposition import LatentDirichletAllocation\n",
    "\n",
    "LDA = LatentDirichletAllocation(n_components=5)\n",
    "LDA.fit(doc_term_matrix)"
   ]
  },
  {
   "cell_type": "code",
   "execution_count": 9,
   "id": "af23ba4f",
   "metadata": {},
   "outputs": [
    {
     "name": "stdout",
     "output_type": "stream",
     "text": [
      "gloss\n",
      "travel\n",
      "winnable\n",
      "yushchenko\n",
      "lvmh\n",
      "31\n",
      "goran\n",
      "hostage\n",
      "backing\n",
      "slender\n"
     ]
    }
   ],
   "source": [
    "#random words fetched 0 to 9\n",
    "import random\n",
    "\n",
    "for i in range(10):\n",
    "    random_id = random.randint(0,len(count_vect.get_feature_names_out()))\n",
    "    print(count_vect.get_feature_names_out()[random_id])"
   ]
  },
  {
   "cell_type": "code",
   "execution_count": 10,
   "id": "d42b0d33",
   "metadata": {},
   "outputs": [
    {
     "data": {
      "text/plain": [
       "array([  0.20803142, 177.651651  ,  39.20024274, ...,   0.20358409,\n",
       "         0.20000066,   0.2000002 ])"
      ]
     },
     "execution_count": 10,
     "metadata": {},
     "output_type": "execute_result"
    }
   ],
   "source": [
    "first_topic = LDA.components_[0]\n",
    "first_topic"
   ]
  },
  {
   "cell_type": "code",
   "execution_count": 11,
   "id": "e8d86644",
   "metadata": {},
   "outputs": [
    {
     "data": {
      "text/plain": [
       "array([16331, 17291, 10601,  4939,  6928, 10773, 15662, 17386, 10392,\n",
       "       11614], dtype=int64)"
      ]
     },
     "execution_count": 11,
     "metadata": {},
     "output_type": "execute_result"
    }
   ],
   "source": [
    "top_topic_words = first_topic.argsort()[-10:]\n",
    "top_topic_words"
   ]
  },
  {
   "cell_type": "code",
   "execution_count": 12,
   "id": "1edde1b8",
   "metadata": {},
   "outputs": [
    {
     "name": "stdout",
     "output_type": "stream",
     "text": [
      "uk\n",
      "world\n",
      "music\n",
      "digital\n",
      "games\n",
      "new\n",
      "technology\n",
      "year\n",
      "mobile\n",
      "people\n"
     ]
    }
   ],
   "source": [
    "for i in top_topic_words:\n",
    "    print(count_vect.get_feature_names_out()[i])"
   ]
  },
  {
   "cell_type": "code",
   "execution_count": 14,
   "id": "0910cd75",
   "metadata": {},
   "outputs": [
    {
     "name": "stdout",
     "output_type": "stream",
     "text": [
      "Top 10 words for topic #0:\n",
      "['uk', 'world', 'music', 'digital', 'games', 'new', 'technology', 'year', 'mobile', 'people']\n",
      "\n",
      "\n",
      "Top 10 words for topic #1:\n",
      "['club', 'team', 'players', 'play', 'world', 'year', 'win', 'time', 'england', 'game']\n",
      "\n",
      "\n",
      "Top 10 words for topic #2:\n",
      "['told', 'minister', 'new', 'blair', 'party', 'election', 'labour', 'government', 'people', 'mr']\n",
      "\n",
      "\n",
      "Top 10 words for topic #3:\n",
      "['years', 'star', 'won', 'award', 'awards', 'new', 'music', 'year', 'best', 'film']\n",
      "\n",
      "\n",
      "Top 10 words for topic #4:\n",
      "['oil', 'china', '000', 'government', 'mr', 'new', 'market', 'firm', 'company', 'year']\n",
      "\n",
      "\n"
     ]
    }
   ],
   "source": [
    "for i,topic in enumerate(LDA.components_):\n",
    "  print(f'Top 10 words for topic #{i}:')\n",
    "  print([count_vect.get_feature_names()[i] for i in topic.argsort()[-10:]])\n",
    "  print('\\n')\n"
   ]
  },
  {
   "cell_type": "code",
   "execution_count": 15,
   "id": "68289a7f",
   "metadata": {},
   "outputs": [
    {
     "data": {
      "text/plain": [
       "(2225, 5)"
      ]
     },
     "execution_count": 15,
     "metadata": {},
     "output_type": "execute_result"
    }
   ],
   "source": [
    "topic_values = LDA.transform(doc_term_matrix)\n",
    "topic_values.shape"
   ]
  },
  {
   "cell_type": "code",
   "execution_count": 16,
   "id": "f6d499d3",
   "metadata": {},
   "outputs": [],
   "source": [
    "topic_values = LDA.transform(doc_term_matrix)\n",
    "topic_values.shape\n",
    "bbc_dataset['Topic'] = topic_values.argmax(axis=1)"
   ]
  },
  {
   "cell_type": "code",
   "execution_count": 17,
   "id": "015b2461",
   "metadata": {},
   "outputs": [],
   "source": [
    "bbc_dataset['Topic'] = topic_values.argmax(axis=1)"
   ]
  },
  {
   "cell_type": "code",
   "execution_count": 18,
   "id": "975bd296",
   "metadata": {},
   "outputs": [
    {
     "data": {
      "text/html": [
       "<div>\n",
       "<style scoped>\n",
       "    .dataframe tbody tr th:only-of-type {\n",
       "        vertical-align: middle;\n",
       "    }\n",
       "\n",
       "    .dataframe tbody tr th {\n",
       "        vertical-align: top;\n",
       "    }\n",
       "\n",
       "    .dataframe thead th {\n",
       "        text-align: right;\n",
       "    }\n",
       "</style>\n",
       "<table border=\"1\" class=\"dataframe\">\n",
       "  <thead>\n",
       "    <tr style=\"text-align: right;\">\n",
       "      <th></th>\n",
       "      <th>category</th>\n",
       "      <th>text</th>\n",
       "      <th>Topic</th>\n",
       "    </tr>\n",
       "  </thead>\n",
       "  <tbody>\n",
       "    <tr>\n",
       "      <th>0</th>\n",
       "      <td>tech</td>\n",
       "      <td>tv future in the hands of viewers with home th...</td>\n",
       "      <td>0</td>\n",
       "    </tr>\n",
       "    <tr>\n",
       "      <th>1</th>\n",
       "      <td>business</td>\n",
       "      <td>worldcom boss  left books alone  former worldc...</td>\n",
       "      <td>4</td>\n",
       "    </tr>\n",
       "    <tr>\n",
       "      <th>2</th>\n",
       "      <td>sport</td>\n",
       "      <td>tigers wary of farrell  gamble  leicester say ...</td>\n",
       "      <td>1</td>\n",
       "    </tr>\n",
       "    <tr>\n",
       "      <th>3</th>\n",
       "      <td>sport</td>\n",
       "      <td>yeading face newcastle in fa cup premiership s...</td>\n",
       "      <td>1</td>\n",
       "    </tr>\n",
       "    <tr>\n",
       "      <th>4</th>\n",
       "      <td>entertainment</td>\n",
       "      <td>ocean s twelve raids box office ocean s twelve...</td>\n",
       "      <td>3</td>\n",
       "    </tr>\n",
       "  </tbody>\n",
       "</table>\n",
       "</div>"
      ],
      "text/plain": [
       "        category                                               text  Topic\n",
       "0           tech  tv future in the hands of viewers with home th...      0\n",
       "1       business  worldcom boss  left books alone  former worldc...      4\n",
       "2          sport  tigers wary of farrell  gamble  leicester say ...      1\n",
       "3          sport  yeading face newcastle in fa cup premiership s...      1\n",
       "4  entertainment  ocean s twelve raids box office ocean s twelve...      3"
      ]
     },
     "execution_count": 18,
     "metadata": {},
     "output_type": "execute_result"
    }
   ],
   "source": [
    "bbc_dataset.head()"
   ]
  },
  {
   "cell_type": "code",
   "execution_count": 20,
   "id": "b9764da7",
   "metadata": {},
   "outputs": [
    {
     "data": {
      "text/plain": [
       "2    501\n",
       "4    491\n",
       "1    467\n",
       "0    383\n",
       "3    383\n",
       "Name: Topic, dtype: int64"
      ]
     },
     "execution_count": 20,
     "metadata": {},
     "output_type": "execute_result"
    }
   ],
   "source": [
    "bbc_dataset['Topic'].value_counts()"
   ]
  },
  {
   "cell_type": "code",
   "execution_count": null,
   "id": "93fc8b7f",
   "metadata": {},
   "outputs": [],
   "source": [
    "#NMF for Topic Modeling in Python(2nd method)"
   ]
  },
  {
   "cell_type": "code",
   "execution_count": 21,
   "id": "97aabb68",
   "metadata": {},
   "outputs": [
    {
     "data": {
      "text/html": [
       "<div>\n",
       "<style scoped>\n",
       "    .dataframe tbody tr th:only-of-type {\n",
       "        vertical-align: middle;\n",
       "    }\n",
       "\n",
       "    .dataframe tbody tr th {\n",
       "        vertical-align: top;\n",
       "    }\n",
       "\n",
       "    .dataframe thead th {\n",
       "        text-align: right;\n",
       "    }\n",
       "</style>\n",
       "<table border=\"1\" class=\"dataframe\">\n",
       "  <thead>\n",
       "    <tr style=\"text-align: right;\">\n",
       "      <th></th>\n",
       "      <th>category</th>\n",
       "      <th>text</th>\n",
       "    </tr>\n",
       "  </thead>\n",
       "  <tbody>\n",
       "    <tr>\n",
       "      <th>0</th>\n",
       "      <td>tech</td>\n",
       "      <td>tv future in the hands of viewers with home th...</td>\n",
       "    </tr>\n",
       "    <tr>\n",
       "      <th>1</th>\n",
       "      <td>business</td>\n",
       "      <td>worldcom boss  left books alone  former worldc...</td>\n",
       "    </tr>\n",
       "    <tr>\n",
       "      <th>2</th>\n",
       "      <td>sport</td>\n",
       "      <td>tigers wary of farrell  gamble  leicester say ...</td>\n",
       "    </tr>\n",
       "    <tr>\n",
       "      <th>3</th>\n",
       "      <td>sport</td>\n",
       "      <td>yeading face newcastle in fa cup premiership s...</td>\n",
       "    </tr>\n",
       "    <tr>\n",
       "      <th>4</th>\n",
       "      <td>entertainment</td>\n",
       "      <td>ocean s twelve raids box office ocean s twelve...</td>\n",
       "    </tr>\n",
       "    <tr>\n",
       "      <th>...</th>\n",
       "      <td>...</td>\n",
       "      <td>...</td>\n",
       "    </tr>\n",
       "    <tr>\n",
       "      <th>2220</th>\n",
       "      <td>business</td>\n",
       "      <td>cars pull down us retail figures us retail sal...</td>\n",
       "    </tr>\n",
       "    <tr>\n",
       "      <th>2221</th>\n",
       "      <td>politics</td>\n",
       "      <td>kilroy unveils immigration policy ex-chatshow ...</td>\n",
       "    </tr>\n",
       "    <tr>\n",
       "      <th>2222</th>\n",
       "      <td>entertainment</td>\n",
       "      <td>rem announce new glasgow concert us band rem h...</td>\n",
       "    </tr>\n",
       "    <tr>\n",
       "      <th>2223</th>\n",
       "      <td>politics</td>\n",
       "      <td>how political squabbles snowball it s become c...</td>\n",
       "    </tr>\n",
       "    <tr>\n",
       "      <th>2224</th>\n",
       "      <td>sport</td>\n",
       "      <td>souness delight at euro progress boss graeme s...</td>\n",
       "    </tr>\n",
       "  </tbody>\n",
       "</table>\n",
       "<p>2225 rows × 2 columns</p>\n",
       "</div>"
      ],
      "text/plain": [
       "           category                                               text\n",
       "0              tech  tv future in the hands of viewers with home th...\n",
       "1          business  worldcom boss  left books alone  former worldc...\n",
       "2             sport  tigers wary of farrell  gamble  leicester say ...\n",
       "3             sport  yeading face newcastle in fa cup premiership s...\n",
       "4     entertainment  ocean s twelve raids box office ocean s twelve...\n",
       "...             ...                                                ...\n",
       "2220       business  cars pull down us retail figures us retail sal...\n",
       "2221       politics  kilroy unveils immigration policy ex-chatshow ...\n",
       "2222  entertainment  rem announce new glasgow concert us band rem h...\n",
       "2223       politics  how political squabbles snowball it s become c...\n",
       "2224          sport  souness delight at euro progress boss graeme s...\n",
       "\n",
       "[2225 rows x 2 columns]"
      ]
     },
     "execution_count": 21,
     "metadata": {},
     "output_type": "execute_result"
    }
   ],
   "source": [
    "import pandas as pd\n",
    "import numpy as np\n",
    "\n",
    "bbc_dataset = pd.read_csv(\"bbc-text.csv\")\n",
    "bbc_dataset = bbc_dataset.head(2225)\n",
    "bbc_dataset.dropna()"
   ]
  },
  {
   "cell_type": "code",
   "execution_count": 22,
   "id": "e6916707",
   "metadata": {},
   "outputs": [],
   "source": [
    "from sklearn.feature_extraction.text import TfidfVectorizer\n",
    "\n",
    "tfidf_vect = TfidfVectorizer(max_df=0.8, min_df=2, stop_words='english')\n",
    "doc_term_matrix = tfidf_vect.fit_transform(bbc_dataset['text'].values.astype('U'))\n"
   ]
  },
  {
   "cell_type": "code",
   "execution_count": 23,
   "id": "8bdb5f24",
   "metadata": {},
   "outputs": [
    {
     "name": "stderr",
     "output_type": "stream",
     "text": [
      "C:\\ProgramData\\Anaconda3\\lib\\site-packages\\sklearn\\decomposition\\_nmf.py:289: FutureWarning: The 'init' value, when 'init=None' and n_components is less than n_samples and n_features, will be changed from 'nndsvd' to 'nndsvda' in 1.1 (renaming of 0.26).\n",
      "  warnings.warn(\n"
     ]
    },
    {
     "data": {
      "text/plain": [
       "NMF(n_components=5)"
      ]
     },
     "execution_count": 23,
     "metadata": {},
     "output_type": "execute_result"
    }
   ],
   "source": [
    "from sklearn.decomposition import NMF\n",
    "\n",
    "nmf = NMF(n_components=5)\n",
    "nmf.fit(doc_term_matrix)"
   ]
  },
  {
   "cell_type": "code",
   "execution_count": 24,
   "id": "823c01e0",
   "metadata": {},
   "outputs": [
    {
     "name": "stdout",
     "output_type": "stream",
     "text": [
      "weinstein\n",
      "obtained\n",
      "guest\n",
      "membership\n",
      "hectic\n",
      "drivers\n",
      "phases\n",
      "handful\n",
      "churchill\n",
      "scorched\n"
     ]
    }
   ],
   "source": [
    "import random\n",
    "\n",
    "for i in range(10):\n",
    "    random_id = random.randint(0,len(tfidf_vect.get_feature_names_out()))\n",
    "    print(tfidf_vect.get_feature_names_out()[random_id])"
   ]
  },
  {
   "cell_type": "code",
   "execution_count": 27,
   "id": "ea53ef02",
   "metadata": {},
   "outputs": [],
   "source": [
    "first_topic=nmf.components_[0]\n",
    "top_topic_words=first_topic.argsort()[-10:]"
   ]
  },
  {
   "cell_type": "code",
   "execution_count": 28,
   "id": "b368c75e",
   "metadata": {},
   "outputs": [
    {
     "name": "stdout",
     "output_type": "stream",
     "text": [
      "rugby\n",
      "players\n",
      "play\n",
      "team\n",
      "cup\n",
      "ireland\n",
      "wales\n",
      "win\n",
      "game\n",
      "england\n"
     ]
    }
   ],
   "source": [
    "for i in top_topic_words:\n",
    "    print(tfidf_vect.get_feature_names()[i])"
   ]
  },
  {
   "cell_type": "code",
   "execution_count": 29,
   "id": "2fa492a4",
   "metadata": {},
   "outputs": [
    {
     "name": "stdout",
     "output_type": "stream",
     "text": [
      "Top 10 words for topic #0:\n",
      "['rugby', 'players', 'play', 'team', 'cup', 'ireland', 'wales', 'win', 'game', 'england']\n",
      "\n",
      "\n",
      "Top 10 words for topic #1:\n",
      "['chancellor', 'minister', 'howard', 'government', 'party', 'brown', 'election', 'blair', 'labour', 'mr']\n",
      "\n",
      "\n",
      "Top 10 words for topic #2:\n",
      "['phones', 'software', 'broadband', 'users', 'phone', 'technology', 'digital', 'music', 'people', 'mobile']\n",
      "\n",
      "\n",
      "Top 10 words for topic #3:\n",
      "['films', 'won', 'festival', 'actress', 'oscar', 'actor', 'award', 'awards', 'best', 'film']\n",
      "\n",
      "\n",
      "Top 10 words for topic #4:\n",
      "['china', '2004', 'prices', 'oil', 'sales', 'economic', 'year', 'bank', 'economy', 'growth']\n",
      "\n",
      "\n"
     ]
    }
   ],
   "source": [
    "for i,topic in enumerate(nmf.components_):\n",
    "    print(f'Top 10 words for topic #{i}:')\n",
    "    print([tfidf_vect.get_feature_names_out()[i] for i in topic.argsort()[-10:]])\n",
    "    print('\\n')"
   ]
  },
  {
   "cell_type": "code",
   "execution_count": 30,
   "id": "978092fc",
   "metadata": {},
   "outputs": [
    {
     "data": {
      "text/html": [
       "<div>\n",
       "<style scoped>\n",
       "    .dataframe tbody tr th:only-of-type {\n",
       "        vertical-align: middle;\n",
       "    }\n",
       "\n",
       "    .dataframe tbody tr th {\n",
       "        vertical-align: top;\n",
       "    }\n",
       "\n",
       "    .dataframe thead th {\n",
       "        text-align: right;\n",
       "    }\n",
       "</style>\n",
       "<table border=\"1\" class=\"dataframe\">\n",
       "  <thead>\n",
       "    <tr style=\"text-align: right;\">\n",
       "      <th></th>\n",
       "      <th>category</th>\n",
       "      <th>text</th>\n",
       "      <th>Topic</th>\n",
       "    </tr>\n",
       "  </thead>\n",
       "  <tbody>\n",
       "    <tr>\n",
       "      <th>0</th>\n",
       "      <td>tech</td>\n",
       "      <td>tv future in the hands of viewers with home th...</td>\n",
       "      <td>2</td>\n",
       "    </tr>\n",
       "    <tr>\n",
       "      <th>1</th>\n",
       "      <td>business</td>\n",
       "      <td>worldcom boss  left books alone  former worldc...</td>\n",
       "      <td>1</td>\n",
       "    </tr>\n",
       "    <tr>\n",
       "      <th>2</th>\n",
       "      <td>sport</td>\n",
       "      <td>tigers wary of farrell  gamble  leicester say ...</td>\n",
       "      <td>0</td>\n",
       "    </tr>\n",
       "    <tr>\n",
       "      <th>3</th>\n",
       "      <td>sport</td>\n",
       "      <td>yeading face newcastle in fa cup premiership s...</td>\n",
       "      <td>0</td>\n",
       "    </tr>\n",
       "    <tr>\n",
       "      <th>4</th>\n",
       "      <td>entertainment</td>\n",
       "      <td>ocean s twelve raids box office ocean s twelve...</td>\n",
       "      <td>3</td>\n",
       "    </tr>\n",
       "  </tbody>\n",
       "</table>\n",
       "</div>"
      ],
      "text/plain": [
       "        category                                               text  Topic\n",
       "0           tech  tv future in the hands of viewers with home th...      2\n",
       "1       business  worldcom boss  left books alone  former worldc...      1\n",
       "2          sport  tigers wary of farrell  gamble  leicester say ...      0\n",
       "3          sport  yeading face newcastle in fa cup premiership s...      0\n",
       "4  entertainment  ocean s twelve raids box office ocean s twelve...      3"
      ]
     },
     "execution_count": 30,
     "metadata": {},
     "output_type": "execute_result"
    }
   ],
   "source": [
    "topic_values = nmf.transform(doc_term_matrix)\n",
    "bbc_dataset['Topic'] = topic_values.argmax(axis=1)\n",
    "bbc_dataset.head()"
   ]
  },
  {
   "cell_type": "code",
   "execution_count": null,
   "id": "d1af5595",
   "metadata": {},
   "outputs": [],
   "source": []
  }
 ],
 "metadata": {
  "kernelspec": {
   "display_name": "Python 3 (ipykernel)",
   "language": "python",
   "name": "python3"
  },
  "language_info": {
   "codemirror_mode": {
    "name": "ipython",
    "version": 3
   },
   "file_extension": ".py",
   "mimetype": "text/x-python",
   "name": "python",
   "nbconvert_exporter": "python",
   "pygments_lexer": "ipython3",
   "version": "3.9.13"
  }
 },
 "nbformat": 4,
 "nbformat_minor": 5
}
