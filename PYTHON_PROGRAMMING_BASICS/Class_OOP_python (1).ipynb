{
  "cells": [
    {
      "cell_type": "markdown",
      "id": "d7e026d4",
      "metadata": {
        "id": "d7e026d4"
      },
      "source": [
        "### Create a Vehicle class with any variables and methods"
      ]
    },
    {
      "cell_type": "code",
      "execution_count": 4,
      "id": "f0e8c86c",
      "metadata": {
        "colab": {
          "base_uri": "https://localhost:8080/"
        },
        "id": "f0e8c86c",
        "outputId": "f1556ee9-d0a7-4107-9ebd-deb3768f0da2"
      },
      "outputs": [
        {
          "output_type": "stream",
          "name": "stdout",
          "text": [
            "240 18\n"
          ]
        }
      ],
      "source": [
        "class Vehicle:\n",
        "    def __init__(self, max_speed, mileage):\n",
        "        self.max_speed = max_speed\n",
        "        self.mileage = mileage\n",
        "\n",
        "modelX = Vehicle(240, 18)\n",
        "print(modelX.max_speed, modelX.mileage)"
      ]
    },
    {
      "cell_type": "markdown",
      "id": "915f97fb",
      "metadata": {
        "id": "915f97fb"
      },
      "source": [
        "### Create a child class Bus that will inherit all of the variables and methods of the Vehicle class"
      ]
    },
    {
      "cell_type": "code",
      "execution_count": 7,
      "id": "52d111cc",
      "metadata": {
        "id": "52d111cc"
      },
      "outputs": [],
      "source": [
        "class Bus:\n",
        "\n",
        "    def __init__(self, name, max_speed, mileage):\n",
        "        self.name = name\n",
        "        self.max_speed = max_speed\n",
        "        self.mileage = mileage"
      ]
    },
    {
      "cell_type": "markdown",
      "id": "3ae06c91",
      "metadata": {
        "id": "3ae06c91"
      },
      "source": [
        "### Write a Python class named Student with two attributes student_name, marks. Modify the attribute values of the said class and print the original and modified values of the said attributes."
      ]
    },
    {
      "cell_type": "code",
      "execution_count": 6,
      "id": "06ee6e80",
      "metadata": {
        "colab": {
          "base_uri": "https://localhost:8080/"
        },
        "id": "06ee6e80",
        "outputId": "b08249c4-bf89-4510-8fe7-b41761a2d058"
      },
      "outputs": [
        {
          "output_type": "stream",
          "name": "stdout",
          "text": [
            "Student Name: Terrance Morales\n",
            "Marks: 93\n",
            "Student Name: Angel Brooks\n",
            "Marks: 95\n"
          ]
        }
      ],
      "source": [
        "class Student:\n",
        "    student_name = 'Terrance Morales'\n",
        "    marks = 93\n",
        "print(f\"Student Name: {getattr(Student, 'student_name')}\")\n",
        "print(f\"Marks: {getattr(Student, 'marks')}\")\n",
        "setattr(Student, 'student_name', 'Angel Brooks')\n",
        "setattr(Student, 'marks', 95)\n",
        "print(f\"Student Name: {getattr(Student, 'student_name')}\")\n",
        "print(f\"Marks: {getattr(Student, 'marks')}\")"
      ]
    },
    {
      "cell_type": "markdown",
      "source": [
        "#Class Inheritance"
      ],
      "metadata": {
        "id": "EVvZZUaSzTHt"
      },
      "id": "EVvZZUaSzTHt"
    },
    {
      "cell_type": "code",
      "source": [
        "class Vehicle:\n",
        "    def __init__(self, name, mileage, capacity):\n",
        "        self.name = name\n",
        "        self.mileage = mileage\n",
        "        self.capacity = capacity\n",
        "\n",
        "    def fare(self):\n",
        "        return self.capacity * 100\n",
        "\n",
        "class Bus(Vehicle):\n",
        "    pass\n",
        "\n",
        "School_bus = Bus(\"School Volvo\", 12, 50)\n",
        "print(\"Total Bus fare is:\", School_bus.fare())"
      ],
      "metadata": {
        "colab": {
          "base_uri": "https://localhost:8080/"
        },
        "id": "NhyiS4_FzJdm",
        "outputId": "d185d48b-1e0d-45c5-ee75-3ed21d0a5884"
      },
      "id": "NhyiS4_FzJdm",
      "execution_count": 8,
      "outputs": [
        {
          "output_type": "stream",
          "name": "stdout",
          "text": [
            "Total Bus fare is: 5000\n"
          ]
        }
      ]
    },
    {
      "cell_type": "markdown",
      "source": [
        "#Check type of object"
      ],
      "metadata": {
        "id": "S3DLeBevzlkm"
      },
      "id": "S3DLeBevzlkm"
    },
    {
      "cell_type": "code",
      "source": [
        "#given\n",
        "class Vehicle:\n",
        "    def __init__(self, name, mileage, capacity):\n",
        "        self.name = name\n",
        "        self.mileage = mileage\n",
        "        self.capacity = capacity\n",
        "\n",
        "class Bus(Vehicle):\n",
        "    pass\n",
        "\n",
        "School_bus = Bus(\"School Volvo\", 12, 50)\n"
      ],
      "metadata": {
        "id": "XuhwiUjrzp_6"
      },
      "id": "XuhwiUjrzp_6",
      "execution_count": 11,
      "outputs": []
    },
    {
      "cell_type": "code",
      "source": [
        "class Vehicle:\n",
        "    def __init__(self, name, mileage, capacity):\n",
        "        self.name = name\n",
        "        self.mileage = mileage\n",
        "        self.capacity = capacity\n",
        "\n",
        "class Bus(Vehicle):\n",
        "    pass\n",
        "\n",
        "School_bus = Bus(\"School Volvo\", 12, 50)\n",
        "\n",
        "# Python's built-in type()\n",
        "print(type(School_bus))"
      ],
      "metadata": {
        "colab": {
          "base_uri": "https://localhost:8080/"
        },
        "id": "Dx3l_SGDz2aZ",
        "outputId": "76d696a2-7dfa-43c3-ec03-16adc637a109"
      },
      "id": "Dx3l_SGDz2aZ",
      "execution_count": 10,
      "outputs": [
        {
          "output_type": "stream",
          "name": "stdout",
          "text": [
            "<class '__main__.Bus'>\n"
          ]
        }
      ]
    },
    {
      "cell_type": "markdown",
      "source": [
        "  #determine if school bus is also an instance of the veichcle class"
      ],
      "metadata": {
        "id": "o_eXX-9-0KLZ"
      },
      "id": "o_eXX-9-0KLZ"
    },
    {
      "cell_type": "code",
      "source": [
        "#given\n",
        "class Vehicle:\n",
        "    def __init__(self, name, mileage, capacity):\n",
        "        self.name = name\n",
        "        self.mileage = mileage\n",
        "        self.capacity = capacity\n",
        "\n",
        "class Bus(Vehicle):\n",
        "    pass\n",
        "\n",
        "School_bus = Bus(\"School Volvo\", 12, 50)"
      ],
      "metadata": {
        "id": "vB4h47hG0fFT"
      },
      "id": "vB4h47hG0fFT",
      "execution_count": 12,
      "outputs": []
    },
    {
      "cell_type": "code",
      "source": [
        "class Vehicle:\n",
        "    def __init__(self, name, mileage, capacity):\n",
        "        self.name = name\n",
        "        self.mileage = mileage\n",
        "        self.capacity = capacity\n",
        "\n",
        "class Bus(Vehicle):\n",
        "    pass\n",
        "\n",
        "School_bus = Bus(\"School Volvo\", 12, 50)\n",
        "\n",
        "# Python's built-in isinstance() function\n",
        "print(isinstance(School_bus, Vehicle))"
      ],
      "metadata": {
        "colab": {
          "base_uri": "https://localhost:8080/"
        },
        "id": "2pV348Jw0n43",
        "outputId": "d4030342-d1cf-4207-db22-2d3925e49fce"
      },
      "id": "2pV348Jw0n43",
      "execution_count": 13,
      "outputs": [
        {
          "output_type": "stream",
          "name": "stdout",
          "text": [
            "True\n"
          ]
        }
      ]
    }
  ],
  "metadata": {
    "kernelspec": {
      "display_name": "Python 3 (ipykernel)",
      "language": "python",
      "name": "python3"
    },
    "language_info": {
      "codemirror_mode": {
        "name": "ipython",
        "version": 3
      },
      "file_extension": ".py",
      "mimetype": "text/x-python",
      "name": "python",
      "nbconvert_exporter": "python",
      "pygments_lexer": "ipython3",
      "version": "3.9.7"
    },
    "colab": {
      "provenance": []
    }
  },
  "nbformat": 4,
  "nbformat_minor": 5
}