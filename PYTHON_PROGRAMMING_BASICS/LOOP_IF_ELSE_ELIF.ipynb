{
  "cells": [
    {
      "cell_type": "markdown",
      "id": "a2841de7",
      "metadata": {
        "id": "a2841de7"
      },
      "source": [
        "## IF ELSE ELIF"
      ]
    },
    {
      "cell_type": "code",
      "execution_count": 1,
      "id": "a5aa725c",
      "metadata": {
        "id": "a5aa725c",
        "colab": {
          "base_uri": "https://localhost:8080/"
        },
        "outputId": "87a55b14-53d9-4f68-c322-0ec09d093dbb"
      },
      "outputs": [
        {
          "output_type": "stream",
          "name": "stdout",
          "text": [
            "Enter the your Age :43\n",
            "Your eligible for voting\n"
          ]
        }
      ],
      "source": [
        "val = input(\"Enter the your Age :\")\n",
        "value_float = float(val) #typecast\n",
        "\n",
        "if (value_float>=18):\n",
        "    print(\"Your eligible for voting\")\n",
        "else:\n",
        "    print(\"Your still a minor\")"
      ]
    },
    {
      "cell_type": "code",
      "execution_count": 1,
      "id": "623441e8",
      "metadata": {
        "id": "623441e8"
      },
      "outputs": [],
      "source": []
    },
    {
      "cell_type": "code",
      "execution_count": 2,
      "id": "69e41e7e",
      "metadata": {
        "id": "69e41e7e",
        "outputId": "f20a59ac-ee37-465f-8ff8-045dea899423",
        "colab": {
          "base_uri": "https://localhost:8080/"
        }
      },
      "outputs": [
        {
          "output_type": "stream",
          "name": "stdout",
          "text": [
            "Enter the your Age :43\n",
            "Your eligible for voting\n"
          ]
        }
      ],
      "source": [
        "val = input(\"Enter the your Age :\")\n",
        "value_float = float(val)\n",
        "\n",
        "if (value_float>18):\n",
        "    print(\"Your eligible for voting\")\n",
        "elif(value_float==18):\n",
        "    print(\"Please register for voting\")\n",
        "else:\n",
        "    print(\"your minor\")"
      ]
    },
    {
      "cell_type": "code",
      "execution_count": 3,
      "id": "2aad524e",
      "metadata": {
        "id": "2aad524e"
      },
      "outputs": [],
      "source": [
        "val = 18"
      ]
    },
    {
      "cell_type": "code",
      "execution_count": 4,
      "id": "09dbbae1",
      "metadata": {
        "id": "09dbbae1"
      },
      "outputs": [],
      "source": [
        "val2=18.8"
      ]
    },
    {
      "cell_type": "code",
      "execution_count": 5,
      "id": "8c44aa13",
      "metadata": {
        "id": "8c44aa13",
        "outputId": "1a9de5f4-296e-468d-f924-29411737eff0",
        "colab": {
          "base_uri": "https://localhost:8080/"
        }
      },
      "outputs": [
        {
          "output_type": "stream",
          "name": "stdout",
          "text": [
            "18\n"
          ]
        }
      ],
      "source": [
        "print(val)"
      ]
    },
    {
      "cell_type": "code",
      "execution_count": 6,
      "id": "357488b6",
      "metadata": {
        "id": "357488b6",
        "outputId": "f102c411-7068-4d27-c4b1-37b682f1f4fe",
        "colab": {
          "base_uri": "https://localhost:8080/"
        }
      },
      "outputs": [
        {
          "output_type": "stream",
          "name": "stdout",
          "text": [
            "18.8\n"
          ]
        }
      ],
      "source": [
        "print(val2)"
      ]
    },
    {
      "cell_type": "code",
      "execution_count": 7,
      "id": "ff33a6bc",
      "metadata": {
        "id": "ff33a6bc",
        "outputId": "0d218a5a-6ca6-40b1-a336-777c02ed38c1",
        "colab": {
          "base_uri": "https://localhost:8080/"
        }
      },
      "outputs": [
        {
          "data": {
            "text/plain": [
              "int"
            ]
          },
          "execution_count": 7,
          "metadata": {},
          "output_type": "execute_result"
        }
      ],
      "source": [
        "type(18)"
      ]
    },
    {
      "cell_type": "code",
      "execution_count": 8,
      "id": "56882b24",
      "metadata": {
        "id": "56882b24"
      },
      "outputs": [],
      "source": [
        "age = 54"
      ]
    },
    {
      "cell_type": "code",
      "execution_count": 9,
      "id": "9e15555c",
      "metadata": {
        "id": "9e15555c",
        "outputId": "5b443c76-8aab-4605-93e7-744b4874e02f",
        "colab": {
          "base_uri": "https://localhost:8080/"
        }
      },
      "outputs": [
        {
          "data": {
            "text/plain": [
              "float"
            ]
          },
          "execution_count": 9,
          "metadata": {},
          "output_type": "execute_result"
        }
      ],
      "source": [
        "type(18.8)"
      ]
    },
    {
      "cell_type": "code",
      "execution_count": 10,
      "id": "dd8f839b",
      "metadata": {
        "id": "dd8f839b",
        "outputId": "b1b3976e-bf13-462f-9838-1a033d1bece0",
        "colab": {
          "base_uri": "https://localhost:8080/"
        }
      },
      "outputs": [
        {
          "output_type": "stream",
          "name": "stdout",
          "text": [
            "Enter your final marks out of 100 : 90\n",
            "Congratulation you have got A+ Grade\n"
          ]
        }
      ],
      "source": [
        "marks= float(input(\"Enter your final marks out of 100 : \"))\n",
        "\n",
        "if(marks >= 75):\n",
        "    print(\"Congratulation you have got A+ Grade\")\n",
        "elif(marks<75 and marks>=65):\n",
        "    print(\"Congratulation you have got A Grade\")\n",
        "elif(marks<65 and marks>=55):\n",
        "    print(\"Congratulation you have got B Grade\")\n",
        "elif(marks<55 and marks>=45):\n",
        "    print(\"Congratulation you have got C Grade\")\n",
        "else:\n",
        "    print(\"Sorry You are Fail\")\n",
        "\n"
      ]
    },
    {
      "cell_type": "code",
      "execution_count": null,
      "id": "7a451b95",
      "metadata": {
        "id": "7a451b95"
      },
      "outputs": [],
      "source": [
        "a=1"
      ]
    },
    {
      "cell_type": "markdown",
      "id": "e066ee32",
      "metadata": {
        "id": "e066ee32"
      },
      "source": [
        "## LOOPS FOR and WHILE"
      ]
    },
    {
      "cell_type": "code",
      "execution_count": null,
      "id": "323d419f",
      "metadata": {
        "id": "323d419f"
      },
      "outputs": [],
      "source": [
        "list=[1,2,3,4,5,6,10]"
      ]
    },
    {
      "cell_type": "code",
      "execution_count": null,
      "id": "093460be",
      "metadata": {
        "id": "093460be",
        "outputId": "48796b91-6740-436d-9528-db42666e2c83",
        "colab": {
          "base_uri": "https://localhost:8080/"
        }
      },
      "outputs": [
        {
          "output_type": "stream",
          "name": "stdout",
          "text": [
            "1\n",
            "2\n",
            "3\n",
            "4\n",
            "5\n",
            "6\n",
            "10\n"
          ]
        }
      ],
      "source": [
        "for x in list:\n",
        "    print(x)"
      ]
    },
    {
      "cell_type": "code",
      "execution_count": null,
      "id": "474301fb",
      "metadata": {
        "id": "474301fb",
        "outputId": "29926f89-fd55-441f-ac31-6c110e160d3c",
        "colab": {
          "base_uri": "https://localhost:8080/"
        }
      },
      "outputs": [
        {
          "output_type": "stream",
          "name": "stdout",
          "text": [
            "1\n",
            "4\n",
            "9\n",
            "16\n",
            "25\n",
            "36\n",
            "100\n"
          ]
        }
      ],
      "source": [
        "for x in list:\n",
        "    print(x*x)"
      ]
    },
    {
      "cell_type": "code",
      "execution_count": null,
      "id": "3da76c50",
      "metadata": {
        "id": "3da76c50",
        "outputId": "4ee6aaa9-74d6-4640-ab40-0de5e5c33487",
        "colab": {
          "base_uri": "https://localhost:8080/"
        }
      },
      "outputs": [
        {
          "output_type": "execute_result",
          "data": {
            "text/plain": [
              "[1, 2, 3, 4, 5, 6, 10]"
            ]
          },
          "metadata": {},
          "execution_count": 15
        }
      ],
      "source": [
        "list"
      ]
    },
    {
      "cell_type": "code",
      "execution_count": null,
      "id": "bce5b89b",
      "metadata": {
        "id": "bce5b89b"
      },
      "outputs": [],
      "source": [
        "List=['Wasi','Nalini',\"Joyti\"]"
      ]
    },
    {
      "cell_type": "code",
      "execution_count": null,
      "id": "03225918",
      "metadata": {
        "id": "03225918",
        "outputId": "9ac97f2d-1866-49e4-f114-cc781a903f9f",
        "colab": {
          "base_uri": "https://localhost:8080/"
        }
      },
      "outputs": [
        {
          "output_type": "stream",
          "name": "stdout",
          "text": [
            "['Wasi', 'Nalini', 'Joyti']\n"
          ]
        }
      ],
      "source": [
        "print(List)"
      ]
    },
    {
      "cell_type": "code",
      "execution_count": null,
      "id": "1cf91012",
      "metadata": {
        "id": "1cf91012"
      },
      "outputs": [],
      "source": [
        "list=[2,8,9,11]"
      ]
    },
    {
      "cell_type": "code",
      "execution_count": null,
      "id": "e9631c71",
      "metadata": {
        "id": "e9631c71",
        "outputId": "943030e9-38e3-4768-9b14-4b6f76634bb6",
        "colab": {
          "base_uri": "https://localhost:8080/"
        }
      },
      "outputs": [
        {
          "output_type": "stream",
          "name": "stdout",
          "text": [
            "[2, 8, 9, 11]\n"
          ]
        }
      ],
      "source": [
        "print(list)"
      ]
    },
    {
      "cell_type": "code",
      "execution_count": 20,
      "id": "e6245fc4",
      "metadata": {
        "id": "e6245fc4"
      },
      "outputs": [],
      "source": [
        "sum=0"
      ]
    },
    {
      "cell_type": "code",
      "execution_count": 21,
      "id": "6069c88f",
      "metadata": {
        "id": "6069c88f"
      },
      "outputs": [],
      "source": [
        "for x in list:\n",
        "    sum= sum+x"
      ]
    },
    {
      "cell_type": "code",
      "execution_count": 22,
      "id": "495832b8",
      "metadata": {
        "id": "495832b8",
        "outputId": "d03da142-fe75-4d8d-b80d-0839ab58c13e",
        "colab": {
          "base_uri": "https://localhost:8080/"
        }
      },
      "outputs": [
        {
          "metadata": {
            "tags": null
          },
          "name": "stdout",
          "output_type": "stream",
          "text": [
            "30\n"
          ]
        }
      ],
      "source": [
        "print(sum)"
      ]
    },
    {
      "cell_type": "code",
      "execution_count": 23,
      "id": "9322a269",
      "metadata": {
        "id": "9322a269"
      },
      "outputs": [],
      "source": [
        "list=[234,8768,9687,88,976,875,865]"
      ]
    },
    {
      "cell_type": "code",
      "execution_count": 24,
      "id": "0fea795f",
      "metadata": {
        "id": "0fea795f",
        "outputId": "05aff883-3097-4303-a05d-8d6dc9bbb591",
        "colab": {
          "base_uri": "https://localhost:8080/"
        }
      },
      "outputs": [
        {
          "output_type": "stream",
          "name": "stdout",
          "text": [
            "234\n",
            "9002\n",
            "18689\n",
            "18777\n",
            "19753\n",
            "20628\n",
            "21493\n",
            "***************\n",
            "21493\n"
          ]
        }
      ],
      "source": [
        "sum=0\n",
        "for x in list:\n",
        "    sum= sum+x\n",
        "    print(sum) # Loop Was On\n",
        "#Loop has end\n",
        "print(\"***************\") #Loop has end\n",
        "print(sum)"
      ]
    },
    {
      "cell_type": "code",
      "execution_count": 25,
      "id": "614302f5",
      "metadata": {
        "id": "614302f5",
        "outputId": "b72dd45a-f771-4177-9815-deb22a871c4a",
        "colab": {
          "base_uri": "https://localhost:8080/"
        }
      },
      "outputs": [
        {
          "output_type": "stream",
          "name": "stdout",
          "text": [
            "Even Sum is 42\n",
            "Odd Sum is 49\n"
          ]
        }
      ],
      "source": [
        "# find the sum of even and odd number\n",
        "\n",
        "tup=(1,2,3,4,5,6,7,8,9,10,11,12,13)\n",
        "\n",
        "even_sum=0\n",
        "odd_sum=0\n",
        "\n",
        "for i in tup:\n",
        "    if(i%2 == 0):\n",
        "        even_sum=even_sum+i\n",
        "    else:\n",
        "        odd_sum=odd_sum+i\n",
        "\n",
        "\n",
        "print(\"Even Sum is {}\".format(even_sum)) # {} is used for display\n",
        "print(\"Odd Sum is {}\".format(odd_sum))\n"
      ]
    },
    {
      "cell_type": "code",
      "execution_count": 26,
      "id": "ccf5aed8",
      "metadata": {
        "id": "ccf5aed8",
        "outputId": "91b09ae5-a855-4a54-f87e-2922e9d47f99",
        "colab": {
          "base_uri": "https://localhost:8080/"
        }
      },
      "outputs": [
        {
          "metadata": {
            "tags": null
          },
          "name": "stdout",
          "output_type": "stream",
          "text": [
            "0\n",
            "1\n",
            "2\n",
            "3\n",
            "4\n",
            "5\n",
            "6\n",
            "7\n",
            "8\n",
            "9\n"
          ]
        }
      ],
      "source": [
        "i = 0\n",
        "\n",
        "while(i<10):\n",
        "    print(i)\n",
        "    i=i+1"
      ]
    },
    {
      "cell_type": "code",
      "execution_count": 27,
      "id": "e5e02836",
      "metadata": {
        "id": "e5e02836",
        "colab": {
          "base_uri": "https://localhost:8080/"
        },
        "outputId": "b5bb5eba-491f-40f7-96d4-e024206a5010"
      },
      "outputs": [
        {
          "metadata": {
            "tags": null
          },
          "name": "stdout",
          "output_type": "stream",
          "text": [
            "0\n",
            "1\n",
            "2\n",
            "3\n",
            "4\n",
            "I am outside the loop now \n"
          ]
        }
      ],
      "source": [
        "i = 0\n",
        "\n",
        "while(i<10):\n",
        "    if i == 5:\n",
        "        ## this is my If Area\n",
        "        break # end the loop\n",
        "    # This is the While Area\n",
        "    print(i)\n",
        "    i=i+1\n",
        "# This is outside my while\n",
        "print(\"I am outside the loop now \")"
      ]
    }
  ],
  "metadata": {
    "kernelspec": {
      "display_name": "Python 3 (ipykernel)",
      "language": "python",
      "name": "python3"
    },
    "language_info": {
      "codemirror_mode": {
        "name": "ipython",
        "version": 3
      },
      "file_extension": ".py",
      "mimetype": "text/x-python",
      "name": "python",
      "nbconvert_exporter": "python",
      "pygments_lexer": "ipython3",
      "version": "3.9.7"
    },
    "colab": {
      "provenance": []
    }
  },
  "nbformat": 4,
  "nbformat_minor": 5
}