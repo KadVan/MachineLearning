{
  "nbformat": 4,
  "nbformat_minor": 0,
  "metadata": {
    "colab": {
      "provenance": []
    },
    "kernelspec": {
      "name": "python3",
      "display_name": "Python 3"
    },
    "language_info": {
      "name": "python"
    }
  },
  "cells": [
    {
      "cell_type": "code",
      "execution_count": 1,
      "metadata": {
        "colab": {
          "base_uri": "https://localhost:8080/"
        },
        "id": "du31usvE_ynT",
        "outputId": "caa9ccbc-eb67-40e6-824d-23f2b6a65ed0"
      },
      "outputs": [
        {
          "output_type": "stream",
          "name": "stdout",
          "text": [
            "Collecting mysql-connector-python\n",
            "  Downloading mysql_connector_python-8.1.0-cp310-cp310-manylinux_2_17_x86_64.whl (27.5 MB)\n",
            "\u001b[2K     \u001b[90m━━━━━━━━━━━━━━━━━━━━━━━━━━━━━━━━━━━━━━━━\u001b[0m \u001b[32m27.5/27.5 MB\u001b[0m \u001b[31m20.5 MB/s\u001b[0m eta \u001b[36m0:00:00\u001b[0m\n",
            "\u001b[?25hCollecting protobuf<=4.21.12,>=4.21.1 (from mysql-connector-python)\n",
            "  Downloading protobuf-4.21.12-cp37-abi3-manylinux2014_x86_64.whl (409 kB)\n",
            "\u001b[2K     \u001b[90m━━━━━━━━━━━━━━━━━━━━━━━━━━━━━━━━━━━━━━\u001b[0m \u001b[32m409.8/409.8 kB\u001b[0m \u001b[31m16.0 MB/s\u001b[0m eta \u001b[36m0:00:00\u001b[0m\n",
            "\u001b[?25hInstalling collected packages: protobuf, mysql-connector-python\n",
            "  Attempting uninstall: protobuf\n",
            "    Found existing installation: protobuf 3.20.3\n",
            "    Uninstalling protobuf-3.20.3:\n",
            "      Successfully uninstalled protobuf-3.20.3\n",
            "Successfully installed mysql-connector-python-8.1.0 protobuf-4.21.12\n"
          ]
        }
      ],
      "source": [
        "!pip install mysql-connector-python"
      ]
    },
    {
      "cell_type": "code",
      "source": [
        "#use the library  of the conector\n",
        "import mysql.connector\n"
      ],
      "metadata": {
        "id": "RB9WHCfbAuLd"
      },
      "execution_count": 2,
      "outputs": []
    },
    {
      "cell_type": "code",
      "source": [
        "#connecting the mysql database\n",
        "mydb = mysql.connector.connect(\n",
        "    host=\"mysampledb.mysql.database.azure.com\",\n",
        "    user='admin1',\n",
        "    password='user123-1',\n",
        "    database='awesome chocolates',\n",
        "\n",
        ")"
      ],
      "metadata": {
        "id": "vDjz1QLBAujN"
      },
      "execution_count": 7,
      "outputs": []
    },
    {
      "cell_type": "code",
      "source": [
        "#testing the connection\n",
        "print(mydb)"
      ],
      "metadata": {
        "id": "yhJEawqPxWLk",
        "colab": {
          "base_uri": "https://localhost:8080/"
        },
        "outputId": "9c070eb3-735c-4f54-afdf-e08cc9248950"
      },
      "execution_count": 8,
      "outputs": [
        {
          "output_type": "stream",
          "name": "stdout",
          "text": [
            "<mysql.connector.connection_cext.CMySQLConnection object at 0x7f6d6828c1f0>\n"
          ]
        }
      ]
    },
    {
      "cell_type": "code",
      "source": [
        "#writing  the dql statement\n",
        "mycursor=mydb.cursor() #Creating the cursor\n",
        "sql=\"select * from people\"\n",
        "mycursor.execute(sql)\n",
        "\n",
        "myresult=mycursor.fetchall() #fetching the data from the cursor\n",
        "\n",
        "for x in myresult:\n",
        "  print(x)"
      ],
      "metadata": {
        "id": "tJ1gueJGxeFu",
        "colab": {
          "base_uri": "https://localhost:8080/"
        },
        "outputId": "9512ed05-8d49-45eb-efb8-db8b59dcf1d3"
      },
      "execution_count": 10,
      "outputs": [
        {
          "output_type": "stream",
          "name": "stdout",
          "text": [
            "('Barr Faughny', 'SP01', 'Yummies', 'Hyderabad')\n",
            "('Dennison Crosswaite', 'SP02', 'Yummies', 'Hyderabad')\n",
            "('Gunar Cockshoot', 'SP03', 'Yummies', 'Hyderabad')\n",
            "(\"Wilone O'Kielt\", 'SP04', 'Delish', 'Hyderabad')\n",
            "('Gigi Bohling', 'SP05', 'Delish', 'Hyderabad')\n",
            "('Curtice Advani', 'SP06', 'Delish', 'Hyderabad')\n",
            "('Kaine Padly', 'SP07', 'Delish', 'Hyderabad')\n",
            "('Ches Bonnell', 'SP08', '', 'Hyderabad')\n",
            "('Andria Kimpton', 'SP09', 'Jucies', 'Hyderabad')\n",
            "('Brien Boise', 'SP10', 'Jucies', 'Wellington')\n",
            "('Husein Augar', 'SP11', 'Yummies', 'Wellington')\n",
            "('Karlen McCaffrey', 'SP12', 'Yummies', 'Wellington')\n",
            "('Jan Morforth', 'SP13', 'Delish', 'Wellington')\n",
            "('Dotty Strutley', 'SP14', 'Delish', 'Wellington')\n",
            "('Kelci Walkden', 'SP15', 'Yummies', 'Wellington')\n",
            "(\"Marney O'Breen\", 'SP16', 'Jucies', 'Wellington')\n",
            "('Rafaelita Blaksland', 'SP17', '', 'Wellington')\n",
            "('Madelene Upcott', 'SP18', 'Jucies', 'Wellington')\n",
            "('Beverie Moffet', 'SP19', 'Jucies', 'Seattle')\n",
            "('Oby Sorrel', 'SP20', 'Jucies', 'Seattle')\n",
            "('Mallorie Waber', 'SP21', '', 'Seattle')\n",
            "('Jehu Rudeforth', 'SP22', '', 'Seattle')\n",
            "('Van Tuxwell', 'SP23', 'Yummies', 'Seattle')\n",
            "('Roddy Speechley', 'SP24', 'Delish', 'Seattle')\n",
            "('Camilla Castle', 'SP25', 'Delish', 'Seattle')\n",
            "('Janene Hairsine', 'SP26', 'Delish', 'Paris')\n",
            "('Niall Selesnick', 'SP27', 'Jucies', 'Paris')\n",
            "('Ebonee Roxburgh', 'SP28', '', 'Paris')\n",
            "('Zach Polon', 'SP29', 'Yummies', 'Paris')\n",
            "('Orton Livick', 'SP30', 'Yummies', 'Paris')\n",
            "('Gray Seamon', 'SP31', 'Delish', 'Paris')\n",
            "('Benny Karolovsky', 'SP32', 'Jucies', 'Paris')\n",
            "('Dyna Doucette', 'SP33', 'Jucies', 'Paris')\n"
          ]
        }
      ]
    },
    {
      "cell_type": "code",
      "source": [
        "#writing  the ddl statement\n",
        "\n",
        "mycursor=mydb.cursor()\n",
        "mycursor.execute(\"create database pythontest\")"
      ],
      "metadata": {
        "id": "b3pg6LVUybKB"
      },
      "execution_count": 11,
      "outputs": []
    },
    {
      "cell_type": "code",
      "source": [
        "#connecting the database which we have created\n",
        "mydb = mysql.connector.connect(\n",
        "    host='mysampledb.mysql.database.azure.com',\n",
        "    user='admin1',\n",
        "    password='user123-1',\n",
        "    database='pythontest'\n",
        ")"
      ],
      "metadata": {
        "id": "oO6nQS27ydSP"
      },
      "execution_count": 12,
      "outputs": []
    },
    {
      "cell_type": "code",
      "source": [
        "#creating the table in  new database\n",
        "mycursor=mydb.cursor()\n",
        "mycursor.execute(\"create table student (studentid int auto_increment primary key, name varchar(255), city varchar(100)) \")"
      ],
      "metadata": {
        "id": "28shSr1TynA_"
      },
      "execution_count": 13,
      "outputs": []
    },
    {
      "cell_type": "code",
      "source": [
        "\n",
        "mycursor=mydb.cursor()\n",
        "sql=\"insert into student (name,city) values (%s,%s)\"\n",
        "val=(\"Chan\",\"Singapore\")\n",
        "\n",
        "mycursor.execute(sql,val)\n",
        "mydb.commit() ## comminting the data of updates which is done in the cursor/session\n",
        "print(mycursor.rowcount,\"record insert\")"
      ],
      "metadata": {
        "id": "f3n8ahmjy-nD",
        "colab": {
          "base_uri": "https://localhost:8080/"
        },
        "outputId": "27375ffc-0428-4d29-fec4-71045a49defa"
      },
      "execution_count": 14,
      "outputs": [
        {
          "output_type": "stream",
          "name": "stdout",
          "text": [
            "1 record insert\n"
          ]
        }
      ]
    },
    {
      "cell_type": "code",
      "source": [
        "#dql\n",
        "mycursor=mydb.cursor()\n",
        "sql=\"select * from student\"\n",
        "mycursor.execute(sql)\n",
        "\n",
        "myresult=mycursor.fetchall()\n",
        "\n",
        "for x in myresult:\n",
        "  print(x)"
      ],
      "metadata": {
        "id": "h5y2EtTgzQR3",
        "colab": {
          "base_uri": "https://localhost:8080/"
        },
        "outputId": "6448ef7f-755a-41f0-9378-0dc050d75031"
      },
      "execution_count": 15,
      "outputs": [
        {
          "output_type": "stream",
          "name": "stdout",
          "text": [
            "(1, 'Chan', 'Singapore')\n"
          ]
        }
      ]
    },
    {
      "cell_type": "code",
      "source": [
        "# Writing DML statement\n",
        "import mysql.connector\n",
        "val=[\n",
        "    (\"Shalu\",\"Delhi\"),\n",
        "    (\"Samar\",\"Riyad\"),\n",
        "    (\"Aung Ko Ko\",\"Singapore\"),\n",
        "    (\"Eiman\",\"Dubai\")\n",
        "]\n",
        "sql =\"insert into student (name,city) values (%s,%s)\"\n",
        "mycursor.executemany(sql,val)\n",
        "mydb.commit()\n",
        "print(mycursor.rowcount,\"record insert\")"
      ],
      "metadata": {
        "id": "3PVRswm8zsAc",
        "colab": {
          "base_uri": "https://localhost:8080/"
        },
        "outputId": "312a378d-a204-45cc-d991-b5157195c0d0"
      },
      "execution_count": 18,
      "outputs": [
        {
          "output_type": "stream",
          "name": "stdout",
          "text": [
            "4 record insert\n"
          ]
        }
      ]
    },
    {
      "cell_type": "code",
      "source": [
        " #DQL\n",
        "mycursor=mydb.cursor()\n",
        "sql=\"select * from student\"\n",
        "mycursor.execute(sql)\n",
        "\n",
        "myresult=mycursor.fetchall()\n",
        "\n",
        "for x in myresult:\n",
        "  print(x)"
      ],
      "metadata": {
        "id": "Ybmm6vy0zsle",
        "colab": {
          "base_uri": "https://localhost:8080/"
        },
        "outputId": "60a58633-6bdc-46f8-8df8-56b5f1953e0f"
      },
      "execution_count": 19,
      "outputs": [
        {
          "output_type": "stream",
          "name": "stdout",
          "text": [
            "(1, 'Chan', 'Singapore')\n",
            "(2, 'Shalu', 'Delhi')\n",
            "(3, 'Samar', 'Riyad')\n",
            "(4, 'Aung Ko Ko', 'Singapore')\n",
            "(5, 'Eiman', 'Dubai')\n"
          ]
        }
      ]
    },
    {
      "cell_type": "code",
      "source": [
        "# Commit all the acitivies to the database, to view in a diffrent session\n",
        "mydb.commit()"
      ],
      "metadata": {
        "id": "PbtnrCjV1kQC"
      },
      "execution_count": 20,
      "outputs": []
    }
  ]
}