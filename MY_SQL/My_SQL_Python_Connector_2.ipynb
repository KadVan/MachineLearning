{
  "nbformat": 4,
  "nbformat_minor": 0,
  "metadata": {
    "colab": {
      "provenance": []
    },
    "kernelspec": {
      "name": "python3",
      "display_name": "Python 3"
    },
    "language_info": {
      "name": "python"
    }
  },
  "cells": [
    {
      "cell_type": "code",
      "execution_count": 9,
      "metadata": {
        "colab": {
          "base_uri": "https://localhost:8080/"
        },
        "id": "lhYdVAoMkX2m",
        "outputId": "9b06eb3a-feef-43f3-85ba-33287b0e7aed"
      },
      "outputs": [
        {
          "output_type": "stream",
          "name": "stdout",
          "text": [
            "Requirement already satisfied: mysql-connector-python in /usr/local/lib/python3.10/dist-packages (8.1.0)\n",
            "Requirement already satisfied: protobuf<=4.21.12,>=4.21.1 in /usr/local/lib/python3.10/dist-packages (from mysql-connector-python) (4.21.12)\n"
          ]
        }
      ],
      "source": [
        "!pip install mysql-connector-python"
      ]
    },
    {
      "cell_type": "code",
      "source": [
        "import mysql.connector"
      ],
      "metadata": {
        "id": "xlb3Q_yLlL_R"
      },
      "execution_count": 10,
      "outputs": []
    },
    {
      "cell_type": "code",
      "source": [
        "mydb=mysql.connector.connect(\n",
        "    host=\"mysampledb.mysql.database.azure.com\",\n",
        "    user=\"admin1\",\n",
        "    password=\"user123-1\",\n",
        "    database=\"awesome chocolates\"\n",
        "    )"
      ],
      "metadata": {
        "id": "p5okU6rdlU8D"
      },
      "execution_count": 11,
      "outputs": []
    },
    {
      "cell_type": "code",
      "source": [
        "print(mydb)"
      ],
      "metadata": {
        "colab": {
          "base_uri": "https://localhost:8080/"
        },
        "id": "S4eEnXiDpd2h",
        "outputId": "8df03e28-ca50-40ea-ec30-f30a7d4cf094"
      },
      "execution_count": 12,
      "outputs": [
        {
          "output_type": "stream",
          "name": "stdout",
          "text": [
            "<mysql.connector.connection_cext.CMySQLConnection object at 0x7a92e0744fd0>\n"
          ]
        }
      ]
    },
    {
      "cell_type": "markdown",
      "source": [],
      "metadata": {
        "id": "MvmroJvKwGpl"
      }
    },
    {
      "cell_type": "code",
      "source": [
        "#dql\n",
        "mycursor=mydb.cursor()\n",
        "sql=\"select * from  products\"\n",
        "mycursor.execute(sql)\n",
        "myresult=mycursor.fetchall()\n",
        "\n",
        "for x in myresult:\n",
        "  print(x)\n"
      ],
      "metadata": {
        "colab": {
          "base_uri": "https://localhost:8080/"
        },
        "id": "zxyFXK7xpuSH",
        "outputId": "696c2c3d-8c6a-48b2-8ceb-bac9175ead76"
      },
      "execution_count": 13,
      "outputs": [
        {
          "output_type": "stream",
          "name": "stdout",
          "text": [
            "('P01', 'Milk Bars', 'Bars', 'LARGE', 1.52)\n",
            "('P02', '50% Dark Bites', 'Bites', 'LARGE', 2.57)\n",
            "('P03', 'Almond Choco', 'Bars', 'LARGE', 9.6)\n",
            "('P04', 'Raspberry Choco', 'Bars', 'LARGE', 4.09)\n",
            "('P05', 'Mint Chip Choco', 'Bars', 'LARGE', 1.54)\n",
            "('P06', 'Eclairs', 'Bites', 'LARGE', 2.24)\n",
            "('P07', 'Drinking Coco', 'Other', 'LARGE', 1.62)\n",
            "('P08', '99% Dark & Pure', 'Bars', 'LARGE', 2.47)\n",
            "('P09', 'Orange Choco', 'Bars', 'LARGE', 7.14)\n",
            "('P10', 'Spicy Special Slims', 'Bites', 'LARGE', 5.79)\n",
            "('P11', 'After Nines', 'Bites', 'LARGE', 4.43)\n",
            "('P12', 'Fruit & Nut Bars', 'Bars', 'LARGE', 1.58)\n",
            "('P13', '85% Dark Bars', 'Bars', 'SMALL', 0.64)\n",
            "('P14', 'White Choc', 'Other', 'SMALL', 0.16)\n",
            "('P15', \"Baker's Choco Chips\", 'Bars', 'SMALL', 3.4)\n",
            "('P16', 'Organic Choco Syrup', 'Other', 'SMALL', 1.47)\n",
            "('P17', 'Caramel Stuffed Bars', 'Bars', 'SMALL', 0.54)\n",
            "('P18', 'Manuka Honey Choco', 'Other', 'SMALL', 4.75)\n",
            "('P19', '70% Dark Bites', 'Bites', 'SMALL', 4.97)\n",
            "('P20', 'Smooth Sliky Salty', 'Bars', 'SMALL', 2.97)\n",
            "('P21', 'Choco Coated Almonds', 'Bites', 'SMALL', 6.17)\n",
            "('P22', 'Peanut Butter Cubes', 'Bites', 'SMALL', 3.57)\n"
          ]
        }
      ]
    },
    {
      "cell_type": "code",
      "source": [
        "mydb.commit()"
      ],
      "metadata": {
        "id": "YlPXkoouxVK6"
      },
      "execution_count": 14,
      "outputs": []
    },
    {
      "cell_type": "code",
      "source": [
        "mydb.close()"
      ],
      "metadata": {
        "id": "o7373LEL4QSG"
      },
      "execution_count": 15,
      "outputs": []
    }
  ]
}