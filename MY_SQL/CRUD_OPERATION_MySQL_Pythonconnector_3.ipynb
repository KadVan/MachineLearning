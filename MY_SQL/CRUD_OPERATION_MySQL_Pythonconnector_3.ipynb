{
  "nbformat": 4,
  "nbformat_minor": 0,
  "metadata": {
    "colab": {
      "provenance": []
    },
    "kernelspec": {
      "name": "python3",
      "display_name": "Python 3"
    },
    "language_info": {
      "name": "python"
    }
  },
  "cells": [
    {
      "cell_type": "code",
      "execution_count": 22,
      "metadata": {
        "id": "NprUDKti834F",
        "colab": {
          "base_uri": "https://localhost:8080/"
        },
        "outputId": "64ffb310-a6fd-49a2-9433-534e5dad256f"
      },
      "outputs": [
        {
          "output_type": "stream",
          "name": "stdout",
          "text": [
            "Requirement already satisfied: mysql-connector-python in /usr/local/lib/python3.10/dist-packages (8.1.0)\n",
            "Requirement already satisfied: protobuf<=4.21.12,>=4.21.1 in /usr/local/lib/python3.10/dist-packages (from mysql-connector-python) (4.21.12)\n"
          ]
        }
      ],
      "source": [
        "#Using Python with MYSQL\n",
        "!pip install mysql-connector-python"
      ]
    },
    {
      "cell_type": "code",
      "source": [
        "import mysql.connector as mysql"
      ],
      "metadata": {
        "id": "s6V2P_d8AmVU"
      },
      "execution_count": 23,
      "outputs": []
    },
    {
      "cell_type": "code",
      "source": [
        "mydb = mysql.connect(host='mysampledb.mysql.database.azure.com',\n",
        "                    user = 'admin1',\n",
        "                    passwd = 'user123-1')\n",
        "\n",
        "print(mydb)"
      ],
      "metadata": {
        "colab": {
          "base_uri": "https://localhost:8080/"
        },
        "id": "3FgAxiGEAmZH",
        "outputId": "a93a3c49-8816-4526-e62d-2c225d6f2b49"
      },
      "execution_count": 28,
      "outputs": [
        {
          "output_type": "stream",
          "name": "stdout",
          "text": [
            "<mysql.connector.connection_cext.CMySQLConnection object at 0x794d7823f130>\n"
          ]
        }
      ]
    },
    {
      "cell_type": "markdown",
      "source": [
        "###Create Database"
      ],
      "metadata": {
        "id": "EIt6jJVImLl4"
      }
    },
    {
      "cell_type": "code",
      "source": [
        "mycursor = mydb.cursor()"
      ],
      "metadata": {
        "id": "efbVP2S7nZ33"
      },
      "execution_count": 30,
      "outputs": []
    },
    {
      "cell_type": "code",
      "source": [
        "mycursor = mydb.cursor()\n",
        "mycursor.execute('create database awesomechocolates')\n",
        "# execute function is used to compile the sql statements"
      ],
      "metadata": {
        "id": "GIvvaSt1AmfX"
      },
      "execution_count": 34,
      "outputs": []
    },
    {
      "cell_type": "code",
      "source": [
        "mycursor.execute('show databases')"
      ],
      "metadata": {
        "id": "d2cMQn-HAmiL"
      },
      "execution_count": 35,
      "outputs": []
    },
    {
      "cell_type": "code",
      "source": [
        "print(mycursor)"
      ],
      "metadata": {
        "colab": {
          "base_uri": "https://localhost:8080/"
        },
        "id": "k6G_BrjJqbQ2",
        "outputId": "107ce321-f41e-47d9-dde3-2aacab478185"
      },
      "execution_count": 38,
      "outputs": [
        {
          "output_type": "stream",
          "name": "stdout",
          "text": [
            "CMySQLCursor: show databases\n"
          ]
        }
      ]
    },
    {
      "cell_type": "code",
      "source": [
        "for i in mycursor:\n",
        "  print(i)\n"
      ],
      "metadata": {
        "colab": {
          "base_uri": "https://localhost:8080/"
        },
        "id": "lq-S_pv4qqPo",
        "outputId": "94e5e67a-9200-4e11-9ad0-46f77b4f019a"
      },
      "execution_count": 39,
      "outputs": [
        {
          "output_type": "stream",
          "name": "stdout",
          "text": [
            "('awesome chocolates',)\n",
            "('awesomechocolates',)\n",
            "('classicmodels',)\n",
            "('information_schema',)\n",
            "('mysql',)\n",
            "('performance_schema',)\n",
            "('pythontest',)\n",
            "('sample',)\n",
            "('sampledb',)\n",
            "('students',)\n",
            "('studentsdata',)\n",
            "('sys',)\n"
          ]
        }
      ]
    },
    {
      "cell_type": "code",
      "source": [
        "mycursor.execute('use pythontest')\n",
        "mycursor.execute(\"create table students(name varchar(255),rollno int,branch varchar(255))\")"
      ],
      "metadata": {
        "id": "OVqAxOUmAmyT"
      },
      "execution_count": 42,
      "outputs": []
    },
    {
      "cell_type": "code",
      "source": [
        "mycursor.execute('show tables')"
      ],
      "metadata": {
        "id": "UupEmEA8Am1z"
      },
      "execution_count": 43,
      "outputs": []
    },
    {
      "cell_type": "code",
      "source": [
        "for i in mycursor.fetchall():\n",
        "    print(i)"
      ],
      "metadata": {
        "id": "zfNVgKa7Gshx",
        "colab": {
          "base_uri": "https://localhost:8080/"
        },
        "outputId": "0df9c6bb-d07c-4897-c112-068e6ae6721e"
      },
      "execution_count": 44,
      "outputs": [
        {
          "output_type": "stream",
          "name": "stdout",
          "text": [
            "('student',)\n",
            "('students',)\n"
          ]
        }
      ]
    },
    {
      "cell_type": "code",
      "source": [
        "for i in mycursor:\n",
        "    print(i)"
      ],
      "metadata": {
        "id": "C3k9betOGslt"
      },
      "execution_count": 45,
      "outputs": []
    },
    {
      "cell_type": "markdown",
      "source": [
        "##If you want to store the results in a variable, you can use fetchall() function. It stores the results in the form of a list."
      ],
      "metadata": {
        "id": "Ll4fLi3_G9tR"
      }
    },
    {
      "cell_type": "code",
      "source": [
        "mycursor.fetchall()"
      ],
      "metadata": {
        "colab": {
          "base_uri": "https://localhost:8080/"
        },
        "id": "nUwV4P-uu58A",
        "outputId": "ea77392f-5131-4f71-d06e-5dc107d0dcdc"
      },
      "execution_count": 46,
      "outputs": [
        {
          "output_type": "execute_result",
          "data": {
            "text/plain": [
              "[]"
            ]
          },
          "metadata": {},
          "execution_count": 46
        }
      ]
    },
    {
      "cell_type": "code",
      "source": [
        "mycursor.execute('show tables')\n",
        "mycursor.fetchall()"
      ],
      "metadata": {
        "id": "vSkMlP9YGs23",
        "colab": {
          "base_uri": "https://localhost:8080/"
        },
        "outputId": "9f3e2e31-2908-4eb7-ace2-1f1bae5e450d"
      },
      "execution_count": 47,
      "outputs": [
        {
          "output_type": "execute_result",
          "data": {
            "text/plain": [
              "[('student',), ('students',)]"
            ]
          },
          "metadata": {},
          "execution_count": 47
        }
      ]
    },
    {
      "cell_type": "code",
      "source": [
        "mycursor.fetchall()\n",
        "\n",
        "# the above fetchall() function retrieved everything from mycursor\n",
        "# so it has nothing to give in the output and hence empty list []"
      ],
      "metadata": {
        "id": "tzQjnYGzGs51",
        "colab": {
          "base_uri": "https://localhost:8080/"
        },
        "outputId": "d4b2a464-8c6c-46d7-c2ef-a2b1e2dbf71e"
      },
      "execution_count": 48,
      "outputs": [
        {
          "output_type": "execute_result",
          "data": {
            "text/plain": [
              "[]"
            ]
          },
          "metadata": {},
          "execution_count": 48
        }
      ]
    },
    {
      "cell_type": "code",
      "source": [
        "mycursor.execute('select * from students')"
      ],
      "metadata": {
        "id": "UY2NY15hN4Hm"
      },
      "execution_count": 49,
      "outputs": []
    },
    {
      "cell_type": "code",
      "source": [
        "mycursor.fetchall()"
      ],
      "metadata": {
        "id": "q6OLi0yEN4Kf",
        "colab": {
          "base_uri": "https://localhost:8080/"
        },
        "outputId": "01ed9f7a-9b69-4fe0-d7cd-070f6f47eca1"
      },
      "execution_count": 50,
      "outputs": [
        {
          "output_type": "execute_result",
          "data": {
            "text/plain": [
              "[]"
            ]
          },
          "metadata": {},
          "execution_count": 50
        }
      ]
    },
    {
      "cell_type": "markdown",
      "source": [
        "##Insert Data"
      ],
      "metadata": {
        "id": "75S5RiGmvHJ3"
      }
    },
    {
      "cell_type": "code",
      "source": [
        "cursor = mydb.cursor(buffered= True)"
      ],
      "metadata": {
        "id": "xno33RjlN4Py"
      },
      "execution_count": 51,
      "outputs": []
    },
    {
      "cell_type": "code",
      "source": [
        "cursor.execute('use pythontest')"
      ],
      "metadata": {
        "id": "qec4pbnAN4Sg"
      },
      "execution_count": 53,
      "outputs": []
    },
    {
      "cell_type": "code",
      "source": [
        "cursor.execute('show tables')\n",
        "cursor.fetchall()"
      ],
      "metadata": {
        "id": "cOkKPgrMN4Wl",
        "colab": {
          "base_uri": "https://localhost:8080/"
        },
        "outputId": "ebcdbc9d-cde9-4c42-fe57-c4324e2fbc2f"
      },
      "execution_count": 54,
      "outputs": [
        {
          "output_type": "execute_result",
          "data": {
            "text/plain": [
              "[('student',), ('students',)]"
            ]
          },
          "metadata": {},
          "execution_count": 54
        }
      ]
    },
    {
      "cell_type": "code",
      "source": [
        "cursor.execute(\"select * from students\")"
      ],
      "metadata": {
        "id": "ue-LjQEgSGv4"
      },
      "execution_count": 55,
      "outputs": []
    },
    {
      "cell_type": "code",
      "source": [
        "cursor.execute('insert into students values (\"Rahul\",1,\"ds\")')"
      ],
      "metadata": {
        "id": "Tg_wJnXpN4dC"
      },
      "execution_count": 57,
      "outputs": []
    },
    {
      "cell_type": "code",
      "source": [
        "cursor.execute('select * from students')\n",
        "cursor.fetchall()"
      ],
      "metadata": {
        "id": "otwwMeihRc1L",
        "colab": {
          "base_uri": "https://localhost:8080/"
        },
        "outputId": "a9caa77d-8754-41e3-b37d-16b9be7b62cb"
      },
      "execution_count": 58,
      "outputs": [
        {
          "output_type": "execute_result",
          "data": {
            "text/plain": [
              "[('Ada', 1, 'ds'), ('Rahul', 1, 'ds')]"
            ]
          },
          "metadata": {},
          "execution_count": 58
        }
      ]
    },
    {
      "cell_type": "code",
      "source": [
        "cursor.execute('commit')"
      ],
      "metadata": {
        "id": "AZuvmxAQRc4l"
      },
      "execution_count": 59,
      "outputs": []
    },
    {
      "cell_type": "code",
      "source": [
        "cursor.execute('select * from students')\n",
        "cursor.fetchall()"
      ],
      "metadata": {
        "id": "0TAPYBIDRc68",
        "colab": {
          "base_uri": "https://localhost:8080/"
        },
        "outputId": "182ea2ee-ed0b-41f4-d95d-f1b9635c883d"
      },
      "execution_count": 60,
      "outputs": [
        {
          "output_type": "execute_result",
          "data": {
            "text/plain": [
              "[('Ada', 1, 'ds'), ('Rahul', 1, 'ds')]"
            ]
          },
          "metadata": {},
          "execution_count": 60
        }
      ]
    },
    {
      "cell_type": "markdown",
      "source": [
        "#Another method for write same querry"
      ],
      "metadata": {
        "id": "KG0-j4Dyvy1e"
      }
    },
    {
      "cell_type": "code",
      "source": [
        "cursor.execute('insert into students(rollno,name,branch) values (3,\"Joe\",\"ds\")')\n",
        "cursor.execute('commit')\n",
        "cursor.execute('select * from students')\n",
        "cursor.fetchall()"
      ],
      "metadata": {
        "id": "-9UKmIxyRc9V",
        "colab": {
          "base_uri": "https://localhost:8080/"
        },
        "outputId": "860d2fde-af46-4f69-bfc5-4750da5f4238"
      },
      "execution_count": 62,
      "outputs": [
        {
          "output_type": "execute_result",
          "data": {
            "text/plain": [
              "[('Ada', 1, 'ds'), ('Rahul', 1, 'ds'), ('Joseph', 2, 'ds'), ('Joe', 3, 'ds')]"
            ]
          },
          "metadata": {},
          "execution_count": 62
        }
      ]
    },
    {
      "cell_type": "markdown",
      "source": [
        "##Insert many values"
      ],
      "metadata": {
        "id": "e_4qT-lYwYhM"
      }
    },
    {
      "cell_type": "code",
      "source": [
        "# write a query\n",
        "\n",
        "query = \"insert into students(name,rollno,branch) values (%s,%s,%s)\"\n",
        "values = [('Sin',3,'Python'),('Mit',4,'ML'),('koko',5,'Cyber')]\n",
        "cursor.executemany(query,values)\n",
        "cursor.execute('commit')"
      ],
      "metadata": {
        "id": "HhCrTqmpN4jT"
      },
      "execution_count": 69,
      "outputs": []
    },
    {
      "cell_type": "code",
      "source": [
        "cursor.execute('commit')"
      ],
      "metadata": {
        "id": "US2r6a6mRx6H"
      },
      "execution_count": 70,
      "outputs": []
    },
    {
      "cell_type": "code",
      "source": [
        "cursor.execute('select * from students')\n",
        "cursor.fetchall()"
      ],
      "metadata": {
        "id": "G0yFNv25Rx9B",
        "colab": {
          "base_uri": "https://localhost:8080/"
        },
        "outputId": "8df6a3cf-1027-4515-83f2-3af50a73a794"
      },
      "execution_count": 71,
      "outputs": [
        {
          "output_type": "execute_result",
          "data": {
            "text/plain": [
              "[('Ada', 1, 'ds'),\n",
              " ('Rahul', 1, 'ds'),\n",
              " ('Joseph', 2, 'ds'),\n",
              " ('Joe', 3, 'ds'),\n",
              " ('Shravan', 3, 'Python'),\n",
              " ('Mareech', 4, 'ML'),\n",
              " ('Ryan', 5, 'Cyber'),\n",
              " ('Sin', 3, 'Python'),\n",
              " ('Mit', 4, 'ML'),\n",
              " ('koko', 5, 'Cyber')]"
            ]
          },
          "metadata": {},
          "execution_count": 71
        }
      ]
    },
    {
      "cell_type": "code",
      "source": [
        "def insert():\n",
        "    name = input(\"Enter you name: \")\n",
        "    roll = input('Enter your roll number :')\n",
        "    branch = input(\"Enter your branch :\")\n",
        "    return (name,roll,branch)\n",
        "\n",
        "insert()"
      ],
      "metadata": {
        "id": "XNlO2I4NRx_d",
        "colab": {
          "base_uri": "https://localhost:8080/"
        },
        "outputId": "60e32dba-61e5-44b8-b11f-94ff7dae1ec3"
      },
      "execution_count": 72,
      "outputs": [
        {
          "name": "stdout",
          "output_type": "stream",
          "text": [
            "Enter you name: vandana,1,DataScience\n",
            "Enter your roll number :1\n",
            "Enter your branch :DataScience\n"
          ]
        },
        {
          "output_type": "execute_result",
          "data": {
            "text/plain": [
              "('vandana,1,DataScience', '1', 'DataScience')"
            ]
          },
          "metadata": {},
          "execution_count": 72
        }
      ]
    },
    {
      "cell_type": "code",
      "source": [
        "cursor.execute('insert into students values {}'.format(insert()))"
      ],
      "metadata": {
        "id": "sFGf_Mc-RyC7",
        "colab": {
          "base_uri": "https://localhost:8080/"
        },
        "outputId": "fe1fbd54-0dbf-47da-840e-b87a95a660f1"
      },
      "execution_count": 73,
      "outputs": [
        {
          "name": "stdout",
          "output_type": "stream",
          "text": [
            "Enter you name: Vandana\n",
            "Enter your roll number :1\n",
            "Enter your branch :DataScience\n"
          ]
        }
      ]
    },
    {
      "cell_type": "code",
      "source": [
        "cursor.execute('commit')"
      ],
      "metadata": {
        "id": "BIiygMYVRya8"
      },
      "execution_count": 74,
      "outputs": []
    },
    {
      "cell_type": "markdown",
      "source": [
        "#Read operation"
      ],
      "metadata": {
        "id": "x5L3sGBhgQdE"
      }
    },
    {
      "cell_type": "code",
      "source": [
        "cursor.execute('select * from students')\n",
        "cursor.fetchall()"
      ],
      "metadata": {
        "id": "dkwXu6zCRyhO",
        "colab": {
          "base_uri": "https://localhost:8080/"
        },
        "outputId": "f8a84542-ed21-4fd7-a93f-e7af2d0476e7"
      },
      "execution_count": 75,
      "outputs": [
        {
          "output_type": "execute_result",
          "data": {
            "text/plain": [
              "[('Ada', 1, 'ds'),\n",
              " ('Rahul', 1, 'ds'),\n",
              " ('Joseph', 2, 'ds'),\n",
              " ('Joe', 3, 'ds'),\n",
              " ('Shravan', 3, 'Python'),\n",
              " ('Mareech', 4, 'ML'),\n",
              " ('Ryan', 5, 'Cyber'),\n",
              " ('Sin', 3, 'Python'),\n",
              " ('Mit', 4, 'ML'),\n",
              " ('koko', 5, 'Cyber'),\n",
              " ('Vandana', 1, 'DataScience')]"
            ]
          },
          "metadata": {},
          "execution_count": 75
        }
      ]
    },
    {
      "cell_type": "markdown",
      "source": [
        "read with condition"
      ],
      "metadata": {
        "id": "zTbRv5lGga-0"
      }
    },
    {
      "cell_type": "code",
      "source": [
        "cursor.execute('select * from students')\n",
        "results = cursor.fetchall()"
      ],
      "metadata": {
        "id": "c4Y6xDtoGs9H"
      },
      "execution_count": 76,
      "outputs": []
    },
    {
      "cell_type": "code",
      "source": [
        "len(results)"
      ],
      "metadata": {
        "id": "XOJwsa5igeeG",
        "colab": {
          "base_uri": "https://localhost:8080/"
        },
        "outputId": "aadfcf0b-0f71-4192-aaa5-c82d0332269a"
      },
      "execution_count": 77,
      "outputs": [
        {
          "output_type": "execute_result",
          "data": {
            "text/plain": [
              "11"
            ]
          },
          "metadata": {},
          "execution_count": 77
        }
      ]
    },
    {
      "cell_type": "code",
      "source": [
        "# Method 1\n",
        "\n",
        "cursor.execute('select * from students where rollno between 1 and 5')\n",
        "results = cursor.fetchall()\n",
        "print(results)"
      ],
      "metadata": {
        "id": "94X9XIkmgehM",
        "colab": {
          "base_uri": "https://localhost:8080/"
        },
        "outputId": "b0c89aca-3b22-49ea-d3f1-2f5300a23a71"
      },
      "execution_count": 78,
      "outputs": [
        {
          "output_type": "stream",
          "name": "stdout",
          "text": [
            "[('Ada', 1, 'ds'), ('Rahul', 1, 'ds'), ('Joseph', 2, 'ds'), ('Joe', 3, 'ds'), ('Shravan', 3, 'Python'), ('Mareech', 4, 'ML'), ('Ryan', 5, 'Cyber'), ('Sin', 3, 'Python'), ('Mit', 4, 'ML'), ('koko', 5, 'Cyber'), ('Vandana', 1, 'DataScience')]\n"
          ]
        }
      ]
    },
    {
      "cell_type": "code",
      "source": [
        "# Method 2\n",
        "\n",
        "cursor.execute('select * from students')\n",
        "results = cursor.fetchall()\n",
        "\n",
        "for name,roll,branch in results:\n",
        "    if roll in [1,2,3,4,5]:\n",
        "        print(name)"
      ],
      "metadata": {
        "id": "U2vBAvjigekE",
        "colab": {
          "base_uri": "https://localhost:8080/"
        },
        "outputId": "0d00903b-525e-42c7-e161-7fdacc6c8d17"
      },
      "execution_count": 79,
      "outputs": [
        {
          "output_type": "stream",
          "name": "stdout",
          "text": [
            "Ada\n",
            "Rahul\n",
            "Joseph\n",
            "Joe\n",
            "Shravan\n",
            "Mareech\n",
            "Ryan\n",
            "Sin\n",
            "Mit\n",
            "koko\n",
            "Vandana\n"
          ]
        }
      ]
    },
    {
      "cell_type": "markdown",
      "source": [
        "# Update Operation\n"
      ],
      "metadata": {
        "id": "s2KiHRIng1FR"
      }
    },
    {
      "cell_type": "code",
      "source": [
        "# Update the name of a person whose rollno is 5\n",
        "cursor.execute('use pythontest')\n",
        "cursor.execute('SET SQL_SAFE_UPDATES = 0')\n",
        "query = \"UPDATE students SET name = 'Peter' WHERE rollno=5\"\n",
        "cursor.execute(query)\n",
        "cursor.execute('commit')"
      ],
      "metadata": {
        "id": "2lMHrRRsgem5"
      },
      "execution_count": 81,
      "outputs": []
    },
    {
      "cell_type": "code",
      "source": [
        "cursor.execute('select * from students')\n",
        "results = cursor.fetchall()\n",
        "print(results)"
      ],
      "metadata": {
        "id": "_fw5KHcJgerc",
        "colab": {
          "base_uri": "https://localhost:8080/"
        },
        "outputId": "260802ea-72a6-4ca2-ee2e-ca6f73471505"
      },
      "execution_count": 82,
      "outputs": [
        {
          "output_type": "stream",
          "name": "stdout",
          "text": [
            "[('Ada', 1, 'ds'), ('Rahul', 1, 'ds'), ('Joseph', 2, 'ds'), ('Joe', 3, 'ds'), ('Shravan', 3, 'Python'), ('Mareech', 4, 'ML'), ('Peter', 5, 'Cyber'), ('Sin', 3, 'Python'), ('Mit', 4, 'ML'), ('Peter', 5, 'Cyber'), ('Vandana', 1, 'DataScience')]\n"
          ]
        }
      ]
    },
    {
      "cell_type": "markdown",
      "source": [
        "#Delete Operation"
      ],
      "metadata": {
        "id": "T5yfzNtN2Pfj"
      }
    },
    {
      "cell_type": "code",
      "source": [
        "# delete the record having branch as 'cyber'\n",
        "\n",
        "query = \"DELETE FROM students WHERE branch='cyber'\"\n",
        "cursor.execute(query)\n",
        "cursor.execute('commit')\n",
        "\n",
        "cursor.execute('select * from students')\n",
        "results = cursor.fetchall()\n",
        "print(results)"
      ],
      "metadata": {
        "id": "YWwww-uMgeue",
        "colab": {
          "base_uri": "https://localhost:8080/"
        },
        "outputId": "84d1d13b-68e4-479e-9831-0cf972ed511b"
      },
      "execution_count": 83,
      "outputs": [
        {
          "output_type": "stream",
          "name": "stdout",
          "text": [
            "[('Ada', 1, 'ds'), ('Rahul', 1, 'ds'), ('Joseph', 2, 'ds'), ('Joe', 3, 'ds'), ('Shravan', 3, 'Python'), ('Mareech', 4, 'ML'), ('Sin', 3, 'Python'), ('Mit', 4, 'ML'), ('Vandana', 1, 'DataScience')]\n"
          ]
        }
      ]
    },
    {
      "cell_type": "markdown",
      "source": [
        "That is the end of CRUD operation using python"
      ],
      "metadata": {
        "id": "q-7mWXw2hgL0"
      }
    },
    {
      "cell_type": "code",
      "source": [],
      "metadata": {
        "id": "04_GW1l2gexx"
      },
      "execution_count": null,
      "outputs": []
    }
  ]
}