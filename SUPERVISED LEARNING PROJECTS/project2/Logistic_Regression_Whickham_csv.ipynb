{
  "nbformat": 4,
  "nbformat_minor": 0,
  "metadata": {
    "colab": {
      "provenance": []
    },
    "kernelspec": {
      "name": "python3",
      "display_name": "Python 3"
    },
    "language_info": {
      "name": "python"
    }
  },
  "cells": [
    {
      "cell_type": "markdown",
      "source": [
        "#import libraries"
      ],
      "metadata": {
        "id": "vtUfRTu-igZN"
      }
    },
    {
      "cell_type": "code",
      "execution_count": 92,
      "metadata": {
        "id": "VVm4J3PjiAm8"
      },
      "outputs": [],
      "source": [
        "#import libraries\n",
        "import pandas as pd\n",
        "import seaborn as sns\n",
        "import matplotlib.pyplot as plt\n",
        "%matplotlib inline"
      ]
    },
    {
      "cell_type": "code",
      "source": [
        "df=pd.read_csv(\"/content/Whickham.csv\")"
      ],
      "metadata": {
        "id": "rvfHvfihimFZ"
      },
      "execution_count": 93,
      "outputs": []
    },
    {
      "cell_type": "code",
      "source": [
        "df.head()"
      ],
      "metadata": {
        "colab": {
          "base_uri": "https://localhost:8080/",
          "height": 206
        },
        "id": "7LuCmdLQimyJ",
        "outputId": "73e03d87-2de9-4134-c842-2bd84a1f98cc"
      },
      "execution_count": 94,
      "outputs": [
        {
          "output_type": "execute_result",
          "data": {
            "text/plain": [
              "  outcome smoker  age\n",
              "0   Alive    Yes   23\n",
              "1   Alive    Yes   18\n",
              "2    Dead    Yes   71\n",
              "3   Alive     No   67\n",
              "4   Alive     No   64"
            ],
            "text/html": [
              "\n",
              "\n",
              "  <div id=\"df-db6effb2-c06d-4f4b-bc06-fade87fb49fb\">\n",
              "    <div class=\"colab-df-container\">\n",
              "      <div>\n",
              "<style scoped>\n",
              "    .dataframe tbody tr th:only-of-type {\n",
              "        vertical-align: middle;\n",
              "    }\n",
              "\n",
              "    .dataframe tbody tr th {\n",
              "        vertical-align: top;\n",
              "    }\n",
              "\n",
              "    .dataframe thead th {\n",
              "        text-align: right;\n",
              "    }\n",
              "</style>\n",
              "<table border=\"1\" class=\"dataframe\">\n",
              "  <thead>\n",
              "    <tr style=\"text-align: right;\">\n",
              "      <th></th>\n",
              "      <th>outcome</th>\n",
              "      <th>smoker</th>\n",
              "      <th>age</th>\n",
              "    </tr>\n",
              "  </thead>\n",
              "  <tbody>\n",
              "    <tr>\n",
              "      <th>0</th>\n",
              "      <td>Alive</td>\n",
              "      <td>Yes</td>\n",
              "      <td>23</td>\n",
              "    </tr>\n",
              "    <tr>\n",
              "      <th>1</th>\n",
              "      <td>Alive</td>\n",
              "      <td>Yes</td>\n",
              "      <td>18</td>\n",
              "    </tr>\n",
              "    <tr>\n",
              "      <th>2</th>\n",
              "      <td>Dead</td>\n",
              "      <td>Yes</td>\n",
              "      <td>71</td>\n",
              "    </tr>\n",
              "    <tr>\n",
              "      <th>3</th>\n",
              "      <td>Alive</td>\n",
              "      <td>No</td>\n",
              "      <td>67</td>\n",
              "    </tr>\n",
              "    <tr>\n",
              "      <th>4</th>\n",
              "      <td>Alive</td>\n",
              "      <td>No</td>\n",
              "      <td>64</td>\n",
              "    </tr>\n",
              "  </tbody>\n",
              "</table>\n",
              "</div>\n",
              "      <button class=\"colab-df-convert\" onclick=\"convertToInteractive('df-db6effb2-c06d-4f4b-bc06-fade87fb49fb')\"\n",
              "              title=\"Convert this dataframe to an interactive table.\"\n",
              "              style=\"display:none;\">\n",
              "\n",
              "  <svg xmlns=\"http://www.w3.org/2000/svg\" height=\"24px\"viewBox=\"0 0 24 24\"\n",
              "       width=\"24px\">\n",
              "    <path d=\"M0 0h24v24H0V0z\" fill=\"none\"/>\n",
              "    <path d=\"M18.56 5.44l.94 2.06.94-2.06 2.06-.94-2.06-.94-.94-2.06-.94 2.06-2.06.94zm-11 1L8.5 8.5l.94-2.06 2.06-.94-2.06-.94L8.5 2.5l-.94 2.06-2.06.94zm10 10l.94 2.06.94-2.06 2.06-.94-2.06-.94-.94-2.06-.94 2.06-2.06.94z\"/><path d=\"M17.41 7.96l-1.37-1.37c-.4-.4-.92-.59-1.43-.59-.52 0-1.04.2-1.43.59L10.3 9.45l-7.72 7.72c-.78.78-.78 2.05 0 2.83L4 21.41c.39.39.9.59 1.41.59.51 0 1.02-.2 1.41-.59l7.78-7.78 2.81-2.81c.8-.78.8-2.07 0-2.86zM5.41 20L4 18.59l7.72-7.72 1.47 1.35L5.41 20z\"/>\n",
              "  </svg>\n",
              "      </button>\n",
              "\n",
              "\n",
              "\n",
              "    <div id=\"df-7b838594-4e26-48f3-99c8-3ff3a24062f8\">\n",
              "      <button class=\"colab-df-quickchart\" onclick=\"quickchart('df-7b838594-4e26-48f3-99c8-3ff3a24062f8')\"\n",
              "              title=\"Suggest charts.\"\n",
              "              style=\"display:none;\">\n",
              "\n",
              "<svg xmlns=\"http://www.w3.org/2000/svg\" height=\"24px\"viewBox=\"0 0 24 24\"\n",
              "     width=\"24px\">\n",
              "    <g>\n",
              "        <path d=\"M19 3H5c-1.1 0-2 .9-2 2v14c0 1.1.9 2 2 2h14c1.1 0 2-.9 2-2V5c0-1.1-.9-2-2-2zM9 17H7v-7h2v7zm4 0h-2V7h2v10zm4 0h-2v-4h2v4z\"/>\n",
              "    </g>\n",
              "</svg>\n",
              "      </button>\n",
              "    </div>\n",
              "\n",
              "<style>\n",
              "  .colab-df-quickchart {\n",
              "    background-color: #E8F0FE;\n",
              "    border: none;\n",
              "    border-radius: 50%;\n",
              "    cursor: pointer;\n",
              "    display: none;\n",
              "    fill: #1967D2;\n",
              "    height: 32px;\n",
              "    padding: 0 0 0 0;\n",
              "    width: 32px;\n",
              "  }\n",
              "\n",
              "  .colab-df-quickchart:hover {\n",
              "    background-color: #E2EBFA;\n",
              "    box-shadow: 0px 1px 2px rgba(60, 64, 67, 0.3), 0px 1px 3px 1px rgba(60, 64, 67, 0.15);\n",
              "    fill: #174EA6;\n",
              "  }\n",
              "\n",
              "  [theme=dark] .colab-df-quickchart {\n",
              "    background-color: #3B4455;\n",
              "    fill: #D2E3FC;\n",
              "  }\n",
              "\n",
              "  [theme=dark] .colab-df-quickchart:hover {\n",
              "    background-color: #434B5C;\n",
              "    box-shadow: 0px 1px 3px 1px rgba(0, 0, 0, 0.15);\n",
              "    filter: drop-shadow(0px 1px 2px rgba(0, 0, 0, 0.3));\n",
              "    fill: #FFFFFF;\n",
              "  }\n",
              "</style>\n",
              "\n",
              "    <script>\n",
              "      async function quickchart(key) {\n",
              "        const containerElement = document.querySelector('#' + key);\n",
              "        const charts = await google.colab.kernel.invokeFunction(\n",
              "            'suggestCharts', [key], {});\n",
              "      }\n",
              "    </script>\n",
              "\n",
              "      <script>\n",
              "\n",
              "function displayQuickchartButton(domScope) {\n",
              "  let quickchartButtonEl =\n",
              "    domScope.querySelector('#df-7b838594-4e26-48f3-99c8-3ff3a24062f8 button.colab-df-quickchart');\n",
              "  quickchartButtonEl.style.display =\n",
              "    google.colab.kernel.accessAllowed ? 'block' : 'none';\n",
              "}\n",
              "\n",
              "        displayQuickchartButton(document);\n",
              "      </script>\n",
              "      <style>\n",
              "    .colab-df-container {\n",
              "      display:flex;\n",
              "      flex-wrap:wrap;\n",
              "      gap: 12px;\n",
              "    }\n",
              "\n",
              "    .colab-df-convert {\n",
              "      background-color: #E8F0FE;\n",
              "      border: none;\n",
              "      border-radius: 50%;\n",
              "      cursor: pointer;\n",
              "      display: none;\n",
              "      fill: #1967D2;\n",
              "      height: 32px;\n",
              "      padding: 0 0 0 0;\n",
              "      width: 32px;\n",
              "    }\n",
              "\n",
              "    .colab-df-convert:hover {\n",
              "      background-color: #E2EBFA;\n",
              "      box-shadow: 0px 1px 2px rgba(60, 64, 67, 0.3), 0px 1px 3px 1px rgba(60, 64, 67, 0.15);\n",
              "      fill: #174EA6;\n",
              "    }\n",
              "\n",
              "    [theme=dark] .colab-df-convert {\n",
              "      background-color: #3B4455;\n",
              "      fill: #D2E3FC;\n",
              "    }\n",
              "\n",
              "    [theme=dark] .colab-df-convert:hover {\n",
              "      background-color: #434B5C;\n",
              "      box-shadow: 0px 1px 3px 1px rgba(0, 0, 0, 0.15);\n",
              "      filter: drop-shadow(0px 1px 2px rgba(0, 0, 0, 0.3));\n",
              "      fill: #FFFFFF;\n",
              "    }\n",
              "  </style>\n",
              "\n",
              "      <script>\n",
              "        const buttonEl =\n",
              "          document.querySelector('#df-db6effb2-c06d-4f4b-bc06-fade87fb49fb button.colab-df-convert');\n",
              "        buttonEl.style.display =\n",
              "          google.colab.kernel.accessAllowed ? 'block' : 'none';\n",
              "\n",
              "        async function convertToInteractive(key) {\n",
              "          const element = document.querySelector('#df-db6effb2-c06d-4f4b-bc06-fade87fb49fb');\n",
              "          const dataTable =\n",
              "            await google.colab.kernel.invokeFunction('convertToInteractive',\n",
              "                                                     [key], {});\n",
              "          if (!dataTable) return;\n",
              "\n",
              "          const docLinkHtml = 'Like what you see? Visit the ' +\n",
              "            '<a target=\"_blank\" href=https://colab.research.google.com/notebooks/data_table.ipynb>data table notebook</a>'\n",
              "            + ' to learn more about interactive tables.';\n",
              "          element.innerHTML = '';\n",
              "          dataTable['output_type'] = 'display_data';\n",
              "          await google.colab.output.renderOutput(dataTable, element);\n",
              "          const docLink = document.createElement('div');\n",
              "          docLink.innerHTML = docLinkHtml;\n",
              "          element.appendChild(docLink);\n",
              "        }\n",
              "      </script>\n",
              "    </div>\n",
              "  </div>\n"
            ]
          },
          "metadata": {},
          "execution_count": 94
        }
      ]
    },
    {
      "cell_type": "code",
      "source": [
        "df.shape"
      ],
      "metadata": {
        "colab": {
          "base_uri": "https://localhost:8080/"
        },
        "id": "9sdkyofgimuu",
        "outputId": "d6115f7c-4780-442f-80db-613fd3d95003"
      },
      "execution_count": 95,
      "outputs": [
        {
          "output_type": "execute_result",
          "data": {
            "text/plain": [
              "(1314, 3)"
            ]
          },
          "metadata": {},
          "execution_count": 95
        }
      ]
    },
    {
      "cell_type": "code",
      "source": [
        "df.columns"
      ],
      "metadata": {
        "colab": {
          "base_uri": "https://localhost:8080/"
        },
        "id": "0ELyJwNeimrW",
        "outputId": "0003e59c-0db5-4731-985e-6003e57445f5"
      },
      "execution_count": 96,
      "outputs": [
        {
          "output_type": "execute_result",
          "data": {
            "text/plain": [
              "Index(['outcome', 'smoker', 'age'], dtype='object')"
            ]
          },
          "metadata": {},
          "execution_count": 96
        }
      ]
    },
    {
      "cell_type": "code",
      "source": [
        "df.dtypes"
      ],
      "metadata": {
        "colab": {
          "base_uri": "https://localhost:8080/"
        },
        "id": "DQHr96DsjnjU",
        "outputId": "f845ff33-edf6-4f97-931d-1f0edc3be7f7"
      },
      "execution_count": 97,
      "outputs": [
        {
          "output_type": "execute_result",
          "data": {
            "text/plain": [
              "outcome    object\n",
              "smoker     object\n",
              "age         int64\n",
              "dtype: object"
            ]
          },
          "metadata": {},
          "execution_count": 97
        }
      ]
    },
    {
      "cell_type": "code",
      "source": [
        "df.isnull().sum()"
      ],
      "metadata": {
        "colab": {
          "base_uri": "https://localhost:8080/"
        },
        "id": "hO2OA9-OjngS",
        "outputId": "bd82bb7f-3056-45ba-cce9-cf91b4b78b39"
      },
      "execution_count": 98,
      "outputs": [
        {
          "output_type": "execute_result",
          "data": {
            "text/plain": [
              "outcome    0\n",
              "smoker     0\n",
              "age        0\n",
              "dtype: int64"
            ]
          },
          "metadata": {},
          "execution_count": 98
        }
      ]
    },
    {
      "cell_type": "code",
      "source": [
        "df.info()"
      ],
      "metadata": {
        "colab": {
          "base_uri": "https://localhost:8080/"
        },
        "id": "YqePxDjUjndB",
        "outputId": "bbf8fb4e-69bc-4403-f89d-4b364293fe00"
      },
      "execution_count": 99,
      "outputs": [
        {
          "output_type": "stream",
          "name": "stdout",
          "text": [
            "<class 'pandas.core.frame.DataFrame'>\n",
            "RangeIndex: 1314 entries, 0 to 1313\n",
            "Data columns (total 3 columns):\n",
            " #   Column   Non-Null Count  Dtype \n",
            "---  ------   --------------  ----- \n",
            " 0   outcome  1314 non-null   object\n",
            " 1   smoker   1314 non-null   object\n",
            " 2   age      1314 non-null   int64 \n",
            "dtypes: int64(1), object(2)\n",
            "memory usage: 30.9+ KB\n"
          ]
        }
      ]
    },
    {
      "cell_type": "code",
      "source": [
        "df.outcome.unique()"
      ],
      "metadata": {
        "colab": {
          "base_uri": "https://localhost:8080/"
        },
        "id": "_oYOoQVUjnZZ",
        "outputId": "8617f79a-37fe-4c70-b8d6-b203a410742a"
      },
      "execution_count": 100,
      "outputs": [
        {
          "output_type": "execute_result",
          "data": {
            "text/plain": [
              "array(['Alive', 'Dead'], dtype=object)"
            ]
          },
          "metadata": {},
          "execution_count": 100
        }
      ]
    },
    {
      "cell_type": "code",
      "source": [
        "df.outcome.value_counts()"
      ],
      "metadata": {
        "colab": {
          "base_uri": "https://localhost:8080/"
        },
        "id": "lONmyyvDjnWI",
        "outputId": "8658eee6-59b1-4957-bc7c-65bb52d9dbf3"
      },
      "execution_count": 101,
      "outputs": [
        {
          "output_type": "execute_result",
          "data": {
            "text/plain": [
              "Alive    945\n",
              "Dead     369\n",
              "Name: outcome, dtype: int64"
            ]
          },
          "metadata": {},
          "execution_count": 101
        }
      ]
    },
    {
      "cell_type": "code",
      "source": [
        "df.outcome.value_counts().plot(kind='bar')"
      ],
      "metadata": {
        "colab": {
          "base_uri": "https://localhost:8080/",
          "height": 470
        },
        "id": "Pia_IS9WjnSr",
        "outputId": "207fbd97-db67-4661-f3ea-9e2a385718a9"
      },
      "execution_count": 102,
      "outputs": [
        {
          "output_type": "execute_result",
          "data": {
            "text/plain": [
              "<Axes: >"
            ]
          },
          "metadata": {},
          "execution_count": 102
        },
        {
          "output_type": "display_data",
          "data": {
            "text/plain": [
              "<Figure size 640x480 with 1 Axes>"
            ],
            "image/png": "[encoded data removed]"
          },
          "metadata": {}
        }
      ]
    },
    {
      "cell_type": "code",
      "source": [
        "df.smoker.unique()"
      ],
      "metadata": {
        "colab": {
          "base_uri": "https://localhost:8080/"
        },
        "id": "6vYBMPFQkkHX",
        "outputId": "eefc75b7-18fa-488f-fa49-2ff0258553e6"
      },
      "execution_count": 103,
      "outputs": [
        {
          "output_type": "execute_result",
          "data": {
            "text/plain": [
              "array(['Yes', 'No'], dtype=object)"
            ]
          },
          "metadata": {},
          "execution_count": 103
        }
      ]
    },
    {
      "cell_type": "code",
      "source": [
        "df.smoker.value_counts()"
      ],
      "metadata": {
        "colab": {
          "base_uri": "https://localhost:8080/"
        },
        "id": "aOLjWYNmkkE2",
        "outputId": "937b1852-aaf4-422f-dde2-520f27468f8d"
      },
      "execution_count": 104,
      "outputs": [
        {
          "output_type": "execute_result",
          "data": {
            "text/plain": [
              "No     732\n",
              "Yes    582\n",
              "Name: smoker, dtype: int64"
            ]
          },
          "metadata": {},
          "execution_count": 104
        }
      ]
    },
    {
      "cell_type": "code",
      "source": [
        "df.smoker.value_counts().plot(kind='bar')"
      ],
      "metadata": {
        "colab": {
          "base_uri": "https://localhost:8080/",
          "height": 455
        },
        "id": "4pnjwTEqkkBc",
        "outputId": "6b1f6014-fc73-402e-b448-10863373785b"
      },
      "execution_count": 105,
      "outputs": [
        {
          "output_type": "execute_result",
          "data": {
            "text/plain": [
              "<Axes: >"
            ]
          },
          "metadata": {},
          "execution_count": 105
        },
        {
          "output_type": "display_data",
          "data": {
            "text/plain": [
              "<Figure size 640x480 with 1 Axes>"
            ],
            "image/png": "[encoded data removed]"
          },
          "metadata": {}
        }
      ]
    },
    {
      "cell_type": "code",
      "source": [
        "df.age.mean()"
      ],
      "metadata": {
        "colab": {
          "base_uri": "https://localhost:8080/"
        },
        "id": "z7UNiYNckj-I",
        "outputId": "15a60088-511a-40c1-c25c-0425396ff64c"
      },
      "execution_count": 106,
      "outputs": [
        {
          "output_type": "execute_result",
          "data": {
            "text/plain": [
              "46.92009132420091"
            ]
          },
          "metadata": {},
          "execution_count": 106
        }
      ]
    },
    {
      "cell_type": "code",
      "source": [
        "sns.histplot(df[\"age\"],kde=True,bins=10)"
      ],
      "metadata": {
        "colab": {
          "base_uri": "https://localhost:8080/",
          "height": 471
        },
        "id": "qYKu5JbFkj6t",
        "outputId": "ecd80579-b90c-4dc6-d1fa-86a3b61d2301"
      },
      "execution_count": 107,
      "outputs": [
        {
          "output_type": "execute_result",
          "data": {
            "text/plain": [
              "<Axes: xlabel='age', ylabel='Count'>"
            ]
          },
          "metadata": {},
          "execution_count": 107
        },
        {
          "output_type": "display_data",
          "data": {
            "text/plain": [
              "<Figure size 640x480 with 1 Axes>"
            ],
            "image/png": "[encoded data removed]"
          },
          "metadata": {}
        }
      ]
    },
    {
      "cell_type": "code",
      "source": [
        "df[\"outcome\"].value_counts().plot(kind=\"pie\",autopct=\"%2f\")"
      ],
      "metadata": {
        "colab": {
          "base_uri": "https://localhost:8080/",
          "height": 423
        },
        "id": "wAzvi3tkkj3z",
        "outputId": "0f8079c4-5b4a-41ae-838f-100d01a99789"
      },
      "execution_count": 108,
      "outputs": [
        {
          "output_type": "execute_result",
          "data": {
            "text/plain": [
              "<Axes: ylabel='outcome'>"
            ]
          },
          "metadata": {},
          "execution_count": 108
        },
        {
          "output_type": "display_data",
          "data": {
            "text/plain": [
              "<Figure size 640x480 with 1 Axes>"
            ],
            "image/png": "[encoded data removed]"
          },
          "metadata": {}
        }
      ]
    },
    {
      "cell_type": "code",
      "source": [
        "df[\"smoker\"].value_counts().plot(kind=\"pie\",autopct=\"%2f\")"
      ],
      "metadata": {
        "colab": {
          "base_uri": "https://localhost:8080/",
          "height": 423
        },
        "id": "H4HxmguJmGVM",
        "outputId": "02230849-ee77-462c-f50a-9203e46c66aa"
      },
      "execution_count": 109,
      "outputs": [
        {
          "output_type": "execute_result",
          "data": {
            "text/plain": [
              "<Axes: ylabel='smoker'>"
            ]
          },
          "metadata": {},
          "execution_count": 109
        },
        {
          "output_type": "display_data",
          "data": {
            "text/plain": [
              "<Figure size 640x480 with 1 Axes>"
            ],
            "image/png": "[encoded data removed]"
          },
          "metadata": {}
        }
      ]
    },
    {
      "cell_type": "markdown",
      "source": [
        "###   Data preprocessing"
      ],
      "metadata": {
        "id": "TbcrfzxTmqnr"
      }
    },
    {
      "cell_type": "code",
      "source": [
        "df[\"outcome\"]=df[\"outcome\"].astype(\"category\")\n",
        "df[\"outcome\"]=df[\"outcome\"].cat.codes"
      ],
      "metadata": {
        "id": "P0rEj6pkmqMc"
      },
      "execution_count": 110,
      "outputs": []
    },
    {
      "cell_type": "code",
      "source": [
        "df[\"smoker\"]=df[\"smoker\"].astype(\"category\")\n",
        "df[\"smoker\"]=df[\"smoker\"].cat.codes"
      ],
      "metadata": {
        "id": "Doem_2U1mGOs"
      },
      "execution_count": 111,
      "outputs": []
    },
    {
      "cell_type": "code",
      "source": [
        "df.dtypes"
      ],
      "metadata": {
        "colab": {
          "base_uri": "https://localhost:8080/"
        },
        "id": "lRIaKyvPmGLI",
        "outputId": "c60e837e-e26c-44df-9409-87619ec491e2"
      },
      "execution_count": 112,
      "outputs": [
        {
          "output_type": "execute_result",
          "data": {
            "text/plain": [
              "outcome     int8\n",
              "smoker      int8\n",
              "age        int64\n",
              "dtype: object"
            ]
          },
          "metadata": {},
          "execution_count": 112
        }
      ]
    },
    {
      "cell_type": "code",
      "source": [
        "sns.pairplot(df)"
      ],
      "metadata": {
        "colab": {
          "base_uri": "https://localhost:8080/",
          "height": 775
        },
        "id": "qwdlWgfenX0D",
        "outputId": "cd8257a9-404b-4d2f-a984-31faeba92ae2"
      },
      "execution_count": 113,
      "outputs": [
        {
          "output_type": "execute_result",
          "data": {
            "text/plain": [
              "<seaborn.axisgrid.PairGrid at 0x7d6864b53af0>"
            ]
          },
          "metadata": {},
          "execution_count": 113
        },
        {
          "output_type": "display_data",
          "data": {
            "text/plain": [
              "<Figure size 750x750 with 12 Axes>"
            ],
            "image/png": "[encoded data removed]"
          },
          "metadata": {}
        }
      ]
    },
    {
      "cell_type": "code",
      "source": [
        "sns.heatmap(df.corr())"
      ],
      "metadata": {
        "colab": {
          "base_uri": "https://localhost:8080/",
          "height": 452
        },
        "id": "kA52zWYpnXwn",
        "outputId": "e0441a02-b552-41fa-9f71-29639f4251a0"
      },
      "execution_count": 114,
      "outputs": [
        {
          "output_type": "execute_result",
          "data": {
            "text/plain": [
              "<Axes: >"
            ]
          },
          "metadata": {},
          "execution_count": 114
        },
        {
          "output_type": "display_data",
          "data": {
            "text/plain": [
              "<Figure size 640x480 with 2 Axes>"
            ],
            "image/png": "[encoded data removed]"
          },
          "metadata": {}
        }
      ]
    },
    {
      "cell_type": "code",
      "source": [
        "df.head()"
      ],
      "metadata": {
        "colab": {
          "base_uri": "https://localhost:8080/",
          "height": 206
        },
        "id": "GlBFLNQOnXtI",
        "outputId": "c1a68214-669a-4df3-c779-585478334887"
      },
      "execution_count": 115,
      "outputs": [
        {
          "output_type": "execute_result",
          "data": {
            "text/plain": [
              "   outcome  smoker  age\n",
              "0        0       1   23\n",
              "1        0       1   18\n",
              "2        1       1   71\n",
              "3        0       0   67\n",
              "4        0       0   64"
            ],
            "text/html": [
              "\n",
              "\n",
              "  <div id=\"df-031b355a-7949-45d9-8c7f-26652e6fc9a1\">\n",
              "    <div class=\"colab-df-container\">\n",
              "      <div>\n",
              "<style scoped>\n",
              "    .dataframe tbody tr th:only-of-type {\n",
              "        vertical-align: middle;\n",
              "    }\n",
              "\n",
              "    .dataframe tbody tr th {\n",
              "        vertical-align: top;\n",
              "    }\n",
              "\n",
              "    .dataframe thead th {\n",
              "        text-align: right;\n",
              "    }\n",
              "</style>\n",
              "<table border=\"1\" class=\"dataframe\">\n",
              "  <thead>\n",
              "    <tr style=\"text-align: right;\">\n",
              "      <th></th>\n",
              "      <th>outcome</th>\n",
              "      <th>smoker</th>\n",
              "      <th>age</th>\n",
              "    </tr>\n",
              "  </thead>\n",
              "  <tbody>\n",
              "    <tr>\n",
              "      <th>0</th>\n",
              "      <td>0</td>\n",
              "      <td>1</td>\n",
              "      <td>23</td>\n",
              "    </tr>\n",
              "    <tr>\n",
              "      <th>1</th>\n",
              "      <td>0</td>\n",
              "      <td>1</td>\n",
              "      <td>18</td>\n",
              "    </tr>\n",
              "    <tr>\n",
              "      <th>2</th>\n",
              "      <td>1</td>\n",
              "      <td>1</td>\n",
              "      <td>71</td>\n",
              "    </tr>\n",
              "    <tr>\n",
              "      <th>3</th>\n",
              "      <td>0</td>\n",
              "      <td>0</td>\n",
              "      <td>67</td>\n",
              "    </tr>\n",
              "    <tr>\n",
              "      <th>4</th>\n",
              "      <td>0</td>\n",
              "      <td>0</td>\n",
              "      <td>64</td>\n",
              "    </tr>\n",
              "  </tbody>\n",
              "</table>\n",
              "</div>\n",
              "      <button class=\"colab-df-convert\" onclick=\"convertToInteractive('df-031b355a-7949-45d9-8c7f-26652e6fc9a1')\"\n",
              "              title=\"Convert this dataframe to an interactive table.\"\n",
              "              style=\"display:none;\">\n",
              "\n",
              "  <svg xmlns=\"http://www.w3.org/2000/svg\" height=\"24px\"viewBox=\"0 0 24 24\"\n",
              "       width=\"24px\">\n",
              "    <path d=\"M0 0h24v24H0V0z\" fill=\"none\"/>\n",
              "    <path d=\"M18.56 5.44l.94 2.06.94-2.06 2.06-.94-2.06-.94-.94-2.06-.94 2.06-2.06.94zm-11 1L8.5 8.5l.94-2.06 2.06-.94-2.06-.94L8.5 2.5l-.94 2.06-2.06.94zm10 10l.94 2.06.94-2.06 2.06-.94-2.06-.94-.94-2.06-.94 2.06-2.06.94z\"/><path d=\"M17.41 7.96l-1.37-1.37c-.4-.4-.92-.59-1.43-.59-.52 0-1.04.2-1.43.59L10.3 9.45l-7.72 7.72c-.78.78-.78 2.05 0 2.83L4 21.41c.39.39.9.59 1.41.59.51 0 1.02-.2 1.41-.59l7.78-7.78 2.81-2.81c.8-.78.8-2.07 0-2.86zM5.41 20L4 18.59l7.72-7.72 1.47 1.35L5.41 20z\"/>\n",
              "  </svg>\n",
              "      </button>\n",
              "\n",
              "\n",
              "\n",
              "    <div id=\"df-a49ba3e5-d94e-4904-be04-2630c3b081ec\">\n",
              "      <button class=\"colab-df-quickchart\" onclick=\"quickchart('df-a49ba3e5-d94e-4904-be04-2630c3b081ec')\"\n",
              "              title=\"Suggest charts.\"\n",
              "              style=\"display:none;\">\n",
              "\n",
              "<svg xmlns=\"http://www.w3.org/2000/svg\" height=\"24px\"viewBox=\"0 0 24 24\"\n",
              "     width=\"24px\">\n",
              "    <g>\n",
              "        <path d=\"M19 3H5c-1.1 0-2 .9-2 2v14c0 1.1.9 2 2 2h14c1.1 0 2-.9 2-2V5c0-1.1-.9-2-2-2zM9 17H7v-7h2v7zm4 0h-2V7h2v10zm4 0h-2v-4h2v4z\"/>\n",
              "    </g>\n",
              "</svg>\n",
              "      </button>\n",
              "    </div>\n",
              "\n",
              "<style>\n",
              "  .colab-df-quickchart {\n",
              "    background-color: #E8F0FE;\n",
              "    border: none;\n",
              "    border-radius: 50%;\n",
              "    cursor: pointer;\n",
              "    display: none;\n",
              "    fill: #1967D2;\n",
              "    height: 32px;\n",
              "    padding: 0 0 0 0;\n",
              "    width: 32px;\n",
              "  }\n",
              "\n",
              "  .colab-df-quickchart:hover {\n",
              "    background-color: #E2EBFA;\n",
              "    box-shadow: 0px 1px 2px rgba(60, 64, 67, 0.3), 0px 1px 3px 1px rgba(60, 64, 67, 0.15);\n",
              "    fill: #174EA6;\n",
              "  }\n",
              "\n",
              "  [theme=dark] .colab-df-quickchart {\n",
              "    background-color: #3B4455;\n",
              "    fill: #D2E3FC;\n",
              "  }\n",
              "\n",
              "  [theme=dark] .colab-df-quickchart:hover {\n",
              "    background-color: #434B5C;\n",
              "    box-shadow: 0px 1px 3px 1px rgba(0, 0, 0, 0.15);\n",
              "    filter: drop-shadow(0px 1px 2px rgba(0, 0, 0, 0.3));\n",
              "    fill: #FFFFFF;\n",
              "  }\n",
              "</style>\n",
              "\n",
              "    <script>\n",
              "      async function quickchart(key) {\n",
              "        const containerElement = document.querySelector('#' + key);\n",
              "        const charts = await google.colab.kernel.invokeFunction(\n",
              "            'suggestCharts', [key], {});\n",
              "      }\n",
              "    </script>\n",
              "\n",
              "      <script>\n",
              "\n",
              "function displayQuickchartButton(domScope) {\n",
              "  let quickchartButtonEl =\n",
              "    domScope.querySelector('#df-a49ba3e5-d94e-4904-be04-2630c3b081ec button.colab-df-quickchart');\n",
              "  quickchartButtonEl.style.display =\n",
              "    google.colab.kernel.accessAllowed ? 'block' : 'none';\n",
              "}\n",
              "\n",
              "        displayQuickchartButton(document);\n",
              "      </script>\n",
              "      <style>\n",
              "    .colab-df-container {\n",
              "      display:flex;\n",
              "      flex-wrap:wrap;\n",
              "      gap: 12px;\n",
              "    }\n",
              "\n",
              "    .colab-df-convert {\n",
              "      background-color: #E8F0FE;\n",
              "      border: none;\n",
              "      border-radius: 50%;\n",
              "      cursor: pointer;\n",
              "      display: none;\n",
              "      fill: #1967D2;\n",
              "      height: 32px;\n",
              "      padding: 0 0 0 0;\n",
              "      width: 32px;\n",
              "    }\n",
              "\n",
              "    .colab-df-convert:hover {\n",
              "      background-color: #E2EBFA;\n",
              "      box-shadow: 0px 1px 2px rgba(60, 64, 67, 0.3), 0px 1px 3px 1px rgba(60, 64, 67, 0.15);\n",
              "      fill: #174EA6;\n",
              "    }\n",
              "\n",
              "    [theme=dark] .colab-df-convert {\n",
              "      background-color: #3B4455;\n",
              "      fill: #D2E3FC;\n",
              "    }\n",
              "\n",
              "    [theme=dark] .colab-df-convert:hover {\n",
              "      background-color: #434B5C;\n",
              "      box-shadow: 0px 1px 3px 1px rgba(0, 0, 0, 0.15);\n",
              "      filter: drop-shadow(0px 1px 2px rgba(0, 0, 0, 0.3));\n",
              "      fill: #FFFFFF;\n",
              "    }\n",
              "  </style>\n",
              "\n",
              "      <script>\n",
              "        const buttonEl =\n",
              "          document.querySelector('#df-031b355a-7949-45d9-8c7f-26652e6fc9a1 button.colab-df-convert');\n",
              "        buttonEl.style.display =\n",
              "          google.colab.kernel.accessAllowed ? 'block' : 'none';\n",
              "\n",
              "        async function convertToInteractive(key) {\n",
              "          const element = document.querySelector('#df-031b355a-7949-45d9-8c7f-26652e6fc9a1');\n",
              "          const dataTable =\n",
              "            await google.colab.kernel.invokeFunction('convertToInteractive',\n",
              "                                                     [key], {});\n",
              "          if (!dataTable) return;\n",
              "\n",
              "          const docLinkHtml = 'Like what you see? Visit the ' +\n",
              "            '<a target=\"_blank\" href=https://colab.research.google.com/notebooks/data_table.ipynb>data table notebook</a>'\n",
              "            + ' to learn more about interactive tables.';\n",
              "          element.innerHTML = '';\n",
              "          dataTable['output_type'] = 'display_data';\n",
              "          await google.colab.output.renderOutput(dataTable, element);\n",
              "          const docLink = document.createElement('div');\n",
              "          docLink.innerHTML = docLinkHtml;\n",
              "          element.appendChild(docLink);\n",
              "        }\n",
              "      </script>\n",
              "    </div>\n",
              "  </div>\n"
            ]
          },
          "metadata": {},
          "execution_count": 115
        }
      ]
    },
    {
      "cell_type": "markdown",
      "source": [
        "######         Define X and y"
      ],
      "metadata": {
        "id": "UHMWb5NGn95E"
      }
    },
    {
      "cell_type": "code",
      "source": [
        "# Step 1: Split into training & testing sets\n",
        "\n",
        "X=df[['outcome']] #Matrix\n",
        "y=df['outcome'] #Vector\n",
        "\n",
        "X_train,X_test,y_train,y_test = train_test_split(X,y,random_state=42)"
      ],
      "metadata": {
        "id": "EOsF-yaKs6qj"
      },
      "execution_count": 117,
      "outputs": []
    },
    {
      "cell_type": "markdown",
      "source": [
        "#    Train_Test_Split"
      ],
      "metadata": {
        "id": "6lsvlVDxobgR"
      }
    },
    {
      "cell_type": "code",
      "source": [
        "len(X_train)"
      ],
      "metadata": {
        "id": "XfkPfJewoVRL",
        "colab": {
          "base_uri": "https://localhost:8080/"
        },
        "outputId": "f3a157aa-e6f9-4e7e-ca48-422794e739d4"
      },
      "execution_count": 120,
      "outputs": [
        {
          "output_type": "execute_result",
          "data": {
            "text/plain": [
              "985"
            ]
          },
          "metadata": {},
          "execution_count": 120
        }
      ]
    },
    {
      "cell_type": "code",
      "source": [
        "len(y_test)"
      ],
      "metadata": {
        "colab": {
          "base_uri": "https://localhost:8080/"
        },
        "id": "e3Hf-s-UqcJd",
        "outputId": "8ee42fdc-5b59-435f-c754-9b23cc82f06d"
      },
      "execution_count": 121,
      "outputs": [
        {
          "output_type": "execute_result",
          "data": {
            "text/plain": [
              "329"
            ]
          },
          "metadata": {},
          "execution_count": 121
        }
      ]
    },
    {
      "cell_type": "code",
      "source": [
        "from sklearn.linear_model import LogisticRegression\n",
        "model = LogisticRegression()"
      ],
      "metadata": {
        "id": "KnTPni0sqcF4"
      },
      "execution_count": 122,
      "outputs": []
    },
    {
      "cell_type": "code",
      "source": [
        "model.fit(X_train,y_train)"
      ],
      "metadata": {
        "colab": {
          "base_uri": "https://localhost:8080/",
          "height": 75
        },
        "id": "mtaF7dfyqcDO",
        "outputId": "77844741-419e-4d8f-bde1-0a86c128be0e"
      },
      "execution_count": 123,
      "outputs": [
        {
          "output_type": "execute_result",
          "data": {
            "text/plain": [
              "LogisticRegression()"
            ],
            "text/html": [
              "<style>#sk-container-id-1 {color: black;background-color: white;}#sk-container-id-1 pre{padding: 0;}#sk-container-id-1 div.sk-toggleable {background-color: white;}#sk-container-id-1 label.sk-toggleable__label {cursor: pointer;display: block;width: 100%;margin-bottom: 0;padding: 0.3em;box-sizing: border-box;text-align: center;}#sk-container-id-1 label.sk-toggleable__label-arrow:before {content: \"▸\";float: left;margin-right: 0.25em;color: #696969;}#sk-container-id-1 label.sk-toggleable__label-arrow:hover:before {color: black;}#sk-container-id-1 div.sk-estimator:hover label.sk-toggleable__label-arrow:before {color: black;}#sk-container-id-1 div.sk-toggleable__content {max-height: 0;max-width: 0;overflow: hidden;text-align: left;background-color: #f0f8ff;}#sk-container-id-1 div.sk-toggleable__content pre {margin: 0.2em;color: black;border-radius: 0.25em;background-color: #f0f8ff;}#sk-container-id-1 input.sk-toggleable__control:checked~div.sk-toggleable__content {max-height: 200px;max-width: 100%;overflow: auto;}#sk-container-id-1 input.sk-toggleable__control:checked~label.sk-toggleable__label-arrow:before {content: \"▾\";}#sk-container-id-1 div.sk-estimator input.sk-toggleable__control:checked~label.sk-toggleable__label {background-color: #d4ebff;}#sk-container-id-1 div.sk-label input.sk-toggleable__control:checked~label.sk-toggleable__label {background-color: #d4ebff;}#sk-container-id-1 input.sk-hidden--visually {border: 0;clip: rect(1px 1px 1px 1px);clip: rect(1px, 1px, 1px, 1px);height: 1px;margin: -1px;overflow: hidden;padding: 0;position: absolute;width: 1px;}#sk-container-id-1 div.sk-estimator {font-family: monospace;background-color: #f0f8ff;border: 1px dotted black;border-radius: 0.25em;box-sizing: border-box;margin-bottom: 0.5em;}#sk-container-id-1 div.sk-estimator:hover {background-color: #d4ebff;}#sk-container-id-1 div.sk-parallel-item::after {content: \"\";width: 100%;border-bottom: 1px solid gray;flex-grow: 1;}#sk-container-id-1 div.sk-label:hover label.sk-toggleable__label {background-color: #d4ebff;}#sk-container-id-1 div.sk-serial::before {content: \"\";position: absolute;border-left: 1px solid gray;box-sizing: border-box;top: 0;bottom: 0;left: 50%;z-index: 0;}#sk-container-id-1 div.sk-serial {display: flex;flex-direction: column;align-items: center;background-color: white;padding-right: 0.2em;padding-left: 0.2em;position: relative;}#sk-container-id-1 div.sk-item {position: relative;z-index: 1;}#sk-container-id-1 div.sk-parallel {display: flex;align-items: stretch;justify-content: center;background-color: white;position: relative;}#sk-container-id-1 div.sk-item::before, #sk-container-id-1 div.sk-parallel-item::before {content: \"\";position: absolute;border-left: 1px solid gray;box-sizing: border-box;top: 0;bottom: 0;left: 50%;z-index: -1;}#sk-container-id-1 div.sk-parallel-item {display: flex;flex-direction: column;z-index: 1;position: relative;background-color: white;}#sk-container-id-1 div.sk-parallel-item:first-child::after {align-self: flex-end;width: 50%;}#sk-container-id-1 div.sk-parallel-item:last-child::after {align-self: flex-start;width: 50%;}#sk-container-id-1 div.sk-parallel-item:only-child::after {width: 0;}#sk-container-id-1 div.sk-dashed-wrapped {border: 1px dashed gray;margin: 0 0.4em 0.5em 0.4em;box-sizing: border-box;padding-bottom: 0.4em;background-color: white;}#sk-container-id-1 div.sk-label label {font-family: monospace;font-weight: bold;display: inline-block;line-height: 1.2em;}#sk-container-id-1 div.sk-label-container {text-align: center;}#sk-container-id-1 div.sk-container {/* jupyter's `normalize.less` sets `[hidden] { display: none; }` but bootstrap.min.css set `[hidden] { display: none !important; }` so we also need the `!important` here to be able to override the default hidden behavior on the sphinx rendered scikit-learn.org. See: https://github.com/scikit-learn/scikit-learn/issues/21755 */display: inline-block !important;position: relative;}#sk-container-id-1 div.sk-text-repr-fallback {display: none;}</style><div id=\"sk-container-id-1\" class=\"sk-top-container\"><div class=\"sk-text-repr-fallback\"><pre>LogisticRegression()</pre><b>In a Jupyter environment, please rerun this cell to show the HTML representation or trust the notebook. <br />On GitHub, the HTML representation is unable to render, please try loading this page with nbviewer.org.</b></div><div class=\"sk-container\" hidden><div class=\"sk-item\"><div class=\"sk-estimator sk-toggleable\"><input class=\"sk-toggleable__control sk-hidden--visually\" id=\"sk-estimator-id-1\" type=\"checkbox\" checked><label for=\"sk-estimator-id-1\" class=\"sk-toggleable__label sk-toggleable__label-arrow\">LogisticRegression</label><div class=\"sk-toggleable__content\"><pre>LogisticRegression()</pre></div></div></div></div></div>"
            ]
          },
          "metadata": {},
          "execution_count": 123
        }
      ]
    },
    {
      "cell_type": "code",
      "source": [
        "model.intercept_"
      ],
      "metadata": {
        "colab": {
          "base_uri": "https://localhost:8080/"
        },
        "id": "4sgGz5JWqcAd",
        "outputId": "2da9d72a-37b5-4080-843f-6cc8e3c0e1a9"
      },
      "execution_count": 124,
      "outputs": [
        {
          "output_type": "execute_result",
          "data": {
            "text/plain": [
              "array([-4.46299539])"
            ]
          },
          "metadata": {},
          "execution_count": 124
        }
      ]
    },
    {
      "cell_type": "code",
      "source": [
        "model.coef_"
      ],
      "metadata": {
        "colab": {
          "base_uri": "https://localhost:8080/"
        },
        "id": "ZOTP-FdPtca8",
        "outputId": "b18ad565-a632-4bab-8c9d-f3b774e92ab0"
      },
      "execution_count": 125,
      "outputs": [
        {
          "output_type": "execute_result",
          "data": {
            "text/plain": [
              "array([[8.00028445]])"
            ]
          },
          "metadata": {},
          "execution_count": 125
        }
      ]
    },
    {
      "cell_type": "code",
      "source": [
        "# Step 4 (part 1): Generate predicted values.\n",
        "\n",
        "model.predict(X_test)"
      ],
      "metadata": {
        "colab": {
          "base_uri": "https://localhost:8080/"
        },
        "id": "xNM8hfrntoZH",
        "outputId": "cb6c109a-25d0-403f-ee06-ec1c8d90b5e0"
      },
      "execution_count": 126,
      "outputs": [
        {
          "output_type": "execute_result",
          "data": {
            "text/plain": [
              "array([0, 1, 0, 0, 0, 0, 0, 0, 0, 0, 1, 1, 0, 0, 0, 0, 1, 1, 0, 0, 0, 0,\n",
              "       1, 0, 0, 0, 1, 0, 0, 1, 1, 1, 0, 1, 0, 1, 0, 1, 0, 0, 0, 1, 0, 0,\n",
              "       0, 0, 0, 1, 1, 0, 0, 0, 0, 0, 0, 0, 1, 1, 1, 0, 0, 0, 0, 0, 0, 0,\n",
              "       0, 0, 1, 0, 0, 0, 0, 0, 1, 0, 0, 0, 0, 0, 1, 0, 0, 0, 0, 0, 1, 0,\n",
              "       0, 0, 0, 0, 0, 0, 0, 0, 0, 0, 0, 0, 0, 0, 1, 1, 0, 1, 0, 0, 0, 0,\n",
              "       1, 0, 0, 0, 1, 0, 0, 0, 0, 0, 0, 0, 0, 1, 1, 0, 1, 0, 0, 0, 0, 0,\n",
              "       0, 0, 0, 0, 0, 0, 1, 0, 1, 0, 0, 1, 1, 0, 0, 0, 0, 0, 0, 1, 0, 0,\n",
              "       0, 1, 0, 0, 1, 0, 0, 1, 1, 1, 0, 0, 1, 0, 1, 1, 0, 1, 1, 0, 0, 0,\n",
              "       1, 0, 1, 0, 0, 0, 0, 0, 0, 1, 0, 0, 0, 1, 0, 0, 1, 0, 0, 1, 0, 1,\n",
              "       0, 1, 0, 0, 0, 0, 1, 0, 1, 0, 0, 1, 0, 0, 0, 0, 0, 1, 1, 0, 0, 0,\n",
              "       0, 0, 1, 0, 0, 0, 0, 0, 0, 0, 0, 1, 0, 0, 1, 0, 0, 0, 1, 0, 1, 0,\n",
              "       0, 0, 0, 0, 0, 0, 0, 1, 0, 0, 1, 0, 0, 0, 0, 0, 0, 0, 0, 0, 1, 0,\n",
              "       0, 1, 0, 0, 0, 0, 1, 0, 1, 1, 0, 0, 0, 0, 1, 0, 0, 0, 0, 1, 1, 1,\n",
              "       0, 0, 0, 0, 0, 0, 0, 0, 0, 1, 0, 1, 0, 1, 0, 0, 0, 0, 0, 0, 0, 0,\n",
              "       0, 0, 0, 0, 1, 1, 0, 0, 0, 1, 0, 1, 0, 1, 1, 0, 1, 0, 1, 0, 0],\n",
              "      dtype=int8)"
            ]
          },
          "metadata": {},
          "execution_count": 126
        }
      ]
    },
    {
      "cell_type": "code",
      "source": [
        "# Step 4 (part 2): Generate predicted probabilities.\n",
        "np.round(model.predict_proba(X_test),2)"
      ],
      "metadata": {
        "colab": {
          "base_uri": "https://localhost:8080/"
        },
        "id": "XfGsgGCptcXm",
        "outputId": "57967de8-c7f8-40b6-f494-5d4ce7f4720e"
      },
      "execution_count": 127,
      "outputs": [
        {
          "output_type": "execute_result",
          "data": {
            "text/plain": [
              "array([[0.99, 0.01],\n",
              "       [0.03, 0.97],\n",
              "       [0.99, 0.01],\n",
              "       [0.99, 0.01],\n",
              "       [0.99, 0.01],\n",
              "       [0.99, 0.01],\n",
              "       [0.99, 0.01],\n",
              "       [0.99, 0.01],\n",
              "       [0.99, 0.01],\n",
              "       [0.99, 0.01],\n",
              "       [0.03, 0.97],\n",
              "       [0.03, 0.97],\n",
              "       [0.99, 0.01],\n",
              "       [0.99, 0.01],\n",
              "       [0.99, 0.01],\n",
              "       [0.99, 0.01],\n",
              "       [0.03, 0.97],\n",
              "       [0.03, 0.97],\n",
              "       [0.99, 0.01],\n",
              "       [0.99, 0.01],\n",
              "       [0.99, 0.01],\n",
              "       [0.99, 0.01],\n",
              "       [0.03, 0.97],\n",
              "       [0.99, 0.01],\n",
              "       [0.99, 0.01],\n",
              "       [0.99, 0.01],\n",
              "       [0.03, 0.97],\n",
              "       [0.99, 0.01],\n",
              "       [0.99, 0.01],\n",
              "       [0.03, 0.97],\n",
              "       [0.03, 0.97],\n",
              "       [0.03, 0.97],\n",
              "       [0.99, 0.01],\n",
              "       [0.03, 0.97],\n",
              "       [0.99, 0.01],\n",
              "       [0.03, 0.97],\n",
              "       [0.99, 0.01],\n",
              "       [0.03, 0.97],\n",
              "       [0.99, 0.01],\n",
              "       [0.99, 0.01],\n",
              "       [0.99, 0.01],\n",
              "       [0.03, 0.97],\n",
              "       [0.99, 0.01],\n",
              "       [0.99, 0.01],\n",
              "       [0.99, 0.01],\n",
              "       [0.99, 0.01],\n",
              "       [0.99, 0.01],\n",
              "       [0.03, 0.97],\n",
              "       [0.03, 0.97],\n",
              "       [0.99, 0.01],\n",
              "       [0.99, 0.01],\n",
              "       [0.99, 0.01],\n",
              "       [0.99, 0.01],\n",
              "       [0.99, 0.01],\n",
              "       [0.99, 0.01],\n",
              "       [0.99, 0.01],\n",
              "       [0.03, 0.97],\n",
              "       [0.03, 0.97],\n",
              "       [0.03, 0.97],\n",
              "       [0.99, 0.01],\n",
              "       [0.99, 0.01],\n",
              "       [0.99, 0.01],\n",
              "       [0.99, 0.01],\n",
              "       [0.99, 0.01],\n",
              "       [0.99, 0.01],\n",
              "       [0.99, 0.01],\n",
              "       [0.99, 0.01],\n",
              "       [0.99, 0.01],\n",
              "       [0.03, 0.97],\n",
              "       [0.99, 0.01],\n",
              "       [0.99, 0.01],\n",
              "       [0.99, 0.01],\n",
              "       [0.99, 0.01],\n",
              "       [0.99, 0.01],\n",
              "       [0.03, 0.97],\n",
              "       [0.99, 0.01],\n",
              "       [0.99, 0.01],\n",
              "       [0.99, 0.01],\n",
              "       [0.99, 0.01],\n",
              "       [0.99, 0.01],\n",
              "       [0.03, 0.97],\n",
              "       [0.99, 0.01],\n",
              "       [0.99, 0.01],\n",
              "       [0.99, 0.01],\n",
              "       [0.99, 0.01],\n",
              "       [0.99, 0.01],\n",
              "       [0.03, 0.97],\n",
              "       [0.99, 0.01],\n",
              "       [0.99, 0.01],\n",
              "       [0.99, 0.01],\n",
              "       [0.99, 0.01],\n",
              "       [0.99, 0.01],\n",
              "       [0.99, 0.01],\n",
              "       [0.99, 0.01],\n",
              "       [0.99, 0.01],\n",
              "       [0.99, 0.01],\n",
              "       [0.99, 0.01],\n",
              "       [0.99, 0.01],\n",
              "       [0.99, 0.01],\n",
              "       [0.99, 0.01],\n",
              "       [0.99, 0.01],\n",
              "       [0.99, 0.01],\n",
              "       [0.03, 0.97],\n",
              "       [0.03, 0.97],\n",
              "       [0.99, 0.01],\n",
              "       [0.03, 0.97],\n",
              "       [0.99, 0.01],\n",
              "       [0.99, 0.01],\n",
              "       [0.99, 0.01],\n",
              "       [0.99, 0.01],\n",
              "       [0.03, 0.97],\n",
              "       [0.99, 0.01],\n",
              "       [0.99, 0.01],\n",
              "       [0.99, 0.01],\n",
              "       [0.03, 0.97],\n",
              "       [0.99, 0.01],\n",
              "       [0.99, 0.01],\n",
              "       [0.99, 0.01],\n",
              "       [0.99, 0.01],\n",
              "       [0.99, 0.01],\n",
              "       [0.99, 0.01],\n",
              "       [0.99, 0.01],\n",
              "       [0.99, 0.01],\n",
              "       [0.03, 0.97],\n",
              "       [0.03, 0.97],\n",
              "       [0.99, 0.01],\n",
              "       [0.03, 0.97],\n",
              "       [0.99, 0.01],\n",
              "       [0.99, 0.01],\n",
              "       [0.99, 0.01],\n",
              "       [0.99, 0.01],\n",
              "       [0.99, 0.01],\n",
              "       [0.99, 0.01],\n",
              "       [0.99, 0.01],\n",
              "       [0.99, 0.01],\n",
              "       [0.99, 0.01],\n",
              "       [0.99, 0.01],\n",
              "       [0.99, 0.01],\n",
              "       [0.03, 0.97],\n",
              "       [0.99, 0.01],\n",
              "       [0.03, 0.97],\n",
              "       [0.99, 0.01],\n",
              "       [0.99, 0.01],\n",
              "       [0.03, 0.97],\n",
              "       [0.03, 0.97],\n",
              "       [0.99, 0.01],\n",
              "       [0.99, 0.01],\n",
              "       [0.99, 0.01],\n",
              "       [0.99, 0.01],\n",
              "       [0.99, 0.01],\n",
              "       [0.99, 0.01],\n",
              "       [0.03, 0.97],\n",
              "       [0.99, 0.01],\n",
              "       [0.99, 0.01],\n",
              "       [0.99, 0.01],\n",
              "       [0.03, 0.97],\n",
              "       [0.99, 0.01],\n",
              "       [0.99, 0.01],\n",
              "       [0.03, 0.97],\n",
              "       [0.99, 0.01],\n",
              "       [0.99, 0.01],\n",
              "       [0.03, 0.97],\n",
              "       [0.03, 0.97],\n",
              "       [0.03, 0.97],\n",
              "       [0.99, 0.01],\n",
              "       [0.99, 0.01],\n",
              "       [0.03, 0.97],\n",
              "       [0.99, 0.01],\n",
              "       [0.03, 0.97],\n",
              "       [0.03, 0.97],\n",
              "       [0.99, 0.01],\n",
              "       [0.03, 0.97],\n",
              "       [0.03, 0.97],\n",
              "       [0.99, 0.01],\n",
              "       [0.99, 0.01],\n",
              "       [0.99, 0.01],\n",
              "       [0.03, 0.97],\n",
              "       [0.99, 0.01],\n",
              "       [0.03, 0.97],\n",
              "       [0.99, 0.01],\n",
              "       [0.99, 0.01],\n",
              "       [0.99, 0.01],\n",
              "       [0.99, 0.01],\n",
              "       [0.99, 0.01],\n",
              "       [0.99, 0.01],\n",
              "       [0.03, 0.97],\n",
              "       [0.99, 0.01],\n",
              "       [0.99, 0.01],\n",
              "       [0.99, 0.01],\n",
              "       [0.03, 0.97],\n",
              "       [0.99, 0.01],\n",
              "       [0.99, 0.01],\n",
              "       [0.03, 0.97],\n",
              "       [0.99, 0.01],\n",
              "       [0.99, 0.01],\n",
              "       [0.03, 0.97],\n",
              "       [0.99, 0.01],\n",
              "       [0.03, 0.97],\n",
              "       [0.99, 0.01],\n",
              "       [0.03, 0.97],\n",
              "       [0.99, 0.01],\n",
              "       [0.99, 0.01],\n",
              "       [0.99, 0.01],\n",
              "       [0.99, 0.01],\n",
              "       [0.03, 0.97],\n",
              "       [0.99, 0.01],\n",
              "       [0.03, 0.97],\n",
              "       [0.99, 0.01],\n",
              "       [0.99, 0.01],\n",
              "       [0.03, 0.97],\n",
              "       [0.99, 0.01],\n",
              "       [0.99, 0.01],\n",
              "       [0.99, 0.01],\n",
              "       [0.99, 0.01],\n",
              "       [0.99, 0.01],\n",
              "       [0.03, 0.97],\n",
              "       [0.03, 0.97],\n",
              "       [0.99, 0.01],\n",
              "       [0.99, 0.01],\n",
              "       [0.99, 0.01],\n",
              "       [0.99, 0.01],\n",
              "       [0.99, 0.01],\n",
              "       [0.03, 0.97],\n",
              "       [0.99, 0.01],\n",
              "       [0.99, 0.01],\n",
              "       [0.99, 0.01],\n",
              "       [0.99, 0.01],\n",
              "       [0.99, 0.01],\n",
              "       [0.99, 0.01],\n",
              "       [0.99, 0.01],\n",
              "       [0.99, 0.01],\n",
              "       [0.03, 0.97],\n",
              "       [0.99, 0.01],\n",
              "       [0.99, 0.01],\n",
              "       [0.03, 0.97],\n",
              "       [0.99, 0.01],\n",
              "       [0.99, 0.01],\n",
              "       [0.99, 0.01],\n",
              "       [0.03, 0.97],\n",
              "       [0.99, 0.01],\n",
              "       [0.03, 0.97],\n",
              "       [0.99, 0.01],\n",
              "       [0.99, 0.01],\n",
              "       [0.99, 0.01],\n",
              "       [0.99, 0.01],\n",
              "       [0.99, 0.01],\n",
              "       [0.99, 0.01],\n",
              "       [0.99, 0.01],\n",
              "       [0.99, 0.01],\n",
              "       [0.03, 0.97],\n",
              "       [0.99, 0.01],\n",
              "       [0.99, 0.01],\n",
              "       [0.03, 0.97],\n",
              "       [0.99, 0.01],\n",
              "       [0.99, 0.01],\n",
              "       [0.99, 0.01],\n",
              "       [0.99, 0.01],\n",
              "       [0.99, 0.01],\n",
              "       [0.99, 0.01],\n",
              "       [0.99, 0.01],\n",
              "       [0.99, 0.01],\n",
              "       [0.99, 0.01],\n",
              "       [0.03, 0.97],\n",
              "       [0.99, 0.01],\n",
              "       [0.99, 0.01],\n",
              "       [0.03, 0.97],\n",
              "       [0.99, 0.01],\n",
              "       [0.99, 0.01],\n",
              "       [0.99, 0.01],\n",
              "       [0.99, 0.01],\n",
              "       [0.03, 0.97],\n",
              "       [0.99, 0.01],\n",
              "       [0.03, 0.97],\n",
              "       [0.03, 0.97],\n",
              "       [0.99, 0.01],\n",
              "       [0.99, 0.01],\n",
              "       [0.99, 0.01],\n",
              "       [0.99, 0.01],\n",
              "       [0.03, 0.97],\n",
              "       [0.99, 0.01],\n",
              "       [0.99, 0.01],\n",
              "       [0.99, 0.01],\n",
              "       [0.99, 0.01],\n",
              "       [0.03, 0.97],\n",
              "       [0.03, 0.97],\n",
              "       [0.03, 0.97],\n",
              "       [0.99, 0.01],\n",
              "       [0.99, 0.01],\n",
              "       [0.99, 0.01],\n",
              "       [0.99, 0.01],\n",
              "       [0.99, 0.01],\n",
              "       [0.99, 0.01],\n",
              "       [0.99, 0.01],\n",
              "       [0.99, 0.01],\n",
              "       [0.99, 0.01],\n",
              "       [0.03, 0.97],\n",
              "       [0.99, 0.01],\n",
              "       [0.03, 0.97],\n",
              "       [0.99, 0.01],\n",
              "       [0.03, 0.97],\n",
              "       [0.99, 0.01],\n",
              "       [0.99, 0.01],\n",
              "       [0.99, 0.01],\n",
              "       [0.99, 0.01],\n",
              "       [0.99, 0.01],\n",
              "       [0.99, 0.01],\n",
              "       [0.99, 0.01],\n",
              "       [0.99, 0.01],\n",
              "       [0.99, 0.01],\n",
              "       [0.99, 0.01],\n",
              "       [0.99, 0.01],\n",
              "       [0.99, 0.01],\n",
              "       [0.03, 0.97],\n",
              "       [0.03, 0.97],\n",
              "       [0.99, 0.01],\n",
              "       [0.99, 0.01],\n",
              "       [0.99, 0.01],\n",
              "       [0.03, 0.97],\n",
              "       [0.99, 0.01],\n",
              "       [0.03, 0.97],\n",
              "       [0.99, 0.01],\n",
              "       [0.03, 0.97],\n",
              "       [0.03, 0.97],\n",
              "       [0.99, 0.01],\n",
              "       [0.03, 0.97],\n",
              "       [0.99, 0.01],\n",
              "       [0.03, 0.97],\n",
              "       [0.99, 0.01],\n",
              "       [0.99, 0.01]])"
            ]
          },
          "metadata": {},
          "execution_count": 127
        }
      ]
    },
    {
      "cell_type": "code",
      "source": [
        "# Visualizing logistic regression probabilities.\n",
        "\n",
        "plt.figure(figsize = (10, 5))\n",
        "\n",
        "\n",
        "\n",
        "plt.scatter(X_test, y_test,s=None);\n",
        "\n",
        "plt.plot(X_test.sort_values('outcome'),\n",
        "         model.predict_proba(X_test.sort_values('outcome'))[:,1],\n",
        "         color = 'grey', alpha = 0.8, lw = 3)\n",
        "\n",
        "plt.xlabel('smoker')\n",
        "plt.ylabel('outcome')\n",
        "plt.title('Predicting outcome from smoker');"
      ],
      "metadata": {
        "colab": {
          "base_uri": "https://localhost:8080/",
          "height": 487
        },
        "id": "yG272N4Ot6NP",
        "outputId": "df59da32-5009-4cbc-df50-5c85882144cc"
      },
      "execution_count": 132,
      "outputs": [
        {
          "output_type": "display_data",
          "data": {
            "text/plain": [
              "<Figure size 1000x500 with 1 Axes>"
            ],
            "image/png": "[encoded data removed]"
          },
          "metadata": {}
        }
      ]
    },
    {
      "cell_type": "code",
      "source": [
        "# Step 5: Evaluate model.\n",
        "\n",
        "model.score(X_train,y_train)"
      ],
      "metadata": {
        "colab": {
          "base_uri": "https://localhost:8080/"
        },
        "id": "71mOyL7Vt6Jw",
        "outputId": "0ea208fb-9f7a-4e07-faf6-d54e4afe0f8b"
      },
      "execution_count": 133,
      "outputs": [
        {
          "output_type": "execute_result",
          "data": {
            "text/plain": [
              "1.0"
            ]
          },
          "metadata": {},
          "execution_count": 133
        }
      ]
    },
    {
      "cell_type": "code",
      "source": [
        "# Step 5: Evaluate model.\n",
        "\n",
        "model.score(X_test,y_test)"
      ],
      "metadata": {
        "colab": {
          "base_uri": "https://localhost:8080/"
        },
        "id": "xGn7htEDt6HW",
        "outputId": "a87b36ff-25d7-412e-f1c9-7f7d3c1534af"
      },
      "execution_count": 134,
      "outputs": [
        {
          "output_type": "execute_result",
          "data": {
            "text/plain": [
              "1.0"
            ]
          },
          "metadata": {},
          "execution_count": 134
        }
      ]
    },
    {
      "cell_type": "code",
      "source": [
        "############## end #"
      ],
      "metadata": {
        "id": "sg1uRqg-t6E2"
      },
      "execution_count": null,
      "outputs": []
    },
    {
      "cell_type": "code",
      "source": [],
      "metadata": {
        "id": "19n3Bvs8t6CF"
      },
      "execution_count": null,
      "outputs": []
    }
  ]
}